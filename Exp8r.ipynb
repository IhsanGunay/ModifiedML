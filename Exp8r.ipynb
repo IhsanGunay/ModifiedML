{
 "cells": [
  {
   "cell_type": "markdown",
   "metadata": {},
   "source": [
    "# Experiment 8 Results"
   ]
  },
  {
   "cell_type": "code",
   "execution_count": 1,
   "metadata": {
    "collapsed": true
   },
   "outputs": [],
   "source": [
    "from pickle import load\n",
    "from utils import ce_squared, load_imdb, ColoredWeightedDoc\n",
    "from IPython.display import display, display_html\n",
    "from scipy.sparse import csr_matrix\n",
    "from sklearn.feature_extraction.text import CountVectorizer\n",
    "from sklearn.metrics import classification_report, confusion_matrix\n",
    "from classifiers import TransparentMultinomialNB\n",
    "from time import time\n",
    "import numpy as np"
   ]
  },
  {
   "cell_type": "markdown",
   "metadata": {},
   "source": [
    "## Load Data"
   ]
  },
  {
   "cell_type": "code",
   "execution_count": 2,
   "metadata": {
    "collapsed": false
   },
   "outputs": [
    {
     "name": "stdout",
     "output_type": "stream",
     "text": [
      "Loading the imdb reviews data\n",
      "Data loaded.\n",
      "Extracting features from the training dataset using a sparse vectorizer\n",
      "Feature extraction technique is CountVectorizer(analyzer='word', binary=False, decode_error='strict',\n",
      "        dtype=<class 'numpy.int64'>, encoding='utf-8', input='content',\n",
      "        lowercase=True, max_df=1.0, max_features=None, min_df=5,\n",
      "        ngram_range=(1, 1), preprocessor=None, stop_words=None,\n",
      "        strip_accents=None, token_pattern='(?u)\\\\b\\\\w\\\\w+\\\\b',\n",
      "        tokenizer=None, vocabulary=None).\n",
      "done in 5.492542266845703s\n",
      "(12500, 18308)\n",
      "n_samples: 12500, n_features: 18308 \n",
      "\n",
      "Extracting features from the test dataset using the same vectorizer\n",
      "done in 4.991715908050537s\n",
      "n_samples: 25000, n_features: 18308 \n",
      "\n",
      "[ 1766 11919  8909 ...,  5390   860  7270]\n",
      "Loading took 12.12s.\n",
      "\n"
     ]
    }
   ],
   "source": [
    "t0 = time()\n",
    "\n",
    "vect = CountVectorizer(min_df=5, max_df=1.0, binary=False, ngram_range=(1, 1))\n",
    "\n",
    "X_train, y_train, X_val, y_val, X_test, y_test, train_corpus, val_corpus, test_corpus = load_imdb(\"./aclImdb\", shuffle=True, vectorizer=vect)\n",
    "\n",
    "feature_names = vect.get_feature_names()\n",
    "\n",
    "y_test_na = y_test[:, np.newaxis]\n",
    "y_test_na = np.append(y_test_na, 1-y_test_na, axis=1)\n",
    "\n",
    "y_val_na = y_val[:, np.newaxis]\n",
    "y_val_na = np.append(y_val_na, 1-y_val_na, axis=1)\n",
    "\n",
    "duration = time() - t0\n",
    "\n",
    "print(\"Loading took {:0.2f}s.\\n\".format(duration))"
   ]
  },
  {
   "cell_type": "code",
   "execution_count": 3,
   "metadata": {
    "collapsed": false
   },
   "outputs": [
    {
     "name": "stdout",
     "output_type": "stream",
     "text": [
      "(12500, 18308)\n",
      "(12500, 18308)\n",
      "(25000, 18308)\n",
      "(12500,)\n",
      "(12500,)\n",
      "(25000,)\n"
     ]
    }
   ],
   "source": [
    "print(X_train.shape)\n",
    "print(X_val.shape)\n",
    "print(X_test.shape)\n",
    "print(y_train.shape)\n",
    "print(y_val.shape)\n",
    "print(y_test.shape)"
   ]
  },
  {
   "cell_type": "code",
   "execution_count": 4,
   "metadata": {
    "collapsed": true
   },
   "outputs": [],
   "source": [
    "with open('clf8.arch', 'rb') as f:\n",
    "    clf_arch = load(f)"
   ]
  },
  {
   "cell_type": "code",
   "execution_count": 5,
   "metadata": {
    "collapsed": false
   },
   "outputs": [
    {
     "name": "stdout",
     "output_type": "stream",
     "text": [
      "<class 'classifiers.TransparentMultinomialNB'> \n",
      "\n",
      "[1, 2, 3, 4, 5, 6, 7, 8, 9, 10] \n",
      "\n",
      "CountVectorizer(analyzer='word', binary=False, decode_error='strict',\n",
      "        dtype=<class 'numpy.int64'>, encoding='utf-8', input='content',\n",
      "        lowercase=True, max_df=1.0, max_features=None, min_df=5,\n",
      "        ngram_range=(1, 1), preprocessor=None, stop_words=None,\n",
      "        strip_accents=None, token_pattern='(?u)\\\\b\\\\w\\\\w+\\\\b',\n",
      "        tokenizer=None, vocabulary=None)\n"
     ]
    }
   ],
   "source": [
    "clf_arch.stats()"
   ]
  },
  {
   "cell_type": "code",
   "execution_count": 6,
   "metadata": {
    "collapsed": false
   },
   "outputs": [],
   "source": [
    "# Loading the last classifier in the archive\n",
    "ctrl_clf = clf_arch.ctrl_clf\n",
    "best_clf = clf_arch.classifiers[-1]\n",
    "train_indices_set = set(clf_arch.train_indices[-1])\n",
    "train_indices = clf_arch.train_indices[-1]\n",
    "y_modified = np.copy(clf_arch.modified_labels[-1])\n",
    "round_tag = clf_arch.round_tags[-1] + 1 "
   ]
  },
  {
   "cell_type": "code",
   "execution_count": 7,
   "metadata": {
    "collapsed": true
   },
   "outputs": [],
   "source": [
    "first_clf = clf_arch.classifiers[0]"
   ]
  },
  {
   "cell_type": "markdown",
   "metadata": {},
   "source": [
    "## Visualizations"
   ]
  },
  {
   "cell_type": "code",
   "execution_count": 8,
   "metadata": {
    "collapsed": false,
    "scrolled": true
   },
   "outputs": [
    {
     "name": "stdout",
     "output_type": "stream",
     "text": [
      "Number of samples used : 8347\n",
      "Number of labels modified: 6029\n"
     ]
    }
   ],
   "source": [
    "print('Number of samples used :', len(train_indices))\n",
    "changed_labels = np.array(list(filter(lambda x: x[0]!=x[1], zip(y_modified[train_indices], y_train[train_indices]))))\n",
    "print('Number of labels modified:', len(changed_labels))"
   ]
  },
  {
   "cell_type": "code",
   "execution_count": 9,
   "metadata": {
    "collapsed": false,
    "scrolled": true
   },
   "outputs": [
    {
     "name": "stdout",
     "output_type": "stream",
     "text": [
      "1 to 0 : 0\n",
      "0 to 1 : 6029\n"
     ]
    }
   ],
   "source": [
    "changes = changed_labels[:,0] - changed_labels[:,1]\n",
    "print('1 to 0 :', len(list(filter(lambda x: x<0, changes))))\n",
    "print('0 to 1 :', len(list(filter(lambda x: x>0, changes))))"
   ]
  },
  {
   "cell_type": "code",
   "execution_count": 10,
   "metadata": {
    "collapsed": false
   },
   "outputs": [
    {
     "name": "stdout",
     "output_type": "stream",
     "text": [
      "Control test accuracy is 0.5 \n",
      "\n",
      "Initial validation accuracy is 0.0 \n",
      "\n",
      "Initial test accuracy is 0.5 \n",
      "\n",
      "First validation accuracy is 0.59912 \n",
      "\n",
      "First test accuracy is 0.69436 \n",
      "\n",
      "Best validation accuracy is 0.99984 \n",
      "\n",
      "Best test accuracy is 0.57748 \n",
      "\n",
      "First validation error is 0.3500657418774514 \n",
      "\n",
      "First test error is 0.26877112836601397 \n",
      "\n",
      "Best validation error is 0.0001604393209642369 \n",
      "\n"
     ]
    },
    {
     "name": "stderr",
     "output_type": "stream",
     "text": [
      "/usr/lib/python3.5/site-packages/sklearn/naive_bayes.py:420: RuntimeWarning: divide by zero encountered in log\n",
      "  self.class_log_prior_ = (np.log(self.class_count_)\n"
     ]
    },
    {
     "name": "stdout",
     "output_type": "stream",
     "text": [
      "Best test error is 0.3923594148407452\n"
     ]
    }
   ],
   "source": [
    "test_acc = ctrl_clf.score(X_test, y_test)\n",
    "print('Control test accuracy is {}'.format(test_acc), '\\n')\n",
    "\n",
    "clf = TransparentMultinomialNB()\n",
    "clf.fit(X_train, y_train)\n",
    "\n",
    "val_acc = clf.score(X_val, y_val)\n",
    "print('Initial validation accuracy is {}'.format(val_acc), '\\n')\n",
    "\n",
    "test_acc = clf.score(X_test, y_test)\n",
    "print('Initial test accuracy is {}'.format(test_acc), '\\n')\n",
    "\n",
    "val_acc = first_clf.score(X_val, y_val)\n",
    "print('First validation accuracy is {}'.format(val_acc), '\\n')\n",
    "\n",
    "test_acc = first_clf.score(X_test, y_test)\n",
    "print('First test accuracy is {}'.format(test_acc), '\\n')\n",
    "\n",
    "val_acc = best_clf.score(X_val, y_val)\n",
    "print('Best validation accuracy is {}'.format(val_acc), '\\n')\n",
    "\n",
    "test_acc = best_clf.score(X_test, y_test)\n",
    "print('Best test accuracy is {}'.format(test_acc), '\\n')\n",
    "\n",
    "test_acc = ce_squared(y_val_na, first_clf.predict_proba(X_val))\n",
    "print('First validation error is {}'.format(test_acc), '\\n')\n",
    "\n",
    "test_acc = ce_squared(y_test_na, first_clf.predict_proba(X_test))\n",
    "print('First test error is {}'.format(test_acc), '\\n')\n",
    "\n",
    "clf = TransparentMultinomialNB()\n",
    "clf.fit(X_train[train_indices], y_modified[train_indices])\n",
    "\n",
    "test_acc = ce_squared(y_val_na, best_clf.predict_proba(X_val))\n",
    "print('Best validation error is {}'.format(test_acc), '\\n')\n",
    "\n",
    "test_acc = ce_squared(y_test_na, best_clf.predict_proba(X_test))\n",
    "print('Best test error is {}'.format(test_acc))"
   ]
  },
  {
   "cell_type": "code",
   "execution_count": 11,
   "metadata": {
    "collapsed": false
   },
   "outputs": [
    {
     "data": {
      "text/html": [
       "<b>Control Classifier<b>"
      ]
     },
     "metadata": {},
     "output_type": "display_data"
    },
    {
     "name": "stdout",
     "output_type": "stream",
     "text": [
      "             precision    recall  f1-score   support\n",
      "\n",
      "          0       0.50      1.00      0.67     12500\n",
      "          1       0.00      0.00      0.00     12500\n",
      "\n",
      "avg / total       0.25      0.50      0.33     25000\n",
      "\n"
     ]
    },
    {
     "name": "stderr",
     "output_type": "stream",
     "text": [
      "/usr/lib/python3.5/site-packages/sklearn/metrics/classification.py:1074: UndefinedMetricWarning: Precision and F-score are ill-defined and being set to 0.0 in labels with no predicted samples.\n",
      "  'precision', 'predicted', average, warn_for)\n"
     ]
    },
    {
     "data": {
      "text/html": [
       "<b>Best Classifier<b>"
      ]
     },
     "metadata": {},
     "output_type": "display_data"
    },
    {
     "name": "stdout",
     "output_type": "stream",
     "text": [
      "             precision    recall  f1-score   support\n",
      "\n",
      "          0       0.96      0.16      0.28     12500\n",
      "          1       0.54      0.99      0.70     12500\n",
      "\n",
      "avg / total       0.75      0.58      0.49     25000\n",
      "\n"
     ]
    }
   ],
   "source": [
    "best_pred = best_clf.predict(X_test)\n",
    "ctrl_pred = ctrl_clf.predict(X_test)\n",
    "display_html(\"<b>\"+'Control Classifier'+\"<b>\", raw=True)\n",
    "print(classification_report(y_test, ctrl_pred))\n",
    "display_html(\"<b>\"+'Best Classifier'+\"<b>\", raw=True)\n",
    "print(classification_report(y_test, best_pred))"
   ]
  },
  {
   "cell_type": "code",
   "execution_count": 12,
   "metadata": {
    "collapsed": false
   },
   "outputs": [
    {
     "data": {
      "text/html": [
       "<b>Control Classifier<b>"
      ]
     },
     "metadata": {},
     "output_type": "display_data"
    },
    {
     "name": "stdout",
     "output_type": "stream",
     "text": [
      "Top Positive\n",
      "reappearing ([ 5.  0.]) chiefs ([ 5.  0.]) idaho ([ 5.  0.]) fanaticism ([ 5.  0.]) oxford ([ 5.  0.]) concur ([ 5.  0.]) medications ([ 5.  0.]) unimaginably ([ 5.  0.]) sidetracked ([ 5.  0.]) bloodletting ([ 5.  0.])\n",
      "\n",
      "Top Negative\n",
      "the ([ 163405.       0.]) and ([ 74393.      0.]) of ([ 69009.      0.]) to ([ 68975.      0.]) br ([ 52636.      0.]) is ([ 50085.      0.]) it ([ 48393.      0.]) in ([ 43755.      0.]) this ([ 40922.      0.]) that ([ 37640.      0.])\n"
     ]
    },
    {
     "data": {
      "text/html": [
       "<b>Best Classifier<b>"
      ]
     },
     "metadata": {},
     "output_type": "display_data"
    },
    {
     "name": "stdout",
     "output_type": "stream",
     "text": [
      "Top Positive\n",
      "pia ([  0.  30.]) connery ([  0.  29.]) hamlet ([  0.  27.]) wolverine ([  0.  24.]) oprah ([  0.  24.]) tired ([   4.  119.]) spice ([  0.  22.]) fabulous ([  0.  22.]) gem ([  1.  44.]) funniest ([  2.  64.])\n",
      "\n",
      "Top Negative\n",
      "cortes ([ 12.   0.]) unisol ([ 11.   0.]) shen ([ 10.   0.]) ripley ([ 20.   1.]) jigsaw ([ 30.   2.]) ziering ([ 9.  0.]) pasolini ([ 26.   2.]) aztec ([ 25.   2.]) whaling ([ 7.  0.]) hartnett ([ 14.   1.])\n"
     ]
    }
   ],
   "source": [
    "best_weights = best_clf.get_weights()\n",
    "ctrl_weights = ctrl_clf.get_weights()\n",
    "\n",
    "best_ws = np.argsort(best_weights)\n",
    "ctrl_ws  = np.argsort(ctrl_weights)\n",
    "\n",
    "display_html(\"<b>\"+'Control Classifier'+\"<b>\", raw=True)\n",
    "\n",
    "print(\"Top Positive\")\n",
    "print(\" \".join([\"{} ({})\".format(feature_names[i], ctrl_clf.feature_count_[:,i])\n",
    "                for i in ctrl_ws[-10:][::-1]]))\n",
    "\n",
    "print(\"\\nTop Negative\")\n",
    "print(\" \".join([\"{} ({})\".format(feature_names[i], ctrl_clf.feature_count_[:,i])\n",
    "                for i in ctrl_ws[:10]]))\n",
    "\n",
    "display_html(\"<b>\"+'Best Classifier'+\"<b>\", raw=True)\n",
    "\n",
    "print(\"Top Positive\")\n",
    "print(\" \".join([\"{} ({})\".format(feature_names[i], best_clf.feature_count_[:,i])\n",
    "                for i in best_ws[-10:][::-1]]))\n",
    "\n",
    "print(\"\\nTop Negative\")\n",
    "print(\" \".join([\"{} ({})\".format(feature_names[i], best_clf.feature_count_[:,i])\n",
    "                for i in best_ws[:10]]))"
   ]
  },
  {
   "cell_type": "code",
   "execution_count": 13,
   "metadata": {
    "collapsed": false,
    "scrolled": false
   },
   "outputs": [
    {
     "data": {
      "text/html": [
       "<b>Probability Matrix<b>"
      ]
     },
     "metadata": {},
     "output_type": "display_data"
    },
    {
     "name": "stdout",
     "output_type": "stream",
     "text": [
      "[ 1.  0.]\n",
      "[  2.27865237e-44   1.00000000e+00]\n"
     ]
    },
    {
     "data": {
      "text/html": [
       "<b>Control Classifier<b>"
      ]
     },
     "metadata": {},
     "output_type": "display_data"
    },
    {
     "data": {
      "text/html": [
       "<font size = 3, color=blue> 78 </font><font size = 3, color=red> years </font><font size = 2, color=red> ago...the </font><font size = 2, color=blue> premiere </font><font size = 6, color=red> of </font><font size = 1, color=blue> \"Anna </font><font size = 3, color=blue> Christie\" </font><font size = 2, color=blue> advertised </font><font size = 5, color=red> by </font><font size = 6, color=red> the </font><font size = 1, color=gray> slogan </font><font size = 2, color=blue> \"Garbo </font><font size = 1, color=blue> Talks!\" </font><font size = 6, color=red> The </font><font size = 5, color=red> film </font><font size = 1, color=red> runs </font><font size = 5, color=red> for </font><font size = 1, color=blue> 16 </font><font size = 3, color=red> minutes </font><font size = 6, color=red> and </font><font size = 6, color=red> the </font><font size = 1, color=red> viewers </font><font size = 1, color=blue> reach </font><font size = 6, color=red> the </font><font size = 1, color=red> climax </font><font size = 6, color=red> of </font><font size = 1, color=blue> curiosity: </font><font size = 3, color=blue> Greta </font><font size = 2, color=blue> enters </font><font size = 6, color=red> the </font><font size = 1, color=red> bar </font><font size = 6, color=red> and </font><font size = 3, color=red> gets </font><font size = 3, color=red> through </font><font size = 1, color=gray> a </font><font size = 3, color=red> long </font><font size = 3, color=blue> awaited </font><font size = 2, color=blue> transfer </font><font size = 5, color=red> from </font><font size = 2, color=blue> silence </font><font size = 4, color=red> into </font><font size = 2, color=red> sound: </font><font size = 1, color=gray> a </font><font size = 3, color=red> few </font><font size = 1, color=red> seconds </font><font size = 1, color=blue> closing </font><font size = 4, color=red> her </font><font size = 1, color=red> silent </font><font size = 1, color=red> era </font><font size = 6, color=red> and, </font><font size = 5, color=red> at </font><font size = 3, color=red> last, </font><font size = 3, color=blue> Greta </font><font size = 2, color=blue> Garbo </font><font size = 2, color=red> says </font><font size = 1, color=gray> a </font><font size = 2, color=blue> historic </font><font size = 2, color=red> line: </font><font size = 3, color=blue> \"Gimme </font><font size = 1, color=gray> a </font><font size = 3, color=blue> whiskey, </font><font size = 2, color=blue> ginger </font><font size = 1, color=gray> ale </font><font size = 5, color=red> on </font><font size = 6, color=red> the </font><font size = 2, color=red> side </font><font size = 6, color=red> and </font><font size = 4, color=red> don't </font><font size = 5, color=red> be </font><font size = 1, color=gray> stingy, </font><font size = 1, color=red> baby!\" </font><font size = 6, color=red> <br </font><font size = 6, color=red> /><br </font><font size = 1, color=blue> />\"Anna </font><font size = 3, color=blue> Christie\" </font><font size = 2, color=blue> (1930) </font><font size = 6, color=red> is </font><font size = 6, color=red> the </font><font size = 6, color=red> movie </font><font size = 5, color=red> by </font><font size = 1, color=gray> Clarence </font><font size = 1, color=blue> Brown </font><font size = 6, color=red> that </font><font size = 1, color=blue> introduced </font><font size = 1, color=gray> a </font><font size = 3, color=red> great </font><font size = 1, color=red> silent </font><font size = 2, color=red> star </font><font size = 3, color=blue> Greta </font><font size = 2, color=blue> Garbo </font><font size = 6, color=red> to </font><font size = 3, color=blue> talkies. </font><font size = 2, color=blue> Nowadays, </font><font size = 4, color=red> we </font><font size = 4, color=red> can </font><font size = 4, color=red> only </font><font size = 2, color=red> imagine </font><font size = 5, color=red> what </font><font size = 2, color=red> serious </font><font size = 2, color=blue> transfer </font><font size = 6, color=red> it </font><font size = 6, color=red> was </font><font size = 5, color=red> for </font><font size = 3, color=red> actors </font><font size = 6, color=red> and </font><font size = 1, color=red> actresses. </font><font size = 6, color=red> The </font><font size = 1, color=blue> careers </font><font size = 6, color=red> of </font><font size = 3, color=red> many </font><font size = 4, color=red> were </font><font size = 1, color=blue> bound </font><font size = 6, color=red> to </font><font size = 3, color=red> end </font><font size = 1, color=gray> - </font><font size = 3, color=red> something </font><font size = 4, color=red> we </font><font size = 1, color=red> hardly </font><font size = 5, color=red> or </font><font size = 5, color=red> not </font><font size = 5, color=red> at </font><font size = 5, color=red> all </font><font size = 4, color=red> see </font><font size = 5, color=red> at </font><font size = 1, color=red> present. </font><font size = 6, color=red> And </font><font size = 6, color=red> it </font><font size = 6, color=red> was </font><font size = 4, color=red> no </font><font size = 2, color=blue> coincidence </font><font size = 6, color=red> that </font><font size = 6, color=red> it </font><font size = 6, color=red> was </font><font size = 1, color=gray> Clarence </font><font size = 1, color=blue> Brown </font><font size = 5, color=red> who </font><font size = 2, color=red> directed </font><font size = 6, color=red> the </font><font size = 4, color=red> first </font><font size = 4, color=blue> talkie </font><font size = 5, color=red> with </font><font size = 6, color=red> the </font><font size = 2, color=blue> Swedish </font><font size = 1, color=red> beauty. </font><font size = 2, color=blue> Garbo </font><font size = 3, color=blue> trusted </font><font size = 6, color=red> the </font><font size = 3, color=red> director </font><font size = 4, color=red> after </font><font size = 4, color=red> two </font><font size = 6, color=red> of </font><font size = 5, color=red> his </font><font size = 3, color=red> great </font><font size = 1, color=red> silent </font><font size = 1, color=blue> productions, </font><font size = 1, color=red> FLESH </font><font size = 6, color=red> AND </font><font size = 6, color=red> THE </font><font size = 1, color=red> DEVIL </font><font size = 1, color=gray> (1926) </font><font size = 6, color=red> and </font><font size = 1, color=gray> A </font><font size = 3, color=red> WOMAN </font><font size = 6, color=red> OF </font><font size = 2, color=blue> AFFAIRS </font><font size = 4, color=blue> (1928): </font><font size = 4, color=red> movies </font><font size = 6, color=red> that </font><font size = 2, color=blue> achieved </font><font size = 1, color=gray> a </font><font size = 3, color=blue> smashing </font><font size = 1, color=red> success </font><font size = 5, color=red> at </font><font size = 6, color=red> the </font><font size = 1, color=red> box </font><font size = 1, color=red> office, </font><font size = 3, color=red> both </font><font size = 5, color=red> with </font><font size = 2, color=blue> Garbo </font><font size = 6, color=red> in </font><font size = 6, color=red> the </font><font size = 2, color=red> lead. </font><font size = 6, color=red> <br </font><font size = 6, color=red> /><br </font><font size = 5, color=red> />But </font><font size = 4, color=red> we </font><font size = 5, color=red> are </font><font size = 6, color=red> in </font><font size = 2, color=blue> 2008 </font><font size = 6, color=red> and </font><font size = 6, color=red> that </font><font size = 3, color=red> fact </font><font size = 5, color=red> about </font><font size = 6, color=red> the </font><font size = 6, color=red> movie, </font><font size = 3, color=red> now </font><font size = 1, color=blue> purely </font><font size = 1, color=red> historical, </font><font size = 2, color=red> appears </font><font size = 6, color=red> to </font><font size = 5, color=red> be </font><font size = 6, color=red> of </font><font size = 1, color=red> minor </font><font size = 2, color=blue> importance. </font><font size = 6, color=red> The </font><font size = 1, color=red> question </font><font size = 5, color=red> for </font><font size = 1, color=red> today's </font><font size = 2, color=red> viewer </font><font size = 6, color=red> is </font><font size = 5, color=red> not </font><font size = 5, color=red> what </font><font size = 2, color=blue> Garbo's </font><font size = 2, color=red> voice </font><font size = 1, color=red> sounds </font><font size = 5, color=red> like </font><font size = 5, color=red> but </font><font size = 5, color=red> if </font><font size = 6, color=red> the </font><font size = 6, color=red> movie </font><font size = 6, color=red> is </font><font size = 3, color=red> still </font><font size = 1, color=red> watchable </font><font size = 4, color=red> after </font><font size = 3, color=red> these </font><font size = 3, color=blue> 78 </font><font size = 3, color=red> years. </font><font size = 6, color=red> In </font><font size = 4, color=red> other </font><font size = 2, color=red> words, </font><font size = 4, color=red> we </font><font size = 5, color=red> all </font><font size = 3, color=blue> strive </font><font size = 6, color=red> to </font><font size = 1, color=red> answer </font><font size = 6, color=red> the </font><font size = 1, color=red> question </font><font size = 5, color=red> if </font><font size = 6, color=red> the </font><font size = 6, color=red> movie </font><font size = 4, color=red> has </font><font size = 2, color=blue> stood </font><font size = 1, color=gray> a </font><font size = 1, color=blue> test </font><font size = 6, color=red> of </font><font size = 4, color=red> time. </font><font size = 4, color=red> Has </font><font size = 6, color=red> it?<br </font><font size = 6, color=red> /><br </font><font size = 4, color=red> />When </font><font size = 1, color=gray> I </font><font size = 1, color=red> recently </font><font size = 3, color=red> watched </font><font size = 6, color=red> it, </font><font size = 1, color=gray> I </font><font size = 2, color=red> came </font><font size = 4, color=red> into </font><font size = 1, color=red> conclusion </font><font size = 6, color=red> that, </font><font size = 2, color=red> except </font><font size = 5, color=red> for </font><font size = 5, color=red> some </font><font size = 1, color=red> minor </font><font size = 1, color=blue> technical </font><font size = 1, color=red> aspects, </font><font size = 2, color=red> including </font><font size = 2, color=blue> static </font><font size = 2, color=red> camera, </font><font size = 1, color=blue> \"Anna </font><font size = 3, color=blue> Christie\" </font><font size = 6, color=red> is </font><font size = 3, color=red> still </font><font size = 4, color=red> very </font><font size = 2, color=red> entertaining. </font><font size = 6, color=red> It's, </font><font size = 5, color=red> on </font><font size = 6, color=red> the </font><font size = 5, color=red> one </font><font size = 2, color=red> hand, </font><font size = 1, color=gray> a </font><font size = 1, color=red> wonderful </font><font size = 4, color=red> story </font><font size = 6, color=red> of </font><font size = 1, color=gray> a </font><font size = 3, color=red> life, </font><font size = 6, color=red> of </font><font size = 1, color=gray> a </font><font size = 1, color=red> reality </font><font size = 6, color=red> that </font><font size = 6, color=red> the </font><font size = 3, color=red> young </font><font size = 3, color=red> woman </font><font size = 1, color=red> faces </font><font size = 4, color=red> (being </font><font size = 2, color=red> based </font><font size = 5, color=red> on </font><font size = 2, color=blue> Eugene </font><font size = 3, color=blue> O\"Neill's </font><font size = 2, color=red> play), </font><font size = 6, color=red> and, </font><font size = 5, color=red> on </font><font size = 6, color=red> the </font><font size = 4, color=red> other </font><font size = 2, color=red> hand, </font><font size = 5, color=red> an </font><font size = 1, color=red> artistic </font><font size = 4, color=blue> manifestation </font><font size = 6, color=red> of </font><font size = 2, color=red> true </font><font size = 4, color=blue> magnificence </font><font size = 6, color=red> in </font><font size = 6, color=red> the </font><font size = 1, color=blue> field </font><font size = 6, color=red> of </font><font size = 2, color=red> direction </font><font size = 6, color=red> and </font><font size = 4, color=red> acting. </font><font size = 3, color=red> Let </font><font size = 4, color=red> me </font><font size = 3, color=blue> analyze </font><font size = 3, color=red> these </font><font size = 4, color=red> two </font><font size = 1, color=red> aspects </font><font size = 6, color=red> in </font><font size = 1, color=blue> separate </font><font size = 1, color=gray> paragraphs.<br </font><font size = 6, color=red> /><br </font><font size = 1, color=red> />CONTENT: </font><font size = 1, color=red> Chris </font><font size = 1, color=gray> Christopherson </font><font size = 1, color=red> (George </font><font size = 1, color=gray> F </font><font size = 2, color=blue> Marion), </font><font size = 1, color=gray> a </font><font size = 1, color=red> heavy </font><font size = 1, color=gray> drinker, </font><font size = 2, color=red> lives </font><font size = 1, color=gray> a </font><font size = 3, color=red> life </font><font size = 6, color=red> of </font><font size = 1, color=gray> a </font><font size = 3, color=blue> sailor, </font><font size = 5, color=red> on </font><font size = 1, color=gray> a </font><font size = 1, color=gray> barge. </font><font size = 2, color=red> Although </font><font size = 5, color=red> his </font><font size = 2, color=red> days </font><font size = 5, color=red> are </font><font size = 1, color=red> filled </font><font size = 5, color=red> with </font><font size = 4, color=blue> sorrows, </font><font size = 5, color=red> he </font><font size = 6, color=red> is </font><font size = 1, color=gray> consoled </font><font size = 5, color=red> by </font><font size = 1, color=gray> a </font><font size = 1, color=blue> letter </font><font size = 5, color=red> from </font><font size = 5, color=red> his </font><font size = 2, color=red> daughter </font><font size = 1, color=blue> Anna </font><font size = 2, color=blue> (Garbo) </font><font size = 1, color=red> whom </font><font size = 5, color=red> he </font><font size = 1, color=red> hasn't </font><font size = 4, color=red> seen </font><font size = 5, color=red> for </font><font size = 1, color=red> 15 </font><font size = 3, color=red> years. </font><font size = 4, color=red> She </font><font size = 2, color=red> says </font><font size = 6, color=red> that </font><font size = 4, color=red> she </font><font size = 4, color=red> will </font><font size = 3, color=red> come </font><font size = 3, color=red> back </font><font size = 6, color=red> to </font><font size = 4, color=red> him. </font><font size = 5, color=red> He </font><font size = 2, color=red> starts </font><font size = 6, color=red> to </font><font size = 1, color=red> change </font><font size = 3, color=red> everything </font><font size = 5, color=red> for </font><font size = 4, color=red> better; </font><font size = 3, color=red> however </font><font size = 2, color=blue> forgets </font><font size = 6, color=red> that </font><font size = 5, color=red> his </font><font size = 2, color=red> daughter </font><font size = 6, color=red> is </font><font size = 4, color=red> no </font><font size = 1, color=red> longer </font><font size = 1, color=gray> a </font><font size = 2, color=red> child </font><font size = 1, color=red> lacking </font><font size = 2, color=red> experience </font><font size = 5, color=red> but </font><font size = 1, color=gray> a </font><font size = 2, color=blue> 23 </font><font size = 2, color=red> year-old </font><font size = 3, color=red> woman </font><font size = 5, color=red> who </font><font size = 4, color=red> has </font><font size = 3, color=red> got </font><font size = 3, color=red> through </font><font size = 1, color=red> various </font><font size = 1, color=blue> sorts </font><font size = 6, color=red> of </font><font size = 3, color=red> things </font><font size = 5, color=red> on </font><font size = 1, color=gray> a </font><font size = 2, color=blue> farm </font><font size = 6, color=red> in </font><font size = 1, color=gray> Minnessota </font><font size = 4, color=red> where </font><font size = 4, color=red> she </font><font size = 1, color=red> lived </font><font size = 6, color=red> and </font><font size = 1, color=red> worked. </font><font size = 2, color=blue> Moreover, </font><font size = 5, color=red> he </font><font size = 2, color=blue> forgets </font><font size = 6, color=red> that </font><font size = 4, color=red> she </font><font size = 4, color=red> has </font><font size = 1, color=gray> a </font><font size = 3, color=red> right </font><font size = 6, color=red> to </font><font size = 1, color=blue> accept </font><font size = 3, color=red> another </font><font size = 3, color=red> kind </font><font size = 6, color=red> of </font><font size = 1, color=red> male </font><font size = 3, color=red> love </font><font size = 6, color=red> in </font><font size = 4, color=red> her </font><font size = 3, color=red> life... </font><font size = 6, color=red> This </font><font size = 1, color=red> brief </font><font size = 1, color=blue> presentation </font><font size = 6, color=red> of </font><font size = 6, color=red> the </font><font size = 1, color=red> content </font><font size = 5, color=red> not </font><font size = 5, color=red> from </font><font size = 6, color=red> the </font><font size = 1, color=blue> perspective </font><font size = 6, color=red> of </font><font size = 6, color=red> the </font><font size = 3, color=red> main </font><font size = 4, color=red> character </font><font size = 5, color=red> but </font><font size = 6, color=red> the </font><font size = 5, color=red> one </font><font size = 4, color=red> which </font><font size = 6, color=red> is </font><font size = 1, color=blue> introduced </font><font size = 6, color=red> to </font><font size = 3, color=red> us </font><font size = 2, color=blue> sooner </font><font size = 4, color=red> than </font><font size = 1, color=blue> Anna </font><font size = 4, color=red> (her </font><font size = 2, color=red> father </font><font size = 1, color=red> Chris) </font><font size = 3, color=red> makes </font><font size = 5, color=red> you </font><font size = 1, color=red> realize </font><font size = 4, color=red> how </font><font size = 1, color=blue> universal </font><font size = 6, color=red> it </font><font size = 6, color=red> is. </font><font size = 3, color=red> Simply </font><font size = 4, color=red> no </font><font size = 1, color=blue> letter </font><font size = 5, color=red> from </font><font size = 6, color=red> the </font><font size = 3, color=red> whole </font><font size = 1, color=blue> text </font><font size = 6, color=red> that </font><font size = 3, color=red> life </font><font size = 2, color=red> appears </font><font size = 6, color=red> to </font><font size = 5, color=red> be </font><font size = 4, color=red> has </font><font size = 4, color=red> been </font><font size = 4, color=blue> erased </font><font size = 4, color=red> after </font><font size = 5, color=red> all </font><font size = 3, color=red> these </font><font size = 3, color=red> years. </font><font size = 1, color=blue> Cases </font><font size = 3, color=blue> discussed </font><font size = 4, color=red> here </font><font size = 6, color=red> in </font><font size = 2, color=blue> 1930 </font><font size = 5, color=red> are </font><font size = 3, color=red> still </font><font size = 1, color=blue> meaningful </font><font size = 6, color=red> and </font><font size = 2, color=blue> valid...<br </font><font size = 6, color=red> /><br </font><font size = 2, color=red> />PERFORMANCES. </font><font size = 5, color=red> There </font><font size = 5, color=red> are </font><font size = 5, color=red> not </font><font size = 3, color=red> many </font><font size = 4, color=red> characters </font><font size = 6, color=red> in </font><font size = 6, color=red> the </font><font size = 6, color=red> movie, </font><font size = 5, color=red> but </font><font size = 5, color=red> there </font><font size = 5, color=red> are </font><font size = 4, color=red> two </font><font size = 6, color=red> that </font><font size = 4, color=red> really </font><font size = 2, color=blue> shine </font><font size = 6, color=red> in </font><font size = 6, color=red> the </font><font size = 2, color=red> roles. </font><font size = 6, color=red> It </font><font size = 6, color=red> is </font><font size = 6, color=red> of </font><font size = 3, color=red> course </font><font size = 3, color=blue> Greta </font><font size = 2, color=blue> Garbo </font><font size = 1, color=red> herself </font><font size = 5, color=red> who </font><font size = 4, color=red> did </font><font size = 3, color=red> something </font><font size = 2, color=blue> extraordinary </font><font size = 6, color=red> in </font><font size = 4, color=red> her </font><font size = 1, color=red> 15 </font><font size = 2, color=red> year-long </font><font size = 2, color=blue> phenomenon, </font><font size = 6, color=red> the </font><font size = 1, color=red> presence </font><font size = 6, color=red> that </font><font size = 1, color=blue> strongly </font><font size = 3, color=blue> marked </font><font size = 6, color=red> the </font><font size = 2, color=red> history </font><font size = 6, color=red> of </font><font size = 2, color=red> early </font><font size = 2, color=red> cinema </font><font size = 3, color=red> (something </font><font size = 1, color=gray> I </font><font size = 5, color=red> have </font><font size = 2, color=red> already </font><font size = 3, color=blue> discussed </font><font size = 6, color=red> in </font><font size = 3, color=red> many </font><font size = 6, color=red> of </font><font size = 4, color=red> my </font><font size = 1, color=red> earlier </font><font size = 1, color=red> comments </font><font size = 5, color=red> on </font><font size = 4, color=red> her </font><font size = 4, color=red> films). </font><font size = 5, color=red> But </font><font size = 4, color=red> here, </font><font size = 2, color=blue> Garbo </font><font size = 6, color=red> is </font><font size = 1, color=red> slightly </font><font size = 2, color=red> different. </font><font size = 1, color=gray> I </font><font size = 1, color=red> admit </font><font size = 6, color=red> that </font><font size = 5, color=red> there </font><font size = 5, color=red> are </font><font size = 2, color=red> moments </font><font size = 6, color=red> in </font><font size = 6, color=red> this </font><font size = 6, color=red> movie </font><font size = 4, color=red> when </font><font size = 4, color=red> she </font><font size = 3, color=red> does </font><font size = 5, color=red> not </font><font size = 3, color=red> feel </font><font size = 4, color=red> very </font><font size = 2, color=blue> comfortable </font><font size = 5, color=red> with </font><font size = 4, color=red> her </font><font size = 3, color=red> role. </font><font size = 6, color=red> That </font><font size = 3, color=red> seems </font><font size = 6, color=red> to </font><font size = 5, color=red> be </font><font size = 1, color=blue> caused </font><font size = 5, color=red> by </font><font size = 4, color=red> her </font><font size = 3, color=red> new </font><font size = 2, color=red> experience </font><font size = 5, color=red> with </font><font size = 2, color=red> sound </font><font size = 6, color=red> in </font><font size = 2, color=red> English; </font><font size = 3, color=red> however, </font><font size = 4, color=red> her </font><font size = 2, color=red> performance </font><font size = 6, color=red> is, </font><font size = 5, color=red> as </font><font size = 3, color=red> always, </font><font size = 1, color=blue> genuine </font><font size = 6, color=red> and </font><font size = 1, color=red> unique. </font><font size = 5, color=red> But </font><font size = 6, color=red> that </font><font size = 6, color=red> is </font><font size = 5, color=red> what </font><font size = 2, color=red> everyone </font><font size = 4, color=red> has </font><font size = 1, color=red> expected </font><font size = 5, color=red> from </font><font size = 2, color=blue> Garbo. </font><font size = 6, color=red> The </font><font size = 2, color=red> true </font><font size = 1, color=red> surprise </font><font size = 6, color=red> of </font><font size = 6, color=red> the </font><font size = 6, color=red> movie </font><font size = 5, color=red> for </font><font size = 6, color=red> the </font><font size = 2, color=blue> 1930 </font><font size = 1, color=red> viewers </font><font size = 6, color=red> and </font><font size = 4, color=red> also </font><font size = 5, color=red> for </font><font size = 3, color=red> us </font><font size = 6, color=red> is </font><font size = 2, color=blue> Marie </font><font size = 1, color=gray> Dressler </font><font size = 5, color=red> as </font><font size = 1, color=gray> Marthy. </font><font size = 4, color=red> She </font><font size = 6, color=red> is </font><font size = 1, color=red> excellent </font><font size = 6, color=red> in </font><font size = 4, color=red> her </font><font size = 1, color=blue> facial </font><font size = 1, color=blue> expressions, </font><font size = 6, color=red> in </font><font size = 4, color=red> her </font><font size = 1, color=red> accent, </font><font size = 6, color=red> in </font><font size = 6, color=red> the </font><font size = 2, color=red> entire </font><font size = 1, color=blue> portrayal </font><font size = 6, color=red> of </font><font size = 1, color=gray> a </font><font size = 1, color=blue> drinking </font><font size = 3, color=red> woman </font><font size = 5, color=red> who </font><font size = 3, color=red> looks </font><font size = 5, color=red> at </font><font size = 3, color=red> life </font><font size = 5, color=red> from </font><font size = 6, color=red> the </font><font size = 1, color=blue> perspective </font><font size = 6, color=red> of </font><font size = 1, color=blue> \"hitting </font><font size = 6, color=red> the </font><font size = 2, color=blue> bottle.\" </font><font size = 4, color=red> Her </font><font size = 3, color=red> best </font><font size = 2, color=red> moments </font><font size = 1, color=red> include </font><font size = 6, color=red> the </font><font size = 1, color=blue> conversation </font><font size = 5, color=red> with </font><font size = 1, color=blue> Anna </font><font size = 3, color=blue> Christie </font><font size = 6, color=red> in </font><font size = 6, color=red> the </font><font size = 1, color=red> bar </font><font size = 3, color=blue> preceded </font><font size = 5, color=red> by </font><font size = 4, color=red> her </font><font size = 1, color=red> hilarious </font><font size = 2, color=red> talk </font><font size = 5, color=red> with </font><font size = 1, color=red> Chris. </font><font size = 6, color=red> The </font><font size = 2, color=red> rest </font><font size = 6, color=red> of </font><font size = 6, color=red> the </font><font size = 1, color=red> supporting </font><font size = 3, color=red> cast </font><font size = 5, color=red> are </font><font size = 2, color=red> fine </font><font size = 3, color=red> yet </font><font size = 5, color=red> not </font><font size = 3, color=red> great </font><font size = 1, color=red> whatsoever </font><font size = 4, color=red> (here </font><font size = 6, color=red> the </font><font size = 1, color=red> German </font><font size = 2, color=red> version </font><font size = 3, color=red> makes </font><font size = 4, color=red> up </font><font size = 5, color=red> for </font><font size = 6, color=red> it). </font><font size = 2, color=red> Particularly </font><font size = 1, color=gray> Dressler, </font><font size = 2, color=red> except </font><font size = 5, color=red> for </font><font size = 2, color=blue> Garbo </font><font size = 1, color=red> herself, </font><font size = 3, color=blue> constitutes </font><font size = 5, color=red> an </font><font size = 2, color=red> absolutely </font><font size = 3, color=blue> flawless </font><font size = 1, color=red> choice.<br </font><font size = 6, color=red> /><br </font><font size = 5, color=red> />If </font><font size = 5, color=red> you </font><font size = 1, color=red> asked </font><font size = 4, color=red> me </font><font size = 5, color=red> what </font><font size = 1, color=gray> I </font><font size = 5, color=red> like </font><font size = 5, color=red> about </font><font size = 1, color=blue> \"Anna </font><font size = 3, color=blue> Christie\" </font><font size = 2, color=blue> nowadays, </font><font size = 6, color=red> that's </font><font size = 5, color=red> what </font><font size = 1, color=gray> I </font><font size = 4, color=red> would </font><font size = 2, color=red> tell </font><font size = 5, color=red> you: </font><font size = 6, color=red> it's </font><font size = 1, color=gray> a </font><font size = 2, color=red> classic </font><font size = 6, color=red> movie. </font><font size = 3, color=red> However, </font><font size = 5, color=red> there </font><font size = 6, color=red> is </font><font size = 5, color=red> one </font><font size = 4, color=red> more </font><font size = 3, color=red> thing </font><font size = 6, color=red> that </font><font size = 1, color=gray> I </font><font size = 3, color=red> must </font><font size = 2, color=red> mention </font><font size = 5, color=red> at </font><font size = 6, color=red> the </font><font size = 3, color=red> end. </font><font size = 6, color=red> It </font><font size = 6, color=red> is </font><font size = 2, color=red> humor, </font><font size = 1, color=red> wonderful </font><font size = 1, color=blue> wit </font><font size = 6, color=red> that </font><font size = 6, color=red> is </font><font size = 2, color=blue> noticeable </font><font size = 2, color=red> throughout. </font><font size = 2, color=red> Although </font><font size = 6, color=red> the </font><font size = 1, color=red> content </font><font size = 6, color=red> is </font><font size = 3, color=red> quite </font><font size = 2, color=red> serious </font><font size = 6, color=red> and </font><font size = 1, color=blue> \"Anna </font><font size = 3, color=blue> Christie\" </font><font size = 6, color=red> in </font><font size = 4, color=red> no </font><font size = 4, color=red> way </font><font size = 2, color=blue> carries </font><font size = 1, color=gray> a </font><font size = 1, color=blue> comedian </font><font size = 1, color=red> spirit </font><font size = 6, color=red> (the </font><font size = 4, color=red> only </font><font size = 2, color=blue> Garbo's </font><font size = 3, color=red> comedy </font><font size = 6, color=red> was </font><font size = 1, color=gray> NINOTCHKA), </font><font size = 5, color=red> there </font><font size = 5, color=red> are </font><font size = 3, color=red> such </font><font size = 2, color=red> moments </font><font size = 4, color=red> when </font><font size = 5, color=red> you </font><font size = 4, color=red> will </font><font size = 1, color=blue> split </font><font size = 4, color=red> your </font><font size = 2, color=blue> sides. </font><font size = 4, color=red> Don't </font><font size = 1, color=red> skip, </font><font size = 5, color=red> for </font><font size = 1, color=red> instance, </font><font size = 1, color=blue> Anna </font><font size = 6, color=red> and </font><font size = 1, color=blue> Matt's </font><font size = 1, color=blue> visit </font><font size = 6, color=red> in </font><font size = 6, color=red> the </font><font size = 2, color=red> fun </font><font size = 1, color=red> park, </font><font size = 2, color=red> particularly </font><font size = 5, color=red> at </font><font size = 6, color=red> the </font><font size = 2, color=blue> restaurant </font><font size = 4, color=red> where </font><font size = 5, color=red> he </font><font size = 1, color=blue> orders </font><font size = 2, color=blue> milk </font><font size = 5, color=red> for </font><font size = 4, color=red> her </font><font size = 2, color=red> thinking </font><font size = 4, color=red> how </font><font size = 3, color=blue> virtuous </font><font size = 6, color=red> and </font><font size = 1, color=blue> innocent </font><font size = 4, color=red> she </font><font size = 6, color=red> is, </font><font size = 1, color=blue> beer </font><font size = 5, color=red> for </font><font size = 2, color=red> himself </font><font size = 6, color=red> and </font><font size = 4, color=red> where </font><font size = 1, color=red> suddenly </font><font size = 1, color=gray> Marthy </font><font size = 2, color=blue> joins </font><font size = 4, color=red> them </font><font size = 5, color=red> by </font><font size = 2, color=red> chance...<br </font><font size = 6, color=red> /><br </font><font size = 1, color=blue> />\"Anna </font><font size = 3, color=blue> Christie\" </font><font size = 6, color=red> is </font><font size = 1, color=gray> a </font><font size = 1, color=red> perfect </font><font size = 6, color=red> movie </font><font size = 5, color=red> for </font><font size = 2, color=red> classic </font><font size = 2, color=blue> buffs </font><font size = 6, color=red> and </font><font size = 1, color=gray> a </font><font size = 3, color=red> must </font><font size = 4, color=red> see </font><font size = 5, color=red> for </font><font size = 5, color=red> all </font><font size = 5, color=red> at </font><font size = 3, color=red> least </font><font size = 1, color=gray> a </font><font size = 3, color=red> bit </font><font size = 1, color=red> interested </font><font size = 6, color=red> in </font><font size = 6, color=red> the </font><font size = 2, color=red> true </font><font size = 4, color=blue> magnificence </font><font size = 6, color=red> of </font><font size = 2, color=red> performance. </font><font size = 5, color=red> If </font><font size = 5, color=red> you </font><font size = 5, color=red> are </font><font size = 2, color=blue> fed </font><font size = 4, color=red> up </font><font size = 5, color=red> with </font><font size = 3, color=red> many </font><font size = 6, color=red> of </font><font size = 3, color=red> those </font><font size = 1, color=red> modern </font><font size = 1, color=gray> starlets, </font><font size = 1, color=blue> seek </font><font size = 3, color=red> such </font><font size = 4, color=red> movies </font><font size = 5, color=red> out </font><font size = 6, color=red> and </font><font size = 5, color=red> you </font><font size = 2, color=blue> shall </font><font size = 5, color=red> be </font><font size = 2, color=blue> satisfied. </font><font size = 4, color=red> Very </font><font size = 2, color=red> worth </font><font size = 4, color=red> your </font><font size = 1, color=blue> search! </font><font size = 6, color=red> <br </font><font size = 6, color=red> /><br </font><font size = 1, color=gray> />Skaal </font><font size = 3, color=blue> Greta </font><font size = 2, color=blue> Garbo! </font><font size = 1, color=gray> Skaal </font><font size = 2, color=blue> Marie </font><font size = 1, color=gray> Dressler! </font><font size = 3, color=red> Let </font><font size = 3, color=red> us </font><font size = 1, color=blue> drink </font><font size = 1, color=gray> a </font><font size = 3, color=blue> toast </font><font size = 6, color=red> to </font><font size = 6, color=red> the </font><font size = 3, color=red> great </font><font size = 1, color=blue> jobs </font><font size = 5, color=red> you </font><font size = 4, color=red> did </font><font size = 6, color=red> in </font><font size = 6, color=red> the </font><font size = 6, color=red> movie! </font><font size = 1, color=gray> Skaal </font><font size = 4, color=red> after </font><font size = 5, color=red> all </font><font size = 3, color=red> these </font><font size = 3, color=red> years </font><font size = 4, color=red> when </font><font size = 2, color=blue> wine </font><font size = 2, color=blue> tastes </font><font size = 4, color=red> much </font><font size = 4, color=red> better </font><font size = 6, color=red> and </font><font size = 4, color=red> your </font><font size = 2, color=blue> spirits </font><font size = 5, color=red> are </font><font size = 5, color=red> with </font><font size = 3, color=red> us </font><font size = 6, color=red> in </font><font size = 1, color=gray> a </font><font size = 2, color=red> different </font><font size = 3, color=red> sense... </font>"
      ],
      "text/plain": [
       "<utils.ColoredWeightedDoc at 0x7f15ffc29d68>"
      ]
     },
     "metadata": {},
     "output_type": "display_data"
    },
    {
     "data": {
      "text/html": [
       "<b>Best Classifier<b>"
      ]
     },
     "metadata": {},
     "output_type": "display_data"
    },
    {
     "data": {
      "text/html": [
       "<font size = 1, color=blue> 78 </font><font size = 1, color=blue> years </font><font size = 2, color=blue> ago...the </font><font size = 1, color=blue> premiere </font><font size = 1, color=blue> of </font><font size = 2, color=red> \"Anna </font><font size = 4, color=blue> Christie\" </font><font size = 1, color=red> advertised </font><font size = 1, color=red> by </font><font size = 1, color=blue> the </font><font size = 1, color=gray> slogan </font><font size = 3, color=blue> \"Garbo </font><font size = 1, color=blue> Talks!\" </font><font size = 1, color=blue> The </font><font size = 1, color=blue> film </font><font size = 1, color=blue> runs </font><font size = 1, color=blue> for </font><font size = 1, color=blue> 16 </font><font size = 1, color=red> minutes </font><font size = 1, color=blue> and </font><font size = 1, color=blue> the </font><font size = 1, color=blue> viewers </font><font size = 1, color=blue> reach </font><font size = 1, color=blue> the </font><font size = 1, color=red> climax </font><font size = 1, color=blue> of </font><font size = 1, color=red> curiosity: </font><font size = 2, color=red> Greta </font><font size = 1, color=blue> enters </font><font size = 1, color=blue> the </font><font size = 1, color=red> bar </font><font size = 1, color=blue> and </font><font size = 1, color=red> gets </font><font size = 1, color=red> through </font><font size = 1, color=gray> a </font><font size = 1, color=red> long </font><font size = 1, color=blue> awaited </font><font size = 1, color=blue> transfer </font><font size = 1, color=red> from </font><font size = 1, color=red> silence </font><font size = 1, color=red> into </font><font size = 1, color=red> sound: </font><font size = 1, color=gray> a </font><font size = 1, color=blue> few </font><font size = 1, color=red> seconds </font><font size = 1, color=red> closing </font><font size = 1, color=blue> her </font><font size = 3, color=blue> silent </font><font size = 1, color=blue> era </font><font size = 1, color=blue> and, </font><font size = 1, color=red> at </font><font size = 1, color=blue> last, </font><font size = 2, color=red> Greta </font><font size = 3, color=blue> Garbo </font><font size = 1, color=red> says </font><font size = 1, color=gray> a </font><font size = 1, color=red> historic </font><font size = 1, color=blue> line: </font><font size = 4, color=red> \"Gimme </font><font size = 1, color=gray> a </font><font size = 3, color=blue> whiskey, </font><font size = 1, color=blue> ginger </font><font size = 1, color=gray> ale </font><font size = 1, color=red> on </font><font size = 1, color=blue> the </font><font size = 1, color=blue> side </font><font size = 1, color=blue> and </font><font size = 1, color=blue> don't </font><font size = 1, color=red> be </font><font size = 1, color=gray> stingy, </font><font size = 1, color=red> baby!\" </font><font size = 1, color=red> <br </font><font size = 1, color=red> /><br </font><font size = 2, color=red> />\"Anna </font><font size = 4, color=blue> Christie\" </font><font size = 2, color=blue> (1930) </font><font size = 1, color=blue> is </font><font size = 1, color=blue> the </font><font size = 1, color=blue> movie </font><font size = 1, color=red> by </font><font size = 1, color=gray> Clarence </font><font size = 1, color=red> Brown </font><font size = 1, color=blue> that </font><font size = 1, color=blue> introduced </font><font size = 1, color=gray> a </font><font size = 2, color=blue> great </font><font size = 3, color=blue> silent </font><font size = 1, color=blue> star </font><font size = 2, color=red> Greta </font><font size = 3, color=blue> Garbo </font><font size = 1, color=red> to </font><font size = 2, color=red> talkies. </font><font size = 1, color=blue> Nowadays, </font><font size = 1, color=blue> we </font><font size = 1, color=blue> can </font><font size = 1, color=red> only </font><font size = 1, color=red> imagine </font><font size = 1, color=blue> what </font><font size = 1, color=blue> serious </font><font size = 1, color=blue> transfer </font><font size = 1, color=blue> it </font><font size = 1, color=blue> was </font><font size = 1, color=blue> for </font><font size = 1, color=red> actors </font><font size = 1, color=blue> and </font><font size = 1, color=blue> actresses. </font><font size = 1, color=blue> The </font><font size = 2, color=red> careers </font><font size = 1, color=blue> of </font><font size = 1, color=blue> many </font><font size = 1, color=red> were </font><font size = 1, color=blue> bound </font><font size = 1, color=red> to </font><font size = 1, color=blue> end </font><font size = 1, color=gray> - </font><font size = 1, color=red> something </font><font size = 1, color=blue> we </font><font size = 1, color=red> hardly </font><font size = 1, color=red> or </font><font size = 1, color=blue> not </font><font size = 1, color=red> at </font><font size = 1, color=blue> all </font><font size = 1, color=blue> see </font><font size = 1, color=red> at </font><font size = 1, color=blue> present. </font><font size = 1, color=blue> And </font><font size = 1, color=blue> it </font><font size = 1, color=blue> was </font><font size = 1, color=red> no </font><font size = 1, color=red> coincidence </font><font size = 1, color=blue> that </font><font size = 1, color=blue> it </font><font size = 1, color=blue> was </font><font size = 1, color=gray> Clarence </font><font size = 1, color=red> Brown </font><font size = 1, color=blue> who </font><font size = 1, color=red> directed </font><font size = 1, color=blue> the </font><font size = 1, color=blue> first </font><font size = 1, color=blue> talkie </font><font size = 1, color=blue> with </font><font size = 1, color=blue> the </font><font size = 5, color=blue> Swedish </font><font size = 2, color=blue> beauty. </font><font size = 3, color=blue> Garbo </font><font size = 1, color=red> trusted </font><font size = 1, color=blue> the </font><font size = 1, color=red> director </font><font size = 1, color=red> after </font><font size = 1, color=blue> two </font><font size = 1, color=blue> of </font><font size = 1, color=blue> his </font><font size = 2, color=blue> great </font><font size = 3, color=blue> silent </font><font size = 1, color=blue> productions, </font><font size = 1, color=blue> FLESH </font><font size = 1, color=blue> AND </font><font size = 1, color=blue> THE </font><font size = 1, color=blue> DEVIL </font><font size = 1, color=gray> (1926) </font><font size = 1, color=blue> and </font><font size = 1, color=gray> A </font><font size = 1, color=blue> WOMAN </font><font size = 1, color=blue> OF </font><font size = 1, color=blue> AFFAIRS </font><font size = 1, color=red> (1928): </font><font size = 1, color=blue> movies </font><font size = 1, color=blue> that </font><font size = 2, color=red> achieved </font><font size = 1, color=gray> a </font><font size = 2, color=red> smashing </font><font size = 1, color=red> success </font><font size = 1, color=red> at </font><font size = 1, color=blue> the </font><font size = 1, color=blue> box </font><font size = 1, color=blue> office, </font><font size = 1, color=blue> both </font><font size = 1, color=blue> with </font><font size = 3, color=blue> Garbo </font><font size = 1, color=blue> in </font><font size = 1, color=blue> the </font><font size = 1, color=red> lead. </font><font size = 1, color=red> <br </font><font size = 1, color=red> /><br </font><font size = 1, color=blue> />But </font><font size = 1, color=blue> we </font><font size = 1, color=blue> are </font><font size = 1, color=blue> in </font><font size = 1, color=red> 2008 </font><font size = 1, color=blue> and </font><font size = 1, color=blue> that </font><font size = 1, color=red> fact </font><font size = 1, color=blue> about </font><font size = 1, color=blue> the </font><font size = 1, color=blue> movie, </font><font size = 1, color=blue> now </font><font size = 1, color=blue> purely </font><font size = 1, color=blue> historical, </font><font size = 1, color=red> appears </font><font size = 1, color=red> to </font><font size = 1, color=red> be </font><font size = 1, color=blue> of </font><font size = 1, color=blue> minor </font><font size = 1, color=red> importance. </font><font size = 1, color=blue> The </font><font size = 1, color=red> question </font><font size = 1, color=blue> for </font><font size = 3, color=blue> today's </font><font size = 1, color=red> viewer </font><font size = 1, color=blue> is </font><font size = 1, color=blue> not </font><font size = 1, color=blue> what </font><font size = 3, color=blue> Garbo's </font><font size = 1, color=red> voice </font><font size = 1, color=blue> sounds </font><font size = 1, color=blue> like </font><font size = 1, color=blue> but </font><font size = 1, color=blue> if </font><font size = 1, color=blue> the </font><font size = 1, color=blue> movie </font><font size = 1, color=blue> is </font><font size = 1, color=blue> still </font><font size = 1, color=red> watchable </font><font size = 1, color=red> after </font><font size = 1, color=blue> these </font><font size = 1, color=blue> 78 </font><font size = 1, color=blue> years. </font><font size = 1, color=blue> In </font><font size = 1, color=blue> other </font><font size = 1, color=red> words, </font><font size = 1, color=blue> we </font><font size = 1, color=blue> all </font><font size = 3, color=red> strive </font><font size = 1, color=red> to </font><font size = 1, color=red> answer </font><font size = 1, color=blue> the </font><font size = 1, color=red> question </font><font size = 1, color=blue> if </font><font size = 1, color=blue> the </font><font size = 1, color=blue> movie </font><font size = 1, color=blue> has </font><font size = 1, color=blue> stood </font><font size = 1, color=gray> a </font><font size = 1, color=red> test </font><font size = 1, color=blue> of </font><font size = 1, color=blue> time. </font><font size = 1, color=blue> Has </font><font size = 1, color=blue> it?<br </font><font size = 1, color=red> /><br </font><font size = 1, color=blue> />When </font><font size = 1, color=gray> I </font><font size = 1, color=blue> recently </font><font size = 1, color=blue> watched </font><font size = 1, color=blue> it, </font><font size = 1, color=gray> I </font><font size = 1, color=blue> came </font><font size = 1, color=red> into </font><font size = 1, color=blue> conclusion </font><font size = 1, color=blue> that, </font><font size = 1, color=red> except </font><font size = 1, color=blue> for </font><font size = 1, color=blue> some </font><font size = 1, color=blue> minor </font><font size = 1, color=red> technical </font><font size = 1, color=blue> aspects, </font><font size = 1, color=blue> including </font><font size = 2, color=red> static </font><font size = 1, color=red> camera, </font><font size = 2, color=red> \"Anna </font><font size = 4, color=blue> Christie\" </font><font size = 1, color=blue> is </font><font size = 1, color=blue> still </font><font size = 1, color=blue> very </font><font size = 1, color=blue> entertaining. </font><font size = 1, color=blue> It's, </font><font size = 1, color=red> on </font><font size = 1, color=blue> the </font><font size = 1, color=blue> one </font><font size = 1, color=red> hand, </font><font size = 1, color=gray> a </font><font size = 5, color=blue> wonderful </font><font size = 1, color=blue> story </font><font size = 1, color=blue> of </font><font size = 1, color=gray> a </font><font size = 1, color=blue> life, </font><font size = 1, color=blue> of </font><font size = 1, color=gray> a </font><font size = 2, color=blue> reality </font><font size = 1, color=blue> that </font><font size = 1, color=blue> the </font><font size = 2, color=blue> young </font><font size = 1, color=blue> woman </font><font size = 1, color=blue> faces </font><font size = 1, color=blue> (being </font><font size = 1, color=blue> based </font><font size = 1, color=red> on </font><font size = 1, color=blue> Eugene </font><font size = 3, color=red> O\"Neill's </font><font size = 1, color=red> play), </font><font size = 1, color=blue> and, </font><font size = 1, color=red> on </font><font size = 1, color=blue> the </font><font size = 1, color=blue> other </font><font size = 1, color=red> hand, </font><font size = 1, color=red> an </font><font size = 1, color=blue> artistic </font><font size = 3, color=red> manifestation </font><font size = 1, color=blue> of </font><font size = 2, color=blue> true </font><font size = 1, color=red> magnificence </font><font size = 1, color=blue> in </font><font size = 1, color=blue> the </font><font size = 1, color=red> field </font><font size = 1, color=blue> of </font><font size = 1, color=red> direction </font><font size = 1, color=blue> and </font><font size = 1, color=red> acting. </font><font size = 1, color=red> Let </font><font size = 1, color=blue> me </font><font size = 2, color=blue> analyze </font><font size = 1, color=blue> these </font><font size = 1, color=blue> two </font><font size = 1, color=blue> aspects </font><font size = 1, color=blue> in </font><font size = 2, color=red> separate </font><font size = 1, color=gray> paragraphs.<br </font><font size = 1, color=red> /><br </font><font size = 1, color=blue> />CONTENT: </font><font size = 1, color=blue> Chris </font><font size = 1, color=gray> Christopherson </font><font size = 1, color=blue> (George </font><font size = 1, color=gray> F </font><font size = 3, color=blue> Marion), </font><font size = 1, color=gray> a </font><font size = 1, color=red> heavy </font><font size = 1, color=gray> drinker, </font><font size = 2, color=blue> lives </font><font size = 1, color=gray> a </font><font size = 1, color=blue> life </font><font size = 1, color=blue> of </font><font size = 1, color=gray> a </font><font size = 2, color=red> sailor, </font><font size = 1, color=red> on </font><font size = 1, color=gray> a </font><font size = 1, color=gray> barge. </font><font size = 1, color=blue> Although </font><font size = 1, color=blue> his </font><font size = 1, color=red> days </font><font size = 1, color=blue> are </font><font size = 1, color=blue> filled </font><font size = 1, color=blue> with </font><font size = 2, color=blue> sorrows, </font><font size = 1, color=red> he </font><font size = 1, color=blue> is </font><font size = 1, color=gray> consoled </font><font size = 1, color=red> by </font><font size = 1, color=gray> a </font><font size = 1, color=red> letter </font><font size = 1, color=red> from </font><font size = 1, color=blue> his </font><font size = 1, color=blue> daughter </font><font size = 2, color=red> Anna </font><font size = 3, color=blue> (Garbo) </font><font size = 1, color=blue> whom </font><font size = 1, color=red> he </font><font size = 1, color=blue> hasn't </font><font size = 1, color=blue> seen </font><font size = 1, color=blue> for </font><font size = 1, color=blue> 15 </font><font size = 1, color=blue> years. </font><font size = 1, color=blue> She </font><font size = 1, color=red> says </font><font size = 1, color=blue> that </font><font size = 1, color=blue> she </font><font size = 1, color=blue> will </font><font size = 1, color=red> come </font><font size = 1, color=blue> back </font><font size = 1, color=red> to </font><font size = 1, color=red> him. </font><font size = 1, color=red> He </font><font size = 1, color=red> starts </font><font size = 1, color=red> to </font><font size = 1, color=blue> change </font><font size = 1, color=red> everything </font><font size = 1, color=blue> for </font><font size = 1, color=blue> better; </font><font size = 1, color=blue> however </font><font size = 1, color=blue> forgets </font><font size = 1, color=blue> that </font><font size = 1, color=blue> his </font><font size = 1, color=blue> daughter </font><font size = 1, color=blue> is </font><font size = 1, color=red> no </font><font size = 1, color=blue> longer </font><font size = 1, color=gray> a </font><font size = 1, color=blue> child </font><font size = 1, color=blue> lacking </font><font size = 1, color=blue> experience </font><font size = 1, color=blue> but </font><font size = 1, color=gray> a </font><font size = 1, color=blue> 23 </font><font size = 1, color=blue> year-old </font><font size = 1, color=blue> woman </font><font size = 1, color=blue> who </font><font size = 1, color=blue> has </font><font size = 1, color=blue> got </font><font size = 1, color=red> through </font><font size = 1, color=blue> various </font><font size = 1, color=blue> sorts </font><font size = 1, color=blue> of </font><font size = 1, color=red> things </font><font size = 1, color=red> on </font><font size = 1, color=gray> a </font><font size = 1, color=blue> farm </font><font size = 1, color=blue> in </font><font size = 1, color=gray> Minnessota </font><font size = 1, color=red> where </font><font size = 1, color=blue> she </font><font size = 1, color=blue> lived </font><font size = 1, color=blue> and </font><font size = 1, color=blue> worked. </font><font size = 1, color=blue> Moreover, </font><font size = 1, color=red> he </font><font size = 1, color=blue> forgets </font><font size = 1, color=blue> that </font><font size = 1, color=blue> she </font><font size = 1, color=blue> has </font><font size = 1, color=gray> a </font><font size = 1, color=blue> right </font><font size = 1, color=red> to </font><font size = 1, color=blue> accept </font><font size = 1, color=blue> another </font><font size = 1, color=red> kind </font><font size = 1, color=blue> of </font><font size = 1, color=red> male </font><font size = 2, color=blue> love </font><font size = 1, color=blue> in </font><font size = 1, color=blue> her </font><font size = 1, color=blue> life... </font><font size = 1, color=blue> This </font><font size = 1, color=blue> brief </font><font size = 1, color=red> presentation </font><font size = 1, color=blue> of </font><font size = 1, color=blue> the </font><font size = 1, color=blue> content </font><font size = 1, color=blue> not </font><font size = 1, color=red> from </font><font size = 1, color=blue> the </font><font size = 1, color=blue> perspective </font><font size = 1, color=blue> of </font><font size = 1, color=blue> the </font><font size = 1, color=blue> main </font><font size = 1, color=red> character </font><font size = 1, color=blue> but </font><font size = 1, color=blue> the </font><font size = 1, color=blue> one </font><font size = 1, color=red> which </font><font size = 1, color=blue> is </font><font size = 1, color=blue> introduced </font><font size = 1, color=red> to </font><font size = 1, color=blue> us </font><font size = 1, color=blue> sooner </font><font size = 1, color=red> than </font><font size = 2, color=red> Anna </font><font size = 1, color=blue> (her </font><font size = 1, color=blue> father </font><font size = 1, color=blue> Chris) </font><font size = 1, color=blue> makes </font><font size = 1, color=blue> you </font><font size = 1, color=blue> realize </font><font size = 1, color=blue> how </font><font size = 2, color=red> universal </font><font size = 1, color=blue> it </font><font size = 1, color=blue> is. </font><font size = 1, color=red> Simply </font><font size = 1, color=red> no </font><font size = 1, color=red> letter </font><font size = 1, color=red> from </font><font size = 1, color=blue> the </font><font size = 1, color=red> whole </font><font size = 1, color=red> text </font><font size = 1, color=blue> that </font><font size = 1, color=blue> life </font><font size = 1, color=red> appears </font><font size = 1, color=red> to </font><font size = 1, color=red> be </font><font size = 1, color=blue> has </font><font size = 1, color=red> been </font><font size = 1, color=red> erased </font><font size = 1, color=red> after </font><font size = 1, color=blue> all </font><font size = 1, color=blue> these </font><font size = 1, color=blue> years. </font><font size = 1, color=red> Cases </font><font size = 4, color=blue> discussed </font><font size = 1, color=red> here </font><font size = 1, color=blue> in </font><font size = 2, color=blue> 1930 </font><font size = 1, color=blue> are </font><font size = 1, color=blue> still </font><font size = 1, color=red> meaningful </font><font size = 1, color=blue> and </font><font size = 1, color=red> valid...<br </font><font size = 1, color=red> /><br </font><font size = 1, color=blue> />PERFORMANCES. </font><font size = 1, color=red> There </font><font size = 1, color=blue> are </font><font size = 1, color=blue> not </font><font size = 1, color=blue> many </font><font size = 1, color=red> characters </font><font size = 1, color=blue> in </font><font size = 1, color=blue> the </font><font size = 1, color=blue> movie, </font><font size = 1, color=blue> but </font><font size = 1, color=red> there </font><font size = 1, color=blue> are </font><font size = 1, color=blue> two </font><font size = 1, color=blue> that </font><font size = 1, color=blue> really </font><font size = 1, color=blue> shine </font><font size = 1, color=blue> in </font><font size = 1, color=blue> the </font><font size = 2, color=blue> roles. </font><font size = 1, color=blue> It </font><font size = 1, color=blue> is </font><font size = 1, color=blue> of </font><font size = 1, color=blue> course </font><font size = 2, color=red> Greta </font><font size = 3, color=blue> Garbo </font><font size = 1, color=blue> herself </font><font size = 1, color=blue> who </font><font size = 1, color=blue> did </font><font size = 1, color=red> something </font><font size = 3, color=blue> extraordinary </font><font size = 1, color=blue> in </font><font size = 1, color=blue> her </font><font size = 1, color=blue> 15 </font><font size = 1, color=blue> year-long </font><font size = 1, color=blue> phenomenon, </font><font size = 1, color=blue> the </font><font size = 1, color=red> presence </font><font size = 1, color=blue> that </font><font size = 1, color=blue> strongly </font><font size = 2, color=blue> marked </font><font size = 1, color=blue> the </font><font size = 1, color=blue> history </font><font size = 1, color=blue> of </font><font size = 1, color=blue> early </font><font size = 1, color=blue> cinema </font><font size = 1, color=red> (something </font><font size = 1, color=gray> I </font><font size = 1, color=blue> have </font><font size = 1, color=red> already </font><font size = 4, color=blue> discussed </font><font size = 1, color=blue> in </font><font size = 1, color=blue> many </font><font size = 1, color=blue> of </font><font size = 1, color=blue> my </font><font size = 1, color=red> earlier </font><font size = 1, color=blue> comments </font><font size = 1, color=red> on </font><font size = 1, color=blue> her </font><font size = 1, color=blue> films). </font><font size = 1, color=blue> But </font><font size = 1, color=red> here, </font><font size = 3, color=blue> Garbo </font><font size = 1, color=blue> is </font><font size = 1, color=red> slightly </font><font size = 1, color=blue> different. </font><font size = 1, color=gray> I </font><font size = 2, color=blue> admit </font><font size = 1, color=blue> that </font><font size = 1, color=red> there </font><font size = 1, color=blue> are </font><font size = 1, color=blue> moments </font><font size = 1, color=blue> in </font><font size = 1, color=blue> this </font><font size = 1, color=blue> movie </font><font size = 1, color=blue> when </font><font size = 1, color=blue> she </font><font size = 1, color=blue> does </font><font size = 1, color=blue> not </font><font size = 1, color=blue> feel </font><font size = 1, color=blue> very </font><font size = 1, color=blue> comfortable </font><font size = 1, color=blue> with </font><font size = 1, color=blue> her </font><font size = 1, color=blue> role. </font><font size = 1, color=blue> That </font><font size = 1, color=blue> seems </font><font size = 1, color=red> to </font><font size = 1, color=red> be </font><font size = 1, color=red> caused </font><font size = 1, color=red> by </font><font size = 1, color=blue> her </font><font size = 1, color=blue> new </font><font size = 1, color=blue> experience </font><font size = 1, color=blue> with </font><font size = 1, color=red> sound </font><font size = 1, color=blue> in </font><font size = 1, color=blue> English; </font><font size = 1, color=blue> however, </font><font size = 1, color=blue> her </font><font size = 1, color=blue> performance </font><font size = 1, color=blue> is, </font><font size = 1, color=blue> as </font><font size = 1, color=blue> always, </font><font size = 1, color=blue> genuine </font><font size = 1, color=blue> and </font><font size = 2, color=blue> unique. </font><font size = 1, color=blue> But </font><font size = 1, color=blue> that </font><font size = 1, color=blue> is </font><font size = 1, color=blue> what </font><font size = 1, color=blue> everyone </font><font size = 1, color=blue> has </font><font size = 1, color=blue> expected </font><font size = 1, color=red> from </font><font size = 3, color=blue> Garbo. </font><font size = 1, color=blue> The </font><font size = 2, color=blue> true </font><font size = 1, color=red> surprise </font><font size = 1, color=blue> of </font><font size = 1, color=blue> the </font><font size = 1, color=blue> movie </font><font size = 1, color=blue> for </font><font size = 1, color=blue> the </font><font size = 2, color=blue> 1930 </font><font size = 1, color=blue> viewers </font><font size = 1, color=blue> and </font><font size = 1, color=blue> also </font><font size = 1, color=blue> for </font><font size = 1, color=blue> us </font><font size = 1, color=blue> is </font><font size = 4, color=blue> Marie </font><font size = 1, color=gray> Dressler </font><font size = 1, color=blue> as </font><font size = 1, color=gray> Marthy. </font><font size = 1, color=blue> She </font><font size = 1, color=blue> is </font><font size = 5, color=blue> excellent </font><font size = 1, color=blue> in </font><font size = 1, color=blue> her </font><font size = 1, color=red> facial </font><font size = 1, color=blue> expressions, </font><font size = 1, color=blue> in </font><font size = 1, color=blue> her </font><font size = 2, color=red> accent, </font><font size = 1, color=blue> in </font><font size = 1, color=blue> the </font><font size = 1, color=red> entire </font><font size = 2, color=blue> portrayal </font><font size = 1, color=blue> of </font><font size = 1, color=gray> a </font><font size = 1, color=blue> drinking </font><font size = 1, color=blue> woman </font><font size = 1, color=blue> who </font><font size = 1, color=red> looks </font><font size = 1, color=red> at </font><font size = 1, color=blue> life </font><font size = 1, color=red> from </font><font size = 1, color=blue> the </font><font size = 1, color=blue> perspective </font><font size = 1, color=blue> of </font><font size = 1, color=blue> \"hitting </font><font size = 1, color=blue> the </font><font size = 1, color=red> bottle.\" </font><font size = 1, color=blue> Her </font><font size = 2, color=blue> best </font><font size = 1, color=blue> moments </font><font size = 1, color=blue> include </font><font size = 1, color=blue> the </font><font size = 1, color=red> conversation </font><font size = 1, color=blue> with </font><font size = 2, color=red> Anna </font><font size = 4, color=blue> Christie </font><font size = 1, color=blue> in </font><font size = 1, color=blue> the </font><font size = 1, color=red> bar </font><font size = 1, color=blue> preceded </font><font size = 1, color=red> by </font><font size = 1, color=blue> her </font><font size = 2, color=blue> hilarious </font><font size = 1, color=red> talk </font><font size = 1, color=blue> with </font><font size = 1, color=blue> Chris. </font><font size = 1, color=blue> The </font><font size = 1, color=blue> rest </font><font size = 1, color=blue> of </font><font size = 1, color=blue> the </font><font size = 1, color=blue> supporting </font><font size = 1, color=blue> cast </font><font size = 1, color=blue> are </font><font size = 2, color=blue> fine </font><font size = 1, color=red> yet </font><font size = 1, color=blue> not </font><font size = 2, color=blue> great </font><font size = 2, color=red> whatsoever </font><font size = 1, color=red> (here </font><font size = 1, color=blue> the </font><font size = 1, color=red> German </font><font size = 1, color=blue> version </font><font size = 1, color=blue> makes </font><font size = 1, color=blue> up </font><font size = 1, color=blue> for </font><font size = 1, color=blue> it). </font><font size = 1, color=blue> Particularly </font><font size = 1, color=gray> Dressler, </font><font size = 1, color=red> except </font><font size = 1, color=blue> for </font><font size = 3, color=blue> Garbo </font><font size = 1, color=blue> herself, </font><font size = 2, color=red> constitutes </font><font size = 1, color=red> an </font><font size = 1, color=red> absolutely </font><font size = 3, color=blue> flawless </font><font size = 1, color=blue> choice.<br </font><font size = 1, color=red> /><br </font><font size = 1, color=blue> />If </font><font size = 1, color=blue> you </font><font size = 1, color=blue> asked </font><font size = 1, color=blue> me </font><font size = 1, color=blue> what </font><font size = 1, color=gray> I </font><font size = 1, color=blue> like </font><font size = 1, color=blue> about </font><font size = 2, color=red> \"Anna </font><font size = 4, color=blue> Christie\" </font><font size = 1, color=blue> nowadays, </font><font size = 1, color=blue> that's </font><font size = 1, color=blue> what </font><font size = 1, color=gray> I </font><font size = 1, color=red> would </font><font size = 1, color=blue> tell </font><font size = 1, color=blue> you: </font><font size = 1, color=blue> it's </font><font size = 1, color=gray> a </font><font size = 2, color=blue> classic </font><font size = 1, color=blue> movie. </font><font size = 1, color=blue> However, </font><font size = 1, color=red> there </font><font size = 1, color=blue> is </font><font size = 1, color=blue> one </font><font size = 1, color=blue> more </font><font size = 1, color=red> thing </font><font size = 1, color=blue> that </font><font size = 1, color=gray> I </font><font size = 1, color=blue> must </font><font size = 1, color=red> mention </font><font size = 1, color=red> at </font><font size = 1, color=blue> the </font><font size = 1, color=blue> end. </font><font size = 1, color=blue> It </font><font size = 1, color=blue> is </font><font size = 1, color=blue> humor, </font><font size = 5, color=blue> wonderful </font><font size = 1, color=blue> wit </font><font size = 1, color=blue> that </font><font size = 1, color=blue> is </font><font size = 2, color=blue> noticeable </font><font size = 1, color=blue> throughout. </font><font size = 1, color=blue> Although </font><font size = 1, color=blue> the </font><font size = 1, color=blue> content </font><font size = 1, color=blue> is </font><font size = 1, color=blue> quite </font><font size = 1, color=blue> serious </font><font size = 1, color=blue> and </font><font size = 2, color=red> \"Anna </font><font size = 4, color=blue> Christie\" </font><font size = 1, color=blue> in </font><font size = 1, color=red> no </font><font size = 1, color=blue> way </font><font size = 2, color=blue> carries </font><font size = 1, color=gray> a </font><font size = 1, color=blue> comedian </font><font size = 2, color=blue> spirit </font><font size = 1, color=blue> (the </font><font size = 1, color=red> only </font><font size = 3, color=blue> Garbo's </font><font size = 1, color=blue> comedy </font><font size = 1, color=blue> was </font><font size = 1, color=gray> NINOTCHKA), </font><font size = 1, color=red> there </font><font size = 1, color=blue> are </font><font size = 1, color=red> such </font><font size = 1, color=blue> moments </font><font size = 1, color=blue> when </font><font size = 1, color=blue> you </font><font size = 1, color=blue> will </font><font size = 2, color=red> split </font><font size = 1, color=blue> your </font><font size = 2, color=blue> sides. </font><font size = 1, color=blue> Don't </font><font size = 1, color=red> skip, </font><font size = 1, color=blue> for </font><font size = 1, color=blue> instance, </font><font size = 2, color=red> Anna </font><font size = 1, color=blue> and </font><font size = 1, color=red> Matt's </font><font size = 1, color=blue> visit </font><font size = 1, color=blue> in </font><font size = 1, color=blue> the </font><font size = 2, color=blue> fun </font><font size = 1, color=red> park, </font><font size = 1, color=blue> particularly </font><font size = 1, color=red> at </font><font size = 1, color=blue> the </font><font size = 1, color=red> restaurant </font><font size = 1, color=red> where </font><font size = 1, color=red> he </font><font size = 1, color=red> orders </font><font size = 1, color=blue> milk </font><font size = 1, color=blue> for </font><font size = 1, color=blue> her </font><font size = 1, color=red> thinking </font><font size = 1, color=blue> how </font><font size = 2, color=red> virtuous </font><font size = 1, color=blue> and </font><font size = 2, color=blue> innocent </font><font size = 1, color=blue> she </font><font size = 1, color=blue> is, </font><font size = 1, color=blue> beer </font><font size = 1, color=blue> for </font><font size = 1, color=blue> himself </font><font size = 1, color=blue> and </font><font size = 1, color=red> where </font><font size = 1, color=red> suddenly </font><font size = 1, color=gray> Marthy </font><font size = 2, color=red> joins </font><font size = 1, color=red> them </font><font size = 1, color=red> by </font><font size = 1, color=blue> chance...<br </font><font size = 1, color=red> /><br </font><font size = 2, color=red> />\"Anna </font><font size = 4, color=blue> Christie\" </font><font size = 1, color=blue> is </font><font size = 1, color=gray> a </font><font size = 3, color=blue> perfect </font><font size = 1, color=blue> movie </font><font size = 1, color=blue> for </font><font size = 2, color=blue> classic </font><font size = 2, color=blue> buffs </font><font size = 1, color=blue> and </font><font size = 1, color=gray> a </font><font size = 1, color=blue> must </font><font size = 1, color=blue> see </font><font size = 1, color=blue> for </font><font size = 1, color=blue> all </font><font size = 1, color=red> at </font><font size = 1, color=red> least </font><font size = 1, color=gray> a </font><font size = 1, color=blue> bit </font><font size = 1, color=blue> interested </font><font size = 1, color=blue> in </font><font size = 1, color=blue> the </font><font size = 2, color=blue> true </font><font size = 1, color=red> magnificence </font><font size = 1, color=blue> of </font><font size = 1, color=blue> performance. </font><font size = 1, color=blue> If </font><font size = 1, color=blue> you </font><font size = 1, color=blue> are </font><font size = 1, color=red> fed </font><font size = 1, color=blue> up </font><font size = 1, color=blue> with </font><font size = 1, color=blue> many </font><font size = 1, color=blue> of </font><font size = 1, color=blue> those </font><font size = 1, color=blue> modern </font><font size = 1, color=gray> starlets, </font><font size = 1, color=blue> seek </font><font size = 1, color=red> such </font><font size = 1, color=blue> movies </font><font size = 1, color=blue> out </font><font size = 1, color=blue> and </font><font size = 1, color=blue> you </font><font size = 1, color=blue> shall </font><font size = 1, color=red> be </font><font size = 1, color=red> satisfied. </font><font size = 1, color=blue> Very </font><font size = 1, color=blue> worth </font><font size = 1, color=blue> your </font><font size = 1, color=blue> search! </font><font size = 1, color=red> <br </font><font size = 1, color=red> /><br </font><font size = 1, color=gray> />Skaal </font><font size = 2, color=red> Greta </font><font size = 3, color=blue> Garbo! </font><font size = 1, color=gray> Skaal </font><font size = 4, color=blue> Marie </font><font size = 1, color=gray> Dressler! </font><font size = 1, color=red> Let </font><font size = 1, color=blue> us </font><font size = 1, color=red> drink </font><font size = 1, color=gray> a </font><font size = 1, color=blue> toast </font><font size = 1, color=red> to </font><font size = 1, color=blue> the </font><font size = 2, color=blue> great </font><font size = 1, color=blue> jobs </font><font size = 1, color=blue> you </font><font size = 1, color=blue> did </font><font size = 1, color=blue> in </font><font size = 1, color=blue> the </font><font size = 1, color=blue> movie! </font><font size = 1, color=gray> Skaal </font><font size = 1, color=red> after </font><font size = 1, color=blue> all </font><font size = 1, color=blue> these </font><font size = 1, color=blue> years </font><font size = 1, color=blue> when </font><font size = 1, color=blue> wine </font><font size = 3, color=blue> tastes </font><font size = 1, color=blue> much </font><font size = 1, color=blue> better </font><font size = 1, color=blue> and </font><font size = 1, color=blue> your </font><font size = 1, color=blue> spirits </font><font size = 1, color=blue> are </font><font size = 1, color=blue> with </font><font size = 1, color=blue> us </font><font size = 1, color=blue> in </font><font size = 1, color=gray> a </font><font size = 1, color=blue> different </font><font size = 1, color=red> sense... </font>"
      ],
      "text/plain": [
       "<utils.ColoredWeightedDoc at 0x7f15ffc29d68>"
      ]
     },
     "metadata": {},
     "output_type": "display_data"
    }
   ],
   "source": [
    "x = ctrl_clf.predict_proba(X_test) - best_clf.predict_proba(X_test)\n",
    "x = np.absolute(x[:,0])\n",
    "inds = np.argsort(x)\n",
    "i = inds[-1]\n",
    "\n",
    "display_html(\"<b>\"+'Probability Matrix'+\"<b>\", raw=True)\n",
    "print(ctrl_clf.predict_proba(X_test)[i]) \n",
    "print(best_clf.predict_proba(X_test)[i])\n",
    "display_html(\"<b>\"+'Control Classifier'+\"<b>\", raw=True)\n",
    "display(ColoredWeightedDoc(test_corpus[i], feature_names, ctrl_clf.get_weights()))\n",
    "display_html(\"<b>\"+'Best Classifier'+\"<b>\", raw=True)\n",
    "display(ColoredWeightedDoc(test_corpus[i], feature_names, best_clf.get_weights()))"
   ]
  },
  {
   "cell_type": "code",
   "execution_count": null,
   "metadata": {
    "collapsed": true
   },
   "outputs": [],
   "source": []
  }
 ],
 "metadata": {
  "kernelspec": {
   "display_name": "Python 3",
   "language": "python",
   "name": "python3"
  },
  "language_info": {
   "codemirror_mode": {
    "name": "ipython",
    "version": 3
   },
   "file_extension": ".py",
   "mimetype": "text/x-python",
   "name": "python",
   "nbconvert_exporter": "python",
   "pygments_lexer": "ipython3",
   "version": "3.5.2"
  }
 },
 "nbformat": 4,
 "nbformat_minor": 0
}
