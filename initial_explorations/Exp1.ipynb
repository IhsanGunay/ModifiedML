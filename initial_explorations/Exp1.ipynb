{
 "cells": [
  {
   "cell_type": "code",
   "execution_count": 1,
   "metadata": {
    "collapsed": false
   },
   "outputs": [],
   "source": [
    "from classifiers import TransparentMultinomialNB\n",
    "from utils import ce_squared, load_imdb, ColoredWeightedDoc, TopInstances\n",
    "from sklearn.feature_extraction.text import TfidfVectorizer\n",
    "from sklearn.metrics import classification_report, confusion_matrix\n",
    "from IPython.display import display, display_html\n",
    "from time import time\n",
    "from pickle import load\n",
    "import numpy as np\n",
    "from scipy.sparse import csr_matrix"
   ]
  },
  {
   "cell_type": "code",
   "execution_count": 4,
   "metadata": {
    "collapsed": false
   },
   "outputs": [
    {
     "name": "stdout",
     "output_type": "stream",
     "text": [
      "Loading the imdb reviews data\n",
      "Data loaded.\n",
      "Extracting features from the training dataset using a sparse vectorizer\n",
      "Feature extraction technique is TfidfVectorizer(analyzer='word', binary=False, decode_error='strict',\n",
      "        dtype=<class 'numpy.int64'>, encoding='utf-8', input='content',\n",
      "        lowercase=True, max_df=1.0, max_features=None, min_df=5,\n",
      "        ngram_range=(1, 1), norm='l2', preprocessor=None, smooth_idf=True,\n",
      "        stop_words=None, strip_accents=None, sublinear_tf=False,\n",
      "        token_pattern='(?u)\\\\b\\\\w\\\\w+\\\\b', tokenizer=None, use_idf=True,\n",
      "        vocabulary=None).\n",
      "done in 5.735958814620972s\n",
      "(25000, 27272)\n",
      "n_samples: 25000, n_features: 27272 \n",
      "\n",
      "Extracting features from the test dataset using the same vectorizer\n",
      "done in 5.422744274139404s\n",
      "n_samples: 25000, n_features: 27272 \n",
      "\n",
      "Loading took 22.36s.\n",
      "\n"
     ]
    }
   ],
   "source": [
    "t0 = time()\n",
    "\n",
    "vect = TfidfVectorizer(min_df=5, max_df=1.0, binary=False, ngram_range=(1, 1))\n",
    "\n",
    "X_train, y_train, X_test, y_test, train_corpus, test_corpus = load_imdb(\"../aclImdb\", shuffle=True, vectorizer=vect)\n",
    "\n",
    "feature_names = vect.get_feature_names()\n",
    "\n",
    "\n",
    "duration = time() - t0\n",
    "\n",
    "print(\"Loading took {:0.2f}s.\\n\".format(duration))"
   ]
  },
  {
   "cell_type": "code",
   "execution_count": 5,
   "metadata": {
    "collapsed": false
   },
   "outputs": [
    {
     "data": {
      "text/plain": [
       "0.83216000000000001"
      ]
     },
     "execution_count": 5,
     "metadata": {},
     "output_type": "execute_result"
    }
   ],
   "source": [
    "ctrl_clf = TransparentMultinomialNB()\n",
    "ctrl_clf.fit(X_train,y_train)\n",
    "ctrl_clf.score(X_test, y_test)"
   ]
  },
  {
   "cell_type": "code",
   "execution_count": 6,
   "metadata": {
    "collapsed": false
   },
   "outputs": [],
   "source": [
    "X_val = csr_matrix(X_train[12500:,:])\n",
    "y_val = np.copy(y_train[12500:])\n",
    "X_train = csr_matrix(X_train[:12500])\n",
    "y_train = np.copy(y_train[:12500])\n",
    "\n",
    "y_val_na = y_val[:, np.newaxis]\n",
    "y_val_na = np.append(y_val_na, 1-y_val_na, axis=1)\n",
    "y_modified = np.copy(y_train)"
   ]
  },
  {
   "cell_type": "code",
   "execution_count": 7,
   "metadata": {
    "collapsed": false
   },
   "outputs": [
    {
     "name": "stdout",
     "output_type": "stream",
     "text": [
      "(25000, 27272)\n",
      "<class 'numpy.ndarray'>\n"
     ]
    }
   ],
   "source": [
    "print(X_test.shape)\n",
    "c = X_train.shape\n",
    "b = np.copy(X_train)\n",
    "#b.shape = c\n",
    "print(type(y_test))"
   ]
  },
  {
   "cell_type": "markdown",
   "metadata": {
    "collapsed": true
   },
   "source": [
    "# Experiment"
   ]
  },
  {
   "cell_type": "code",
   "execution_count": 20,
   "metadata": {
    "collapsed": false
   },
   "outputs": [
    {
     "name": "stdout",
     "output_type": "stream",
     "text": [
      "0.004069328308105469 \n",
      " 0.019451141357421875 \n",
      " 5.7220458984375e-06 \n",
      " 1.52587890625e-05 \n",
      " 0.003274679183959961 \n",
      " 0.04511833190917969\n"
     ]
    }
   ],
   "source": [
    "print(t1-t0,'\\n',t2-t1,'\\n',t3-t2,'\\n',t4-t3,'\\n',t5-t4,'\\n',t7-t0)\n",
    "assert (t1-t0)+(t7-t1) == t7-t0"
   ]
  },
  {
   "cell_type": "code",
   "execution_count": 17,
   "metadata": {
    "collapsed": false,
    "scrolled": true
   },
   "outputs": [],
   "source": [
    "clf = TransparentMultinomialNB()\n",
    "train_indices = list(range(10))\n",
    "\n",
    "clf.fit(X_train[train_indices], y_train[train_indices])\n",
    "\n",
    "best_clf = clf\n",
    "current_error = ce_squared(y_val_na, clf.predict_proba(X_val))\n",
    "\n",
    "for i in range(1):\n",
    "    train_indices.append(i)\n",
    "    \n",
    "    t0 = time()\n",
    "    clf = TransparentMultinomialNB()\n",
    "    clf.fit(X_train[train_indices], y_modified[train_indices])        \n",
    "    t1 = time()\n",
    "    y_error = ce_squared(y_val_na, clf.predict_proba(X_val))\n",
    "    t2 = time()\n",
    "    \n",
    "    y_modified[i] = 1 - y_modified[i]\n",
    "    t3 = time()\n",
    "    clf = TransparentMultinomialNB()\n",
    "    t4 = time()\n",
    "    clf.fit(X_train[train_indices], y_modified[train_indices])  \n",
    "    t5 = time()\n",
    "    y0_error = ce_squared(y_val_na, clf.predict_proba(X_val))\n",
    "    t6 = time()\n",
    "    if y_error < current_error and y_error < y0_error:            \n",
    "        current_error = y_error\n",
    "        y_modified[i] = 1 - y_modified[i]\n",
    "        clf = TransparentMultinomialNB()\n",
    "        clf.fit(X_train[train_indices], y_modified[train_indices]) \n",
    "        best_clf = clf\n",
    "        #print(\"i = {}\\tnew error = {:0.5f}\".format(i, y_error))\n",
    "    elif y0_error < current_error and y0_error < y_error: # switch back the label\n",
    "        current_error = y0_error\n",
    "        best_clf = clf\n",
    "        #print(\"i = {}\\tnew error = {:0.5f}\".format(i, y0_error))\n",
    "    else:\n",
    "        train_indices.pop()\n",
    "    \n",
    "    t7 = time()"
   ]
  },
  {
   "cell_type": "code",
   "execution_count": 38,
   "metadata": {
    "collapsed": false
   },
   "outputs": [
    {
     "name": "stdout",
     "output_type": "stream",
     "text": [
      "0.88112\n",
      "0.86072\n"
     ]
    },
    {
     "data": {
      "text/plain": [
       "5337"
      ]
     },
     "execution_count": 38,
     "metadata": {},
     "output_type": "execute_result"
    }
   ],
   "source": [
    "print(best_clf.score(X_val, y_val))\n",
    "print(best_clf.score(X_test, y_test))\n",
    "len(train_indices)"
   ]
  },
  {
   "cell_type": "code",
   "execution_count": 2,
   "metadata": {
    "collapsed": true
   },
   "outputs": [],
   "source": [
    "with open('best.clf', 'rb') as f:\n",
    "    best_clf = load(f)\n",
    "    \n",
    "with open('ctrl.clf','rb') as f:\n",
    "    ctrl_clf = load(f)"
   ]
  },
  {
   "cell_type": "markdown",
   "metadata": {},
   "source": [
    "# Visualization"
   ]
  },
  {
   "cell_type": "code",
   "execution_count": 39,
   "metadata": {
    "collapsed": false,
    "scrolled": false
   },
   "outputs": [
    {
     "data": {
      "text/html": [
       "<b>Probability Matrix<b>"
      ]
     },
     "metadata": {},
     "output_type": "display_data"
    },
    {
     "name": "stdout",
     "output_type": "stream",
     "text": [
      "[ 0.57250962  0.42749038]\n",
      "[ 0.27419539  0.72580461]\n"
     ]
    },
    {
     "data": {
      "text/html": [
       "<b>Control Classifier<b>"
      ]
     },
     "metadata": {},
     "output_type": "display_data"
    },
    {
     "data": {
      "text/html": [
       "<font size = 1, color=blue> when </font><font size = 1, color=red> this </font><font size = 1, color=blue> show </font><font size = 1, color=blue> first </font><font size = 1, color=blue> came </font><font size = 1, color=red> to </font><font size = 2, color=blue> Disney, </font><font size = 1, color=gray> i </font><font size = 2, color=blue> love </font><font size = 1, color=red> it </font><font size = 1, color=red> started </font><font size = 1, color=red> watching </font><font size = 1, color=red> all </font><font size = 1, color=blue> the </font><font size = 1, color=red> time. </font><font size = 1, color=red> It </font><font size = 1, color=red> quickly </font><font size = 1, color=blue> became </font><font size = 1, color=red> one </font><font size = 1, color=blue> of </font><font size = 1, color=blue> my </font><font size = 4, color=blue> favorite </font><font size = 2, color=blue> Disney </font><font size = 2, color=blue> shows </font><font size = 1, color=red> ever </font><font size = 1, color=red> but </font><font size = 1, color=red> this </font><font size = 1, color=blue> show </font><font size = 2, color=red> somehow </font><font size = 2, color=blue> transformed </font><font size = 1, color=red> into </font><font size = 1, color=red> something </font><font size = 1, color=red> that </font><font size = 1, color=blue> is </font><font size = 1, color=blue> disturbing </font><font size = 1, color=blue> and </font><font size = 4, color=red> disappointing.<br </font><font size = 1, color=red> /><br </font><font size = 1, color=gray> />I </font><font size = 1, color=red> do </font><font size = 1, color=blue> now </font><font size = 1, color=blue> find </font><font size = 2, color=red> any </font><font size = 1, color=blue> of </font><font size = 1, color=blue> the </font><font size = 1, color=blue> second </font><font size = 1, color=blue> and </font><font size = 1, color=red> third </font><font size = 2, color=blue> season </font><font size = 2, color=blue> fun, </font><font size = 1, color=red> they </font><font size = 1, color=red> seem </font><font size = 1, color=red> like </font><font size = 1, color=gray> a </font><font size = 1, color=red> re-watch </font><font size = 1, color=blue> of </font><font size = 1, color=red> some </font><font size = 1, color=red> teens </font><font size = 2, color=blue> shows. </font><font size = 1, color=gray> I </font><font size = 1, color=blue> hat </font><font size = 1, color=red> that </font><font size = 5, color=red> garbage. </font><font size = 1, color=blue> The </font><font size = 1, color=blue> first </font><font size = 2, color=blue> season </font><font size = 1, color=red> was </font><font size = 1, color=blue> very </font><font size = 3, color=blue> unique </font><font size = 1, color=red> because </font><font size = 1, color=red> it </font><font size = 1, color=blue> showed </font><font size = 1, color=red> Sadie </font><font size = 1, color=blue> who </font><font size = 4, color=blue> loved </font><font size = 1, color=red> science </font><font size = 1, color=blue> and </font><font size = 2, color=blue> animals </font><font size = 1, color=blue> and </font><font size = 1, color=red> creatures. </font><font size = 1, color=blue> The </font><font size = 1, color=blue> first </font><font size = 2, color=blue> season </font><font size = 1, color=red> was </font><font size = 1, color=blue> very </font><font size = 2, color=blue> entertaining. </font><font size = 1, color=gray> I </font><font size = 1, color=red> mostly </font><font size = 2, color=red> don't </font><font size = 1, color=red> like </font><font size = 1, color=blue> the </font><font size = 1, color=blue> second </font><font size = 2, color=blue> season </font><font size = 1, color=red> because </font><font size = 1, color=blue> of </font><font size = 1, color=blue> Ben. </font><font size = 1, color=blue> He </font><font size = 2, color=red> annoys </font><font size = 1, color=red> me </font><font size = 1, color=blue> and </font><font size = 1, color=red> pisses </font><font size = 1, color=blue> the </font><font size = 5, color=red> crap </font><font size = 2, color=red> outta </font><font size = 1, color=red> me. </font><font size = 1, color=blue> The </font><font size = 2, color=red> plot </font><font size = 1, color=blue> in </font><font size = 1, color=blue> the </font><font size = 1, color=blue> second </font><font size = 2, color=blue> season </font><font size = 2, color=blue> also </font><font size = 5, color=red> sucks </font><font size = 1, color=blue> and </font><font size = 1, color=blue> is </font><font size = 2, color=red> just </font><font size = 6, color=red> awful </font>"
      ],
      "text/plain": [
       "<utils.ColoredWeightedDoc at 0x7f81f11bc9b0>"
      ]
     },
     "metadata": {},
     "output_type": "display_data"
    },
    {
     "data": {
      "text/html": [
       "<b>Best Classifier<b>"
      ]
     },
     "metadata": {},
     "output_type": "display_data"
    },
    {
     "data": {
      "text/html": [
       "<font size = 1, color=blue> when </font><font size = 1, color=red> this </font><font size = 1, color=blue> show </font><font size = 1, color=blue> first </font><font size = 1, color=blue> came </font><font size = 1, color=red> to </font><font size = 1, color=blue> Disney, </font><font size = 1, color=gray> i </font><font size = 3, color=blue> love </font><font size = 1, color=blue> it </font><font size = 1, color=red> started </font><font size = 1, color=red> watching </font><font size = 1, color=blue> all </font><font size = 1, color=blue> the </font><font size = 1, color=blue> time. </font><font size = 1, color=blue> It </font><font size = 1, color=red> quickly </font><font size = 1, color=blue> became </font><font size = 1, color=blue> one </font><font size = 1, color=blue> of </font><font size = 1, color=blue> my </font><font size = 5, color=blue> favorite </font><font size = 1, color=blue> Disney </font><font size = 2, color=blue> shows </font><font size = 1, color=red> ever </font><font size = 1, color=red> but </font><font size = 1, color=red> this </font><font size = 1, color=blue> show </font><font size = 2, color=red> somehow </font><font size = 1, color=blue> transformed </font><font size = 1, color=red> into </font><font size = 1, color=red> something </font><font size = 1, color=red> that </font><font size = 1, color=blue> is </font><font size = 1, color=blue> disturbing </font><font size = 1, color=blue> and </font><font size = 4, color=red> disappointing.<br </font><font size = 1, color=red> /><br </font><font size = 1, color=gray> />I </font><font size = 1, color=red> do </font><font size = 1, color=blue> now </font><font size = 1, color=blue> find </font><font size = 2, color=red> any </font><font size = 1, color=blue> of </font><font size = 1, color=blue> the </font><font size = 1, color=red> second </font><font size = 1, color=blue> and </font><font size = 1, color=red> third </font><font size = 4, color=blue> season </font><font size = 2, color=blue> fun, </font><font size = 1, color=red> they </font><font size = 1, color=red> seem </font><font size = 1, color=red> like </font><font size = 1, color=gray> a </font><font size = 1, color=red> re-watch </font><font size = 1, color=blue> of </font><font size = 1, color=red> some </font><font size = 1, color=blue> teens </font><font size = 2, color=blue> shows. </font><font size = 1, color=gray> I </font><font size = 1, color=blue> hat </font><font size = 1, color=red> that </font><font size = 4, color=red> garbage. </font><font size = 1, color=blue> The </font><font size = 1, color=blue> first </font><font size = 4, color=blue> season </font><font size = 1, color=red> was </font><font size = 2, color=blue> very </font><font size = 3, color=blue> unique </font><font size = 1, color=red> because </font><font size = 1, color=blue> it </font><font size = 1, color=blue> showed </font><font size = 1, color=blue> Sadie </font><font size = 1, color=blue> who </font><font size = 5, color=blue> loved </font><font size = 1, color=red> science </font><font size = 1, color=blue> and </font><font size = 1, color=blue> animals </font><font size = 1, color=blue> and </font><font size = 1, color=red> creatures. </font><font size = 1, color=blue> The </font><font size = 1, color=blue> first </font><font size = 4, color=blue> season </font><font size = 1, color=red> was </font><font size = 2, color=blue> very </font><font size = 2, color=blue> entertaining. </font><font size = 1, color=gray> I </font><font size = 1, color=red> mostly </font><font size = 2, color=red> don't </font><font size = 1, color=red> like </font><font size = 1, color=blue> the </font><font size = 1, color=red> second </font><font size = 4, color=blue> season </font><font size = 1, color=red> because </font><font size = 1, color=blue> of </font><font size = 1, color=red> Ben. </font><font size = 1, color=blue> He </font><font size = 1, color=blue> annoys </font><font size = 1, color=blue> me </font><font size = 1, color=blue> and </font><font size = 1, color=blue> pisses </font><font size = 1, color=blue> the </font><font size = 5, color=red> crap </font><font size = 1, color=red> outta </font><font size = 1, color=blue> me. </font><font size = 1, color=blue> The </font><font size = 2, color=red> plot </font><font size = 1, color=blue> in </font><font size = 1, color=blue> the </font><font size = 1, color=red> second </font><font size = 4, color=blue> season </font><font size = 2, color=blue> also </font><font size = 4, color=red> sucks </font><font size = 1, color=blue> and </font><font size = 1, color=blue> is </font><font size = 1, color=red> just </font><font size = 6, color=red> awful </font>"
      ],
      "text/plain": [
       "<utils.ColoredWeightedDoc at 0x7f81f11bc9b0>"
      ]
     },
     "metadata": {},
     "output_type": "display_data"
    }
   ],
   "source": [
    "x = ctrl_clf.predict_proba(X_test) - best_clf.predict_proba(X_test)\n",
    "x = np.absolute(x[:,0])\n",
    "inds = np.argsort(x)\n",
    "i = inds[24998]\n",
    "\n",
    "display_html(\"<b>\"+'Probability Matrix'+\"<b>\", raw=True)\n",
    "print(ctrl_clf.predict_proba(X_test)[i]) \n",
    "print(best_clf.predict_proba(X_test)[i])\n",
    "display_html(\"<b>\"+'Control Classifier'+\"<b>\", raw=True)\n",
    "display(ColoredWeightedDoc(test_corpus[i], feature_names, ctrl_clf.get_weights()))\n",
    "display_html(\"<b>\"+'Best Classifier'+\"<b>\", raw=True)\n",
    "display(ColoredWeightedDoc(test_corpus[i], feature_names, best_clf.get_weights()))"
   ]
  },
  {
   "cell_type": "code",
   "execution_count": 40,
   "metadata": {
    "collapsed": false
   },
   "outputs": [
    {
     "data": {
      "text/html": [
       "<b>Control Classifier<b>"
      ]
     },
     "metadata": {},
     "output_type": "display_data"
    },
    {
     "name": "stdout",
     "output_type": "stream",
     "text": [
      "             precision    recall  f1-score   support\n",
      "\n",
      "          0       0.80      0.89      0.84     12500\n",
      "          1       0.87      0.78      0.82     12500\n",
      "\n",
      "avg / total       0.84      0.83      0.83     25000\n",
      "\n"
     ]
    },
    {
     "data": {
      "text/html": [
       "<b>Best Classifier<b>"
      ]
     },
     "metadata": {},
     "output_type": "display_data"
    },
    {
     "name": "stdout",
     "output_type": "stream",
     "text": [
      "             precision    recall  f1-score   support\n",
      "\n",
      "          0       0.86      0.86      0.86     12500\n",
      "          1       0.86      0.86      0.86     12500\n",
      "\n",
      "avg / total       0.86      0.86      0.86     25000\n",
      "\n"
     ]
    }
   ],
   "source": [
    "best_pred = best_clf.predict(X_test)\n",
    "ctrl_pred = ctrl_clf.predict(X_test)\n",
    "display_html(\"<b>\"+'Control Classifier'+\"<b>\", raw=True)\n",
    "print(classification_report(y_test, ctrl_pred))\n",
    "display_html(\"<b>\"+'Best Classifier'+\"<b>\", raw=True)\n",
    "print(classification_report(y_test, best_pred))"
   ]
  },
  {
   "cell_type": "code",
   "execution_count": 41,
   "metadata": {
    "collapsed": false
   },
   "outputs": [
    {
     "data": {
      "text/html": [
       "<b>Best Classifier<b>"
      ]
     },
     "metadata": {},
     "output_type": "display_data"
    },
    {
     "name": "stdout",
     "output_type": "stream",
     "text": [
      "Top Positive\n",
      "wonderful ([  1.19551702  22.79785009]) superb ([  0.5528176   13.12307293]) excellent ([  1.98645737  24.17245081]) loved ([  1.50528922  19.84020344]) amazing ([  1.34020596  16.55996559]) favorite ([  1.30860228  16.29255888]) highly ([  1.33801318  14.29483079]) touching ([ 0.36013222  7.25338475]) wonderfully ([ 0.06938739  5.40624068]) paulie ([ 0.          4.56918776])\n",
      "\n",
      "Top Negative\n",
      "worst ([ 35.17669943   0.26319784]) awful ([ 23.74516724   0.2617469 ]) waste ([ 26.0352034    0.38849002]) terrible ([ 21.94523807   0.75216723]) stupid ([ 20.8121898    1.22352904]) worse ([ 17.94208567   0.9841256 ]) wasted ([ 10.39383326   0.265692  ]) poorly ([ 12.4327081    0.49691481]) boring ([ 23.62444942   1.74455798]) crap ([ 15.21951839   0.95344576])\n"
     ]
    },
    {
     "data": {
      "text/html": [
       "<b>Control Classifier<b>"
      ]
     },
     "metadata": {},
     "output_type": "display_data"
    },
    {
     "name": "stdout",
     "output_type": "stream",
     "text": [
      "Top Positive\n",
      "paulie ([  0.0572581   11.62001835]) edie ([ 0.          9.50310828]) antwone ([ 0.          7.72889767]) matthau ([  0.78248313  13.0938614 ]) goldsworthy ([ 0.          6.79732636]) din ([ 0.          6.77401576]) victoria ([  1.0431436   13.36768916]) wonderfully ([  2.47759161  22.57390329]) felix ([ 0.48385479  9.01038775]) gundam ([ 0.19220119  7.0279382 ])\n",
      "\n",
      "Top Negative\n",
      "waste ([ 101.13224211    5.46404149]) worst ([ 145.77726278   10.81685456]) pointless ([ 34.66318443   2.24914225]) seagal ([ 13.48847522   0.32485711]) boll ([ 10.67268495   0.0988785 ]) unfunny ([ 21.58484167   1.14247772]) awful ([ 97.85823623   8.45586203]) mst3k ([ 15.01247428   0.64075814]) unwatchable ([ 10.95370109   0.24189979]) stinker ([ 10.64923928   0.23665215])\n"
     ]
    }
   ],
   "source": [
    "best_weights = best_clf.get_weights()\n",
    "ctrl_weights = ctrl_clf.get_weights()\n",
    "\n",
    "best_ws = np.argsort(best_weights)\n",
    "ctrl_ws  = np.argsort(ctrl_weights)\n",
    "#print(best_weights[ws[-1]], best_weights[ws[0]])\n",
    "\n",
    "\n",
    "display_html(\"<b>\"+'Best Classifier'+\"<b>\", raw=True)\n",
    "\n",
    "print(\"Top Positive\")\n",
    "print(\" \".join([\"{} ({})\".format(feature_names[i], best_clf.feature_count_[:,i])\n",
    "                for i in best_ws[-10:][::-1]]))\n",
    "\n",
    "print(\"\\nTop Negative\")\n",
    "print(\" \".join([\"{} ({})\".format(feature_names[i], best_clf.feature_count_[:,i])\n",
    "                for i in best_ws[:10]]))\n",
    "\n",
    "display_html(\"<b>\"+'Control Classifier'+\"<b>\", raw=True)\n",
    "\n",
    "print(\"Top Positive\")\n",
    "print(\" \".join([\"{} ({})\".format(feature_names[i], ctrl_clf.feature_count_[:,i])\n",
    "                for i in ctrl_ws[-10:][::-1]]))\n",
    "\n",
    "print(\"\\nTop Negative\")\n",
    "print(\" \".join([\"{} ({})\".format(feature_names[i], ctrl_clf.feature_count_[:,i])\n",
    "                for i in ctrl_ws[:10]]))"
   ]
  },
  {
   "cell_type": "code",
   "execution_count": null,
   "metadata": {
    "collapsed": true
   },
   "outputs": [],
   "source": []
  }
 ],
 "metadata": {
  "kernelspec": {
   "display_name": "Python 3",
   "language": "python",
   "name": "python3"
  },
  "language_info": {
   "codemirror_mode": {
    "name": "ipython",
    "version": 3
   },
   "file_extension": ".py",
   "mimetype": "text/x-python",
   "name": "python",
   "nbconvert_exporter": "python",
   "pygments_lexer": "ipython3",
   "version": "3.5.2"
  }
 },
 "nbformat": 4,
 "nbformat_minor": 0
}
