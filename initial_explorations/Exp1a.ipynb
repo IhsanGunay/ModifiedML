{
 "cells": [
  {
   "cell_type": "markdown",
   "metadata": {},
   "source": [
    "# Experiment 1a Results"
   ]
  },
  {
   "cell_type": "code",
   "execution_count": 1,
   "metadata": {
    "collapsed": true
   },
   "outputs": [],
   "source": [
    "from pickle import load\n",
    "from utils import ce_squared, load_imdb, ColoredWeightedDoc\n",
    "from IPython.display import display, display_html\n",
    "from sklearn.feature_extraction.text import CountVectorizer\n",
    "from sklearn.metrics import classification_report, confusion_matrix\n",
    "from time import time\n",
    "import numpy as np"
   ]
  },
  {
   "cell_type": "markdown",
   "metadata": {},
   "source": [
    "## Load Data"
   ]
  },
  {
   "cell_type": "code",
   "execution_count": 2,
   "metadata": {
    "collapsed": false
   },
   "outputs": [
    {
     "name": "stdout",
     "output_type": "stream",
     "text": [
      "Loading the imdb reviews data\n",
      "Data loaded.\n",
      "Extracting features from the training dataset using a sparse vectorizer\n",
      "Feature extraction technique is CountVectorizer(analyzer='word', binary=False, decode_error='strict',\n",
      "        dtype=<class 'numpy.int64'>, encoding='utf-8', input='content',\n",
      "        lowercase=True, max_df=1.0, max_features=None, min_df=5,\n",
      "        ngram_range=(1, 1), preprocessor=None, stop_words=None,\n",
      "        strip_accents=None, token_pattern='(?u)\\\\b\\\\w\\\\w+\\\\b',\n",
      "        tokenizer=None, vocabulary=None).\n",
      "done in 5.233042240142822s\n",
      "(25000, 27272)\n",
      "n_samples: 25000, n_features: 27272 \n",
      "\n",
      "Extracting features from the test dataset using the same vectorizer\n",
      "done in 5.056734800338745s\n",
      "n_samples: 25000, n_features: 27272 \n",
      "\n",
      "Loading took 11.91s.\n",
      "\n"
     ]
    }
   ],
   "source": [
    "t0 = time()\n",
    "\n",
    "vect = CountVectorizer(min_df=5, max_df=1.0, binary=False, ngram_range=(1, 1))\n",
    "\n",
    "X_train, y_train, X_test, y_test, train_corpus, test_corpus = load_imdb(\"./aclImdb\", shuffle=True, vectorizer=vect)\n",
    "\n",
    "feature_names = vect.get_feature_names()\n",
    "y_test_na = y_test[:, np.newaxis]\n",
    "y_test_na = np.append(y_test_na, 1-y_test_na, axis=1)\n",
    "y_modified = np.copy(y_train)\n",
    "\n",
    "\n",
    "duration = time() - t0\n",
    "\n",
    "print(\"Loading took {:0.2f}s.\\n\".format(duration))"
   ]
  },
  {
   "cell_type": "code",
   "execution_count": 3,
   "metadata": {
    "collapsed": true
   },
   "outputs": [],
   "source": [
    "with open('clf.arch', 'rb') as f:\n",
    "    clf_arch = load(f)"
   ]
  },
  {
   "cell_type": "code",
   "execution_count": 4,
   "metadata": {
    "collapsed": false
   },
   "outputs": [
    {
     "name": "stdout",
     "output_type": "stream",
     "text": [
      "<class 'classifiers.TransparentMultinomialNB'> \n",
      "\n",
      "[1, 2, 3, 4, 5, 6, 7, 8, 9, 10, 11] \n",
      "\n",
      "CountVectorizer(analyzer='word', binary=False, decode_error='strict',\n",
      "        dtype=<class 'numpy.int64'>, encoding='utf-8', input='content',\n",
      "        lowercase=True, max_df=1.0, max_features=None, min_df=5,\n",
      "        ngram_range=(1, 1), preprocessor=None, stop_words=None,\n",
      "        strip_accents=None, token_pattern='(?u)\\\\b\\\\w\\\\w+\\\\b',\n",
      "        tokenizer=None, vocabulary=None)\n"
     ]
    }
   ],
   "source": [
    "clf_arch.stats()"
   ]
  },
  {
   "cell_type": "code",
   "execution_count": 5,
   "metadata": {
    "collapsed": false
   },
   "outputs": [],
   "source": [
    "# Loading the last classifier in the archive\n",
    "ctrl_clf = clf_arch.ctrl_clf\n",
    "best_clf = clf_arch.classifiers[-1]\n",
    "train_indices_set = set(clf_arch.train_indices[-1])\n",
    "train_indices = clf_arch.train_indices[-1]\n",
    "y_modified = np.copy(clf_arch.modified_labels[-1])\n",
    "round_tag = clf_arch.round_tags[-1] + 1 "
   ]
  },
  {
   "cell_type": "markdown",
   "metadata": {},
   "source": [
    "## Visualizations"
   ]
  },
  {
   "cell_type": "code",
   "execution_count": 6,
   "metadata": {
    "collapsed": false,
    "scrolled": true
   },
   "outputs": [
    {
     "name": "stdout",
     "output_type": "stream",
     "text": [
      "Number of samples used : 992\n",
      "Number of labels modified: 157\n"
     ]
    }
   ],
   "source": [
    "print('Number of samples used :', len(train_indices))\n",
    "changed_labels = np.array(list(filter(lambda x: x[0]!=x[1], zip(y_modified[train_indices], y_train[train_indices]))))\n",
    "print('Number of labels modified:', len(changed_labels))"
   ]
  },
  {
   "cell_type": "code",
   "execution_count": 7,
   "metadata": {
    "collapsed": false,
    "scrolled": true
   },
   "outputs": [
    {
     "name": "stdout",
     "output_type": "stream",
     "text": [
      "1 to 0 : 110\n",
      "0 to 1 : 47\n"
     ]
    }
   ],
   "source": [
    "changes = changed_labels[:,0] - changed_labels[:,1]\n",
    "print('1 to 0 :', len(list(filter(lambda x: x<0, changes))))\n",
    "print('0 to 1 :', len(list(filter(lambda x: x>0, changes))))"
   ]
  },
  {
   "cell_type": "code",
   "execution_count": 8,
   "metadata": {
    "collapsed": false
   },
   "outputs": [
    {
     "data": {
      "text/html": [
       "<b>Control Classifier<b>"
      ]
     },
     "metadata": {},
     "output_type": "display_data"
    },
    {
     "name": "stdout",
     "output_type": "stream",
     "text": [
      "             precision    recall  f1-score   support\n",
      "\n",
      "          0       0.78      0.88      0.83     12500\n",
      "          1       0.86      0.75      0.80     12500\n",
      "\n",
      "avg / total       0.82      0.82      0.82     25000\n",
      "\n"
     ]
    },
    {
     "data": {
      "text/html": [
       "<b>Best Classifier<b>"
      ]
     },
     "metadata": {},
     "output_type": "display_data"
    },
    {
     "name": "stdout",
     "output_type": "stream",
     "text": [
      "             precision    recall  f1-score   support\n",
      "\n",
      "          0       0.91      0.90      0.91     12500\n",
      "          1       0.90      0.91      0.91     12500\n",
      "\n",
      "avg / total       0.91      0.91      0.91     25000\n",
      "\n"
     ]
    }
   ],
   "source": [
    "best_pred = best_clf.predict(X_test)\n",
    "ctrl_pred = ctrl_clf.predict(X_test)\n",
    "display_html(\"<b>\"+'Control Classifier'+\"<b>\", raw=True)\n",
    "print(classification_report(y_test, ctrl_pred))\n",
    "display_html(\"<b>\"+'Best Classifier'+\"<b>\", raw=True)\n",
    "print(classification_report(y_test, best_pred))"
   ]
  },
  {
   "cell_type": "code",
   "execution_count": 9,
   "metadata": {
    "collapsed": false
   },
   "outputs": [
    {
     "data": {
      "text/html": [
       "<b>Control Classifier<b>"
      ]
     },
     "metadata": {},
     "output_type": "display_data"
    },
    {
     "name": "stdout",
     "output_type": "stream",
     "text": [
      "Top Positive\n",
      "edie ([   0.  109.]) antwone ([  0.  88.]) din ([  0.  82.]) gunga ([  0.  66.]) goldsworthy ([  0.  65.]) gypo ([  0.  60.]) yokai ([  0.  60.]) paulie ([   1.  118.]) flavia ([  0.  51.]) visconti ([  0.  51.])\n",
      "\n",
      "Top Negative\n",
      "boll ([ 143.    1.]) uwe ([ 101.    1.]) slater ([ 49.   0.]) tashan ([ 45.   0.]) hobgoblins ([ 45.   0.]) kareena ([ 41.   0.]) kornbluth ([ 39.   0.]) sarne ([ 37.   0.]) gram ([ 37.   0.]) delia ([ 36.   0.])\n"
     ]
    },
    {
     "data": {
      "text/html": [
       "<b>Best Classifier<b>"
      ]
     },
     "metadata": {},
     "output_type": "display_data"
    },
    {
     "name": "stdout",
     "output_type": "stream",
     "text": [
      "Top Positive\n",
      "excellent ([  1.  61.]) enjoyed ([  1.  24.]) zorro ([  0.  10.]) perfectly ([ 0.  9.]) fantastic ([  1.  18.]) brilliant ([  2.  27.]) funniest ([ 0.  8.]) wonderfully ([ 0.  8.]) dirty ([ 0.  8.]) superb ([  1.  16.])\n",
      "\n",
      "Top Negative\n",
      "worst ([ 67.   0.]) waste ([ 51.   0.]) boring ([ 45.   0.]) awful ([ 39.   0.]) poor ([ 32.   0.]) terrible ([ 31.   0.]) laughable ([ 18.   0.]) poorly ([ 18.   0.]) lame ([ 18.   0.]) dull ([ 17.   0.])\n"
     ]
    }
   ],
   "source": [
    "best_weights = best_clf.get_weights()\n",
    "ctrl_weights = ctrl_clf.get_weights()\n",
    "\n",
    "best_ws = np.argsort(best_weights)\n",
    "ctrl_ws  = np.argsort(ctrl_weights)\n",
    "\n",
    "display_html(\"<b>\"+'Control Classifier'+\"<b>\", raw=True)\n",
    "\n",
    "print(\"Top Positive\")\n",
    "print(\" \".join([\"{} ({})\".format(feature_names[i], ctrl_clf.feature_count_[:,i])\n",
    "                for i in ctrl_ws[-10:][::-1]]))\n",
    "\n",
    "print(\"\\nTop Negative\")\n",
    "print(\" \".join([\"{} ({})\".format(feature_names[i], ctrl_clf.feature_count_[:,i])\n",
    "                for i in ctrl_ws[:10]]))\n",
    "\n",
    "display_html(\"<b>\"+'Best Classifier'+\"<b>\", raw=True)\n",
    "\n",
    "print(\"Top Positive\")\n",
    "print(\" \".join([\"{} ({})\".format(feature_names[i], best_clf.feature_count_[:,i])\n",
    "                for i in best_ws[-10:][::-1]]))\n",
    "\n",
    "print(\"\\nTop Negative\")\n",
    "print(\" \".join([\"{} ({})\".format(feature_names[i], best_clf.feature_count_[:,i])\n",
    "                for i in best_ws[:10]]))"
   ]
  },
  {
   "cell_type": "code",
   "execution_count": 10,
   "metadata": {
    "collapsed": false,
    "scrolled": false
   },
   "outputs": [
    {
     "data": {
      "text/html": [
       "<b>Probability Matrix<b>"
      ]
     },
     "metadata": {},
     "output_type": "display_data"
    },
    {
     "name": "stdout",
     "output_type": "stream",
     "text": [
      "[  1.00000000e+00   8.51267504e-19]\n",
      "[  2.25060178e-23   1.00000000e+00]\n"
     ]
    },
    {
     "data": {
      "text/html": [
       "<b>Control Classifier<b>"
      ]
     },
     "metadata": {},
     "output_type": "display_data"
    },
    {
     "data": {
      "text/html": [
       "<font size = 1, color=blue> First, </font><font size = 1, color=red> let </font><font size = 1, color=red> me </font><font size = 1, color=red> review </font><font size = 1, color=blue> the </font><font size = 1, color=red> movie. </font><font size = 1, color=red> This </font><font size = 1, color=red> movie </font><font size = 1, color=red> creeps </font><font size = 1, color=red> me </font><font size = 1, color=red> out, </font><font size = 1, color=blue> and </font><font size = 1, color=gray> I </font><font size = 1, color=red> don't </font><font size = 1, color=red> even </font><font size = 1, color=red> believe </font><font size = 1, color=blue> in </font><font size = 2, color=red> aliens! </font><font size = 1, color=blue> However, </font><font size = 1, color=blue> the </font><font size = 1, color=red> movie </font><font size = 1, color=blue> has </font><font size = 1, color=blue> its </font><font size = 1, color=blue> flaws.<br </font><font size = 1, color=red> /><br </font><font size = 1, color=red> />There </font><font size = 1, color=red> are </font><font size = 1, color=blue> three </font><font size = 1, color=red> acts </font><font size = 1, color=red> to </font><font size = 1, color=red> this </font><font size = 1, color=red> movie. </font><font size = 1, color=red> Act </font><font size = 1, color=blue> One </font><font size = 1, color=blue> is </font><font size = 2, color=blue> perfect. </font><font size = 1, color=red> It </font><font size = 1, color=blue> sets </font><font size = 1, color=red> up </font><font size = 1, color=blue> the </font><font size = 1, color=red> movie, </font><font size = 1, color=blue> and </font><font size = 1, color=red> really </font><font size = 2, color=blue> builds </font><font size = 1, color=red> up </font><font size = 1, color=blue> the </font><font size = 1, color=red> creep </font><font size = 1, color=red> factor. </font><font size = 1, color=gray> I </font><font size = 1, color=blue> must </font><font size = 1, color=red> say </font><font size = 1, color=blue> the </font><font size = 1, color=blue> score </font><font size = 1, color=blue> is </font><font size = 2, color=blue> great! </font><font size = 1, color=red> Everything </font><font size = 1, color=blue> is </font><font size = 1, color=blue> set </font><font size = 1, color=red> up </font><font size = 1, color=blue> and </font><font size = 1, color=red> it's </font><font size = 1, color=blue> set </font><font size = 1, color=red> up </font><font size = 2, color=blue> perfectly.<br </font><font size = 1, color=red> /><br </font><font size = 1, color=red> />Act </font><font size = 1, color=blue> Two </font><font size = 1, color=blue> begins </font><font size = 1, color=blue> when </font><font size = 1, color=gray> Jillian, </font><font size = 1, color=blue> playing </font><font size = 3, color=blue> Sherry </font><font size = 1, color=red> Burton, </font><font size = 1, color=red> goes </font><font size = 1, color=red> to </font><font size = 1, color=blue> the </font><font size = 1, color=blue> shrink. </font><font size = 1, color=red> They </font><font size = 1, color=gray> hypnotize </font><font size = 1, color=blue> her, </font><font size = 1, color=blue> and </font><font size = 1, color=blue> she </font><font size = 2, color=blue> recalls </font><font size = 1, color=blue> the </font><font size = 1, color=blue> abduction. </font><font size = 1, color=red> Act </font><font size = 1, color=blue> Two </font><font size = 1, color=red> ruins </font><font size = 1, color=blue> the </font><font size = 1, color=blue> film </font><font size = 1, color=blue> when </font><font size = 1, color=blue> the </font><font size = 2, color=red> aliens </font><font size = 1, color=blue> show </font><font size = 1, color=red> up. </font><font size = 2, color=red> \"Screaming </font><font size = 1, color=red> Mad </font><font size = 1, color=blue> George\" </font><font size = 1, color=red> did </font><font size = 1, color=blue> the </font><font size = 1, color=red> effects </font><font size = 1, color=red> for </font><font size = 1, color=blue> the </font><font size = 2, color=red> aliens. </font><font size = 1, color=gray> I </font><font size = 1, color=blue> must </font><font size = 1, color=red> say </font><font size = 1, color=red> they </font><font size = 1, color=red> did </font><font size = 1, color=gray> a </font><font size = 1, color=blue> good </font><font size = 1, color=blue> job, </font><font size = 1, color=red> except </font><font size = 1, color=blue> with </font><font size = 1, color=blue> their </font><font size = 2, color=blue> depiction </font><font size = 1, color=blue> of </font><font size = 1, color=blue> the </font><font size = 2, color=red> \"Gray\" </font><font size = 2, color=red> aliens. </font><font size = 1, color=red> No </font><font size = 2, color=red> offense, </font><font size = 1, color=red> but </font><font size = 1, color=blue> the </font><font size = 1, color=gray> Grays </font><font size = 2, color=red> looked </font><font size = 1, color=red> like </font><font size = 1, color=gray> inflatable </font><font size = 1, color=red> door </font><font size = 1, color=blue> prizes.<br </font><font size = 1, color=red> /><br </font><font size = 1, color=red> />On </font><font size = 1, color=gray> a </font><font size = 1, color=blue> side </font><font size = 1, color=blue> note, </font><font size = 1, color=gray> I </font><font size = 1, color=blue> liked </font><font size = 1, color=red> how </font><font size = 1, color=red> they </font><font size = 1, color=red> treated </font><font size = 1, color=red> hypnosis </font><font size = 1, color=blue> in </font><font size = 1, color=red> Acts </font><font size = 1, color=blue> One </font><font size = 1, color=blue> and </font><font size = 1, color=blue> Two. </font><font size = 1, color=red> If </font><font size = 1, color=red> you </font><font size = 2, color=red> paid </font><font size = 1, color=blue> attention, </font><font size = 1, color=red> you </font><font size = 1, color=red> would </font><font size = 1, color=red> notice </font><font size = 1, color=red> that </font><font size = 1, color=blue> the </font><font size = 1, color=blue> husband </font><font size = 1, color=blue> and </font><font size = 1, color=blue> wife </font><font size = 1, color=red> had </font><font size = 1, color=blue> two </font><font size = 1, color=blue> different </font><font size = 2, color=blue> memories. </font><font size = 1, color=blue> In </font><font size = 1, color=blue> the </font><font size = 1, color=blue> husband's </font><font size = 1, color=blue> version </font><font size = 1, color=blue> of </font><font size = 1, color=blue> events, </font><font size = 1, color=blue> the </font><font size = 1, color=red> blue </font><font size = 1, color=blue> light </font><font size = 1, color=gray> zaps </font><font size = 1, color=red> them </font><font size = 1, color=blue> and </font><font size = 1, color=blue> his </font><font size = 1, color=blue> wife </font><font size = 1, color=red> says, </font><font size = 2, color=red> \"Somebody's </font><font size = 1, color=red> here,\" </font><font size = 1, color=red> or </font><font size = 1, color=red> something </font><font size = 1, color=red> like </font><font size = 1, color=red> it. </font><font size = 1, color=red> It </font><font size = 1, color=blue> makes </font><font size = 1, color=red> sense. </font><font size = 1, color=blue> The </font><font size = 1, color=blue> husband </font><font size = 1, color=blue> is </font><font size = 1, color=red> concerned </font><font size = 1, color=red> for </font><font size = 1, color=blue> his </font><font size = 1, color=blue> wife. </font><font size = 1, color=red> \"Someone\" </font><font size = 1, color=blue> may </font><font size = 1, color=red> hurt </font><font size = 1, color=blue> her. </font><font size = 1, color=red> That's </font><font size = 1, color=blue> his </font><font size = 1, color=blue> issue. </font><font size = 1, color=blue> However </font><font size = 1, color=blue> in </font><font size = 1, color=blue> her </font><font size = 1, color=blue> version </font><font size = 1, color=blue> of </font><font size = 1, color=blue> events, </font><font size = 1, color=blue> she </font><font size = 1, color=red> says, </font><font size = 1, color=blue> \"Help </font><font size = 1, color=red> me!\" </font><font size = 1, color=blue> She </font><font size = 1, color=blue> does </font><font size = 1, color=red> not </font><font size = 1, color=red> say </font><font size = 2, color=red> \"Somebody's </font><font size = 1, color=red> here.\" </font><font size = 1, color=red> This </font><font size = 1, color=blue> also </font><font size = 1, color=blue> makes </font><font size = 1, color=red> sense. </font><font size = 1, color=blue> The </font><font size = 2, color=red> aliens </font><font size = 1, color=red> are </font><font size = 1, color=red> after </font><font size = 1, color=blue> her. </font><font size = 1, color=blue> Wanting </font><font size = 1, color=blue> her </font><font size = 1, color=blue> husband </font><font size = 1, color=red> to </font><font size = 1, color=blue> help </font><font size = 1, color=blue> and </font><font size = 2, color=red> save </font><font size = 1, color=blue> her </font><font size = 1, color=blue> is </font><font size = 1, color=blue> her </font><font size = 1, color=blue> issue. </font><font size = 1, color=blue> Now </font><font size = 1, color=blue> back </font><font size = 1, color=red> to </font><font size = 1, color=blue> the </font><font size = 1, color=blue> film.<br </font><font size = 1, color=red> /><br </font><font size = 1, color=red> />Act </font><font size = 1, color=blue> Three </font><font size = 1, color=blue> turns </font><font size = 1, color=blue> the </font><font size = 1, color=blue> film </font><font size = 1, color=red> into </font><font size = 1, color=gray> a </font><font size = 2, color=red> gore </font><font size = 3, color=red> fest. </font><font size = 1, color=red> It </font><font size = 1, color=blue> begins </font><font size = 1, color=blue> with </font><font size = 1, color=gray> a </font><font size = 1, color=blue> \"strange\" </font><font size = 1, color=gray> ultrasound </font><font size = 1, color=red> procedure. </font><font size = 1, color=red> It's </font><font size = 1, color=gray> a </font><font size = 1, color=blue> typical </font><font size = 2, color=red> gore </font><font size = 3, color=red> fest, </font><font size = 1, color=red> but </font><font size = 1, color=red> it </font><font size = 1, color=blue> does </font><font size = 1, color=red> have </font><font size = 1, color=gray> a </font><font size = 1, color=blue> surprise </font><font size = 1, color=red> ending. </font><font size = 1, color=gray> I </font><font size = 1, color=blue> won't </font><font size = 1, color=red> ruin </font><font size = 1, color=red> it </font><font size = 1, color=red> because </font><font size = 1, color=red> it's </font><font size = 1, color=red> actually </font><font size = 1, color=blue> an </font><font size = 1, color=red> interesting </font><font size = 1, color=red> development. </font><font size = 1, color=red> <br </font><font size = 1, color=red> /><br </font><font size = 1, color=blue> />The </font><font size = 1, color=blue> DVD </font><font size = 1, color=blue> and </font><font size = 2, color=blue> commentaries </font><font size = 1, color=blue> takes </font><font size = 1, color=red> itself </font><font size = 1, color=red> too </font><font size = 2, color=red> seriously, </font><font size = 1, color=red> but </font><font size = 1, color=red> if </font><font size = 1, color=red> you </font><font size = 1, color=red> think </font><font size = 2, color=blue> Wilford </font><font size = 2, color=blue> Brimley </font><font size = 2, color=red> saying </font><font size = 1, color=gray> \"Horsesh**\" </font><font size = 1, color=blue> is </font><font size = 1, color=red> funny, </font><font size = 1, color=red> you </font><font size = 1, color=red> might </font><font size = 1, color=red> want </font><font size = 1, color=red> to </font><font size = 1, color=red> check </font><font size = 1, color=red> it </font><font size = 1, color=red> out </font><font size = 1, color=blue> in </font><font size = 1, color=blue> the </font><font size = 1, color=blue> cast </font><font size = 1, color=red> interviews </font><font size = 1, color=blue> section. </font><font size = 1, color=blue> Now </font><font size = 1, color=red> on </font><font size = 1, color=red> to </font><font size = 1, color=blue> my </font><font size = 1, color=blue> praise </font><font size = 1, color=blue> of </font><font size = 1, color=gray> Jillian </font><font size = 1, color=gray> McWhirter.<br </font><font size = 1, color=red> /><br </font><font size = 1, color=gray> />I </font><font size = 1, color=red> could </font><font size = 1, color=red> only </font><font size = 1, color=blue> hope </font><font size = 1, color=gray> Jillian </font><font size = 1, color=blue> will </font><font size = 1, color=red> read </font><font size = 1, color=red> this. </font><font size = 1, color=gray> I </font><font size = 1, color=red> had </font><font size = 1, color=red> never </font><font size = 1, color=blue> seen </font><font size = 1, color=blue> her </font><font size = 1, color=red> before, </font><font size = 1, color=red> but </font><font size = 1, color=red> wow, </font><font size = 1, color=red> what </font><font size = 1, color=gray> a </font><font size = 1, color=blue> performance! </font><font size = 1, color=red> Let </font><font size = 1, color=red> me </font><font size = 1, color=red> tell </font><font size = 1, color=blue> the </font><font size = 1, color=red> rest </font><font size = 1, color=blue> of </font><font size = 1, color=red> you </font><font size = 1, color=red> this. </font><font size = 1, color=blue> First </font><font size = 1, color=blue> of </font><font size = 1, color=red> all, </font><font size = 1, color=red> this </font><font size = 1, color=blue> is </font><font size = 2, color=red> supposed </font><font size = 1, color=red> to </font><font size = 1, color=red> be </font><font size = 1, color=gray> a </font><font size = 1, color=red> serious </font><font size = 1, color=blue> film. </font><font size = 1, color=blue> The </font><font size = 1, color=blue> details </font><font size = 1, color=gray> I </font><font size = 1, color=blue> will </font><font size = 1, color=blue> now </font><font size = 1, color=red> describe </font><font size = 1, color=blue> may </font><font size = 1, color=red> sound </font><font size = 1, color=red> campy </font><font size = 1, color=blue> and </font><font size = 1, color=blue> fun, </font><font size = 1, color=red> like </font><font size = 1, color=gray> \"Humanoids </font><font size = 1, color=blue> From </font><font size = 1, color=blue> The </font><font size = 1, color=blue> Deep\" </font><font size = 1, color=blue> (1980), </font><font size = 1, color=red> but </font><font size = 1, color=red> it </font><font size = 1, color=red> really </font><font size = 1, color=red> isn't. </font><font size = 1, color=red> Got </font><font size = 1, color=red> that? </font><font size = 2, color=red> Okay.<br </font><font size = 1, color=red> /><br </font><font size = 1, color=gray> />Jillian </font><font size = 1, color=blue> is </font><font size = 1, color=red> hot, </font><font size = 1, color=red> naturally </font><font size = 1, color=blue> good-looking. </font><font size = 1, color=blue> She </font><font size = 1, color=blue> is </font><font size = 1, color=red> naked </font><font size = 1, color=red> for </font><font size = 1, color=gray> a </font><font size = 1, color=blue> lot </font><font size = 1, color=blue> of </font><font size = 1, color=blue> the </font><font size = 1, color=blue> film, </font><font size = 1, color=gray> a </font><font size = 1, color=blue> good </font><font size = 1, color=red> thing. </font><font size = 2, color=red> Unfortunately, </font><font size = 1, color=blue> she </font><font size = 1, color=blue> is </font><font size = 1, color=red> usually </font><font size = 1, color=red> being </font><font size = 1, color=red> assaulted, </font><font size = 1, color=red> terrorized, </font><font size = 1, color=blue> and </font><font size = 2, color=red> raped, </font><font size = 1, color=gray> a </font><font size = 1, color=blue> very </font><font size = 3, color=red> bad </font><font size = 1, color=red> thing. </font><font size = 1, color=blue> However, </font><font size = 1, color=blue> she </font><font size = 1, color=blue> must </font><font size = 1, color=red> act </font><font size = 1, color=blue> in </font><font size = 1, color=gray> a </font><font size = 1, color=blue> lot </font><font size = 1, color=blue> of </font><font size = 1, color=red> this </font><font size = 1, color=blue> film </font><font size = 1, color=red> naked. </font><font size = 1, color=blue> She </font><font size = 1, color=red> gets </font><font size = 1, color=red> points </font><font size = 1, color=red> for </font><font size = 2, color=blue> overcoming </font><font size = 1, color=red> that. </font><font size = 1, color=blue> She </font><font size = 1, color=blue> has </font><font size = 1, color=red> to </font><font size = 1, color=red> act </font><font size = 1, color=blue> happy, </font><font size = 1, color=red> sad, </font><font size = 3, color=red> horny, </font><font size = 1, color=red> afraid, </font><font size = 1, color=blue> and </font><font size = 1, color=blue> physically </font><font size = 1, color=red> hurt </font><font size = 1, color=red> all </font><font size = 1, color=blue> in </font><font size = 1, color=blue> the </font><font size = 1, color=red> span </font><font size = 1, color=blue> of </font><font size = 1, color=gray> a </font><font size = 1, color=red> few </font><font size = 1, color=blue> moments. </font><font size = 1, color=blue> The </font><font size = 1, color=gray> turnaround </font><font size = 1, color=blue> of </font><font size = 1, color=blue> emotion </font><font size = 1, color=blue> is </font><font size = 2, color=blue> astounding! </font><font size = 1, color=blue> She </font><font size = 1, color=blue> has </font><font size = 1, color=red> to </font><font size = 1, color=blue> cheer </font><font size = 1, color=red> for </font><font size = 2, color=blue> joy </font><font size = 1, color=blue> when </font><font size = 1, color=blue> she </font><font size = 2, color=blue> learns </font><font size = 1, color=blue> she's </font><font size = 1, color=red> pregnant. </font><font size = 1, color=blue> She </font><font size = 1, color=blue> has </font><font size = 1, color=red> to </font><font size = 1, color=red> scream </font><font size = 1, color=blue> in </font><font size = 1, color=blue> terror </font><font size = 1, color=blue> when </font><font size = 1, color=blue> the </font><font size = 2, color=red> aliens </font><font size = 1, color=red> take </font><font size = 1, color=red> out </font><font size = 1, color=blue> her </font><font size = 1, color=red> guts. </font><font size = 1, color=blue> She </font><font size = 1, color=blue> has </font><font size = 1, color=red> to </font><font size = 1, color=red> act </font><font size = 1, color=blue> very </font><font size = 1, color=red> angry </font><font size = 1, color=blue> when </font><font size = 1, color=blue> her </font><font size = 1, color=blue> husband </font><font size = 1, color=blue> suggests </font><font size = 1, color=red> that </font><font size = 1, color=blue> the </font><font size = 1, color=red> baby </font><font size = 1, color=red> isn't </font><font size = 1, color=blue> his. </font><font size = 1, color=blue> She </font><font size = 1, color=blue> has </font><font size = 1, color=red> to </font><font size = 1, color=red> act </font><font size = 1, color=red> like </font><font size = 1, color=blue> she's </font><font size = 1, color=blue> in </font><font size = 1, color=blue> denial, </font><font size = 2, color=red> saying </font><font size = 2, color=red> nothing </font><font size = 1, color=blue> is </font><font size = 1, color=red> wrong </font><font size = 1, color=blue> with </font><font size = 1, color=blue> her </font><font size = 1, color=red> baby, </font><font size = 1, color=blue> when </font><font size = 1, color=blue> her </font><font size = 1, color=blue> husband </font><font size = 1, color=red> says </font><font size = 1, color=red> otherwise. </font><font size = 1, color=gray> A </font><font size = 1, color=blue> denial, </font><font size = 1, color=gray> I </font><font size = 1, color=red> should </font><font size = 1, color=blue> note, </font><font size = 1, color=red> that </font><font size = 1, color=blue> is </font><font size = 1, color=red> really </font><font size = 1, color=red> forced </font><font size = 1, color=blue> upon </font><font size = 1, color=blue> her </font><font size = 1, color=blue> by </font><font size = 1, color=blue> the </font><font size = 2, color=red> aliens </font><font size = 2, color=blue> controlling </font><font size = 1, color=blue> her. </font><font size = 1, color=gray> I </font><font size = 1, color=red> am </font><font size = 1, color=red> talking </font><font size = 2, color=blue> Oscar-caliber </font><font size = 1, color=blue> performance </font><font size = 1, color=red> here!<br </font><font size = 1, color=red> /><br </font><font size = 1, color=red> />Then </font><font size = 1, color=red> there </font><font size = 1, color=blue> is </font><font size = 1, color=blue> the </font><font size = 1, color=red> rape </font><font size = 1, color=red> scene. </font><font size = 1, color=red> It's </font><font size = 1, color=blue> disturbing, </font><font size = 1, color=red> but </font><font size = 1, color=blue> since </font><font size = 1, color=red> it's </font><font size = 1, color=red> just </font><font size = 1, color=red> some </font><font size = 3, color=red> rubber </font><font size = 2, color=red> alien, </font><font size = 1, color=red> it's </font><font size = 1, color=red> not </font><font size = 1, color=red> too </font><font size = 3, color=red> bad. </font><font size = 1, color=blue> In </font><font size = 1, color=red> this </font><font size = 1, color=red> scene, </font><font size = 1, color=blue> the </font><font size = 2, color=red> alien </font><font size = 1, color=blue> is </font><font size = 1, color=red> not </font><font size = 1, color=gray> a </font><font size = 2, color=red> \"Gray\" </font><font size = 2, color=red> alien, </font><font size = 1, color=red> so </font><font size = 1, color=gray> I </font><font size = 1, color=blue> will </font><font size = 1, color=red> describe </font><font size = 1, color=red> it. </font><font size = 1, color=blue> The </font><font size = 2, color=red> alien </font><font size = 1, color=blue> has </font><font size = 1, color=red> tentacles, </font><font size = 1, color=blue> and </font><font size = 1, color=red> it's </font><font size = 1, color=red> kind </font><font size = 1, color=blue> of </font><font size = 1, color=red> like </font><font size = 1, color=gray> a </font><font size = 1, color=blue> table. </font><font size = 1, color=gray> Jillian </font><font size = 1, color=blue> is </font><font size = 1, color=red> on </font><font size = 1, color=blue> the </font><font size = 1, color=blue> table-like </font><font size = 1, color=blue> part, </font><font size = 3, color=blue> restrained </font><font size = 1, color=blue> by </font><font size = 1, color=blue> the </font><font size = 1, color=red> tentacles. </font><font size = 1, color=blue> By </font><font size = 1, color=blue> her </font><font size = 1, color=red> head </font><font size = 1, color=blue> is </font><font size = 1, color=blue> the </font><font size = 2, color=red> alien's </font><font size = 1, color=red> head. </font><font size = 1, color=blue> The </font><font size = 2, color=red> alien's </font><font size = 1, color=red> head </font><font size = 1, color=blue> is </font><font size = 1, color=red> long, </font><font size = 1, color=blue> and </font><font size = 1, color=red> it </font><font size = 2, color=red> flips </font><font size = 1, color=red> down </font><font size = 1, color=red> so </font><font size = 1, color=red> that </font><font size = 1, color=blue> its </font><font size = 1, color=red> head </font><font size = 1, color=blue> is </font><font size = 1, color=blue> now </font><font size = 1, color=blue> above </font><font size = 1, color=gray> Jillian's </font><font size = 1, color=red> legs. </font><font size = 1, color=red> Then, </font><font size = 1, color=blue> the </font><font size = 2, color=red> alien's </font><font size = 1, color=red> hey-nanu-nanu </font><font size = 1, color=blue> comes </font><font size = 1, color=red> out </font><font size = 1, color=blue> of </font><font size = 1, color=blue> his </font><font size = 3, color=red> forehead. </font><font size = 1, color=red> It's </font><font size = 3, color=red> forehead! </font><font size = 1, color=red> Sounds </font><font size = 1, color=red> pretty </font><font size = 1, color=red> campy, </font><font size = 1, color=blue> right? </font><font size = 1, color=blue> Well, </font><font size = 1, color=gray> Jillian </font><font size = 1, color=blue> plays </font><font size = 1, color=red> it </font><font size = 1, color=red> straight, </font><font size = 1, color=blue> and </font><font size = 1, color=blue> she </font><font size = 1, color=blue> pulls </font><font size = 1, color=red> it </font><font size = 1, color=red> off! </font><font size = 1, color=blue> She </font><font size = 1, color=blue> has </font><font size = 1, color=red> to </font><font size = 1, color=red> act </font><font size = 1, color=red> like </font><font size = 1, color=blue> an </font><font size = 2, color=red> alien </font><font size = 1, color=blue> with </font><font size = 1, color=blue> its </font><font size = 1, color=red> hey-nanu-nanu </font><font size = 1, color=blue> coming </font><font size = 1, color=blue> from </font><font size = 1, color=blue> its </font><font size = 3, color=red> forehead </font><font size = 1, color=blue> is </font><font size = 2, color=red> raping </font><font size = 1, color=blue> her, </font><font size = 1, color=blue> and </font><font size = 1, color=blue> she </font><font size = 1, color=blue> pulls </font><font size = 1, color=red> it </font><font size = 1, color=red> off! </font><font size = 1, color=red> It's </font><font size = 1, color=gray> a </font><font size = 1, color=blue> very </font><font size = 2, color=blue> intense </font><font size = 1, color=red> scene, </font><font size = 1, color=red> but </font><font size = 1, color=red> that's </font><font size = 1, color=red> not </font><font size = 1, color=red> what </font><font size = 1, color=blue> makes </font><font size = 1, color=red> it. </font><font size = 1, color=red> You </font><font size = 1, color=blue> see, </font><font size = 1, color=red> this </font><font size = 1, color=red> scene </font><font size = 1, color=blue> is </font><font size = 1, color=blue> done </font><font size = 1, color=blue> in </font><font size = 1, color=gray> a </font><font size = 1, color=red> flashback. </font><font size = 1, color=red> What </font><font size = 1, color=blue> makes </font><font size = 1, color=blue> the </font><font size = 1, color=red> scene </font><font size = 1, color=blue> is </font><font size = 1, color=gray> Jillian's </font><font size = 1, color=blue> performance </font><font size = 2, color=red> recalling </font><font size = 1, color=red> these </font><font size = 1, color=blue> events. </font><font size = 1, color=blue> She </font><font size = 1, color=blue> is </font><font size = 1, color=red> just </font><font size = 1, color=red> lying </font><font size = 1, color=blue> in </font><font size = 1, color=gray> a </font><font size = 1, color=red> hospital </font><font size = 1, color=red> bed </font><font size = 1, color=blue> under </font><font size = 1, color=red> hypnosis </font><font size = 2, color=red> recalling </font><font size = 1, color=blue> the </font><font size = 2, color=red> alien </font><font size = 1, color=blue> abduction, </font><font size = 1, color=red> but </font><font size = 1, color=blue> her </font><font size = 1, color=red> acting </font><font size = 1, color=red> here </font><font size = 1, color=blue> is </font><font size = 1, color=blue> more </font><font size = 2, color=blue> intense </font><font size = 1, color=red> than </font><font size = 1, color=blue> the </font><font size = 1, color=red> actual </font><font size = 1, color=red> rape </font><font size = 1, color=red> scene! </font><font size = 1, color=red> How </font><font size = 1, color=blue> many </font><font size = 1, color=red> actors </font><font size = 1, color=red> can </font><font size = 1, color=red> pull </font><font size = 1, color=red> off </font><font size = 1, color=gray> a </font><font size = 1, color=blue> performance </font><font size = 1, color=blue> in </font><font size = 1, color=gray> a </font><font size = 1, color=red> scene </font><font size = 1, color=red> that </font><font size = 1, color=blue> describes </font><font size = 1, color=gray> a </font><font size = 1, color=red> rape </font><font size = 1, color=red> that </font><font size = 1, color=blue> is </font><font size = 1, color=blue> more </font><font size = 2, color=blue> intense </font><font size = 1, color=red> than </font><font size = 1, color=blue> the </font><font size = 1, color=red> scene </font><font size = 1, color=blue> with </font><font size = 1, color=blue> the </font><font size = 1, color=red> rape? </font><font size = 1, color=red> Not </font><font size = 1, color=blue> many! </font><font size = 1, color=blue> However, </font><font size = 1, color=gray> Jillian </font><font size = 1, color=blue> does </font><font size = 1, color=red> it.<br </font><font size = 1, color=red> /><br </font><font size = 1, color=gray> />I </font><font size = 1, color=red> could </font><font size = 1, color=red> go </font><font size = 1, color=red> on </font><font size = 1, color=blue> and </font><font size = 1, color=red> on. </font><font size = 1, color=gray> Jillian, </font><font size = 1, color=red> if </font><font size = 1, color=red> you </font><font size = 1, color=red> ever </font><font size = 1, color=red> read </font><font size = 1, color=red> this, </font><font size = 1, color=gray> I </font><font size = 1, color=red> want </font><font size = 1, color=red> you </font><font size = 1, color=red> to </font><font size = 1, color=red> know </font><font size = 1, color=red> that </font><font size = 1, color=gray> I, </font><font size = 1, color=red> (name </font><font size = 1, color=blue> withheld) </font><font size = 2, color=red> alias </font><font size = 1, color=blue> of </font><font size = 1, color=gray> MegamanX-1, </font><font size = 1, color=red> believe </font><font size = 1, color=red> you </font><font size = 1, color=red> are </font><font size = 1, color=blue> the </font><font size = 2, color=blue> best </font><font size = 1, color=blue> actress </font><font size = 1, color=red> ever. </font><font size = 1, color=red> You </font><font size = 1, color=red> are </font><font size = 1, color=blue> the </font><font size = 2, color=blue> best </font><font size = 1, color=blue> actress </font><font size = 1, color=red> ever! </font><font size = 1, color=gray> I </font><font size = 1, color=red> could </font><font size = 1, color=red> only </font><font size = 1, color=blue> hope </font><font size = 1, color=red> you </font><font size = 1, color=red> read </font><font size = 1, color=red> this </font><font size = 1, color=blue> and </font><font size = 1, color=red> take </font><font size = 1, color=red> it </font><font size = 1, color=blue> with </font><font size = 1, color=red> you </font><font size = 1, color=blue> always.<br </font><font size = 1, color=red> /><br </font><font size = 1, color=blue> />As </font><font size = 1, color=red> for </font><font size = 1, color=blue> everyone </font><font size = 1, color=red> else, </font><font size = 1, color=red> \"Progeny\" </font><font size = 1, color=red> (1999) </font><font size = 1, color=blue> is </font><font size = 1, color=blue> an </font><font size = 2, color=red> Okay </font><font size = 1, color=red> to </font><font size = 1, color=blue> Good </font><font size = 1, color=blue> film. </font><font size = 1, color=gray> I </font><font size = 1, color=red> would </font><font size = 1, color=blue> recommend </font><font size = 1, color=red> it. </font>"
      ],
      "text/plain": [
       "<utils.ColoredWeightedDoc at 0x7f68e3b0a9e8>"
      ]
     },
     "metadata": {},
     "output_type": "display_data"
    },
    {
     "data": {
      "text/html": [
       "<b>Best Classifier<b>"
      ]
     },
     "metadata": {},
     "output_type": "display_data"
    },
    {
     "data": {
      "text/html": [
       "<font size = 1, color=blue> First, </font><font size = 1, color=red> let </font><font size = 1, color=blue> me </font><font size = 1, color=red> review </font><font size = 1, color=red> the </font><font size = 1, color=blue> movie. </font><font size = 1, color=red> This </font><font size = 1, color=blue> movie </font><font size = 2, color=blue> creeps </font><font size = 1, color=blue> me </font><font size = 1, color=red> out, </font><font size = 1, color=blue> and </font><font size = 1, color=gray> I </font><font size = 1, color=red> don't </font><font size = 2, color=red> even </font><font size = 1, color=red> believe </font><font size = 1, color=blue> in </font><font size = 2, color=blue> aliens! </font><font size = 1, color=red> However, </font><font size = 1, color=red> the </font><font size = 1, color=blue> movie </font><font size = 1, color=blue> has </font><font size = 1, color=blue> its </font><font size = 1, color=blue> flaws.<br </font><font size = 1, color=red> /><br </font><font size = 1, color=blue> />There </font><font size = 1, color=blue> are </font><font size = 1, color=blue> three </font><font size = 1, color=red> acts </font><font size = 1, color=red> to </font><font size = 1, color=red> this </font><font size = 1, color=blue> movie. </font><font size = 1, color=red> Act </font><font size = 1, color=blue> One </font><font size = 1, color=blue> is </font><font size = 3, color=blue> perfect. </font><font size = 1, color=blue> It </font><font size = 1, color=red> sets </font><font size = 1, color=blue> up </font><font size = 1, color=red> the </font><font size = 1, color=blue> movie, </font><font size = 1, color=blue> and </font><font size = 1, color=blue> really </font><font size = 1, color=blue> builds </font><font size = 1, color=blue> up </font><font size = 1, color=red> the </font><font size = 1, color=red> creep </font><font size = 1, color=blue> factor. </font><font size = 1, color=gray> I </font><font size = 1, color=blue> must </font><font size = 1, color=blue> say </font><font size = 1, color=red> the </font><font size = 1, color=blue> score </font><font size = 1, color=blue> is </font><font size = 3, color=blue> great! </font><font size = 1, color=red> Everything </font><font size = 1, color=blue> is </font><font size = 1, color=blue> set </font><font size = 1, color=blue> up </font><font size = 1, color=blue> and </font><font size = 1, color=blue> it's </font><font size = 1, color=blue> set </font><font size = 1, color=blue> up </font><font size = 4, color=blue> perfectly.<br </font><font size = 1, color=red> /><br </font><font size = 1, color=red> />Act </font><font size = 1, color=red> Two </font><font size = 2, color=blue> begins </font><font size = 1, color=blue> when </font><font size = 1, color=gray> Jillian, </font><font size = 1, color=blue> playing </font><font size = 1, color=red> Sherry </font><font size = 2, color=red> Burton, </font><font size = 1, color=red> goes </font><font size = 1, color=red> to </font><font size = 1, color=red> the </font><font size = 2, color=blue> shrink. </font><font size = 1, color=red> They </font><font size = 1, color=gray> hypnotize </font><font size = 1, color=blue> her, </font><font size = 1, color=blue> and </font><font size = 1, color=blue> she </font><font size = 1, color=red> recalls </font><font size = 1, color=red> the </font><font size = 1, color=red> abduction. </font><font size = 1, color=red> Act </font><font size = 1, color=red> Two </font><font size = 1, color=red> ruins </font><font size = 1, color=red> the </font><font size = 1, color=blue> film </font><font size = 1, color=blue> when </font><font size = 1, color=red> the </font><font size = 2, color=blue> aliens </font><font size = 1, color=red> show </font><font size = 1, color=blue> up. </font><font size = 2, color=red> \"Screaming </font><font size = 1, color=blue> Mad </font><font size = 1, color=red> George\" </font><font size = 1, color=blue> did </font><font size = 1, color=red> the </font><font size = 1, color=red> effects </font><font size = 1, color=blue> for </font><font size = 1, color=red> the </font><font size = 2, color=blue> aliens. </font><font size = 1, color=gray> I </font><font size = 1, color=blue> must </font><font size = 1, color=blue> say </font><font size = 1, color=red> they </font><font size = 1, color=blue> did </font><font size = 1, color=gray> a </font><font size = 1, color=blue> good </font><font size = 1, color=blue> job, </font><font size = 3, color=red> except </font><font size = 1, color=red> with </font><font size = 1, color=blue> their </font><font size = 2, color=blue> depiction </font><font size = 1, color=blue> of </font><font size = 1, color=red> the </font><font size = 2, color=blue> \"Gray\" </font><font size = 2, color=blue> aliens. </font><font size = 1, color=red> No </font><font size = 2, color=red> offense, </font><font size = 1, color=red> but </font><font size = 1, color=red> the </font><font size = 1, color=gray> Grays </font><font size = 2, color=red> looked </font><font size = 1, color=red> like </font><font size = 1, color=gray> inflatable </font><font size = 1, color=red> door </font><font size = 1, color=red> prizes.<br </font><font size = 1, color=red> /><br </font><font size = 1, color=blue> />On </font><font size = 1, color=gray> a </font><font size = 2, color=blue> side </font><font size = 3, color=blue> note, </font><font size = 1, color=gray> I </font><font size = 2, color=blue> liked </font><font size = 1, color=blue> how </font><font size = 1, color=red> they </font><font size = 1, color=red> treated </font><font size = 1, color=red> hypnosis </font><font size = 1, color=blue> in </font><font size = 1, color=red> Acts </font><font size = 1, color=blue> One </font><font size = 1, color=blue> and </font><font size = 1, color=red> Two. </font><font size = 1, color=red> If </font><font size = 1, color=blue> you </font><font size = 3, color=red> paid </font><font size = 1, color=blue> attention, </font><font size = 1, color=blue> you </font><font size = 2, color=red> would </font><font size = 1, color=blue> notice </font><font size = 1, color=blue> that </font><font size = 1, color=red> the </font><font size = 1, color=red> husband </font><font size = 1, color=blue> and </font><font size = 1, color=red> wife </font><font size = 1, color=red> had </font><font size = 1, color=red> two </font><font size = 2, color=blue> different </font><font size = 2, color=blue> memories. </font><font size = 1, color=blue> In </font><font size = 1, color=red> the </font><font size = 1, color=red> husband's </font><font size = 1, color=red> version </font><font size = 1, color=blue> of </font><font size = 1, color=red> events, </font><font size = 1, color=red> the </font><font size = 1, color=red> blue </font><font size = 1, color=blue> light </font><font size = 1, color=gray> zaps </font><font size = 1, color=red> them </font><font size = 1, color=blue> and </font><font size = 1, color=blue> his </font><font size = 1, color=red> wife </font><font size = 1, color=red> says, </font><font size = 1, color=red> \"Somebody's </font><font size = 1, color=red> here,\" </font><font size = 1, color=red> or </font><font size = 1, color=red> something </font><font size = 1, color=red> like </font><font size = 1, color=blue> it. </font><font size = 1, color=blue> It </font><font size = 1, color=blue> makes </font><font size = 1, color=red> sense. </font><font size = 1, color=red> The </font><font size = 1, color=red> husband </font><font size = 1, color=blue> is </font><font size = 2, color=red> concerned </font><font size = 1, color=blue> for </font><font size = 1, color=blue> his </font><font size = 1, color=red> wife. </font><font size = 2, color=red> \"Someone\" </font><font size = 1, color=blue> may </font><font size = 2, color=blue> hurt </font><font size = 1, color=blue> her. </font><font size = 1, color=blue> That's </font><font size = 1, color=blue> his </font><font size = 1, color=red> issue. </font><font size = 1, color=red> However </font><font size = 1, color=blue> in </font><font size = 1, color=blue> her </font><font size = 1, color=red> version </font><font size = 1, color=blue> of </font><font size = 1, color=red> events, </font><font size = 1, color=blue> she </font><font size = 1, color=red> says, </font><font size = 1, color=blue> \"Help </font><font size = 1, color=blue> me!\" </font><font size = 1, color=blue> She </font><font size = 1, color=red> does </font><font size = 1, color=red> not </font><font size = 1, color=blue> say </font><font size = 1, color=red> \"Somebody's </font><font size = 1, color=red> here.\" </font><font size = 1, color=red> This </font><font size = 2, color=blue> also </font><font size = 1, color=blue> makes </font><font size = 1, color=red> sense. </font><font size = 1, color=red> The </font><font size = 2, color=blue> aliens </font><font size = 1, color=blue> are </font><font size = 1, color=red> after </font><font size = 1, color=blue> her. </font><font size = 2, color=blue> Wanting </font><font size = 1, color=blue> her </font><font size = 1, color=red> husband </font><font size = 1, color=red> to </font><font size = 1, color=blue> help </font><font size = 1, color=blue> and </font><font size = 4, color=red> save </font><font size = 1, color=blue> her </font><font size = 1, color=blue> is </font><font size = 1, color=blue> her </font><font size = 1, color=red> issue. </font><font size = 1, color=blue> Now </font><font size = 1, color=red> back </font><font size = 1, color=red> to </font><font size = 1, color=red> the </font><font size = 1, color=blue> film.<br </font><font size = 1, color=red> /><br </font><font size = 1, color=red> />Act </font><font size = 1, color=blue> Three </font><font size = 1, color=blue> turns </font><font size = 1, color=red> the </font><font size = 1, color=blue> film </font><font size = 1, color=red> into </font><font size = 1, color=gray> a </font><font size = 1, color=red> gore </font><font size = 1, color=red> fest. </font><font size = 1, color=blue> It </font><font size = 2, color=blue> begins </font><font size = 1, color=red> with </font><font size = 1, color=gray> a </font><font size = 1, color=red> \"strange\" </font><font size = 1, color=gray> ultrasound </font><font size = 2, color=red> procedure. </font><font size = 1, color=blue> It's </font><font size = 1, color=gray> a </font><font size = 1, color=blue> typical </font><font size = 1, color=red> gore </font><font size = 1, color=red> fest, </font><font size = 1, color=red> but </font><font size = 1, color=blue> it </font><font size = 1, color=red> does </font><font size = 1, color=red> have </font><font size = 1, color=gray> a </font><font size = 1, color=blue> surprise </font><font size = 1, color=blue> ending. </font><font size = 1, color=gray> I </font><font size = 1, color=blue> won't </font><font size = 2, color=red> ruin </font><font size = 1, color=blue> it </font><font size = 1, color=red> because </font><font size = 1, color=blue> it's </font><font size = 1, color=red> actually </font><font size = 1, color=red> an </font><font size = 1, color=red> interesting </font><font size = 2, color=red> development. </font><font size = 1, color=red> <br </font><font size = 1, color=red> /><br </font><font size = 1, color=red> />The </font><font size = 3, color=blue> DVD </font><font size = 1, color=blue> and </font><font size = 1, color=red> commentaries </font><font size = 1, color=blue> takes </font><font size = 1, color=red> itself </font><font size = 1, color=red> too </font><font size = 1, color=blue> seriously, </font><font size = 1, color=red> but </font><font size = 1, color=red> if </font><font size = 1, color=blue> you </font><font size = 1, color=blue> think </font><font size = 1, color=red> Wilford </font><font size = 1, color=red> Brimley </font><font size = 1, color=blue> saying </font><font size = 1, color=gray> \"Horsesh**\" </font><font size = 1, color=blue> is </font><font size = 1, color=blue> funny, </font><font size = 1, color=blue> you </font><font size = 1, color=red> might </font><font size = 1, color=red> want </font><font size = 1, color=red> to </font><font size = 2, color=blue> check </font><font size = 1, color=blue> it </font><font size = 1, color=red> out </font><font size = 1, color=blue> in </font><font size = 1, color=red> the </font><font size = 1, color=blue> cast </font><font size = 2, color=blue> interviews </font><font size = 1, color=red> section. </font><font size = 1, color=blue> Now </font><font size = 1, color=blue> on </font><font size = 1, color=red> to </font><font size = 1, color=blue> my </font><font size = 1, color=blue> praise </font><font size = 1, color=blue> of </font><font size = 1, color=gray> Jillian </font><font size = 1, color=gray> McWhirter.<br </font><font size = 1, color=red> /><br </font><font size = 1, color=gray> />I </font><font size = 1, color=red> could </font><font size = 2, color=red> only </font><font size = 2, color=blue> hope </font><font size = 1, color=gray> Jillian </font><font size = 1, color=blue> will </font><font size = 1, color=red> read </font><font size = 1, color=red> this. </font><font size = 1, color=gray> I </font><font size = 1, color=red> had </font><font size = 1, color=red> never </font><font size = 1, color=blue> seen </font><font size = 1, color=blue> her </font><font size = 1, color=blue> before, </font><font size = 1, color=red> but </font><font size = 1, color=blue> wow, </font><font size = 1, color=blue> what </font><font size = 1, color=gray> a </font><font size = 1, color=blue> performance! </font><font size = 1, color=red> Let </font><font size = 1, color=blue> me </font><font size = 2, color=blue> tell </font><font size = 1, color=red> the </font><font size = 1, color=red> rest </font><font size = 1, color=blue> of </font><font size = 1, color=blue> you </font><font size = 1, color=red> this. </font><font size = 1, color=blue> First </font><font size = 1, color=blue> of </font><font size = 1, color=blue> all, </font><font size = 1, color=red> this </font><font size = 1, color=blue> is </font><font size = 4, color=red> supposed </font><font size = 1, color=red> to </font><font size = 1, color=red> be </font><font size = 1, color=gray> a </font><font size = 1, color=red> serious </font><font size = 1, color=blue> film. </font><font size = 1, color=red> The </font><font size = 1, color=red> details </font><font size = 1, color=gray> I </font><font size = 1, color=blue> will </font><font size = 1, color=blue> now </font><font size = 2, color=blue> describe </font><font size = 1, color=blue> may </font><font size = 1, color=red> sound </font><font size = 2, color=blue> campy </font><font size = 1, color=blue> and </font><font size = 3, color=blue> fun, </font><font size = 1, color=red> like </font><font size = 1, color=gray> \"Humanoids </font><font size = 1, color=red> From </font><font size = 1, color=red> The </font><font size = 2, color=blue> Deep\" </font><font size = 2, color=blue> (1980), </font><font size = 1, color=red> but </font><font size = 1, color=blue> it </font><font size = 1, color=blue> really </font><font size = 1, color=red> isn't. </font><font size = 1, color=blue> Got </font><font size = 1, color=blue> that? </font><font size = 3, color=red> Okay.<br </font><font size = 1, color=red> /><br </font><font size = 1, color=gray> />Jillian </font><font size = 1, color=blue> is </font><font size = 2, color=blue> hot, </font><font size = 1, color=blue> naturally </font><font size = 1, color=blue> good-looking. </font><font size = 1, color=blue> She </font><font size = 1, color=blue> is </font><font size = 1, color=blue> naked </font><font size = 1, color=blue> for </font><font size = 1, color=gray> a </font><font size = 1, color=blue> lot </font><font size = 1, color=blue> of </font><font size = 1, color=red> the </font><font size = 1, color=blue> film, </font><font size = 1, color=gray> a </font><font size = 1, color=blue> good </font><font size = 2, color=red> thing. </font><font size = 2, color=red> Unfortunately, </font><font size = 1, color=blue> she </font><font size = 1, color=blue> is </font><font size = 1, color=red> usually </font><font size = 1, color=red> being </font><font size = 1, color=red> assaulted, </font><font size = 1, color=red> terrorized, </font><font size = 1, color=blue> and </font><font size = 2, color=blue> raped, </font><font size = 1, color=gray> a </font><font size = 1, color=blue> very </font><font size = 4, color=red> bad </font><font size = 2, color=red> thing. </font><font size = 1, color=red> However, </font><font size = 1, color=blue> she </font><font size = 1, color=blue> must </font><font size = 1, color=red> act </font><font size = 1, color=blue> in </font><font size = 1, color=gray> a </font><font size = 1, color=blue> lot </font><font size = 1, color=blue> of </font><font size = 1, color=red> this </font><font size = 1, color=blue> film </font><font size = 1, color=blue> naked. </font><font size = 1, color=blue> She </font><font size = 2, color=red> gets </font><font size = 1, color=red> points </font><font size = 1, color=blue> for </font><font size = 1, color=red> overcoming </font><font size = 1, color=blue> that. </font><font size = 1, color=blue> She </font><font size = 1, color=blue> has </font><font size = 1, color=red> to </font><font size = 1, color=red> act </font><font size = 2, color=blue> happy, </font><font size = 2, color=blue> sad, </font><font size = 2, color=blue> horny, </font><font size = 1, color=red> afraid, </font><font size = 1, color=blue> and </font><font size = 2, color=blue> physically </font><font size = 2, color=blue> hurt </font><font size = 1, color=blue> all </font><font size = 1, color=blue> in </font><font size = 1, color=red> the </font><font size = 1, color=red> span </font><font size = 1, color=blue> of </font><font size = 1, color=gray> a </font><font size = 1, color=red> few </font><font size = 1, color=blue> moments. </font><font size = 1, color=red> The </font><font size = 1, color=gray> turnaround </font><font size = 1, color=blue> of </font><font size = 2, color=blue> emotion </font><font size = 1, color=blue> is </font><font size = 1, color=red> astounding! </font><font size = 1, color=blue> She </font><font size = 1, color=blue> has </font><font size = 1, color=red> to </font><font size = 2, color=blue> cheer </font><font size = 1, color=blue> for </font><font size = 2, color=blue> joy </font><font size = 1, color=blue> when </font><font size = 1, color=blue> she </font><font size = 1, color=red> learns </font><font size = 1, color=blue> she's </font><font size = 1, color=blue> pregnant. </font><font size = 1, color=blue> She </font><font size = 1, color=blue> has </font><font size = 1, color=red> to </font><font size = 1, color=red> scream </font><font size = 1, color=blue> in </font><font size = 2, color=red> terror </font><font size = 1, color=blue> when </font><font size = 1, color=red> the </font><font size = 2, color=blue> aliens </font><font size = 1, color=blue> take </font><font size = 1, color=red> out </font><font size = 1, color=blue> her </font><font size = 2, color=blue> guts. </font><font size = 1, color=blue> She </font><font size = 1, color=blue> has </font><font size = 1, color=red> to </font><font size = 1, color=red> act </font><font size = 1, color=blue> very </font><font size = 1, color=blue> angry </font><font size = 1, color=blue> when </font><font size = 1, color=blue> her </font><font size = 1, color=red> husband </font><font size = 2, color=red> suggests </font><font size = 1, color=blue> that </font><font size = 1, color=red> the </font><font size = 1, color=red> baby </font><font size = 1, color=red> isn't </font><font size = 1, color=blue> his. </font><font size = 1, color=blue> She </font><font size = 1, color=blue> has </font><font size = 1, color=red> to </font><font size = 1, color=red> act </font><font size = 1, color=red> like </font><font size = 1, color=blue> she's </font><font size = 1, color=blue> in </font><font size = 1, color=red> denial, </font><font size = 1, color=blue> saying </font><font size = 3, color=red> nothing </font><font size = 1, color=blue> is </font><font size = 1, color=red> wrong </font><font size = 1, color=red> with </font><font size = 1, color=blue> her </font><font size = 1, color=red> baby, </font><font size = 1, color=blue> when </font><font size = 1, color=blue> her </font><font size = 1, color=red> husband </font><font size = 1, color=red> says </font><font size = 2, color=red> otherwise. </font><font size = 1, color=gray> A </font><font size = 1, color=red> denial, </font><font size = 1, color=gray> I </font><font size = 1, color=red> should </font><font size = 3, color=blue> note, </font><font size = 1, color=blue> that </font><font size = 1, color=blue> is </font><font size = 1, color=blue> really </font><font size = 2, color=red> forced </font><font size = 1, color=blue> upon </font><font size = 1, color=blue> her </font><font size = 1, color=blue> by </font><font size = 1, color=red> the </font><font size = 2, color=blue> aliens </font><font size = 2, color=red> controlling </font><font size = 1, color=blue> her. </font><font size = 1, color=gray> I </font><font size = 1, color=red> am </font><font size = 1, color=red> talking </font><font size = 2, color=blue> Oscar-caliber </font><font size = 1, color=blue> performance </font><font size = 1, color=red> here!<br </font><font size = 1, color=red> /><br </font><font size = 1, color=red> />Then </font><font size = 1, color=blue> there </font><font size = 1, color=blue> is </font><font size = 1, color=red> the </font><font size = 2, color=blue> rape </font><font size = 1, color=red> scene. </font><font size = 1, color=blue> It's </font><font size = 1, color=red> disturbing, </font><font size = 1, color=red> but </font><font size = 1, color=blue> since </font><font size = 1, color=blue> it's </font><font size = 1, color=red> just </font><font size = 1, color=red> some </font><font size = 1, color=red> rubber </font><font size = 2, color=blue> alien, </font><font size = 1, color=blue> it's </font><font size = 1, color=red> not </font><font size = 1, color=red> too </font><font size = 4, color=red> bad. </font><font size = 1, color=blue> In </font><font size = 1, color=red> this </font><font size = 1, color=red> scene, </font><font size = 1, color=red> the </font><font size = 2, color=blue> alien </font><font size = 1, color=blue> is </font><font size = 1, color=red> not </font><font size = 1, color=gray> a </font><font size = 2, color=blue> \"Gray\" </font><font size = 2, color=blue> alien, </font><font size = 1, color=red> so </font><font size = 1, color=gray> I </font><font size = 1, color=blue> will </font><font size = 2, color=blue> describe </font><font size = 1, color=blue> it. </font><font size = 1, color=red> The </font><font size = 2, color=blue> alien </font><font size = 1, color=blue> has </font><font size = 1, color=red> tentacles, </font><font size = 1, color=blue> and </font><font size = 1, color=blue> it's </font><font size = 1, color=blue> kind </font><font size = 1, color=blue> of </font><font size = 1, color=red> like </font><font size = 1, color=gray> a </font><font size = 2, color=red> table. </font><font size = 1, color=gray> Jillian </font><font size = 1, color=blue> is </font><font size = 1, color=blue> on </font><font size = 1, color=red> the </font><font size = 2, color=red> table-like </font><font size = 1, color=red> part, </font><font size = 2, color=red> restrained </font><font size = 1, color=blue> by </font><font size = 1, color=red> the </font><font size = 1, color=red> tentacles. </font><font size = 1, color=blue> By </font><font size = 1, color=blue> her </font><font size = 1, color=red> head </font><font size = 1, color=blue> is </font><font size = 1, color=red> the </font><font size = 2, color=blue> alien's </font><font size = 1, color=red> head. </font><font size = 1, color=red> The </font><font size = 2, color=blue> alien's </font><font size = 1, color=red> head </font><font size = 1, color=blue> is </font><font size = 1, color=red> long, </font><font size = 1, color=blue> and </font><font size = 1, color=blue> it </font><font size = 1, color=red> flips </font><font size = 1, color=red> down </font><font size = 1, color=red> so </font><font size = 1, color=blue> that </font><font size = 1, color=blue> its </font><font size = 1, color=red> head </font><font size = 1, color=blue> is </font><font size = 1, color=blue> now </font><font size = 1, color=blue> above </font><font size = 1, color=gray> Jillian's </font><font size = 2, color=red> legs. </font><font size = 1, color=red> Then, </font><font size = 1, color=red> the </font><font size = 2, color=blue> alien's </font><font size = 3, color=blue> hey-nanu-nanu </font><font size = 1, color=red> comes </font><font size = 1, color=red> out </font><font size = 1, color=blue> of </font><font size = 1, color=blue> his </font><font size = 1, color=red> forehead. </font><font size = 1, color=blue> It's </font><font size = 1, color=red> forehead! </font><font size = 1, color=red> Sounds </font><font size = 1, color=red> pretty </font><font size = 2, color=blue> campy, </font><font size = 2, color=blue> right? </font><font size = 2, color=blue> Well, </font><font size = 1, color=gray> Jillian </font><font size = 1, color=blue> plays </font><font size = 1, color=blue> it </font><font size = 2, color=red> straight, </font><font size = 1, color=blue> and </font><font size = 1, color=blue> she </font><font size = 1, color=red> pulls </font><font size = 1, color=blue> it </font><font size = 1, color=red> off! </font><font size = 1, color=blue> She </font><font size = 1, color=blue> has </font><font size = 1, color=red> to </font><font size = 1, color=red> act </font><font size = 1, color=red> like </font><font size = 1, color=red> an </font><font size = 2, color=blue> alien </font><font size = 1, color=red> with </font><font size = 1, color=blue> its </font><font size = 3, color=blue> hey-nanu-nanu </font><font size = 1, color=blue> coming </font><font size = 1, color=red> from </font><font size = 1, color=blue> its </font><font size = 1, color=red> forehead </font><font size = 1, color=blue> is </font><font size = 1, color=red> raping </font><font size = 1, color=blue> her, </font><font size = 1, color=blue> and </font><font size = 1, color=blue> she </font><font size = 1, color=red> pulls </font><font size = 1, color=blue> it </font><font size = 1, color=red> off! </font><font size = 1, color=blue> It's </font><font size = 1, color=gray> a </font><font size = 1, color=blue> very </font><font size = 2, color=blue> intense </font><font size = 1, color=red> scene, </font><font size = 1, color=red> but </font><font size = 1, color=blue> that's </font><font size = 1, color=red> not </font><font size = 1, color=blue> what </font><font size = 1, color=blue> makes </font><font size = 1, color=blue> it. </font><font size = 1, color=blue> You </font><font size = 1, color=blue> see, </font><font size = 1, color=red> this </font><font size = 1, color=red> scene </font><font size = 1, color=blue> is </font><font size = 1, color=blue> done </font><font size = 1, color=blue> in </font><font size = 1, color=gray> a </font><font size = 1, color=red> flashback. </font><font size = 1, color=blue> What </font><font size = 1, color=blue> makes </font><font size = 1, color=red> the </font><font size = 1, color=red> scene </font><font size = 1, color=blue> is </font><font size = 1, color=gray> Jillian's </font><font size = 1, color=blue> performance </font><font size = 1, color=red> recalling </font><font size = 1, color=red> these </font><font size = 1, color=red> events. </font><font size = 1, color=blue> She </font><font size = 1, color=blue> is </font><font size = 1, color=red> just </font><font size = 2, color=blue> lying </font><font size = 1, color=blue> in </font><font size = 1, color=gray> a </font><font size = 2, color=red> hospital </font><font size = 2, color=blue> bed </font><font size = 1, color=blue> under </font><font size = 1, color=red> hypnosis </font><font size = 1, color=red> recalling </font><font size = 1, color=red> the </font><font size = 2, color=blue> alien </font><font size = 1, color=red> abduction, </font><font size = 1, color=red> but </font><font size = 1, color=blue> her </font><font size = 1, color=red> acting </font><font size = 1, color=red> here </font><font size = 1, color=blue> is </font><font size = 1, color=blue> more </font><font size = 2, color=blue> intense </font><font size = 1, color=red> than </font><font size = 1, color=red> the </font><font size = 1, color=red> actual </font><font size = 2, color=blue> rape </font><font size = 1, color=red> scene! </font><font size = 1, color=blue> How </font><font size = 1, color=blue> many </font><font size = 1, color=red> actors </font><font size = 1, color=blue> can </font><font size = 1, color=red> pull </font><font size = 1, color=red> off </font><font size = 1, color=gray> a </font><font size = 1, color=blue> performance </font><font size = 1, color=blue> in </font><font size = 1, color=gray> a </font><font size = 1, color=red> scene </font><font size = 1, color=blue> that </font><font size = 2, color=blue> describes </font><font size = 1, color=gray> a </font><font size = 2, color=blue> rape </font><font size = 1, color=blue> that </font><font size = 1, color=blue> is </font><font size = 1, color=blue> more </font><font size = 2, color=blue> intense </font><font size = 1, color=red> than </font><font size = 1, color=red> the </font><font size = 1, color=red> scene </font><font size = 1, color=red> with </font><font size = 1, color=red> the </font><font size = 2, color=blue> rape? </font><font size = 1, color=red> Not </font><font size = 1, color=blue> many! </font><font size = 1, color=red> However, </font><font size = 1, color=gray> Jillian </font><font size = 1, color=red> does </font><font size = 1, color=blue> it.<br </font><font size = 1, color=red> /><br </font><font size = 1, color=gray> />I </font><font size = 1, color=red> could </font><font size = 1, color=blue> go </font><font size = 1, color=blue> on </font><font size = 1, color=blue> and </font><font size = 1, color=blue> on. </font><font size = 1, color=gray> Jillian, </font><font size = 1, color=red> if </font><font size = 1, color=blue> you </font><font size = 1, color=red> ever </font><font size = 1, color=red> read </font><font size = 1, color=red> this, </font><font size = 1, color=gray> I </font><font size = 1, color=red> want </font><font size = 1, color=blue> you </font><font size = 1, color=red> to </font><font size = 1, color=blue> know </font><font size = 1, color=blue> that </font><font size = 1, color=gray> I, </font><font size = 3, color=red> (name </font><font size = 1, color=red> withheld) </font><font size = 1, color=red> alias </font><font size = 1, color=blue> of </font><font size = 1, color=gray> MegamanX-1, </font><font size = 1, color=red> believe </font><font size = 1, color=blue> you </font><font size = 1, color=blue> are </font><font size = 1, color=red> the </font><font size = 2, color=blue> best </font><font size = 1, color=red> actress </font><font size = 1, color=red> ever. </font><font size = 1, color=blue> You </font><font size = 1, color=blue> are </font><font size = 1, color=red> the </font><font size = 2, color=blue> best </font><font size = 1, color=red> actress </font><font size = 1, color=red> ever! </font><font size = 1, color=gray> I </font><font size = 1, color=red> could </font><font size = 2, color=red> only </font><font size = 2, color=blue> hope </font><font size = 1, color=blue> you </font><font size = 1, color=red> read </font><font size = 1, color=red> this </font><font size = 1, color=blue> and </font><font size = 1, color=blue> take </font><font size = 1, color=blue> it </font><font size = 1, color=red> with </font><font size = 1, color=blue> you </font><font size = 2, color=blue> always.<br </font><font size = 1, color=red> /><br </font><font size = 1, color=blue> />As </font><font size = 1, color=blue> for </font><font size = 1, color=blue> everyone </font><font size = 1, color=blue> else, </font><font size = 1, color=red> \"Progeny\" </font><font size = 1, color=blue> (1999) </font><font size = 1, color=blue> is </font><font size = 1, color=red> an </font><font size = 3, color=red> Okay </font><font size = 1, color=red> to </font><font size = 1, color=blue> Good </font><font size = 1, color=blue> film. </font><font size = 1, color=gray> I </font><font size = 2, color=red> would </font><font size = 2, color=blue> recommend </font><font size = 1, color=blue> it. </font>"
      ],
      "text/plain": [
       "<utils.ColoredWeightedDoc at 0x7f68e3b0ab38>"
      ]
     },
     "metadata": {},
     "output_type": "display_data"
    }
   ],
   "source": [
    "x = ctrl_clf.predict_proba(X_test) - best_clf.predict_proba(X_test)\n",
    "x = np.absolute(x[:,0])\n",
    "inds = np.argsort(x)\n",
    "i = inds[-1]\n",
    "\n",
    "display_html(\"<b>\"+'Probability Matrix'+\"<b>\", raw=True)\n",
    "print(ctrl_clf.predict_proba(X_test)[i]) \n",
    "print(best_clf.predict_proba(X_test)[i])\n",
    "display_html(\"<b>\"+'Control Classifier'+\"<b>\", raw=True)\n",
    "display(ColoredWeightedDoc(test_corpus[i], feature_names, ctrl_clf.get_weights()))\n",
    "display_html(\"<b>\"+'Best Classifier'+\"<b>\", raw=True)\n",
    "display(ColoredWeightedDoc(test_corpus[i], feature_names, best_clf.get_weights()))"
   ]
  }
 ],
 "metadata": {
  "kernelspec": {
   "display_name": "Python 3",
   "language": "python",
   "name": "python3"
  },
  "language_info": {
   "codemirror_mode": {
    "name": "ipython",
    "version": 3
   },
   "file_extension": ".py",
   "mimetype": "text/x-python",
   "name": "python",
   "nbconvert_exporter": "python",
   "pygments_lexer": "ipython3",
   "version": "3.5.1"
  }
 },
 "nbformat": 4,
 "nbformat_minor": 0
}
