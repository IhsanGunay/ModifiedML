{
 "cells": [
  {
   "cell_type": "markdown",
   "metadata": {},
   "source": [
    "# Experiment 8 Results"
   ]
  },
  {
   "cell_type": "code",
   "execution_count": 1,
   "metadata": {
    "collapsed": true
   },
   "outputs": [],
   "source": [
    "from pickle import load\n",
    "from utils import ce_squared, load_imdb, ColoredWeightedDoc\n",
    "from IPython.display import display, display_html\n",
    "from scipy.sparse import csr_matrix\n",
    "from sklearn.feature_extraction.text import CountVectorizer\n",
    "from sklearn.metrics import classification_report, confusion_matrix\n",
    "from classifiers import TransparentMultinomialNB\n",
    "from time import time\n",
    "import numpy as np"
   ]
  },
  {
   "cell_type": "markdown",
   "metadata": {},
   "source": [
    "## Load Data"
   ]
  },
  {
   "cell_type": "code",
   "execution_count": 2,
   "metadata": {
    "collapsed": false
   },
   "outputs": [
    {
     "name": "stdout",
     "output_type": "stream",
     "text": [
      "Loading the imdb reviews data\n",
      "Data loaded.\n",
      "Extracting features from the training dataset using a sparse vectorizer\n",
      "Feature extraction technique is CountVectorizer(analyzer='word', binary=False, decode_error='strict',\n",
      "        dtype=<class 'numpy.int64'>, encoding='utf-8', input='content',\n",
      "        lowercase=True, max_df=1.0, max_features=None, min_df=5,\n",
      "        ngram_range=(1, 1), preprocessor=None, stop_words=None,\n",
      "        strip_accents=None, token_pattern='(?u)\\\\b\\\\w\\\\w+\\\\b',\n",
      "        tokenizer=None, vocabulary=None).\n",
      "done in 4.856735467910767s\n",
      "(25000, 27315)\n",
      "n_samples: 25000, n_features: 27315 \n",
      "\n",
      "Extracting features from the test dataset using the same vectorizer\n",
      "done in 4.799036979675293s\n",
      "n_samples: 25000, n_features: 27315 \n",
      "\n",
      "Loading took 211.51s.\n",
      "\n"
     ]
    }
   ],
   "source": [
    "t0 = time()\n",
    "\n",
    "vect = CountVectorizer(min_df=5, max_df=1.0, binary=False, ngram_range=(1, 1))\n",
    "\n",
    "X_train, y_train, X_test, y_test, train_corpus, test_corpus = load_imdb(\"./aclImdb\", shuffle=True, vectorizer=vect)\n",
    "\n",
    "feature_names = vect.get_feature_names()\n",
    "y_test_na = y_test[:, np.newaxis]\n",
    "y_test_na = np.append(y_test_na, 1-y_test_na, axis=1)\n",
    "y_modified = np.copy(y_train)\n",
    "\n",
    "duration = time() - t0\n",
    "\n",
    "print(\"Loading took {:0.2f}s.\\n\".format(duration))"
   ]
  },
  {
   "cell_type": "code",
   "execution_count": 3,
   "metadata": {
    "collapsed": true
   },
   "outputs": [],
   "source": [
    "X_val = csr_matrix(X_train[12500:])\n",
    "y_val = np.copy(y_train[12500:])\n",
    "\n",
    "X_train = csr_matrix(X_train[:12500])\n",
    "y_train = np.copy(y_train[:12500])\n",
    "\n",
    "y_val_na = y_val[:, np.newaxis]\n",
    "y_val_na = np.append(y_val_na, 1-y_val_na, axis=1)"
   ]
  },
  {
   "cell_type": "code",
   "execution_count": 4,
   "metadata": {
    "collapsed": true
   },
   "outputs": [],
   "source": [
    "with open('clf8-mb.arch', 'rb') as f:\n",
    "    clf_arch = load(f)"
   ]
  },
  {
   "cell_type": "code",
   "execution_count": 5,
   "metadata": {
    "collapsed": false
   },
   "outputs": [
    {
     "name": "stdout",
     "output_type": "stream",
     "text": [
      "<class 'classifiers.TransparentMultinomialNB'> \n",
      "\n",
      "[1, 2, 3, 4, 5, 6, 7, 8, 9, 10] \n",
      "\n",
      "CountVectorizer(analyzer='word', binary=False, decode_error='strict',\n",
      "        dtype=<class 'numpy.int64'>, encoding='utf-8', input='content',\n",
      "        lowercase=True, max_df=1.0, max_features=None, min_df=5,\n",
      "        ngram_range=(1, 1), preprocessor=None, stop_words=None,\n",
      "        strip_accents=None, token_pattern='(?u)\\\\b\\\\w\\\\w+\\\\b',\n",
      "        tokenizer=None, vocabulary=None)\n"
     ]
    }
   ],
   "source": [
    "clf_arch.stats()"
   ]
  },
  {
   "cell_type": "code",
   "execution_count": 6,
   "metadata": {
    "collapsed": false
   },
   "outputs": [],
   "source": [
    "# Loading the last classifier in the archive\n",
    "ctrl_clf = clf_arch.ctrl_clf\n",
    "best_clf = clf_arch.classifiers[-1]\n",
    "train_indices_set = set(clf_arch.train_indices[-1])\n",
    "train_indices = clf_arch.train_indices[-1]\n",
    "y_modified = np.copy(clf_arch.modified_labels[-1])\n",
    "round_tag = clf_arch.round_tags[-1] + 1 "
   ]
  },
  {
   "cell_type": "code",
   "execution_count": 7,
   "metadata": {
    "collapsed": true
   },
   "outputs": [],
   "source": [
    "first_clf = clf_arch.classifiers[0]"
   ]
  },
  {
   "cell_type": "markdown",
   "metadata": {},
   "source": [
    "## Visualizations"
   ]
  },
  {
   "cell_type": "code",
   "execution_count": 8,
   "metadata": {
    "collapsed": false,
    "scrolled": true
   },
   "outputs": [
    {
     "name": "stdout",
     "output_type": "stream",
     "text": [
      "Number of samples used : 8722\n",
      "Number of labels modified: 2224\n"
     ]
    }
   ],
   "source": [
    "print('Number of samples used :', len(train_indices))\n",
    "changed_labels = np.array(list(filter(lambda x: x[0]!=x[1], zip(y_modified[train_indices], y_train[train_indices]))))\n",
    "print('Number of labels modified:', len(changed_labels))"
   ]
  },
  {
   "cell_type": "code",
   "execution_count": 9,
   "metadata": {
    "collapsed": false,
    "scrolled": true
   },
   "outputs": [
    {
     "name": "stdout",
     "output_type": "stream",
     "text": [
      "1 to 0 : 1134\n",
      "0 to 1 : 1090\n"
     ]
    }
   ],
   "source": [
    "changes = changed_labels[:,0] - changed_labels[:,1]\n",
    "print('1 to 0 :', len(list(filter(lambda x: x<0, changes))))\n",
    "print('0 to 1 :', len(list(filter(lambda x: x>0, changes))))"
   ]
  },
  {
   "cell_type": "code",
   "execution_count": 10,
   "metadata": {
    "collapsed": false
   },
   "outputs": [
    {
     "name": "stdout",
     "output_type": "stream",
     "text": [
      "Control test accuracy is 0.81564 \n",
      "\n",
      "Initial validation accuracy is 0.84504 \n",
      "\n",
      "Initial test accuracy is 0.81896 \n",
      "\n",
      "First validation accuracy is 0.92728 \n",
      "\n",
      "First test accuracy is 0.86132 \n",
      "\n",
      "Best validation accuracy is 0.98864 \n",
      "\n",
      "Best test accuracy is 0.8416 \n",
      "\n",
      "First validation error is 0.06519519162063996 \n",
      "\n",
      "First test error is 0.11474178222574369 \n",
      "\n",
      "Best validation error is 0.014941534037187858 \n",
      "\n",
      "Best test error is 0.12797514860068254\n"
     ]
    }
   ],
   "source": [
    "test_acc = ctrl_clf.score(X_test, y_test)\n",
    "print('Control test accuracy is {}'.format(test_acc), '\\n')\n",
    "\n",
    "clf = TransparentMultinomialNB()\n",
    "clf.fit(X_train, y_train)\n",
    "\n",
    "val_acc = clf.score(X_val, y_val)\n",
    "print('Initial validation accuracy is {}'.format(val_acc), '\\n')\n",
    "\n",
    "test_acc = clf.score(X_test, y_test)\n",
    "print('Initial test accuracy is {}'.format(test_acc), '\\n')\n",
    "\n",
    "val_acc = first_clf.score(X_val, y_val)\n",
    "print('First validation accuracy is {}'.format(val_acc), '\\n')\n",
    "\n",
    "test_acc = first_clf.score(X_test, y_test)\n",
    "print('First test accuracy is {}'.format(test_acc), '\\n')\n",
    "\n",
    "val_acc = best_clf.score(X_val, y_val)\n",
    "print('Best validation accuracy is {}'.format(val_acc), '\\n')\n",
    "\n",
    "test_acc = best_clf.score(X_test, y_test)\n",
    "print('Best test accuracy is {}'.format(test_acc), '\\n')\n",
    "\n",
    "test_acc = ce_squared(y_val_na, first_clf.predict_proba(X_val))\n",
    "print('First validation error is {}'.format(test_acc), '\\n')\n",
    "\n",
    "test_acc = ce_squared(y_test_na, first_clf.predict_proba(X_test))\n",
    "print('First test error is {}'.format(test_acc), '\\n')\n",
    "\n",
    "clf = TransparentMultinomialNB()\n",
    "clf.fit(X_train[train_indices], y_modified[train_indices])\n",
    "\n",
    "test_acc = ce_squared(y_val_na, best_clf.predict_proba(X_val))\n",
    "print('Best validation error is {}'.format(test_acc), '\\n')\n",
    "\n",
    "test_acc = ce_squared(y_test_na, best_clf.predict_proba(X_test))\n",
    "print('Best test error is {}'.format(test_acc))"
   ]
  },
  {
   "cell_type": "code",
   "execution_count": 11,
   "metadata": {
    "collapsed": false
   },
   "outputs": [
    {
     "data": {
      "text/html": [
       "<b>Control Classifier<b>"
      ]
     },
     "metadata": {},
     "output_type": "display_data"
    },
    {
     "name": "stdout",
     "output_type": "stream",
     "text": [
      "             precision    recall  f1-score   support\n",
      "\n",
      "          0       0.78      0.88      0.83     12500\n",
      "          1       0.86      0.75      0.80     12500\n",
      "\n",
      "avg / total       0.82      0.82      0.81     25000\n",
      "\n"
     ]
    },
    {
     "data": {
      "text/html": [
       "<b>Best Classifier<b>"
      ]
     },
     "metadata": {},
     "output_type": "display_data"
    },
    {
     "name": "stdout",
     "output_type": "stream",
     "text": [
      "             precision    recall  f1-score   support\n",
      "\n",
      "          0       0.82      0.87      0.85     12500\n",
      "          1       0.86      0.81      0.84     12500\n",
      "\n",
      "avg / total       0.84      0.84      0.84     25000\n",
      "\n"
     ]
    }
   ],
   "source": [
    "best_pred = best_clf.predict(X_test)\n",
    "ctrl_pred = ctrl_clf.predict(X_test)\n",
    "display_html(\"<b>\"+'Control Classifier'+\"<b>\", raw=True)\n",
    "print(classification_report(y_test, ctrl_pred))\n",
    "display_html(\"<b>\"+'Best Classifier'+\"<b>\", raw=True)\n",
    "print(classification_report(y_test, best_pred))"
   ]
  },
  {
   "cell_type": "code",
   "execution_count": 12,
   "metadata": {
    "collapsed": false
   },
   "outputs": [
    {
     "data": {
      "text/html": [
       "<b>Control Classifier<b>"
      ]
     },
     "metadata": {},
     "output_type": "display_data"
    },
    {
     "name": "stdout",
     "output_type": "stream",
     "text": [
      "Top Positive\n",
      "edie ([   0.  109.]) antwone ([  0.  88.]) din ([  0.  82.]) gunga ([  0.  66.]) goldsworthy ([  0.  65.]) yokai ([  0.  60.]) gypo ([  0.  60.]) paulie ([   1.  118.]) visconti ([  0.  51.]) flavia ([  0.  51.])\n",
      "\n",
      "Top Negative\n",
      "boll ([ 143.    1.]) uwe ([ 101.    1.]) slater ([ 49.   0.]) tashan ([ 45.   0.]) hobgoblins ([ 45.   0.]) kareena ([ 41.   0.]) kornbluth ([ 39.   0.]) sarne ([ 37.   0.]) gram ([ 37.   0.]) delia ([ 36.   0.])\n"
     ]
    },
    {
     "data": {
      "text/html": [
       "<b>Best Classifier<b>"
      ]
     },
     "metadata": {},
     "output_type": "display_data"
    },
    {
     "name": "stdout",
     "output_type": "stream",
     "text": [
      "Top Positive\n",
      "deliverance ([  0.  23.]) brashear ([  0.  21.]) bubba ([  0.  20.]) mj ([  0.  17.]) bsg ([  0.  16.]) bozz ([  0.  15.]) yokai ([  0.  15.]) clutter ([  0.  15.]) veronika ([  0.  15.]) canoe ([  0.  14.])\n",
      "\n",
      "Top Negative\n",
      "kornbluth ([ 27.   0.]) prom ([ 25.   0.]) delia ([ 23.   0.]) kirkland ([ 20.   0.]) picker ([ 17.   0.]) gamera ([ 14.   0.]) haim ([ 14.   0.]) lordi ([ 14.   0.]) thunderbirds ([ 29.   1.]) ramtha ([ 13.   0.])\n"
     ]
    }
   ],
   "source": [
    "best_weights = best_clf.get_weights()\n",
    "ctrl_weights = ctrl_clf.get_weights()\n",
    "\n",
    "best_ws = np.argsort(best_weights)\n",
    "ctrl_ws  = np.argsort(ctrl_weights)\n",
    "\n",
    "display_html(\"<b>\"+'Control Classifier'+\"<b>\", raw=True)\n",
    "\n",
    "print(\"Top Positive\")\n",
    "print(\" \".join([\"{} ({})\".format(feature_names[i], ctrl_clf.feature_count_[:,i])\n",
    "                for i in ctrl_ws[-10:][::-1]]))\n",
    "\n",
    "print(\"\\nTop Negative\")\n",
    "print(\" \".join([\"{} ({})\".format(feature_names[i], ctrl_clf.feature_count_[:,i])\n",
    "                for i in ctrl_ws[:10]]))\n",
    "\n",
    "display_html(\"<b>\"+'Best Classifier'+\"<b>\", raw=True)\n",
    "\n",
    "print(\"Top Positive\")\n",
    "print(\" \".join([\"{} ({})\".format(feature_names[i], best_clf.feature_count_[:,i])\n",
    "                for i in best_ws[-10:][::-1]]))\n",
    "\n",
    "print(\"\\nTop Negative\")\n",
    "print(\" \".join([\"{} ({})\".format(feature_names[i], best_clf.feature_count_[:,i])\n",
    "                for i in best_ws[:10]]))"
   ]
  },
  {
   "cell_type": "code",
   "execution_count": 13,
   "metadata": {
    "collapsed": false,
    "scrolled": false
   },
   "outputs": [
    {
     "data": {
      "text/html": [
       "<b>Probability Matrix<b>"
      ]
     },
     "metadata": {},
     "output_type": "display_data"
    },
    {
     "name": "stdout",
     "output_type": "stream",
     "text": [
      "[  1.00000000e+00   1.66497159e-15]\n",
      "[  4.83282274e-15   1.00000000e+00]\n"
     ]
    },
    {
     "data": {
      "text/html": [
       "<b>Control Classifier<b>"
      ]
     },
     "metadata": {},
     "output_type": "display_data"
    },
    {
     "data": {
      "text/html": [
       "<font size = 1, color=gray> A </font><font size = 1, color=red> blaxploitation </font><font size = 1, color=blue> classic, </font><font size = 1, color=red> this </font><font size = 1, color=red> movie </font><font size = 1, color=red> was </font><font size = 2, color=red> terribly </font><font size = 4, color=blue> influential </font><font size = 1, color=blue> in </font><font size = 1, color=blue> rap </font><font size = 1, color=blue> music </font><font size = 1, color=red> for </font><font size = 1, color=blue> the </font><font size = 1, color=gray> \"toasts\" </font><font size = 1, color=red> that </font><font size = 1, color=blue> Rudy </font><font size = 1, color=blue> Ray </font><font size = 1, color=blue> Moore </font><font size = 1, color=blue> performs. </font><font size = 1, color=gray> Toasts </font><font size = 1, color=red> are </font><font size = 1, color=red> long </font><font size = 1, color=red> rhyming </font><font size = 1, color=blue> stories </font><font size = 1, color=red> that </font><font size = 1, color=red> are </font><font size = 1, color=red> funny </font><font size = 1, color=blue> and </font><font size = 1, color=red> deliver </font><font size = 1, color=gray> a </font><font size = 1, color=red> point, </font><font size = 1, color=blue> and </font><font size = 1, color=red> you </font><font size = 1, color=red> can </font><font size = 1, color=blue> see </font><font size = 1, color=red> how </font><font size = 1, color=red> they </font><font size = 1, color=red> would </font><font size = 1, color=red> naturally </font><font size = 1, color=red> evolve </font><font size = 1, color=red> into </font><font size = 1, color=blue> rap. </font><font size = 1, color=red> For </font><font size = 1, color=blue> more </font><font size = 1, color=red> on </font><font size = 1, color=gray> toasts, </font><font size = 1, color=blue> Rudy </font><font size = 1, color=blue> Ray </font><font size = 1, color=blue> Moore, </font><font size = 1, color=blue> and </font><font size = 1, color=red> why </font><font size = 1, color=red> this </font><font size = 1, color=red> movie </font><font size = 1, color=blue> is </font><font size = 1, color=blue> important, </font><font size = 1, color=red> go </font><font size = 1, color=red> to </font><font size = 1, color=blue> Dolemite.com.<br </font><font size = 1, color=red> /><br </font><font size = 1, color=blue> />Which </font><font size = 1, color=blue> leaves </font><font size = 1, color=blue> us </font><font size = 1, color=red> just </font><font size = 1, color=red> to </font><font size = 1, color=red> talk </font><font size = 1, color=red> about </font><font size = 1, color=blue> the </font><font size = 1, color=red> movie </font><font size = 1, color=red> itself. </font><font size = 1, color=red> This </font><font size = 1, color=red> movie </font><font size = 2, color=blue> packs </font><font size = 1, color=blue> in </font><font size = 1, color=gray> a </font><font size = 2, color=blue> great </font><font size = 1, color=blue> deal </font><font size = 1, color=blue> of </font><font size = 1, color=red> \"laugh-at-the-funny-outfits-and-hairstyles\" </font><font size = 1, color=blue> bang </font><font size = 1, color=red> for </font><font size = 1, color=blue> the </font><font size = 1, color=blue> buck, </font><font size = 1, color=blue> as </font><font size = 1, color=red> nearly </font><font size = 1, color=red> every </font><font size = 1, color=red> shot </font><font size = 1, color=blue> has </font><font size = 1, color=red> some </font><font size = 1, color=red> sort </font><font size = 1, color=blue> of </font><font size = 1, color=blue> outrageous </font><font size = 1, color=blue> element </font><font size = 1, color=red> or </font><font size = 1, color=red> dialogue. </font><font size = 1, color=red> It </font><font size = 1, color=red> starts </font><font size = 1, color=blue> as </font><font size = 1, color=blue> Dolemite </font><font size = 1, color=blue> is </font><font size = 1, color=red> being </font><font size = 1, color=blue> released </font><font size = 1, color=blue> from </font><font size = 1, color=blue> prison </font><font size = 1, color=blue> in </font><font size = 1, color=blue> order </font><font size = 1, color=red> to </font><font size = 1, color=blue> find </font><font size = 1, color=red> out </font><font size = 1, color=blue> who </font><font size = 1, color=blue> framed </font><font size = 1, color=blue> him </font><font size = 1, color=blue> and </font><font size = 1, color=blue> bring </font><font size = 1, color=blue> him </font><font size = 1, color=red> to </font><font size = 1, color=blue> justice. </font><font size = 1, color=gray> I </font><font size = 1, color=red> was </font><font size = 1, color=blue> unaware </font><font size = 1, color=red> that </font><font size = 1, color=blue> prisons </font><font size = 1, color=blue> release </font><font size = 1, color=red> people </font><font size = 1, color=red> so </font><font size = 1, color=red> they </font><font size = 1, color=red> can </font><font size = 1, color=red> prove </font><font size = 1, color=blue> their </font><font size = 1, color=blue> own </font><font size = 2, color=blue> innocence, </font><font size = 1, color=red> but </font><font size = 1, color=red> that's </font><font size = 1, color=red> me, </font><font size = 1, color=gray> I'm </font><font size = 1, color=gray> a </font><font size = 1, color=blue> neophyte </font><font size = 1, color=blue> in </font><font size = 1, color=blue> the </font><font size = 1, color=blue> prison </font><font size = 1, color=red> scene. </font><font size = 1, color=blue> He </font><font size = 1, color=blue> is </font><font size = 1, color=blue> helped </font><font size = 1, color=blue> in </font><font size = 1, color=red> this </font><font size = 1, color=blue> by </font><font size = 1, color=blue> Queen </font><font size = 1, color=red> Bee, </font><font size = 1, color=blue> who </font><font size = 1, color=blue> is </font><font size = 1, color=blue> Dolemite's </font><font size = 1, color=red> lead </font><font size = 1, color=blue> prostitute </font><font size = 1, color=blue> and </font><font size = 1, color=blue> has </font><font size = 1, color=red> been </font><font size = 1, color=red> running </font><font size = 1, color=blue> his </font><font size = 2, color=blue> brothel </font><font size = 1, color=blue> while </font><font size = 1, color=blue> he's </font><font size = 1, color=red> been </font><font size = 1, color=red> gone. </font><font size = 1, color=blue> She </font><font size = 1, color=blue> has </font><font size = 1, color=blue> also </font><font size = 1, color=red> put </font><font size = 1, color=red> all </font><font size = 1, color=blue> of </font><font size = 1, color=blue> his </font><font size = 1, color=red> prostitutes </font><font size = 1, color=red> through </font><font size = 3, color=red> karate </font><font size = 1, color=red> school, </font><font size = 1, color=red> so </font><font size = 1, color=blue> now </font><font size = 1, color=blue> he </font><font size = 1, color=blue> has </font><font size = 1, color=blue> an </font><font size = 1, color=red> army </font><font size = 1, color=blue> of </font><font size = 1, color=red> female </font><font size = 3, color=red> karate </font><font size = 1, color=blue> fighters.<br </font><font size = 1, color=red> /><br </font><font size = 1, color=gray> />I </font><font size = 1, color=red> watched </font><font size = 1, color=red> this </font><font size = 1, color=red> movie </font><font size = 1, color=blue> in </font><font size = 1, color=blue> two </font><font size = 1, color=blue> parts, </font><font size = 1, color=blue> which </font><font size = 1, color=blue> is </font><font size = 1, color=red> usually </font><font size = 1, color=gray> a </font><font size = 1, color=red> mistake, </font><font size = 1, color=red> but </font><font size = 1, color=blue> in </font><font size = 1, color=red> this </font><font size = 1, color=red> case </font><font size = 1, color=red> it </font><font size = 1, color=blue> provided </font><font size = 1, color=blue> an </font><font size = 1, color=red> interesting </font><font size = 2, color=blue> contrast. </font><font size = 1, color=blue> The </font><font size = 1, color=blue> first </font><font size = 1, color=blue> part </font><font size = 1, color=gray> I </font><font size = 1, color=red> watched </font><font size = 1, color=red> on </font><font size = 1, color=blue> my </font><font size = 1, color=blue> lunch </font><font size = 1, color=red> break </font><font size = 1, color=blue> while </font><font size = 1, color=gray> exercising, </font><font size = 1, color=blue> and </font><font size = 1, color=red> wasn't </font><font size = 1, color=blue> enjoying </font><font size = 1, color=red> it </font><font size = 1, color=red> much </font><font size = 1, color=red> at </font><font size = 1, color=red> all. </font><font size = 1, color=red> It </font><font size = 1, color=blue> struck </font><font size = 1, color=red> me </font><font size = 1, color=blue> as </font><font size = 1, color=blue> particularly </font><font size = 4, color=red> poorly </font><font size = 1, color=red> made </font><font size = 1, color=red> blaxploitation, </font><font size = 1, color=blue> with </font><font size = 1, color=gray> a </font><font size = 3, color=red> ludicrous </font><font size = 1, color=blue> story, </font><font size = 3, color=red> shoddy </font><font size = 1, color=gray> craftsmanshipÂ—well, </font><font size = 1, color=gray> I </font><font size = 2, color=red> guess </font><font size = 1, color=red> that </font><font size = 1, color=blue> makes </font><font size = 1, color=red> it </font><font size = 1, color=red> sound </font><font size = 1, color=red> like </font><font size = 1, color=red> it </font><font size = 1, color=red> had </font><font size = 1, color=red> SOME </font><font size = 1, color=gray> craftsmanshipÂ—and </font><font size = 1, color=red> tons </font><font size = 1, color=blue> of </font><font size = 1, color=blue> outrageous </font><font size = 1, color=blue> locales, </font><font size = 1, color=red> outfits </font><font size = 1, color=blue> and </font><font size = 1, color=red> dialogue. </font><font size = 1, color=red> But </font><font size = 1, color=gray> I </font><font size = 1, color=red> wasn't </font><font size = 1, color=blue> enjoying </font><font size = 1, color=blue> thatÂ—in </font><font size = 1, color=red> fact, </font><font size = 1, color=red> it </font><font size = 1, color=red> kind </font><font size = 1, color=blue> of </font><font size = 1, color=red> made </font><font size = 1, color=red> me </font><font size = 1, color=blue> feel </font><font size = 1, color=blue> dirty. </font><font size = 1, color=red> Let's </font><font size = 1, color=red> face </font><font size = 1, color=red> it, </font><font size = 1, color=gray> a </font><font size = 1, color=blue> white </font><font size = 1, color=red> guy </font><font size = 1, color=red> watching </font><font size = 1, color=red> something </font><font size = 1, color=red> like </font><font size = 1, color=red> this </font><font size = 1, color=red> to </font><font size = 1, color=red> laugh </font><font size = 1, color=red> at </font><font size = 1, color=blue> the </font><font size = 1, color=red> outfits </font><font size = 1, color=blue> and </font><font size = 1, color=blue> the </font><font size = 1, color=red> things </font><font size = 1, color=blue> the </font><font size = 1, color=red> characters </font><font size = 1, color=red> say </font><font size = 1, color=blue> is </font><font size = 1, color=red> essentially </font><font size = 1, color=red> getting </font><font size = 1, color=blue> an </font><font size = 1, color=blue> enjoyment </font><font size = 1, color=red> out </font><font size = 1, color=blue> of </font><font size = 1, color=red> it </font><font size = 1, color=red> that </font><font size = 1, color=blue> is </font><font size = 1, color=red> racist: </font><font size = 1, color=red> how </font><font size = 3, color=red> ridiculously </font><font size = 1, color=blue> those </font><font size = 1, color=red> black </font><font size = 1, color=red> people </font><font size = 1, color=blue> dress, </font><font size = 1, color=red> what </font><font size = 2, color=red> silly </font><font size = 1, color=red> things </font><font size = 1, color=red> they </font><font size = 1, color=red> say. </font><font size = 1, color=gray> I </font><font size = 1, color=red> wasn't </font><font size = 1, color=red> really </font><font size = 1, color=blue> enjoying </font><font size = 1, color=red> it, </font><font size = 1, color=red> wasn't </font><font size = 1, color=red> laughing, </font><font size = 1, color=blue> and </font><font size = 1, color=red> wasn't </font><font size = 1, color=red> looking </font><font size = 1, color=red> forward </font><font size = 1, color=red> to </font><font size = 1, color=red> watching </font><font size = 1, color=blue> the </font><font size = 1, color=red> rest.<br </font><font size = 1, color=red> /><br </font><font size = 1, color=blue> />Later </font><font size = 1, color=red> that </font><font size = 1, color=red> night, </font><font size = 1, color=blue> when </font><font size = 1, color=gray> I </font><font size = 1, color=red> was </font><font size = 1, color=blue> in </font><font size = 1, color=gray> a </font><font size = 1, color=red> \"much </font><font size = 1, color=blue> more </font><font size = 3, color=blue> relaxed </font><font size = 1, color=blue> state,\" </font><font size = 1, color=gray> I </font><font size = 1, color=red> watched </font><font size = 1, color=blue> the </font><font size = 1, color=gray> restÂ—and </font><font size = 1, color=blue> legitimately </font><font size = 2, color=blue> loved </font><font size = 1, color=red> it. </font><font size = 1, color=red> Like </font><font size = 1, color=red> Disco </font><font size = 1, color=red> Godfather, </font><font size = 1, color=blue> which </font><font size = 1, color=gray> I </font><font size = 1, color=red> had </font><font size = 1, color=red> watched </font><font size = 1, color=gray> a </font><font size = 1, color=red> few </font><font size = 1, color=blue> days </font><font size = 1, color=blue> previously, </font><font size = 1, color=red> this </font><font size = 1, color=blue> has </font><font size = 1, color=gray> a </font><font size = 2, color=blue> warmth </font><font size = 1, color=blue> and </font><font size = 2, color=blue> sweetness </font><font size = 1, color=red> at </font><font size = 1, color=blue> its </font><font size = 1, color=blue> core </font><font size = 1, color=red> that </font><font size = 1, color=blue> makes </font><font size = 1, color=red> it </font><font size = 1, color=blue> likable </font><font size = 1, color=red> even </font><font size = 1, color=blue> when </font><font size = 1, color=red> it's </font><font size = 2, color=red> silly </font><font size = 1, color=red> or </font><font size = 1, color=blue> violent. </font><font size = 1, color=blue> The </font><font size = 1, color=red> character </font><font size = 1, color=blue> of </font><font size = 1, color=blue> Dolemite </font><font size = 1, color=blue> has </font><font size = 1, color=blue> an </font><font size = 1, color=blue> element </font><font size = 1, color=blue> of </font><font size = 1, color=red> self-parody </font><font size = 1, color=red> about </font><font size = 1, color=blue> him </font><font size = 1, color=red> that </font><font size = 1, color=blue> makes </font><font size = 1, color=blue> the </font><font size = 1, color=red> whole </font><font size = 1, color=red> thing </font><font size = 1, color=blue> fun, </font><font size = 1, color=blue> and </font><font size = 1, color=blue> the </font><font size = 1, color=red> appearance </font><font size = 1, color=blue> of </font><font size = 1, color=blue> several </font><font size = 1, color=red> actors </font><font size = 1, color=blue> who </font><font size = 1, color=red> were </font><font size = 1, color=blue> also </font><font size = 1, color=blue> in </font><font size = 1, color=red> Disco </font><font size = 1, color=red> Godfather </font><font size = 1, color=red> implies </font><font size = 1, color=red> that </font><font size = 1, color=blue> we're </font><font size = 1, color=red> watching </font><font size = 1, color=blue> the </font><font size = 1, color=red> group </font><font size = 2, color=red> effort </font><font size = 1, color=blue> of </font><font size = 1, color=gray> a </font><font size = 2, color=red> bunch </font><font size = 1, color=blue> of </font><font size = 1, color=blue> friends </font><font size = 1, color=blue> who </font><font size = 1, color=red> just </font><font size = 1, color=red> want </font><font size = 1, color=red> to </font><font size = 1, color=red> make </font><font size = 1, color=red> something </font><font size = 1, color=blue> fun </font><font size = 1, color=blue> together. </font><font size = 1, color=red> Even </font><font size = 1, color=blue> the </font><font size = 2, color=red> poor </font><font size = 2, color=red> dubbing, </font><font size = 3, color=red> karate </font><font size = 1, color=red> fights, </font><font size = 1, color=blue> and </font><font size = 1, color=red> everything </font><font size = 1, color=red> else </font><font size = 1, color=red> just </font><font size = 1, color=blue> makes </font><font size = 1, color=red> it </font><font size = 1, color=red> that </font><font size = 1, color=red> much </font><font size = 1, color=blue> more </font><font size = 2, color=blue> charming.<br </font><font size = 1, color=red> /><br </font><font size = 1, color=red> />What </font><font size = 1, color=gray> I </font><font size = 1, color=blue> find </font><font size = 1, color=red> interesting </font><font size = 1, color=red> about </font><font size = 1, color=blue> the </font><font size = 1, color=blue> Dolemite </font><font size = 1, color=blue> films </font><font size = 1, color=blue> is </font><font size = 1, color=red> that </font><font size = 1, color=red> they </font><font size = 1, color=red> have </font><font size = 1, color=red> some </font><font size = 1, color=blue> moral </font><font size = 1, color=blue> ambiguity </font><font size = 1, color=gray> I </font><font size = 1, color=red> don't </font><font size = 1, color=blue> see </font><font size = 1, color=blue> in </font><font size = 1, color=blue> other </font><font size = 1, color=red> blaxploitation </font><font size = 1, color=blue> films, </font><font size = 1, color=blue> and </font><font size = 1, color=blue> certainly </font><font size = 1, color=blue> in </font><font size = 1, color=blue> very </font><font size = 1, color=red> few </font><font size = 1, color=blue> mainstream </font><font size = 1, color=blue> films. </font><font size = 1, color=blue> In </font><font size = 1, color=red> this </font><font size = 1, color=blue> one, </font><font size = 1, color=red> there </font><font size = 1, color=blue> is </font><font size = 1, color=blue> an </font><font size = 1, color=blue> African-American </font><font size = 1, color=blue> woman </font><font size = 1, color=blue> who </font><font size = 1, color=blue> gives </font><font size = 1, color=gray> a </font><font size = 1, color=red> speech </font><font size = 1, color=red> about </font><font size = 1, color=blue> the </font><font size = 1, color=blue> (white) </font><font size = 1, color=blue> Mayor, </font><font size = 2, color=red> saying </font><font size = 1, color=blue> \"he </font><font size = 1, color=blue> has </font><font size = 1, color=blue> done </font><font size = 1, color=blue> more </font><font size = 1, color=red> for </font><font size = 1, color=blue> the </font><font size = 1, color=red> black </font><font size = 1, color=blue> community </font><font size = 1, color=red> than </font><font size = 1, color=red> anyone.\" </font><font size = 1, color=blue> We </font><font size = 1, color=blue> later </font><font size = 1, color=blue> find </font><font size = 1, color=red> out </font><font size = 1, color=red> that </font><font size = 1, color=blue> the </font><font size = 1, color=blue> Mayor </font><font size = 1, color=blue> is, </font><font size = 1, color=blue> surprise, </font><font size = 1, color=red> corrupt, </font><font size = 1, color=red> but </font><font size = 1, color=gray> I </font><font size = 1, color=red> like </font><font size = 1, color=red> that </font><font size = 1, color=blue> the </font><font size = 1, color=red> movie </font><font size = 1, color=red> would </font><font size = 1, color=blue> present </font><font size = 1, color=red> this </font><font size = 1, color=blue> woman </font><font size = 1, color=blue> as </font><font size = 1, color=red> essentially </font><font size = 2, color=red> misguided </font><font size = 1, color=blue> and </font><font size = 1, color=red> not </font><font size = 1, color=red> try </font><font size = 1, color=red> to </font><font size = 2, color=red> \"redeem\" </font><font size = 1, color=blue> her </font><font size = 1, color=blue> in </font><font size = 1, color=red> some </font><font size = 1, color=blue> other </font><font size = 1, color=red> way. </font><font size = 1, color=red> There's </font><font size = 1, color=blue> also </font><font size = 1, color=blue> the </font><font size = 1, color=red> figure </font><font size = 1, color=blue> of </font><font size = 1, color=blue> the </font><font size = 2, color=red> Hamburger </font><font size = 1, color=red> Pimp, </font><font size = 1, color=blue> who </font><font size = 1, color=blue> is </font><font size = 1, color=blue> presented </font><font size = 1, color=blue> as </font><font size = 1, color=gray> a </font><font size = 3, color=red> useless </font><font size = 1, color=blue> junkie, </font><font size = 1, color=blue> and </font><font size = 1, color=red> no </font><font size = 1, color=blue> one </font><font size = 1, color=blue> makes </font><font size = 1, color=blue> an </font><font size = 2, color=red> effort </font><font size = 1, color=red> to </font><font size = 1, color=blue> find </font><font size = 1, color=red> some </font><font size = 4, color=red> redeeming, </font><font size = 1, color=red> socially </font><font size = 1, color=red> positive </font><font size = 1, color=blue> angle </font><font size = 1, color=red> to </font><font size = 1, color=red> what </font><font size = 1, color=blue> he </font><font size = 1, color=blue> is, </font><font size = 1, color=blue> he </font><font size = 1, color=red> just </font><font size = 1, color=blue> is. </font><font size = 1, color=blue> In </font><font size = 1, color=red> Disco </font><font size = 1, color=red> Godfather </font><font size = 1, color=blue> the </font><font size = 1, color=red> religious </font><font size = 1, color=red> character </font><font size = 1, color=blue> Lady </font><font size = 1, color=blue> Reed </font><font size = 1, color=blue> plays </font><font size = 1, color=blue> is </font><font size = 1, color=blue> presented </font><font size = 1, color=blue> as </font><font size = 1, color=red> just </font><font size = 1, color=red> nuts </font><font size = 1, color=red> for </font><font size = 1, color=blue> wanting </font><font size = 1, color=red> to </font><font size = 2, color=red> pray </font><font size = 1, color=red> for </font><font size = 1, color=blue> her </font><font size = 1, color=blue> child, </font><font size = 2, color=red> hopelessly </font><font size = 1, color=blue> lost </font><font size = 1, color=red> to </font><font size = 1, color=blue> angel </font><font size = 1, color=red> dust. </font><font size = 1, color=gray> I </font><font size = 1, color=red> like </font><font size = 1, color=red> that </font><font size = 1, color=blue> the </font><font size = 1, color=blue> films </font><font size = 1, color=red> would </font><font size = 1, color=blue> present </font><font size = 1, color=red> such </font><font size = 1, color=blue> harshly </font><font size = 1, color=blue> critical </font><font size = 2, color=blue> portrayals </font><font size = 1, color=blue> of </font><font size = 1, color=red> people </font><font size = 1, color=blue> in </font><font size = 1, color=blue> their </font><font size = 1, color=blue> own </font><font size = 1, color=blue> community </font><font size = 1, color=blue> without </font><font size = 1, color=red> sugar-coating </font><font size = 1, color=red> or </font><font size = 1, color=red> trying </font><font size = 1, color=red> to </font><font size = 2, color=red> redeem </font><font size = 1, color=red> them </font><font size = 1, color=red> to </font><font size = 1, color=red> make </font><font size = 1, color=red> them </font><font size = 1, color=blue> more </font><font size = 1, color=red> palatable.<br </font><font size = 1, color=red> /><br </font><font size = 1, color=red> />There </font><font size = 1, color=red> are </font><font size = 1, color=gray> a </font><font size = 1, color=blue> lot </font><font size = 1, color=blue> of </font><font size = 1, color=gray> hootworthy </font><font size = 1, color=blue> elements, </font><font size = 1, color=red> such </font><font size = 1, color=blue> as </font><font size = 1, color=blue> when </font><font size = 1, color=blue> Dolemite </font><font size = 1, color=red> says </font><font size = 1, color=red> \"Move </font><font size = 1, color=red> over </font><font size = 1, color=blue> and </font><font size = 1, color=red> let </font><font size = 1, color=red> me </font><font size = 1, color=red> pass, </font><font size = 1, color=red> or </font><font size = 1, color=gray> I'm </font><font size = 2, color=red> gonna </font><font size = 1, color=red> be </font><font size = 1, color=red> pulling </font><font size = 1, color=red> these </font><font size = 1, color=blue> Hush </font><font size = 1, color=red> Puppies </font><font size = 1, color=red> out </font><font size = 1, color=red> your </font><font size = 1, color=gray> muthatf** </font><font size = 1, color=gray> a**.\" </font><font size = 1, color=red> There </font><font size = 1, color=blue> is </font><font size = 1, color=blue> Queen </font><font size = 1, color=red> Bee </font><font size = 1, color=blue> reaching </font><font size = 1, color=red> over </font><font size = 1, color=blue> and </font><font size = 1, color=red> answering </font><font size = 1, color=blue> the </font><font size = 1, color=red> phone: </font><font size = 1, color=blue> \"Dolemite's </font><font size = 2, color=red> Total </font><font size = 1, color=blue> Experience.\" </font><font size = 1, color=blue> And </font><font size = 1, color=red> you </font><font size = 1, color=blue> will </font><font size = 1, color=red> not </font><font size = 1, color=red> be </font><font size = 1, color=blue> able </font><font size = 1, color=red> to </font><font size = 1, color=blue> miss </font><font size = 1, color=blue> (though </font><font size = 1, color=red> you </font><font size = 1, color=blue> may </font><font size = 1, color=blue> wish </font><font size = 1, color=red> to </font><font size = 1, color=red> cover </font><font size = 1, color=red> your </font><font size = 1, color=blue> eyes) </font><font size = 1, color=blue> the </font><font size = 1, color=blue> extended </font><font size = 1, color=red> nude </font><font size = 1, color=red> scene </font><font size = 1, color=blue> by </font><font size = 1, color=blue> the </font><font size = 2, color=red> REPULSIVE </font><font size = 1, color=blue> Mayor. </font><font size = 1, color=gray> I </font><font size = 1, color=red> am </font><font size = 1, color=red> all </font><font size = 1, color=red> for </font><font size = 1, color=gray> mustachioed </font><font size = 1, color=red> pervy </font><font size = 1, color=blue> older </font><font size = 1, color=blue> men, </font><font size = 1, color=red> but </font><font size = 1, color=red> even </font><font size = 1, color=gray> I </font><font size = 1, color=red> have </font><font size = 1, color=gray> limitsÂ—-and </font><font size = 1, color=blue> my </font><font size = 1, color=blue> limits </font><font size = 1, color=red> are </font><font size = 1, color=red> usually </font><font size = 1, color=gray> a </font><font size = 1, color=red> few </font><font size = 1, color=blue> miles </font><font size = 1, color=blue> past </font><font size = 1, color=blue> most </font><font size = 1, color=red> people's, </font><font size = 1, color=red> so </font><font size = 1, color=red> be </font><font size = 2, color=red> warned. </font><font size = 1, color=blue> The </font><font size = 1, color=blue> DVD </font><font size = 1, color=gray> I </font><font size = 1, color=red> had </font><font size = 1, color=blue> is </font><font size = 1, color=red> clearly </font><font size = 1, color=red> edited, </font><font size = 1, color=blue> which </font><font size = 1, color=blue> is </font><font size = 1, color=blue> noticeable </font><font size = 1, color=blue> in </font><font size = 1, color=blue> certain </font><font size = 1, color=blue> of </font><font size = 1, color=blue> the </font><font size = 1, color=red> dialogue </font><font size = 1, color=red> scenes, </font><font size = 1, color=blue> and </font><font size = 1, color=red> at </font><font size = 1, color=blue> the </font><font size = 1, color=red> end, </font><font size = 1, color=blue> when </font><font size = 1, color=blue> Dolemite's </font><font size = 1, color=red> killing </font><font size = 1, color=blue> of </font><font size = 1, color=gray> a </font><font size = 1, color=red> major </font><font size = 1, color=red> character </font><font size = 1, color=blue> with </font><font size = 1, color=blue> his </font><font size = 1, color=red> bare </font><font size = 1, color=red> hands </font><font size = 1, color=red> obviously </font><font size = 1, color=gray> excludes </font><font size = 1, color=blue> the </font><font size = 1, color=red> main </font><font size = 1, color=blue> event.<br </font><font size = 1, color=red> /><br </font><font size = 1, color=red> />If </font><font size = 1, color=red> you </font><font size = 1, color=red> do </font><font size = 1, color=red> get </font><font size = 1, color=blue> the </font><font size = 1, color=blue> DVD, </font><font size = 1, color=blue> however, </font><font size = 1, color=red> be </font><font size = 1, color=red> sure </font><font size = 1, color=red> to </font><font size = 1, color=red> watch </font><font size = 1, color=red> all </font><font size = 1, color=blue> three </font><font size = 1, color=red> trailers </font><font size = 1, color=red> for </font><font size = 1, color=blue> the </font><font size = 1, color=blue> Dolemite </font><font size = 1, color=blue> films, </font><font size = 1, color=blue> as </font><font size = 1, color=red> they </font><font size = 1, color=red> are </font><font size = 1, color=gray> a </font><font size = 1, color=blue> hoot. </font><font size = 1, color=gray> I </font><font size = 1, color=red> wasn't </font><font size = 1, color=red> going </font><font size = 1, color=red> to </font><font size = 1, color=red> watch </font><font size = 1, color=blue> The </font><font size = 1, color=blue> Human </font><font size = 1, color=blue> Tornado, </font><font size = 1, color=red> but </font><font size = 1, color=red> after </font><font size = 1, color=blue> seeing </font><font size = 1, color=red> that </font><font size = 1, color=red> trailer, </font><font size = 1, color=red> you'd </font><font size = 1, color=red> better </font><font size = 1, color=red> BELIEVE </font><font size = 1, color=red> that </font><font size = 1, color=gray> I </font><font size = 1, color=red> am. </font><font size = 1, color=blue> Also, </font><font size = 1, color=red> there </font><font size = 1, color=blue> is </font><font size = 1, color=gray> a </font><font size = 1, color=red> scene </font><font size = 1, color=blue> in </font><font size = 1, color=blue> the </font><font size = 1, color=blue> Dolemite </font><font size = 1, color=red> trailer </font><font size = 1, color=red> that </font><font size = 1, color=gray> I </font><font size = 1, color=red> don't </font><font size = 1, color=blue> remember </font><font size = 1, color=blue> from </font><font size = 1, color=blue> the </font><font size = 1, color=red> movie </font><font size = 1, color=blue> when </font><font size = 1, color=blue> Dolemite </font><font size = 2, color=red> swings </font><font size = 1, color=red> at </font><font size = 1, color=gray> a </font><font size = 1, color=red> Mexican-looking </font><font size = 1, color=blue> thug, </font><font size = 1, color=red> obviously </font><font size = 1, color=red> misses, </font><font size = 1, color=blue> and </font><font size = 1, color=blue> the </font><font size = 1, color=red> guy </font><font size = 2, color=red> flips </font><font size = 1, color=blue> himself </font><font size = 1, color=red> into </font><font size = 1, color=gray> a </font><font size = 1, color=red> nearby </font><font size = 1, color=red> car </font><font size = 2, color=red> trunk.<br </font><font size = 1, color=red> /><br </font><font size = 1, color=red> />After </font><font size = 1, color=red> watching </font><font size = 1, color=blue> the </font><font size = 1, color=blue> first </font><font size = 1, color=red> half, </font><font size = 1, color=gray> I </font><font size = 1, color=red> was </font><font size = 1, color=red> going </font><font size = 1, color=red> to </font><font size = 1, color=red> say </font><font size = 1, color=red> to </font><font size = 2, color=red> skip </font><font size = 1, color=red> this </font><font size = 1, color=blue> and </font><font size = 1, color=red> watch </font><font size = 1, color=red> Disco </font><font size = 1, color=red> Godfather, </font><font size = 1, color=blue> as </font><font size = 1, color=blue> the </font><font size = 1, color=blue> film-making </font><font size = 1, color=blue> and </font><font size = 1, color=blue> story </font><font size = 1, color=blue> has </font><font size = 3, color=red> marginally </font><font size = 1, color=red> improved, </font><font size = 1, color=red> but </font><font size = 1, color=red> after </font><font size = 1, color=red> really </font><font size = 1, color=blue> enjoying </font><font size = 1, color=blue> the </font><font size = 1, color=blue> second </font><font size = 1, color=red> half, </font><font size = 1, color=gray> I </font><font size = 1, color=red> would </font><font size = 2, color=red> advise </font><font size = 1, color=red> watching </font><font size = 1, color=red> this </font><font size = 1, color=blue> one </font><font size = 1, color=red> over </font><font size = 1, color=red> Disco </font><font size = 1, color=red> Godfather, </font><font size = 1, color=blue> as </font><font size = 1, color=red> this </font><font size = 1, color=blue> one </font><font size = 1, color=blue> is </font><font size = 1, color=red> even </font><font size = 1, color=blue> more </font><font size = 1, color=gray> exuberantly </font><font size = 1, color=blue> fun, </font><font size = 1, color=blue> outrageous, </font><font size = 1, color=blue> and </font><font size = 1, color=blue> good-naturedÂ—and </font><font size = 1, color=blue> has </font><font size = 1, color=blue> those </font><font size = 1, color=gray> toasts </font><font size = 1, color=blue> which, </font><font size = 1, color=red> even </font><font size = 1, color=red> if </font><font size = 1, color=blue> one </font><font size = 1, color=red> doesn't </font><font size = 1, color=red> understand </font><font size = 1, color=blue> the </font><font size = 1, color=blue> roots </font><font size = 1, color=blue> and </font><font size = 2, color=blue> nuances </font><font size = 1, color=blue> of </font><font size = 1, color=blue> the </font><font size = 1, color=blue> form, </font><font size = 1, color=red> are </font><font size = 1, color=blue> still </font><font size = 1, color=red> something </font><font size = 1, color=red> to </font><font size = 1, color=blue> see.<br </font><font size = 1, color=red> /><br </font><font size = 1, color=gray> />--- </font><font size = 1, color=red> Check </font><font size = 1, color=red> out </font><font size = 1, color=blue> other </font><font size = 1, color=red> reviews </font><font size = 1, color=red> on </font><font size = 1, color=blue> my </font><font size = 1, color=blue> website </font><font size = 1, color=blue> of </font><font size = 3, color=red> bad </font><font size = 1, color=blue> and </font><font size = 1, color=red> cheesy </font><font size = 1, color=red> movies, </font><font size = 1, color=blue> Cinema </font><font size = 1, color=blue> de </font><font size = 1, color=blue> Merde, </font><font size = 1, color=gray> cinemademerde.com </font>"
      ],
      "text/plain": [
       "<utils.ColoredWeightedDoc at 0x235f78e4208>"
      ]
     },
     "metadata": {},
     "output_type": "display_data"
    },
    {
     "data": {
      "text/html": [
       "<b>Best Classifier<b>"
      ]
     },
     "metadata": {},
     "output_type": "display_data"
    },
    {
     "data": {
      "text/html": [
       "<font size = 1, color=gray> A </font><font size = 1, color=blue> blaxploitation </font><font size = 1, color=blue> classic, </font><font size = 1, color=red> this </font><font size = 1, color=red> movie </font><font size = 1, color=red> was </font><font size = 2, color=red> terribly </font><font size = 1, color=red> influential </font><font size = 1, color=blue> in </font><font size = 3, color=blue> rap </font><font size = 1, color=blue> music </font><font size = 1, color=red> for </font><font size = 1, color=red> the </font><font size = 1, color=gray> \"toasts\" </font><font size = 1, color=blue> that </font><font size = 4, color=blue> Rudy </font><font size = 1, color=blue> Ray </font><font size = 1, color=red> Moore </font><font size = 1, color=blue> performs. </font><font size = 1, color=gray> Toasts </font><font size = 1, color=blue> are </font><font size = 1, color=red> long </font><font size = 1, color=blue> rhyming </font><font size = 1, color=blue> stories </font><font size = 1, color=blue> that </font><font size = 1, color=blue> are </font><font size = 1, color=blue> funny </font><font size = 1, color=blue> and </font><font size = 1, color=red> deliver </font><font size = 1, color=gray> a </font><font size = 1, color=red> point, </font><font size = 1, color=blue> and </font><font size = 1, color=blue> you </font><font size = 1, color=blue> can </font><font size = 1, color=blue> see </font><font size = 1, color=red> how </font><font size = 1, color=red> they </font><font size = 1, color=red> would </font><font size = 1, color=red> naturally </font><font size = 1, color=blue> evolve </font><font size = 1, color=red> into </font><font size = 3, color=blue> rap. </font><font size = 1, color=red> For </font><font size = 1, color=blue> more </font><font size = 1, color=red> on </font><font size = 1, color=gray> toasts, </font><font size = 4, color=blue> Rudy </font><font size = 1, color=blue> Ray </font><font size = 1, color=red> Moore, </font><font size = 1, color=blue> and </font><font size = 1, color=red> why </font><font size = 1, color=red> this </font><font size = 1, color=red> movie </font><font size = 1, color=blue> is </font><font size = 1, color=blue> important, </font><font size = 1, color=red> go </font><font size = 1, color=red> to </font><font size = 5, color=blue> Dolemite.com.<br </font><font size = 1, color=red> /><br </font><font size = 1, color=red> />Which </font><font size = 1, color=blue> leaves </font><font size = 1, color=blue> us </font><font size = 1, color=red> just </font><font size = 1, color=red> to </font><font size = 1, color=red> talk </font><font size = 1, color=blue> about </font><font size = 1, color=red> the </font><font size = 1, color=red> movie </font><font size = 1, color=red> itself. </font><font size = 1, color=red> This </font><font size = 1, color=red> movie </font><font size = 3, color=blue> packs </font><font size = 1, color=blue> in </font><font size = 1, color=gray> a </font><font size = 2, color=blue> great </font><font size = 1, color=blue> deal </font><font size = 1, color=blue> of </font><font size = 1, color=blue> \"laugh-at-the-funny-outfits-and-hairstyles\" </font><font size = 1, color=blue> bang </font><font size = 1, color=red> for </font><font size = 1, color=red> the </font><font size = 1, color=blue> buck, </font><font size = 1, color=blue> as </font><font size = 1, color=blue> nearly </font><font size = 1, color=blue> every </font><font size = 1, color=blue> shot </font><font size = 1, color=blue> has </font><font size = 1, color=red> some </font><font size = 1, color=red> sort </font><font size = 1, color=blue> of </font><font size = 1, color=red> outrageous </font><font size = 1, color=red> element </font><font size = 1, color=red> or </font><font size = 1, color=red> dialogue. </font><font size = 1, color=blue> It </font><font size = 1, color=red> starts </font><font size = 1, color=blue> as </font><font size = 5, color=blue> Dolemite </font><font size = 1, color=blue> is </font><font size = 1, color=red> being </font><font size = 1, color=blue> released </font><font size = 1, color=red> from </font><font size = 1, color=red> prison </font><font size = 1, color=blue> in </font><font size = 1, color=red> order </font><font size = 1, color=red> to </font><font size = 1, color=blue> find </font><font size = 1, color=blue> out </font><font size = 1, color=blue> who </font><font size = 1, color=blue> framed </font><font size = 1, color=blue> him </font><font size = 1, color=blue> and </font><font size = 1, color=blue> bring </font><font size = 1, color=blue> him </font><font size = 1, color=red> to </font><font size = 1, color=blue> justice. </font><font size = 1, color=gray> I </font><font size = 1, color=red> was </font><font size = 1, color=red> unaware </font><font size = 1, color=blue> that </font><font size = 2, color=blue> prisons </font><font size = 1, color=blue> release </font><font size = 1, color=blue> people </font><font size = 1, color=red> so </font><font size = 1, color=red> they </font><font size = 1, color=blue> can </font><font size = 1, color=red> prove </font><font size = 1, color=blue> their </font><font size = 1, color=blue> own </font><font size = 1, color=blue> innocence, </font><font size = 1, color=red> but </font><font size = 1, color=blue> that's </font><font size = 1, color=blue> me, </font><font size = 1, color=gray> I'm </font><font size = 1, color=gray> a </font><font size = 1, color=blue> neophyte </font><font size = 1, color=blue> in </font><font size = 1, color=red> the </font><font size = 1, color=red> prison </font><font size = 1, color=blue> scene. </font><font size = 1, color=red> He </font><font size = 1, color=blue> is </font><font size = 1, color=blue> helped </font><font size = 1, color=blue> in </font><font size = 1, color=red> this </font><font size = 1, color=red> by </font><font size = 1, color=blue> Queen </font><font size = 1, color=blue> Bee, </font><font size = 1, color=blue> who </font><font size = 1, color=blue> is </font><font size = 5, color=blue> Dolemite's </font><font size = 1, color=red> lead </font><font size = 1, color=red> prostitute </font><font size = 1, color=blue> and </font><font size = 1, color=blue> has </font><font size = 1, color=red> been </font><font size = 1, color=red> running </font><font size = 1, color=blue> his </font><font size = 2, color=blue> brothel </font><font size = 1, color=blue> while </font><font size = 1, color=red> he's </font><font size = 1, color=red> been </font><font size = 1, color=blue> gone. </font><font size = 1, color=blue> She </font><font size = 1, color=blue> has </font><font size = 1, color=blue> also </font><font size = 1, color=red> put </font><font size = 1, color=blue> all </font><font size = 1, color=blue> of </font><font size = 1, color=blue> his </font><font size = 1, color=red> prostitutes </font><font size = 1, color=red> through </font><font size = 1, color=red> karate </font><font size = 1, color=blue> school, </font><font size = 1, color=red> so </font><font size = 1, color=blue> now </font><font size = 1, color=red> he </font><font size = 1, color=blue> has </font><font size = 1, color=red> an </font><font size = 1, color=red> army </font><font size = 1, color=blue> of </font><font size = 1, color=red> female </font><font size = 1, color=red> karate </font><font size = 1, color=blue> fighters.<br </font><font size = 1, color=red> /><br </font><font size = 1, color=gray> />I </font><font size = 1, color=red> watched </font><font size = 1, color=red> this </font><font size = 1, color=red> movie </font><font size = 1, color=blue> in </font><font size = 1, color=blue> two </font><font size = 1, color=blue> parts, </font><font size = 1, color=red> which </font><font size = 1, color=blue> is </font><font size = 1, color=red> usually </font><font size = 1, color=gray> a </font><font size = 2, color=red> mistake, </font><font size = 1, color=red> but </font><font size = 1, color=blue> in </font><font size = 1, color=red> this </font><font size = 1, color=red> case </font><font size = 1, color=blue> it </font><font size = 1, color=blue> provided </font><font size = 1, color=red> an </font><font size = 1, color=red> interesting </font><font size = 1, color=blue> contrast. </font><font size = 1, color=red> The </font><font size = 1, color=blue> first </font><font size = 1, color=blue> part </font><font size = 1, color=gray> I </font><font size = 1, color=red> watched </font><font size = 1, color=red> on </font><font size = 1, color=blue> my </font><font size = 3, color=blue> lunch </font><font size = 1, color=red> break </font><font size = 1, color=blue> while </font><font size = 1, color=gray> exercising, </font><font size = 1, color=blue> and </font><font size = 1, color=red> wasn't </font><font size = 1, color=blue> enjoying </font><font size = 1, color=blue> it </font><font size = 1, color=red> much </font><font size = 1, color=red> at </font><font size = 1, color=blue> all. </font><font size = 1, color=blue> It </font><font size = 3, color=blue> struck </font><font size = 1, color=blue> me </font><font size = 1, color=blue> as </font><font size = 1, color=red> particularly </font><font size = 3, color=red> poorly </font><font size = 1, color=red> made </font><font size = 1, color=blue> blaxploitation, </font><font size = 1, color=blue> with </font><font size = 1, color=gray> a </font><font size = 2, color=red> ludicrous </font><font size = 1, color=blue> story, </font><font size = 1, color=red> shoddy </font><font size = 1, color=gray> craftsmanshipÂ—well, </font><font size = 1, color=gray> I </font><font size = 1, color=red> guess </font><font size = 1, color=blue> that </font><font size = 1, color=blue> makes </font><font size = 1, color=blue> it </font><font size = 1, color=red> sound </font><font size = 1, color=red> like </font><font size = 1, color=blue> it </font><font size = 1, color=red> had </font><font size = 1, color=red> SOME </font><font size = 1, color=gray> craftsmanshipÂ—and </font><font size = 1, color=blue> tons </font><font size = 1, color=blue> of </font><font size = 1, color=red> outrageous </font><font size = 1, color=red> locales, </font><font size = 1, color=blue> outfits </font><font size = 1, color=blue> and </font><font size = 1, color=red> dialogue. </font><font size = 1, color=red> But </font><font size = 1, color=gray> I </font><font size = 1, color=red> wasn't </font><font size = 1, color=blue> enjoying </font><font size = 1, color=red> thatÂ—in </font><font size = 1, color=red> fact, </font><font size = 1, color=blue> it </font><font size = 1, color=blue> kind </font><font size = 1, color=blue> of </font><font size = 1, color=red> made </font><font size = 1, color=blue> me </font><font size = 1, color=blue> feel </font><font size = 1, color=blue> dirty. </font><font size = 1, color=red> Let's </font><font size = 1, color=red> face </font><font size = 1, color=blue> it, </font><font size = 1, color=gray> a </font><font size = 1, color=blue> white </font><font size = 1, color=red> guy </font><font size = 1, color=red> watching </font><font size = 1, color=red> something </font><font size = 1, color=red> like </font><font size = 1, color=red> this </font><font size = 1, color=red> to </font><font size = 1, color=blue> laugh </font><font size = 1, color=red> at </font><font size = 1, color=red> the </font><font size = 1, color=blue> outfits </font><font size = 1, color=blue> and </font><font size = 1, color=red> the </font><font size = 1, color=blue> things </font><font size = 1, color=red> the </font><font size = 1, color=red> characters </font><font size = 1, color=blue> say </font><font size = 1, color=blue> is </font><font size = 1, color=blue> essentially </font><font size = 1, color=red> getting </font><font size = 1, color=red> an </font><font size = 1, color=blue> enjoyment </font><font size = 1, color=blue> out </font><font size = 1, color=blue> of </font><font size = 1, color=blue> it </font><font size = 1, color=blue> that </font><font size = 1, color=blue> is </font><font size = 1, color=blue> racist: </font><font size = 1, color=red> how </font><font size = 3, color=red> ridiculously </font><font size = 1, color=blue> those </font><font size = 1, color=red> black </font><font size = 1, color=blue> people </font><font size = 1, color=blue> dress, </font><font size = 1, color=blue> what </font><font size = 1, color=red> silly </font><font size = 1, color=blue> things </font><font size = 1, color=red> they </font><font size = 1, color=blue> say. </font><font size = 1, color=gray> I </font><font size = 1, color=red> wasn't </font><font size = 1, color=blue> really </font><font size = 1, color=blue> enjoying </font><font size = 1, color=blue> it, </font><font size = 1, color=red> wasn't </font><font size = 1, color=blue> laughing, </font><font size = 1, color=blue> and </font><font size = 1, color=red> wasn't </font><font size = 1, color=red> looking </font><font size = 1, color=red> forward </font><font size = 1, color=red> to </font><font size = 1, color=red> watching </font><font size = 1, color=red> the </font><font size = 1, color=red> rest.<br </font><font size = 1, color=red> /><br </font><font size = 1, color=blue> />Later </font><font size = 1, color=blue> that </font><font size = 1, color=red> night, </font><font size = 1, color=blue> when </font><font size = 1, color=gray> I </font><font size = 1, color=red> was </font><font size = 1, color=blue> in </font><font size = 1, color=gray> a </font><font size = 1, color=red> \"much </font><font size = 1, color=blue> more </font><font size = 2, color=blue> relaxed </font><font size = 1, color=blue> state,\" </font><font size = 1, color=gray> I </font><font size = 1, color=red> watched </font><font size = 1, color=red> the </font><font size = 1, color=gray> restÂ—and </font><font size = 2, color=blue> legitimately </font><font size = 2, color=blue> loved </font><font size = 1, color=blue> it. </font><font size = 1, color=red> Like </font><font size = 1, color=red> Disco </font><font size = 1, color=blue> Godfather, </font><font size = 1, color=red> which </font><font size = 1, color=gray> I </font><font size = 1, color=red> had </font><font size = 1, color=red> watched </font><font size = 1, color=gray> a </font><font size = 1, color=blue> few </font><font size = 1, color=blue> days </font><font size = 1, color=red> previously, </font><font size = 1, color=red> this </font><font size = 1, color=blue> has </font><font size = 1, color=gray> a </font><font size = 1, color=blue> warmth </font><font size = 1, color=blue> and </font><font size = 1, color=blue> sweetness </font><font size = 1, color=red> at </font><font size = 1, color=blue> its </font><font size = 1, color=red> core </font><font size = 1, color=blue> that </font><font size = 1, color=blue> makes </font><font size = 1, color=blue> it </font><font size = 1, color=blue> likable </font><font size = 1, color=red> even </font><font size = 1, color=blue> when </font><font size = 1, color=blue> it's </font><font size = 1, color=red> silly </font><font size = 1, color=red> or </font><font size = 1, color=red> violent. </font><font size = 1, color=red> The </font><font size = 1, color=red> character </font><font size = 1, color=blue> of </font><font size = 5, color=blue> Dolemite </font><font size = 1, color=blue> has </font><font size = 1, color=red> an </font><font size = 1, color=red> element </font><font size = 1, color=blue> of </font><font size = 1, color=blue> self-parody </font><font size = 1, color=blue> about </font><font size = 1, color=blue> him </font><font size = 1, color=blue> that </font><font size = 1, color=blue> makes </font><font size = 1, color=red> the </font><font size = 1, color=red> whole </font><font size = 1, color=red> thing </font><font size = 2, color=blue> fun, </font><font size = 1, color=blue> and </font><font size = 1, color=red> the </font><font size = 1, color=blue> appearance </font><font size = 1, color=blue> of </font><font size = 1, color=blue> several </font><font size = 1, color=red> actors </font><font size = 1, color=blue> who </font><font size = 1, color=red> were </font><font size = 1, color=blue> also </font><font size = 1, color=blue> in </font><font size = 1, color=red> Disco </font><font size = 1, color=blue> Godfather </font><font size = 1, color=blue> implies </font><font size = 1, color=blue> that </font><font size = 1, color=red> we're </font><font size = 1, color=red> watching </font><font size = 1, color=red> the </font><font size = 1, color=blue> group </font><font size = 1, color=red> effort </font><font size = 1, color=blue> of </font><font size = 1, color=gray> a </font><font size = 2, color=red> bunch </font><font size = 1, color=blue> of </font><font size = 1, color=blue> friends </font><font size = 1, color=blue> who </font><font size = 1, color=red> just </font><font size = 1, color=blue> want </font><font size = 1, color=red> to </font><font size = 1, color=red> make </font><font size = 1, color=red> something </font><font size = 2, color=blue> fun </font><font size = 1, color=blue> together. </font><font size = 1, color=red> Even </font><font size = 1, color=red> the </font><font size = 2, color=red> poor </font><font size = 1, color=red> dubbing, </font><font size = 1, color=red> karate </font><font size = 1, color=blue> fights, </font><font size = 1, color=blue> and </font><font size = 1, color=blue> everything </font><font size = 1, color=red> else </font><font size = 1, color=red> just </font><font size = 1, color=blue> makes </font><font size = 1, color=blue> it </font><font size = 1, color=blue> that </font><font size = 1, color=red> much </font><font size = 1, color=blue> more </font><font size = 2, color=blue> charming.<br </font><font size = 1, color=red> /><br </font><font size = 1, color=blue> />What </font><font size = 1, color=gray> I </font><font size = 1, color=blue> find </font><font size = 1, color=red> interesting </font><font size = 1, color=blue> about </font><font size = 1, color=red> the </font><font size = 5, color=blue> Dolemite </font><font size = 1, color=blue> films </font><font size = 1, color=blue> is </font><font size = 1, color=blue> that </font><font size = 1, color=red> they </font><font size = 1, color=red> have </font><font size = 1, color=red> some </font><font size = 1, color=blue> moral </font><font size = 1, color=red> ambiguity </font><font size = 1, color=gray> I </font><font size = 1, color=red> don't </font><font size = 1, color=blue> see </font><font size = 1, color=blue> in </font><font size = 1, color=blue> other </font><font size = 1, color=blue> blaxploitation </font><font size = 1, color=blue> films, </font><font size = 1, color=blue> and </font><font size = 1, color=blue> certainly </font><font size = 1, color=blue> in </font><font size = 1, color=blue> very </font><font size = 1, color=blue> few </font><font size = 1, color=blue> mainstream </font><font size = 1, color=blue> films. </font><font size = 1, color=blue> In </font><font size = 1, color=red> this </font><font size = 1, color=blue> one, </font><font size = 1, color=red> there </font><font size = 1, color=blue> is </font><font size = 1, color=red> an </font><font size = 1, color=red> African-American </font><font size = 1, color=red> woman </font><font size = 1, color=blue> who </font><font size = 1, color=blue> gives </font><font size = 1, color=gray> a </font><font size = 1, color=red> speech </font><font size = 1, color=blue> about </font><font size = 1, color=red> the </font><font size = 1, color=blue> (white) </font><font size = 2, color=blue> Mayor, </font><font size = 1, color=red> saying </font><font size = 1, color=red> \"he </font><font size = 1, color=blue> has </font><font size = 1, color=blue> done </font><font size = 1, color=blue> more </font><font size = 1, color=red> for </font><font size = 1, color=red> the </font><font size = 1, color=red> black </font><font size = 1, color=red> community </font><font size = 1, color=red> than </font><font size = 1, color=blue> anyone.\" </font><font size = 1, color=red> We </font><font size = 1, color=blue> later </font><font size = 1, color=blue> find </font><font size = 1, color=blue> out </font><font size = 1, color=blue> that </font><font size = 1, color=red> the </font><font size = 2, color=blue> Mayor </font><font size = 1, color=blue> is, </font><font size = 1, color=blue> surprise, </font><font size = 1, color=red> corrupt, </font><font size = 1, color=red> but </font><font size = 1, color=gray> I </font><font size = 1, color=red> like </font><font size = 1, color=blue> that </font><font size = 1, color=red> the </font><font size = 1, color=red> movie </font><font size = 1, color=red> would </font><font size = 1, color=blue> present </font><font size = 1, color=red> this </font><font size = 1, color=red> woman </font><font size = 1, color=blue> as </font><font size = 1, color=blue> essentially </font><font size = 1, color=red> misguided </font><font size = 1, color=blue> and </font><font size = 1, color=red> not </font><font size = 1, color=red> try </font><font size = 1, color=red> to </font><font size = 3, color=red> \"redeem\" </font><font size = 1, color=blue> her </font><font size = 1, color=blue> in </font><font size = 1, color=red> some </font><font size = 1, color=blue> other </font><font size = 1, color=red> way. </font><font size = 1, color=red> There's </font><font size = 1, color=blue> also </font><font size = 1, color=red> the </font><font size = 1, color=red> figure </font><font size = 1, color=blue> of </font><font size = 1, color=red> the </font><font size = 1, color=blue> Hamburger </font><font size = 2, color=blue> Pimp, </font><font size = 1, color=blue> who </font><font size = 1, color=blue> is </font><font size = 1, color=blue> presented </font><font size = 1, color=blue> as </font><font size = 1, color=gray> a </font><font size = 2, color=red> useless </font><font size = 1, color=blue> junkie, </font><font size = 1, color=blue> and </font><font size = 1, color=red> no </font><font size = 1, color=blue> one </font><font size = 1, color=blue> makes </font><font size = 1, color=red> an </font><font size = 1, color=red> effort </font><font size = 1, color=red> to </font><font size = 1, color=blue> find </font><font size = 1, color=red> some </font><font size = 2, color=red> redeeming, </font><font size = 3, color=red> socially </font><font size = 2, color=red> positive </font><font size = 1, color=blue> angle </font><font size = 1, color=red> to </font><font size = 1, color=blue> what </font><font size = 1, color=red> he </font><font size = 1, color=blue> is, </font><font size = 1, color=red> he </font><font size = 1, color=red> just </font><font size = 1, color=blue> is. </font><font size = 1, color=blue> In </font><font size = 1, color=red> Disco </font><font size = 1, color=blue> Godfather </font><font size = 1, color=red> the </font><font size = 1, color=red> religious </font><font size = 1, color=red> character </font><font size = 1, color=red> Lady </font><font size = 1, color=blue> Reed </font><font size = 1, color=blue> plays </font><font size = 1, color=blue> is </font><font size = 1, color=blue> presented </font><font size = 1, color=blue> as </font><font size = 1, color=red> just </font><font size = 1, color=blue> nuts </font><font size = 1, color=red> for </font><font size = 1, color=blue> wanting </font><font size = 1, color=red> to </font><font size = 2, color=red> pray </font><font size = 1, color=red> for </font><font size = 1, color=blue> her </font><font size = 1, color=red> child, </font><font size = 3, color=red> hopelessly </font><font size = 1, color=red> lost </font><font size = 1, color=red> to </font><font size = 1, color=blue> angel </font><font size = 2, color=red> dust. </font><font size = 1, color=gray> I </font><font size = 1, color=red> like </font><font size = 1, color=blue> that </font><font size = 1, color=red> the </font><font size = 1, color=blue> films </font><font size = 1, color=red> would </font><font size = 1, color=blue> present </font><font size = 1, color=red> such </font><font size = 4, color=blue> harshly </font><font size = 1, color=blue> critical </font><font size = 2, color=blue> portrayals </font><font size = 1, color=blue> of </font><font size = 1, color=blue> people </font><font size = 1, color=blue> in </font><font size = 1, color=blue> their </font><font size = 1, color=blue> own </font><font size = 1, color=red> community </font><font size = 1, color=blue> without </font><font size = 1, color=blue> sugar-coating </font><font size = 1, color=red> or </font><font size = 1, color=red> trying </font><font size = 1, color=red> to </font><font size = 3, color=red> redeem </font><font size = 1, color=red> them </font><font size = 1, color=red> to </font><font size = 1, color=red> make </font><font size = 1, color=red> them </font><font size = 1, color=blue> more </font><font size = 1, color=red> palatable.<br </font><font size = 1, color=red> /><br </font><font size = 1, color=red> />There </font><font size = 1, color=blue> are </font><font size = 1, color=gray> a </font><font size = 1, color=blue> lot </font><font size = 1, color=blue> of </font><font size = 1, color=gray> hootworthy </font><font size = 1, color=red> elements, </font><font size = 1, color=red> such </font><font size = 1, color=blue> as </font><font size = 1, color=blue> when </font><font size = 5, color=blue> Dolemite </font><font size = 1, color=blue> says </font><font size = 1, color=red> \"Move </font><font size = 1, color=red> over </font><font size = 1, color=blue> and </font><font size = 1, color=red> let </font><font size = 1, color=blue> me </font><font size = 2, color=red> pass, </font><font size = 1, color=red> or </font><font size = 1, color=gray> I'm </font><font size = 1, color=blue> gonna </font><font size = 1, color=red> be </font><font size = 1, color=blue> pulling </font><font size = 1, color=red> these </font><font size = 4, color=blue> Hush </font><font size = 1, color=blue> Puppies </font><font size = 1, color=blue> out </font><font size = 1, color=red> your </font><font size = 1, color=gray> muthatf** </font><font size = 1, color=gray> a**.\" </font><font size = 1, color=red> There </font><font size = 1, color=blue> is </font><font size = 1, color=blue> Queen </font><font size = 1, color=blue> Bee </font><font size = 1, color=red> reaching </font><font size = 1, color=red> over </font><font size = 1, color=blue> and </font><font size = 1, color=red> answering </font><font size = 1, color=red> the </font><font size = 1, color=blue> phone: </font><font size = 5, color=blue> \"Dolemite's </font><font size = 2, color=red> Total </font><font size = 1, color=blue> Experience.\" </font><font size = 1, color=blue> And </font><font size = 1, color=blue> you </font><font size = 1, color=blue> will </font><font size = 1, color=red> not </font><font size = 1, color=red> be </font><font size = 1, color=blue> able </font><font size = 1, color=red> to </font><font size = 1, color=blue> miss </font><font size = 1, color=blue> (though </font><font size = 1, color=blue> you </font><font size = 1, color=blue> may </font><font size = 1, color=blue> wish </font><font size = 1, color=red> to </font><font size = 1, color=red> cover </font><font size = 1, color=red> your </font><font size = 1, color=blue> eyes) </font><font size = 1, color=red> the </font><font size = 1, color=red> extended </font><font size = 1, color=red> nude </font><font size = 1, color=blue> scene </font><font size = 1, color=red> by </font><font size = 1, color=red> the </font><font size = 2, color=red> REPULSIVE </font><font size = 2, color=blue> Mayor. </font><font size = 1, color=gray> I </font><font size = 1, color=red> am </font><font size = 1, color=blue> all </font><font size = 1, color=red> for </font><font size = 1, color=gray> mustachioed </font><font size = 1, color=blue> pervy </font><font size = 1, color=blue> older </font><font size = 1, color=blue> men, </font><font size = 1, color=red> but </font><font size = 1, color=red> even </font><font size = 1, color=gray> I </font><font size = 1, color=red> have </font><font size = 1, color=gray> limitsÂ—-and </font><font size = 1, color=blue> my </font><font size = 1, color=red> limits </font><font size = 1, color=blue> are </font><font size = 1, color=red> usually </font><font size = 1, color=gray> a </font><font size = 1, color=blue> few </font><font size = 1, color=red> miles </font><font size = 1, color=red> past </font><font size = 1, color=blue> most </font><font size = 1, color=blue> people's, </font><font size = 1, color=red> so </font><font size = 1, color=red> be </font><font size = 1, color=red> warned. </font><font size = 1, color=red> The </font><font size = 1, color=blue> DVD </font><font size = 1, color=gray> I </font><font size = 1, color=red> had </font><font size = 1, color=blue> is </font><font size = 1, color=red> clearly </font><font size = 1, color=red> edited, </font><font size = 1, color=red> which </font><font size = 1, color=blue> is </font><font size = 2, color=blue> noticeable </font><font size = 1, color=blue> in </font><font size = 1, color=blue> certain </font><font size = 1, color=blue> of </font><font size = 1, color=red> the </font><font size = 1, color=red> dialogue </font><font size = 1, color=red> scenes, </font><font size = 1, color=blue> and </font><font size = 1, color=red> at </font><font size = 1, color=red> the </font><font size = 1, color=blue> end, </font><font size = 1, color=blue> when </font><font size = 5, color=blue> Dolemite's </font><font size = 1, color=red> killing </font><font size = 1, color=blue> of </font><font size = 1, color=gray> a </font><font size = 1, color=red> major </font><font size = 1, color=red> character </font><font size = 1, color=blue> with </font><font size = 1, color=blue> his </font><font size = 2, color=red> bare </font><font size = 1, color=red> hands </font><font size = 1, color=red> obviously </font><font size = 1, color=gray> excludes </font><font size = 1, color=red> the </font><font size = 1, color=red> main </font><font size = 1, color=blue> event.<br </font><font size = 1, color=red> /><br </font><font size = 1, color=red> />If </font><font size = 1, color=blue> you </font><font size = 1, color=red> do </font><font size = 1, color=blue> get </font><font size = 1, color=red> the </font><font size = 1, color=blue> DVD, </font><font size = 1, color=red> however, </font><font size = 1, color=red> be </font><font size = 1, color=blue> sure </font><font size = 1, color=red> to </font><font size = 1, color=blue> watch </font><font size = 1, color=blue> all </font><font size = 1, color=red> three </font><font size = 1, color=red> trailers </font><font size = 1, color=red> for </font><font size = 1, color=red> the </font><font size = 5, color=blue> Dolemite </font><font size = 1, color=blue> films, </font><font size = 1, color=blue> as </font><font size = 1, color=red> they </font><font size = 1, color=blue> are </font><font size = 1, color=gray> a </font><font size = 1, color=blue> hoot. </font><font size = 1, color=gray> I </font><font size = 1, color=red> wasn't </font><font size = 1, color=red> going </font><font size = 1, color=red> to </font><font size = 1, color=blue> watch </font><font size = 1, color=red> The </font><font size = 1, color=blue> Human </font><font size = 3, color=blue> Tornado, </font><font size = 1, color=red> but </font><font size = 1, color=blue> after </font><font size = 1, color=blue> seeing </font><font size = 1, color=blue> that </font><font size = 1, color=blue> trailer, </font><font size = 1, color=blue> you'd </font><font size = 1, color=red> better </font><font size = 1, color=red> BELIEVE </font><font size = 1, color=blue> that </font><font size = 1, color=gray> I </font><font size = 1, color=red> am. </font><font size = 1, color=blue> Also, </font><font size = 1, color=red> there </font><font size = 1, color=blue> is </font><font size = 1, color=gray> a </font><font size = 1, color=blue> scene </font><font size = 1, color=blue> in </font><font size = 1, color=red> the </font><font size = 5, color=blue> Dolemite </font><font size = 1, color=blue> trailer </font><font size = 1, color=blue> that </font><font size = 1, color=gray> I </font><font size = 1, color=red> don't </font><font size = 1, color=blue> remember </font><font size = 1, color=red> from </font><font size = 1, color=red> the </font><font size = 1, color=red> movie </font><font size = 1, color=blue> when </font><font size = 5, color=blue> Dolemite </font><font size = 1, color=blue> swings </font><font size = 1, color=red> at </font><font size = 1, color=gray> a </font><font size = 1, color=red> Mexican-looking </font><font size = 1, color=blue> thug, </font><font size = 1, color=red> obviously </font><font size = 1, color=red> misses, </font><font size = 1, color=blue> and </font><font size = 1, color=red> the </font><font size = 1, color=red> guy </font><font size = 3, color=red> flips </font><font size = 1, color=red> himself </font><font size = 1, color=red> into </font><font size = 1, color=gray> a </font><font size = 1, color=blue> nearby </font><font size = 1, color=red> car </font><font size = 1, color=blue> trunk.<br </font><font size = 1, color=red> /><br </font><font size = 1, color=blue> />After </font><font size = 1, color=red> watching </font><font size = 1, color=red> the </font><font size = 1, color=blue> first </font><font size = 1, color=red> half, </font><font size = 1, color=gray> I </font><font size = 1, color=red> was </font><font size = 1, color=red> going </font><font size = 1, color=red> to </font><font size = 1, color=blue> say </font><font size = 1, color=red> to </font><font size = 2, color=red> skip </font><font size = 1, color=red> this </font><font size = 1, color=blue> and </font><font size = 1, color=blue> watch </font><font size = 1, color=red> Disco </font><font size = 1, color=blue> Godfather, </font><font size = 1, color=blue> as </font><font size = 1, color=red> the </font><font size = 1, color=red> film-making </font><font size = 1, color=blue> and </font><font size = 1, color=blue> story </font><font size = 1, color=blue> has </font><font size = 1, color=red> marginally </font><font size = 1, color=blue> improved, </font><font size = 1, color=red> but </font><font size = 1, color=blue> after </font><font size = 1, color=blue> really </font><font size = 1, color=blue> enjoying </font><font size = 1, color=red> the </font><font size = 1, color=red> second </font><font size = 1, color=red> half, </font><font size = 1, color=gray> I </font><font size = 1, color=red> would </font><font size = 1, color=red> advise </font><font size = 1, color=red> watching </font><font size = 1, color=red> this </font><font size = 1, color=blue> one </font><font size = 1, color=red> over </font><font size = 1, color=red> Disco </font><font size = 1, color=blue> Godfather, </font><font size = 1, color=blue> as </font><font size = 1, color=red> this </font><font size = 1, color=blue> one </font><font size = 1, color=blue> is </font><font size = 1, color=red> even </font><font size = 1, color=blue> more </font><font size = 1, color=gray> exuberantly </font><font size = 2, color=blue> fun, </font><font size = 1, color=red> outrageous, </font><font size = 1, color=blue> and </font><font size = 1, color=blue> good-naturedÂ—and </font><font size = 1, color=blue> has </font><font size = 1, color=blue> those </font><font size = 1, color=gray> toasts </font><font size = 1, color=red> which, </font><font size = 1, color=red> even </font><font size = 1, color=red> if </font><font size = 1, color=blue> one </font><font size = 1, color=red> doesn't </font><font size = 1, color=blue> understand </font><font size = 1, color=red> the </font><font size = 1, color=blue> roots </font><font size = 1, color=blue> and </font><font size = 1, color=blue> nuances </font><font size = 1, color=blue> of </font><font size = 1, color=red> the </font><font size = 1, color=blue> form, </font><font size = 1, color=blue> are </font><font size = 1, color=blue> still </font><font size = 1, color=red> something </font><font size = 1, color=red> to </font><font size = 1, color=blue> see.<br </font><font size = 1, color=red> /><br </font><font size = 1, color=gray> />--- </font><font size = 1, color=blue> Check </font><font size = 1, color=blue> out </font><font size = 1, color=blue> other </font><font size = 1, color=blue> reviews </font><font size = 1, color=red> on </font><font size = 1, color=blue> my </font><font size = 2, color=red> website </font><font size = 1, color=blue> of </font><font size = 2, color=red> bad </font><font size = 1, color=blue> and </font><font size = 1, color=blue> cheesy </font><font size = 1, color=blue> movies, </font><font size = 1, color=blue> Cinema </font><font size = 1, color=blue> de </font><font size = 1, color=blue> Merde, </font><font size = 1, color=gray> cinemademerde.com </font>"
      ],
      "text/plain": [
       "<utils.ColoredWeightedDoc at 0x235f78e40b8>"
      ]
     },
     "metadata": {},
     "output_type": "display_data"
    }
   ],
   "source": [
    "x = ctrl_clf.predict_proba(X_test) - best_clf.predict_proba(X_test)\n",
    "x = np.absolute(x[:,0])\n",
    "inds = np.argsort(x)\n",
    "i = inds[-1]\n",
    "\n",
    "display_html(\"<b>\"+'Probability Matrix'+\"<b>\", raw=True)\n",
    "print(ctrl_clf.predict_proba(X_test)[i]) \n",
    "print(best_clf.predict_proba(X_test)[i])\n",
    "display_html(\"<b>\"+'Control Classifier'+\"<b>\", raw=True)\n",
    "display(ColoredWeightedDoc(test_corpus[i], feature_names, ctrl_clf.get_weights()))\n",
    "display_html(\"<b>\"+'Best Classifier'+\"<b>\", raw=True)\n",
    "display(ColoredWeightedDoc(test_corpus[i], feature_names, best_clf.get_weights()))"
   ]
  },
  {
   "cell_type": "code",
   "execution_count": null,
   "metadata": {
    "collapsed": true
   },
   "outputs": [],
   "source": []
  }
 ],
 "metadata": {
  "kernelspec": {
   "display_name": "Python 3",
   "language": "python",
   "name": "python3"
  },
  "language_info": {
   "codemirror_mode": {
    "name": "ipython",
    "version": 3
   },
   "file_extension": ".py",
   "mimetype": "text/x-python",
   "name": "python",
   "nbconvert_exporter": "python",
   "pygments_lexer": "ipython3",
   "version": "3.5.1"
  }
 },
 "nbformat": 4,
 "nbformat_minor": 0
}
