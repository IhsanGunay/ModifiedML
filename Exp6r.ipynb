{
 "cells": [
  {
   "cell_type": "markdown",
   "metadata": {},
   "source": [
    "# Experiment 6 Results"
   ]
  },
  {
   "cell_type": "code",
   "execution_count": 1,
   "metadata": {
    "collapsed": true
   },
   "outputs": [],
   "source": [
    "from pickle import load\n",
    "from utils import ce_squared, load_imdb, ColoredWeightedDoc\n",
    "from IPython.display import display, display_html\n",
    "from scipy.sparse import csr_matrix\n",
    "from sklearn.feature_extraction.text import CountVectorizer\n",
    "from sklearn.metrics import classification_report, confusion_matrix\n",
    "from classifiers import TransparentMultinomialNB\n",
    "from time import time\n",
    "import numpy as np"
   ]
  },
  {
   "cell_type": "markdown",
   "metadata": {},
   "source": [
    "## Load Data"
   ]
  },
  {
   "cell_type": "code",
   "execution_count": 2,
   "metadata": {
    "collapsed": false
   },
   "outputs": [
    {
     "name": "stdout",
     "output_type": "stream",
     "text": [
      "Loading the imdb reviews data\n",
      "Data loaded.\n",
      "Extracting features from the training dataset using a sparse vectorizer\n",
      "Feature extraction technique is CountVectorizer(analyzer='word', binary=False, decode_error='strict',\n",
      "        dtype=<class 'numpy.int64'>, encoding='utf-8', input='content',\n",
      "        lowercase=True, max_df=1.0, max_features=None, min_df=5,\n",
      "        ngram_range=(1, 1), preprocessor=None, stop_words=None,\n",
      "        strip_accents=None, token_pattern='(?u)\\\\b\\\\w\\\\w+\\\\b',\n",
      "        tokenizer=None, vocabulary=None).\n",
      "done in 5.424943685531616s\n",
      "(25000, 27272)\n",
      "n_samples: 25000, n_features: 27272 \n",
      "\n",
      "Extracting features from the test dataset using the same vectorizer\n",
      "done in 5.428537845611572s\n",
      "n_samples: 25000, n_features: 27272 \n",
      "\n",
      "Loading took 21.19s.\n",
      "\n"
     ]
    }
   ],
   "source": [
    "t0 = time()\n",
    "\n",
    "vect = CountVectorizer(min_df=5, max_df=1.0, binary=False, ngram_range=(1, 1))\n",
    "\n",
    "X_train, y_train, X_test, y_test, train_corpus, test_corpus = load_imdb(\"./aclImdb\", shuffle=True, vectorizer=vect)\n",
    "\n",
    "feature_names = vect.get_feature_names()\n",
    "y_test_na = y_test[:, np.newaxis]\n",
    "y_test_na = np.append(y_test_na, 1-y_test_na, axis=1)\n",
    "y_modified = np.copy(y_train)\n",
    "\n",
    "duration = time() - t0\n",
    "\n",
    "print(\"Loading took {:0.2f}s.\\n\".format(duration))"
   ]
  },
  {
   "cell_type": "code",
   "execution_count": 3,
   "metadata": {
    "collapsed": true
   },
   "outputs": [],
   "source": [
    "X_val = csr_matrix(X_train[12500:])\n",
    "y_val = np.copy(y_train[12500:])\n",
    "\n",
    "X_train = csr_matrix(X_train[:12500])\n",
    "y_train = np.copy(y_train[:12500])\n",
    "\n",
    "y_val_na = y_val[:, np.newaxis]\n",
    "y_val_na = np.append(y_val_na, 1-y_val_na, axis=1)"
   ]
  },
  {
   "cell_type": "code",
   "execution_count": 4,
   "metadata": {
    "collapsed": true
   },
   "outputs": [],
   "source": [
    "with open('clf6.arch', 'rb') as f:\n",
    "    clf_arch = load(f)"
   ]
  },
  {
   "cell_type": "code",
   "execution_count": 5,
   "metadata": {
    "collapsed": false
   },
   "outputs": [
    {
     "name": "stdout",
     "output_type": "stream",
     "text": [
      "<class 'classifiers.TransparentMultinomialNB'> \n",
      "\n",
      "[1, 2, 3, 4, 5, 6, 7, 8, 9, 10] \n",
      "\n",
      "CountVectorizer(analyzer='word', binary=False, decode_error='strict',\n",
      "        dtype=<class 'numpy.int64'>, encoding='utf-8', input='content',\n",
      "        lowercase=True, max_df=1.0, max_features=None, min_df=5,\n",
      "        ngram_range=(1, 1), preprocessor=None, stop_words=None,\n",
      "        strip_accents=None, token_pattern='(?u)\\\\b\\\\w\\\\w+\\\\b',\n",
      "        tokenizer=None, vocabulary=None)\n"
     ]
    }
   ],
   "source": [
    "clf_arch.stats()"
   ]
  },
  {
   "cell_type": "code",
   "execution_count": 6,
   "metadata": {
    "collapsed": false
   },
   "outputs": [],
   "source": [
    "# Loading the last classifier in the archive\n",
    "ctrl_clf = clf_arch.ctrl_clf\n",
    "best_clf = clf_arch.classifiers[-1]\n",
    "train_indices_set = set(clf_arch.train_indices[-1])\n",
    "train_indices = clf_arch.train_indices[-1]\n",
    "y_modified = np.copy(clf_arch.modified_labels[-1])\n",
    "round_tag = clf_arch.round_tags[-1] + 1 "
   ]
  },
  {
   "cell_type": "code",
   "execution_count": 15,
   "metadata": {
    "collapsed": true
   },
   "outputs": [],
   "source": [
    "first_clf = clf_arch.classifiers[1]"
   ]
  },
  {
   "cell_type": "markdown",
   "metadata": {},
   "source": [
    "## Visualizations"
   ]
  },
  {
   "cell_type": "code",
   "execution_count": 7,
   "metadata": {
    "collapsed": false,
    "scrolled": true
   },
   "outputs": [
    {
     "name": "stdout",
     "output_type": "stream",
     "text": [
      "Number of samples used : 8716\n",
      "Number of labels modified: 2248\n"
     ]
    }
   ],
   "source": [
    "print('Number of samples used :', len(train_indices))\n",
    "changed_labels = np.array(list(filter(lambda x: x[0]!=x[1], zip(y_modified[train_indices], y_train[train_indices]))))\n",
    "print('Number of labels modified:', len(changed_labels))"
   ]
  },
  {
   "cell_type": "code",
   "execution_count": 8,
   "metadata": {
    "collapsed": false,
    "scrolled": true
   },
   "outputs": [
    {
     "name": "stdout",
     "output_type": "stream",
     "text": [
      "1 to 0 : 1147\n",
      "0 to 1 : 1101\n"
     ]
    }
   ],
   "source": [
    "changes = changed_labels[:,0] - changed_labels[:,1]\n",
    "print('1 to 0 :', len(list(filter(lambda x: x<0, changes))))\n",
    "print('0 to 1 :', len(list(filter(lambda x: x>0, changes))))"
   ]
  },
  {
   "cell_type": "code",
   "execution_count": 23,
   "metadata": {
    "collapsed": false
   },
   "outputs": [
    {
     "name": "stdout",
     "output_type": "stream",
     "text": [
      "Control test accuracy is 0.81572 \n",
      "\n",
      "Initial validation accuracy is 0.84104 \n",
      "\n",
      "Initial test accuracy is 0.81364 \n",
      "\n",
      "First validation accuracy is 0.93352 \n",
      "\n",
      "First test accuracy is 0.85152 \n",
      "\n",
      "Best validation accuracy is 0.92728 \n",
      "\n",
      "Best test accuracy is 0.83804 \n",
      "\n",
      "First validation error is 0.05844785668219887 \n",
      "\n",
      "First test error is 0.12076740758811387 \n",
      "\n",
      "Best validation error is 0.062346581813106795 \n",
      "\n",
      "Best test error is 0.13058338011729276\n"
     ]
    }
   ],
   "source": [
    "test_acc = ctrl_clf.score(X_test, y_test)\n",
    "print('Control test accuracy is {}'.format(test_acc), '\\n')\n",
    "\n",
    "clf = TransparentMultinomialNB()\n",
    "clf.fit(X_train, y_train)\n",
    "\n",
    "val_acc = clf.score(X_val, y_val)\n",
    "print('Initial validation accuracy is {}'.format(val_acc), '\\n')\n",
    "\n",
    "test_acc = clf.score(X_test, y_test)\n",
    "print('Initial test accuracy is {}'.format(test_acc), '\\n')\n",
    "\n",
    "val_acc = first_clf.score(X_val, y_val)\n",
    "print('First validation accuracy is {}'.format(val_acc), '\\n')\n",
    "\n",
    "test_acc = first_clf.score(X_test, y_test)\n",
    "print('First test accuracy is {}'.format(test_acc), '\\n')\n",
    "\n",
    "val_acc = best_clf.score(X_val, y_val)\n",
    "print('Best validation accuracy is {}'.format(val_acc), '\\n')\n",
    "\n",
    "test_acc = best_clf.score(X_test, y_test)\n",
    "print('Best test accuracy is {}'.format(test_acc), '\\n')\n",
    "\n",
    "test_acc = ce_squared(y_val_na, first_clf.predict_proba(X_val))\n",
    "print('First validation error is {}'.format(test_acc), '\\n')\n",
    "\n",
    "test_acc = ce_squared(y_test_na, first_clf.predict_proba(X_test))\n",
    "print('First test error is {}'.format(test_acc), '\\n')\n",
    "\n",
    "test_acc = ce_squared(y_val_na, best_clf.predict_proba(X_val))\n",
    "print('Best validation error is {}'.format(test_acc), '\\n')\n",
    "\n",
    "test_acc = ce_squared(y_test_na, best_clf.predict_proba(X_test))\n",
    "print('Best test error is {}'.format(test_acc))"
   ]
  },
  {
   "cell_type": "code",
   "execution_count": 10,
   "metadata": {
    "collapsed": false
   },
   "outputs": [
    {
     "data": {
      "text/html": [
       "<b>Control Classifier<b>"
      ]
     },
     "metadata": {},
     "output_type": "display_data"
    },
    {
     "name": "stdout",
     "output_type": "stream",
     "text": [
      "             precision    recall  f1-score   support\n",
      "\n",
      "          0       0.78      0.88      0.83     12500\n",
      "          1       0.86      0.75      0.80     12500\n",
      "\n",
      "avg / total       0.82      0.82      0.82     25000\n",
      "\n"
     ]
    },
    {
     "data": {
      "text/html": [
       "<b>Best Classifier<b>"
      ]
     },
     "metadata": {},
     "output_type": "display_data"
    },
    {
     "name": "stdout",
     "output_type": "stream",
     "text": [
      "             precision    recall  f1-score   support\n",
      "\n",
      "          0       0.82      0.87      0.84     12500\n",
      "          1       0.86      0.81      0.83     12500\n",
      "\n",
      "avg / total       0.84      0.84      0.84     25000\n",
      "\n"
     ]
    }
   ],
   "source": [
    "best_pred = best_clf.predict(X_test)\n",
    "ctrl_pred = ctrl_clf.predict(X_test)\n",
    "display_html(\"<b>\"+'Control Classifier'+\"<b>\", raw=True)\n",
    "print(classification_report(y_test, ctrl_pred))\n",
    "display_html(\"<b>\"+'Best Classifier'+\"<b>\", raw=True)\n",
    "print(classification_report(y_test, best_pred))"
   ]
  },
  {
   "cell_type": "code",
   "execution_count": 11,
   "metadata": {
    "collapsed": false
   },
   "outputs": [
    {
     "data": {
      "text/html": [
       "<b>Control Classifier<b>"
      ]
     },
     "metadata": {},
     "output_type": "display_data"
    },
    {
     "name": "stdout",
     "output_type": "stream",
     "text": [
      "Top Positive\n",
      "edie ([   0.  109.]) antwone ([  0.  88.]) din ([  0.  82.]) gunga ([  0.  66.]) goldsworthy ([  0.  65.]) gypo ([  0.  60.]) yokai ([  0.  60.]) paulie ([   1.  118.]) flavia ([  0.  51.]) visconti ([  0.  51.])\n",
      "\n",
      "Top Negative\n",
      "boll ([ 143.    1.]) uwe ([ 101.    1.]) slater ([ 49.   0.]) tashan ([ 45.   0.]) hobgoblins ([ 45.   0.]) kareena ([ 41.   0.]) kornbluth ([ 39.   0.]) sarne ([ 37.   0.]) gram ([ 37.   0.]) delia ([ 36.   0.])\n"
     ]
    },
    {
     "data": {
      "text/html": [
       "<b>Best Classifier<b>"
      ]
     },
     "metadata": {},
     "output_type": "display_data"
    },
    {
     "name": "stdout",
     "output_type": "stream",
     "text": [
      "Top Positive\n",
      "creasy ([  0.  26.]) dev ([  0.  22.]) flavia ([  0.  20.]) 3d ([  0.  18.]) trelkovsky ([  0.  17.]) conroy ([  0.  17.]) baseketball ([  0.  17.]) greene ([  0.  16.]) xica ([  0.  15.]) pinjar ([  0.  15.])\n",
      "\n",
      "Top Negative\n",
      "baldwin ([ 29.   0.]) hackenstein ([ 23.   0.]) chomsky ([ 20.   0.]) moronic ([ 19.   0.]) werewolves ([ 19.   0.]) wheeler ([ 19.   0.]) shearer ([ 18.   0.]) azumi ([ 17.   0.]) sarne ([ 16.   0.]) boll ([ 32.   1.])\n"
     ]
    }
   ],
   "source": [
    "best_weights = best_clf.get_weights()\n",
    "ctrl_weights = ctrl_clf.get_weights()\n",
    "\n",
    "best_ws = np.argsort(best_weights)\n",
    "ctrl_ws  = np.argsort(ctrl_weights)\n",
    "\n",
    "display_html(\"<b>\"+'Control Classifier'+\"<b>\", raw=True)\n",
    "\n",
    "print(\"Top Positive\")\n",
    "print(\" \".join([\"{} ({})\".format(feature_names[i], ctrl_clf.feature_count_[:,i])\n",
    "                for i in ctrl_ws[-10:][::-1]]))\n",
    "\n",
    "print(\"\\nTop Negative\")\n",
    "print(\" \".join([\"{} ({})\".format(feature_names[i], ctrl_clf.feature_count_[:,i])\n",
    "                for i in ctrl_ws[:10]]))\n",
    "\n",
    "display_html(\"<b>\"+'Best Classifier'+\"<b>\", raw=True)\n",
    "\n",
    "print(\"Top Positive\")\n",
    "print(\" \".join([\"{} ({})\".format(feature_names[i], best_clf.feature_count_[:,i])\n",
    "                for i in best_ws[-10:][::-1]]))\n",
    "\n",
    "print(\"\\nTop Negative\")\n",
    "print(\" \".join([\"{} ({})\".format(feature_names[i], best_clf.feature_count_[:,i])\n",
    "                for i in best_ws[:10]]))"
   ]
  },
  {
   "cell_type": "code",
   "execution_count": 20,
   "metadata": {
    "collapsed": false,
    "scrolled": false
   },
   "outputs": [
    {
     "data": {
      "text/html": [
       "<b>Probability Matrix<b>"
      ]
     },
     "metadata": {},
     "output_type": "display_data"
    },
    {
     "name": "stdout",
     "output_type": "stream",
     "text": [
      "[  7.61678341e-14   1.00000000e+00]\n",
      "[  1.00000000e+00   4.56478837e-13]\n"
     ]
    },
    {
     "data": {
      "text/html": [
       "<b>Control Classifier<b>"
      ]
     },
     "metadata": {},
     "output_type": "display_data"
    },
    {
     "data": {
      "text/html": [
       "<font size = 1, color=blue> Academy </font><font size = 1, color=blue> Awarding </font><font size = 1, color=red> actor </font><font size = 3, color=blue> Sidney </font><font size = 2, color=red> Poitier </font><font size = 1, color=blue> of </font><font size = 2, color=blue> \"Lilies </font><font size = 1, color=blue> of </font><font size = 1, color=blue> the </font><font size = 1, color=blue> Field\" </font><font size = 1, color=blue> reprises </font><font size = 1, color=blue> his </font><font size = 1, color=blue> role </font><font size = 1, color=blue> as </font><font size = 1, color=red> Lieutenant </font><font size = 1, color=red> Virgil </font><font size = 1, color=gray> Tibbs </font><font size = 1, color=blue> from </font><font size = 1, color=blue> the </font><font size = 1, color=blue> 1967 </font><font size = 2, color=blue> Oscar </font><font size = 2, color=blue> winning </font><font size = 2, color=blue> Best </font><font size = 1, color=blue> Picture </font><font size = 1, color=blue> \"In </font><font size = 1, color=blue> the </font><font size = 1, color=blue> Heat </font><font size = 1, color=blue> of </font><font size = 1, color=blue> the </font><font size = 1, color=red> Night\" </font><font size = 1, color=red> for </font><font size = 1, color=blue> veteran </font><font size = 1, color=red> director </font><font size = 1, color=blue> Gordon </font><font size = 1, color=blue> Douglas' </font><font size = 1, color=red> tired, </font><font size = 3, color=red> uninspired </font><font size = 1, color=red> sequel </font><font size = 1, color=red> \"They </font><font size = 1, color=red> Call </font><font size = 1, color=red> Me </font><font size = 2, color=red> MISTER </font><font size = 1, color=gray> Tibbs,\" </font><font size = 1, color=blue> with </font><font size = 1, color=red> nobody </font><font size = 1, color=blue> the </font><font size = 1, color=red> equivalent </font><font size = 1, color=blue> of </font><font size = 1, color=red> Rod </font><font size = 1, color=red> Steiger </font><font size = 1, color=blue> with </font><font size = 1, color=blue> which </font><font size = 1, color=red> to </font><font size = 2, color=red> swap </font><font size = 1, color=red> dialogue. </font><font size = 1, color=red> Clearly, </font><font size = 1, color=blue> both </font><font size = 1, color=gray> \"Bullitt\" </font><font size = 1, color=red> scenarist </font><font size = 1, color=blue> Alan </font><font size = 1, color=gray> R. </font><font size = 1, color=gray> Trustman </font><font size = 1, color=blue> and </font><font size = 1, color=blue> Robert </font><font size = 1, color=gray> D. </font><font size = 1, color=red> Webb </font><font size = 1, color=blue> of </font><font size = 2, color=red> \"Cape </font><font size = 1, color=blue> Fear\" </font><font size = 1, color=red> were </font><font size = 1, color=red> off </font><font size = 1, color=blue> their </font><font size = 1, color=blue> game </font><font size = 1, color=blue> when </font><font size = 1, color=red> they </font><font size = 1, color=blue> penned </font><font size = 1, color=red> this </font><font size = 2, color=red> predictable </font><font size = 1, color=blue> police </font><font size = 2, color=blue> procedural </font><font size = 1, color=red> potboiler. </font><font size = 1, color=blue> The </font><font size = 1, color=red> dialogue </font><font size = 1, color=blue> is </font><font size = 2, color=red> drab </font><font size = 1, color=blue> and </font><font size = 2, color=red> none </font><font size = 1, color=blue> of </font><font size = 1, color=blue> the </font><font size = 1, color=red> characters </font><font size = 1, color=red> are </font><font size = 1, color=red> interesting, </font><font size = 1, color=red> not </font><font size = 1, color=red> even </font><font size = 1, color=blue> the </font><font size = 1, color=blue> chief </font><font size = 1, color=blue> suspect. </font><font size = 1, color=red> Absolutely </font><font size = 2, color=red> nothing </font><font size = 4, color=red> remotely </font><font size = 1, color=blue> exciting, </font><font size = 1, color=blue> suspenseful, </font><font size = 1, color=red> or </font><font size = 2, color=blue> surprising </font><font size = 1, color=blue> occurs </font><font size = 1, color=blue> in </font><font size = 1, color=red> this </font><font size = 1, color=red> tame </font><font size = 1, color=blue> whodunit. </font><font size = 1, color=blue> Meanwhile, </font><font size = 1, color=red> things </font><font size = 1, color=red> have </font><font size = 1, color=blue> changed </font><font size = 1, color=blue> considerably </font><font size = 1, color=blue> since </font><font size = 1, color=red> Virgil </font><font size = 1, color=red> was </font><font size = 1, color=blue> last </font><font size = 1, color=blue> seen </font><font size = 1, color=blue> in </font><font size = 1, color=blue> \"In </font><font size = 1, color=blue> the </font><font size = 1, color=blue> Heat </font><font size = 1, color=blue> of </font><font size = 1, color=blue> the </font><font size = 1, color=red> Night.\" </font><font size = 1, color=blue> He </font><font size = 1, color=red> worked </font><font size = 1, color=blue> as </font><font size = 1, color=gray> a </font><font size = 1, color=blue> homicide </font><font size = 1, color=blue> detective </font><font size = 1, color=red> for </font><font size = 1, color=blue> the </font><font size = 1, color=blue> Philadelphia, </font><font size = 2, color=blue> Pennsylvania, </font><font size = 1, color=blue> Police </font><font size = 1, color=blue> Department. </font><font size = 1, color=blue> In </font><font size = 1, color=red> \"They </font><font size = 1, color=red> Call </font><font size = 1, color=red> Me </font><font size = 2, color=red> MISTER </font><font size = 1, color=gray> Tibbs,\" </font><font size = 1, color=blue> our </font><font size = 1, color=red> hero </font><font size = 1, color=blue> works </font><font size = 1, color=red> for </font><font size = 1, color=blue> the </font><font size = 1, color=blue> San </font><font size = 1, color=blue> Francisco </font><font size = 1, color=blue> Police </font><font size = 1, color=blue> Department. </font><font size = 1, color=blue> Moreover, </font><font size = 1, color=blue> he </font><font size = 1, color=blue> has </font><font size = 1, color=gray> a </font><font size = 1, color=blue> wife, </font><font size = 1, color=blue> Valerie </font><font size = 2, color=blue> (Barbara </font><font size = 1, color=gray> McNair </font><font size = 1, color=blue> of </font><font size = 1, color=blue> \"Change </font><font size = 1, color=blue> of </font><font size = 1, color=red> Habit\"), </font><font size = 1, color=blue> and </font><font size = 1, color=gray> a </font><font size = 1, color=blue> family, </font><font size = 1, color=gray> a </font><font size = 1, color=blue> young </font><font size = 1, color=blue> rebellious </font><font size = 1, color=blue> son, </font><font size = 1, color=blue> Andy </font><font size = 1, color=blue> (George </font><font size = 1, color=blue> Spell </font><font size = 1, color=blue> of </font><font size = 1, color=blue> \"The </font><font size = 1, color=red> Naked </font><font size = 1, color=blue> Kiss\"), </font><font size = 1, color=blue> and </font><font size = 1, color=gray> a </font><font size = 1, color=blue> younger </font><font size = 1, color=blue> doting </font><font size = 1, color=red> daughter, </font><font size = 2, color=blue> Ginger </font><font size = 1, color=red> (Wanda </font><font size = 1, color=blue> Spell </font><font size = 1, color=blue> of </font><font size = 1, color=red> \"Hickey </font><font size = 1, color=blue> and </font><font size = 1, color=gray> Boggs\"). </font><font size = 1, color=gray> Tibbs </font><font size = 1, color=red> drives </font><font size = 1, color=gray> a </font><font size = 1, color=blue> medium </font><font size = 1, color=red> blue </font><font size = 1, color=blue> Mustang </font><font size = 1, color=blue> and </font><font size = 1, color=blue> his </font><font size = 1, color=blue> wife </font><font size = 2, color=blue> holds </font><font size = 1, color=red> down </font><font size = 1, color=blue> the </font><font size = 1, color=red> house </font><font size = 1, color=blue> and </font><font size = 1, color=gray> hovers </font><font size = 1, color=red> over </font><font size = 1, color=blue> their </font><font size = 1, color=blue> two </font><font size = 1, color=blue> children </font><font size = 1, color=blue> since </font><font size = 1, color=blue> he </font><font size = 1, color=red> doesn't </font><font size = 1, color=red> have </font><font size = 1, color=blue> as </font><font size = 1, color=red> much </font><font size = 1, color=blue> time </font><font size = 1, color=red> to </font><font size = 1, color=red> spend </font><font size = 1, color=blue> with </font><font size = 1, color=red> them. </font><font size = 1, color=red> Literally, </font><font size = 1, color=red> there </font><font size = 1, color=red> are </font><font size = 1, color=red> no </font><font size = 1, color=blue> surprises </font><font size = 1, color=blue> in </font><font size = 1, color=red> this </font><font size = 2, color=red> pedestrian </font><font size = 1, color=blue> murder </font><font size = 1, color=blue> mystery. </font><font size = 1, color=blue> Indeed, </font><font size = 1, color=blue> the </font><font size = 2, color=blue> best </font><font size = 1, color=red> thing </font><font size = 1, color=red> about </font><font size = 1, color=red> \"They </font><font size = 1, color=red> Call </font><font size = 1, color=red> Me </font><font size = 2, color=red> MISTER </font><font size = 1, color=gray> Tibbs\" </font><font size = 1, color=blue> is </font><font size = 1, color=blue> Quincy </font><font size = 1, color=red> Jones' </font><font size = 3, color=blue> terrific </font><font size = 2, color=blue> orchestral </font><font size = 1, color=blue> soundtrack </font><font size = 1, color=blue> with </font><font size = 1, color=gray> a </font><font size = 2, color=blue> memorable </font><font size = 1, color=red> opening </font><font size = 1, color=blue> theme, </font><font size = 1, color=blue> more </font><font size = 2, color=blue> memorable </font><font size = 1, color=red> than </font><font size = 1, color=red> this </font><font size = 3, color=red> forgettable </font><font size = 1, color=blue> crime </font><font size = 1, color=blue> thriller </font><font size = 1, color=blue> deserved.<br </font><font size = 1, color=red> /><br </font><font size = 1, color=red> />Everything </font><font size = 1, color=blue> begins </font><font size = 2, color=blue> sensationally </font><font size = 1, color=red> enough </font><font size = 1, color=blue> with </font><font size = 1, color=gray> a </font><font size = 1, color=red> struggling </font><font size = 1, color=blue> prostitute, </font><font size = 2, color=blue> Joy </font><font size = 1, color=red> Sturges </font><font size = 1, color=red> (Linda </font><font size = 1, color=red> Towne </font><font size = 1, color=blue> of </font><font size = 1, color=blue> \"The </font><font size = 2, color=blue> Adventurers\"), </font><font size = 1, color=red> being </font><font size = 1, color=gray> bludgeoned </font><font size = 1, color=red> to </font><font size = 1, color=blue> death </font><font size = 1, color=blue> in </font><font size = 1, color=blue> the </font><font size = 1, color=red> bedroom </font><font size = 1, color=blue> of </font><font size = 1, color=blue> her </font><font size = 1, color=blue> downtown </font><font size = 2, color=blue> apartment </font><font size = 1, color=blue> by </font><font size = 1, color=blue> an </font><font size = 1, color=blue> unseen </font><font size = 1, color=red> assailant. </font><font size = 2, color=blue> Apartment </font><font size = 1, color=blue> handyman </font><font size = 1, color=gray> Mealie </font><font size = 1, color=red> Williamson </font><font size = 1, color=gray> (Juano </font><font size = 2, color=red> Hernandez </font><font size = 1, color=blue> of </font><font size = 1, color=blue> \"Intruder </font><font size = 1, color=blue> in </font><font size = 1, color=blue> the </font><font size = 1, color=red> Dust\") </font><font size = 1, color=blue> enters </font><font size = 2, color=blue> Joy's </font><font size = 2, color=blue> apartment </font><font size = 1, color=blue> and </font><font size = 1, color=blue> finds </font><font size = 1, color=blue> her </font><font size = 1, color=blue> strewn </font><font size = 1, color=red> on </font><font size = 1, color=blue> the </font><font size = 1, color=red> carpet </font><font size = 1, color=red> dead </font><font size = 1, color=blue> with </font><font size = 1, color=gray> a </font><font size = 1, color=red> bloody </font><font size = 3, color=red> forehead. </font><font size = 1, color=blue> He </font><font size = 1, color=blue> picks </font><font size = 1, color=red> up </font><font size = 1, color=blue> the </font><font size = 1, color=red> statue </font><font size = 1, color=blue> briefly </font><font size = 1, color=blue> and </font><font size = 1, color=red> then </font><font size = 1, color=blue> puts </font><font size = 1, color=red> it </font><font size = 1, color=blue> back </font><font size = 1, color=red> on </font><font size = 1, color=blue> the </font><font size = 1, color=red> floor </font><font size = 1, color=blue> and </font><font size = 1, color=red> reports </font><font size = 2, color=blue> Joy's </font><font size = 1, color=blue> death </font><font size = 1, color=red> to </font><font size = 1, color=blue> the </font><font size = 1, color=blue> superintendent </font><font size = 1, color=blue> of </font><font size = 1, color=blue> the </font><font size = 2, color=blue> apartment, </font><font size = 1, color=red> Rice </font><font size = 1, color=gray> Weedon </font><font size = 1, color=blue> (Anthony </font><font size = 1, color=gray> Zerbe </font><font size = 1, color=blue> of </font><font size = 1, color=blue> \"License </font><font size = 1, color=red> to </font><font size = 1, color=red> Kill\"), </font><font size = 1, color=blue> and </font><font size = 1, color=gray> Weedon </font><font size = 1, color=blue> gives </font><font size = 1, color=gray> Mealie </font><font size = 1, color=blue> and </font><font size = 1, color=blue> fistful </font><font size = 1, color=blue> of </font><font size = 1, color=red> dollars </font><font size = 1, color=blue> and </font><font size = 1, color=blue> sends </font><font size = 1, color=blue> him </font><font size = 1, color=red> packing. </font><font size = 1, color=blue> Afterward, </font><font size = 1, color=gray> Weedon </font><font size = 3, color=blue> anonymously </font><font size = 1, color=gray> notifies </font><font size = 1, color=blue> the </font><font size = 1, color=gray> SFPD </font><font size = 1, color=red> that </font><font size = 1, color=blue> popular </font><font size = 1, color=blue> minister </font><font size = 1, color=blue> Logan </font><font size = 1, color=red> Sharpe </font><font size = 1, color=blue> (Martin </font><font size = 2, color=red> Landau </font><font size = 1, color=blue> of </font><font size = 1, color=red> \"Nevada </font><font size = 2, color=blue> Smith\") </font><font size = 1, color=red> beaten </font><font size = 2, color=blue> Joy </font><font size = 1, color=red> to </font><font size = 1, color=blue> death </font><font size = 1, color=blue> and </font><font size = 1, color=red> was </font><font size = 1, color=red> seem </font><font size = 1, color=red> leaving </font><font size = 2, color=blue> Joy's </font><font size = 2, color=blue> apartment. </font><font size = 1, color=blue> Captain </font><font size = 1, color=gray> Marden </font><font size = 1, color=blue> (Jeff </font><font size = 1, color=red> Corey </font><font size = 1, color=blue> of </font><font size = 1, color=blue> \"True </font><font size = 1, color=blue> Grit\") </font><font size = 1, color=gray> assigns </font><font size = 1, color=gray> Tibbs </font><font size = 1, color=red> to </font><font size = 1, color=red> handle </font><font size = 1, color=blue> the </font><font size = 1, color=red> case; </font><font size = 1, color=red> it </font><font size = 1, color=red> seems </font><font size = 1, color=red> that </font><font size = 1, color=blue> both </font><font size = 1, color=gray> Tibbs </font><font size = 1, color=blue> and </font><font size = 1, color=red> Sharpe </font><font size = 1, color=red> have </font><font size = 1, color=blue> known </font><font size = 1, color=blue> each </font><font size = 1, color=blue> other </font><font size = 1, color=red> for </font><font size = 1, color=blue> 18 </font><font size = 1, color=blue> years. </font><font size = 1, color=red> Naturally, </font><font size = 1, color=gray> Tibbs' </font><font size = 1, color=blue> wife </font><font size = 1, color=blue> Valerie </font><font size = 1, color=red> cannot </font><font size = 1, color=red> believe </font><font size = 1, color=red> that </font><font size = 1, color=blue> the </font><font size = 1, color=blue> well-known, </font><font size = 1, color=red> politically </font><font size = 1, color=blue> active </font><font size = 2, color=blue> evangelist </font><font size = 1, color=red> could </font><font size = 1, color=red> have </font><font size = 1, color=blue> committed </font><font size = 1, color=red> such </font><font size = 1, color=gray> a </font><font size = 1, color=blue> crime. </font><font size = 1, color=red> Just </font><font size = 1, color=red> to </font><font size = 1, color=red> give </font><font size = 1, color=blue> the </font><font size = 1, color=red> movie </font><font size = 1, color=red> context, </font><font size = 1, color=red> it </font><font size = 1, color=red> should </font><font size = 1, color=red> be </font><font size = 1, color=blue> noted </font><font size = 1, color=red> that </font><font size = 1, color=blue> when </font><font size = 1, color=gray> Tibbs </font><font size = 1, color=blue> and </font><font size = 1, color=blue> the </font><font size = 1, color=blue> police </font><font size = 1, color=blue> study </font><font size = 1, color=blue> the </font><font size = 1, color=blue> crime </font><font size = 1, color=red> scene, </font><font size = 1, color=red> they </font><font size = 1, color=red> mention </font><font size = 1, color=blue> the </font><font size = 1, color=red> word </font><font size = 3, color=red> 'semen,' </font><font size = 1, color=red> no </font><font size = 1, color=red> doubt </font><font size = 1, color=gray> a </font><font size = 1, color=blue> controversial </font><font size = 1, color=red> term </font><font size = 1, color=red> to </font><font size = 1, color=red> mention </font><font size = 1, color=blue> in </font><font size = 1, color=blue> an </font><font size = 1, color=blue> early </font><font size = 1, color=red> 1970s </font><font size = 1, color=red> movie.<br </font><font size = 1, color=red> /><br </font><font size = 1, color=gray> />Tibbs </font><font size = 1, color=blue> questions </font><font size = 1, color=gray> Weedon </font><font size = 1, color=blue> whom </font><font size = 1, color=blue> he </font><font size = 1, color=blue> suspects </font><font size = 1, color=blue> is </font><font size = 1, color=red> either </font><font size = 1, color=gray> a </font><font size = 1, color=red> drug </font><font size = 1, color=gray> pusher </font><font size = 1, color=red> or </font><font size = 1, color=gray> a </font><font size = 1, color=red> pimp. </font><font size = 1, color=gray> Weedon </font><font size = 1, color=red> explains </font><font size = 1, color=red> that </font><font size = 1, color=blue> he </font><font size = 1, color=blue> has </font><font size = 1, color=red> no </font><font size = 1, color=blue> records </font><font size = 1, color=red> on </font><font size = 2, color=blue> Joy </font><font size = 1, color=red> Sturges </font><font size = 1, color=red> because </font><font size = 1, color=blue> she </font><font size = 1, color=red> was </font><font size = 1, color=gray> subletting </font><font size = 1, color=blue> the </font><font size = 2, color=blue> apartment </font><font size = 1, color=blue> from </font><font size = 1, color=red> another </font><font size = 1, color=gray> realty </font><font size = 1, color=blue> company. </font><font size = 1, color=gray> Tibbs </font><font size = 1, color=blue> visits </font><font size = 1, color=blue> the </font><font size = 1, color=gray> realty </font><font size = 1, color=blue> company </font><font size = 1, color=blue> and </font><font size = 1, color=red> realtor </font><font size = 1, color=blue> Woody </font><font size = 2, color=blue> Garfield </font><font size = 1, color=red> (Ed </font><font size = 1, color=gray> Anser </font><font size = 1, color=blue> of </font><font size = 1, color=blue> \"JFK\") </font><font size = 1, color=red> flees </font><font size = 1, color=blue> and </font><font size = 1, color=red> drives </font><font size = 1, color=red> off, </font><font size = 1, color=red> essentially </font><font size = 1, color=red> doing </font><font size = 1, color=blue> an </font><font size = 1, color=gray> O.J. </font><font size = 3, color=red> Simpson </font><font size = 1, color=blue> until </font><font size = 1, color=blue> he </font><font size = 2, color=red> crashes </font><font size = 1, color=blue> his </font><font size = 1, color=red> car </font><font size = 1, color=red> after </font><font size = 1, color=gray> a </font><font size = 1, color=blue> lengthy </font><font size = 1, color=red> but </font><font size = 1, color=red> tame </font><font size = 1, color=blue> pursuit. </font><font size = 1, color=blue> When </font><font size = 1, color=gray> Tibbs </font><font size = 1, color=blue> proves </font><font size = 1, color=red> that </font><font size = 1, color=blue> Woody </font><font size = 1, color=red> didn't </font><font size = 1, color=red> kill </font><font size = 2, color=blue> Joy, </font><font size = 1, color=blue> he </font><font size = 2, color=blue> allows </font><font size = 1, color=blue> him </font><font size = 1, color=red> to </font><font size = 1, color=red> leave, </font><font size = 1, color=blue> with </font><font size = 1, color=blue> his </font><font size = 1, color=red> disgruntled </font><font size = 1, color=blue> wife, </font><font size = 1, color=blue> Marge </font><font size = 2, color=blue> (Norma </font><font size = 1, color=red> Crane </font><font size = 1, color=blue> of </font><font size = 1, color=red> \"Penelope\"), </font><font size = 1, color=blue> prepared </font><font size = 1, color=red> to </font><font size = 1, color=red> file </font><font size = 1, color=red> for </font><font size = 1, color=blue> divorce </font><font size = 1, color=red> after </font><font size = 1, color=blue> the </font><font size = 1, color=blue> revelation </font><font size = 1, color=red> that </font><font size = 1, color=blue> he </font><font size = 2, color=red> paid </font><font size = 1, color=gray> a </font><font size = 1, color=red> hooker </font><font size = 1, color=red> to </font><font size = 1, color=red> stay </font><font size = 1, color=blue> in </font><font size = 1, color=blue> an </font><font size = 2, color=blue> apartment.<br </font><font size = 1, color=red> /><br </font><font size = 1, color=gray> />Tibbs </font><font size = 1, color=red> tracks </font><font size = 1, color=red> down </font><font size = 1, color=blue> handyman </font><font size = 1, color=gray> Mealie </font><font size = 1, color=blue> and </font><font size = 1, color=red> clears </font><font size = 1, color=blue> him </font><font size = 1, color=blue> of </font><font size = 1, color=blue> the </font><font size = 1, color=blue> crime, </font><font size = 1, color=blue> and </font><font size = 1, color=red> then </font><font size = 1, color=blue> he </font><font size = 1, color=red> goes </font><font size = 1, color=red> after </font><font size = 1, color=gray> Weedon. </font><font size = 1, color=blue> Luckily, </font><font size = 1, color=red> for </font><font size = 1, color=gray> Tibbs, </font><font size = 1, color=blue> our </font><font size = 1, color=red> hero </font><font size = 1, color=blue> catches </font><font size = 1, color=blue> the </font><font size = 1, color=red> evil </font><font size = 1, color=gray> Weedon </font><font size = 1, color=blue> in </font><font size = 1, color=blue> the </font><font size = 1, color=red> middle </font><font size = 1, color=blue> of </font><font size = 1, color=gray> a </font><font size = 2, color=blue> narcotics </font><font size = 1, color=gray> transaction. </font><font size = 1, color=blue> One </font><font size = 1, color=blue> of </font><font size = 1, color=gray> Weedon's </font><font size = 1, color=red> henchmen </font><font size = 1, color=red> assaults </font><font size = 1, color=gray> Tibbs, </font><font size = 1, color=red> but </font><font size = 1, color=gray> Tibbs </font><font size = 1, color=blue> dispenses </font><font size = 1, color=blue> with </font><font size = 1, color=blue> him </font><font size = 1, color=blue> briefly </font><font size = 1, color=red> before </font><font size = 1, color=blue> he </font><font size = 2, color=blue> embarks </font><font size = 1, color=red> on </font><font size = 1, color=gray> a </font><font size = 1, color=red> long </font><font size = 1, color=red> foot </font><font size = 1, color=red> chase </font><font size = 1, color=red> after </font><font size = 1, color=gray> Weedon. </font><font size = 1, color=blue> Eventually, </font><font size = 1, color=blue> he </font><font size = 1, color=red> corners </font><font size = 1, color=gray> Weedon </font><font size = 1, color=blue> in </font><font size = 1, color=blue> an </font><font size = 1, color=blue> underground </font><font size = 2, color=red> parking </font><font size = 1, color=red> garage </font><font size = 1, color=blue> and </font><font size = 1, color=red> they </font><font size = 2, color=red> shoot </font><font size = 1, color=red> it </font><font size = 1, color=red> out. </font><font size = 2, color=red> Guess </font><font size = 1, color=blue> who </font><font size = 1, color=blue> wins.<br </font><font size = 1, color=red> /><br </font><font size = 1, color=blue> />The </font><font size = 1, color=red> scenes </font><font size = 1, color=blue> in </font><font size = 1, color=blue> the </font><font size = 1, color=gray> Tibbs' </font><font size = 1, color=blue> household </font><font size = 1, color=red> are </font><font size = 1, color=blue> more </font><font size = 1, color=red> interesting </font><font size = 1, color=red> than </font><font size = 1, color=blue> his </font><font size = 1, color=blue> investigation. </font><font size = 1, color=blue> Andy </font><font size = 1, color=blue> runs </font><font size = 1, color=red> rampant, </font><font size = 1, color=blue> striking </font><font size = 1, color=blue> his </font><font size = 1, color=blue> sister, </font><font size = 1, color=blue> and </font><font size = 1, color=red> smoking </font><font size = 1, color=blue> in </font><font size = 1, color=blue> the </font><font size = 1, color=blue> garden. </font><font size = 1, color=blue> Our </font><font size = 1, color=red> hero </font><font size = 1, color=blue> wants </font><font size = 1, color=blue> him </font><font size = 1, color=red> to </font><font size = 1, color=blue> clean </font><font size = 1, color=red> up </font><font size = 1, color=blue> his </font><font size = 1, color=blue> room. </font><font size = 1, color=blue> When </font><font size = 1, color=blue> Andy </font><font size = 1, color=blue> refuses, </font><font size = 1, color=gray> Tibbs </font><font size = 1, color=red> pops </font><font size = 1, color=blue> him </font><font size = 1, color=blue> three </font><font size = 1, color=blue> times </font><font size = 1, color=red> on </font><font size = 1, color=blue> the </font><font size = 1, color=blue> jaw. </font><font size = 1, color=red> These </font><font size = 1, color=blue> child </font><font size = 1, color=gray> rearing </font><font size = 1, color=red> scenes </font><font size = 1, color=red> could </font><font size = 1, color=red> probably </font><font size = 1, color=red> never </font><font size = 1, color=red> be </font><font size = 1, color=blue> handled </font><font size = 2, color=blue> today </font><font size = 1, color=blue> as </font><font size = 1, color=red> they </font><font size = 1, color=red> were </font><font size = 1, color=blue> back </font><font size = 1, color=blue> in </font><font size = 1, color=red> 1970. </font><font size = 1, color=red> At </font><font size = 1, color=blue> the </font><font size = 1, color=red> end </font><font size = 1, color=blue> of </font><font size = 1, color=blue> the </font><font size = 1, color=red> movie, </font><font size = 1, color=blue> as </font><font size = 1, color=red> if </font><font size = 1, color=red> to </font><font size = 1, color=gray> solidify </font><font size = 1, color=blue> the </font><font size = 1, color=blue> family </font><font size = 1, color=blue> sequence, </font><font size = 1, color=gray> Tibbs </font><font size = 1, color=blue> is </font><font size = 1, color=blue> seen </font><font size = 1, color=red> walking </font><font size = 1, color=red> off </font><font size = 1, color=blue> with </font><font size = 1, color=blue> his </font><font size = 1, color=blue> wife </font><font size = 1, color=blue> and </font><font size = 1, color=red> kids. </font><font size = 1, color=red> There </font><font size = 1, color=blue> is </font><font size = 1, color=red> on </font><font size = 1, color=blue> confrontation </font><font size = 1, color=blue> between </font><font size = 1, color=blue> Valerie </font><font size = 1, color=blue> and </font><font size = 1, color=red> Virgil </font><font size = 1, color=red> about </font><font size = 1, color=blue> the </font><font size = 1, color=blue> welfare </font><font size = 1, color=blue> of </font><font size = 1, color=blue> their </font><font size = 1, color=blue> children </font><font size = 1, color=blue> and </font><font size = 1, color=red> how </font><font size = 1, color=blue> his </font><font size = 1, color=red> long </font><font size = 1, color=red> hours </font><font size = 1, color=red> at </font><font size = 1, color=blue> work </font><font size = 1, color=blue> has </font><font size = 2, color=blue> affected </font><font size = 1, color=red> them.<br </font><font size = 1, color=red> /><br </font><font size = 1, color=red> />Director </font><font size = 1, color=blue> Gordon </font><font size = 1, color=blue> Douglas </font><font size = 1, color=blue> directs </font><font size = 1, color=blue> in </font><font size = 1, color=red> competent </font><font size = 1, color=red> fashion. </font><font size = 2, color=blue> Surprisingly, </font><font size = 1, color=red> for </font><font size = 1, color=gray> a </font><font size = 1, color=blue> film </font><font size = 1, color=blue> released </font><font size = 1, color=blue> in </font><font size = 1, color=red> 1970, </font><font size = 1, color=blue> the </font><font size = 1, color=red> filmmakers </font><font size = 1, color=red> never </font><font size = 1, color=blue> play </font><font size = 1, color=blue> the </font><font size = 1, color=blue> race </font><font size = 1, color=red> card. </font><font size = 1, color=blue> In </font><font size = 1, color=blue> one </font><font size = 1, color=red> scene, </font><font size = 1, color=blue> when </font><font size = 1, color=gray> Tibbs </font><font size = 1, color=blue> searches </font><font size = 1, color=gray> a </font><font size = 1, color=gray> billiards </font><font size = 2, color=red> parlor </font><font size = 1, color=red> owned </font><font size = 1, color=blue> by </font><font size = 1, color=blue> an </font><font size = 1, color=blue> African-American, </font><font size = 1, color=blue> we </font><font size = 1, color=blue> see </font><font size = 1, color=gray> a </font><font size = 1, color=blue> mixed </font><font size = 1, color=red> breed </font><font size = 1, color=blue> of </font><font size = 1, color=blue> races </font><font size = 2, color=red> scowling </font><font size = 1, color=red> at </font><font size = 1, color=blue> the </font><font size = 1, color=red> hero </font><font size = 1, color=blue> when </font><font size = 1, color=blue> he </font><font size = 1, color=blue> finds </font><font size = 1, color=gray> Mealie </font><font size = 1, color=blue> and </font><font size = 1, color=blue> leaves </font><font size = 1, color=blue> with </font><font size = 1, color=blue> him </font><font size = 1, color=blue> in </font><font size = 1, color=blue> tow.<br </font><font size = 1, color=red> /><br </font><font size = 1, color=red> />Altogether, </font><font size = 1, color=red> \"They </font><font size = 1, color=red> Call </font><font size = 1, color=red> Me </font><font size = 2, color=red> MISTER </font><font size = 1, color=gray> Tibbs\" </font><font size = 1, color=blue> is </font><font size = 1, color=gray> a </font><font size = 2, color=red> poor </font><font size = 1, color=blue> follow-up </font><font size = 1, color=red> to </font><font size = 1, color=blue> \"In </font><font size = 1, color=blue> the </font><font size = 1, color=blue> Heat </font><font size = 1, color=blue> of </font><font size = 1, color=blue> the </font><font size = 1, color=red> Night.\" </font><font size = 1, color=red> Mind </font><font size = 1, color=red> you, </font><font size = 2, color=red> Poitier </font><font size = 2, color=blue> delivers </font><font size = 1, color=red> another </font><font size = 1, color=blue> fine </font><font size = 1, color=blue> performance </font><font size = 1, color=blue> with </font><font size = 1, color=blue> nuance, </font><font size = 1, color=red> but </font><font size = 1, color=red> everything </font><font size = 1, color=red> looks </font><font size = 1, color=gray> prefabricated. </font><font size = 1, color=red> All </font><font size = 1, color=blue> of </font><font size = 1, color=blue> the </font><font size = 1, color=blue> sets </font><font size = 1, color=red> look </font><font size = 2, color=red> fake </font><font size = 1, color=blue> and </font><font size = 1, color=red> there </font><font size = 1, color=red> isn't </font><font size = 1, color=red> much </font><font size = 1, color=blue> physical </font><font size = 1, color=red> violence: </font><font size = 1, color=blue> one </font><font size = 1, color=blue> underground </font><font size = 2, color=red> parking </font><font size = 1, color=blue> lot </font><font size = 2, color=red> shoot-out </font><font size = 1, color=red> that </font><font size = 1, color=red> doesn't </font><font size = 1, color=blue> last </font><font size = 1, color=red> long </font><font size = 1, color=blue> and </font><font size = 1, color=gray> a </font><font size = 1, color=red> fight. </font><font size = 1, color=red> Beyond </font><font size = 1, color=red> Jones' </font><font size = 1, color=blue> seminal </font><font size = 1, color=blue> jazz </font><font size = 1, color=blue> score, </font><font size = 1, color=blue> the </font><font size = 1, color=red> only </font><font size = 1, color=blue> surpriseand </font><font size = 1, color=red> it </font><font size = 1, color=red> really </font><font size = 1, color=red> doesn't </font><font size = 2, color=red> qualify </font><font size = 1, color=blue> as </font><font size = 1, color=gray> a </font><font size = 1, color=red> major </font><font size = 1, color=blue> surprise </font><font size = 1, color=blue> more </font><font size = 1, color=red> like </font><font size = 1, color=gray> a </font><font size = 2, color=red> convenient </font><font size = 1, color=red> contrivanceis </font><font size = 1, color=blue> the </font><font size = 1, color=red> ending. </font><font size = 2, color=blue> Donald </font><font size = 1, color=gray> Medford's </font><font size = 1, color=blue> \"The </font><font size = 1, color=red> Organization\" </font><font size = 1, color=red> followed </font><font size = 1, color=red> \"They </font><font size = 1, color=red> Call </font><font size = 1, color=red> Me </font><font size = 2, color=red> MISTER </font><font size = 1, color=gray> Tibbs\" </font><font size = 1, color=blue> as </font><font size = 1, color=blue> the </font><font size = 1, color=blue> second, </font><font size = 1, color=blue> more </font><font size = 1, color=blue> action-packed </font><font size = 1, color=red> sequel. </font>"
      ],
      "text/plain": [
       "<utils.ColoredWeightedDoc at 0x7fd789835e10>"
      ]
     },
     "metadata": {},
     "output_type": "display_data"
    },
    {
     "data": {
      "text/html": [
       "<b>Best Classifier<b>"
      ]
     },
     "metadata": {},
     "output_type": "display_data"
    },
    {
     "data": {
      "text/html": [
       "<font size = 1, color=red> Academy </font><font size = 2, color=blue> Awarding </font><font size = 1, color=red> actor </font><font size = 1, color=red> Sidney </font><font size = 1, color=blue> Poitier </font><font size = 1, color=blue> of </font><font size = 5, color=blue> \"Lilies </font><font size = 1, color=blue> of </font><font size = 1, color=blue> the </font><font size = 1, color=red> Field\" </font><font size = 1, color=blue> reprises </font><font size = 1, color=blue> his </font><font size = 1, color=blue> role </font><font size = 1, color=blue> as </font><font size = 1, color=blue> Lieutenant </font><font size = 3, color=red> Virgil </font><font size = 1, color=gray> Tibbs </font><font size = 1, color=red> from </font><font size = 1, color=blue> the </font><font size = 1, color=red> 1967 </font><font size = 1, color=red> Oscar </font><font size = 1, color=blue> winning </font><font size = 1, color=blue> Best </font><font size = 1, color=blue> Picture </font><font size = 1, color=blue> \"In </font><font size = 1, color=blue> the </font><font size = 1, color=blue> Heat </font><font size = 1, color=blue> of </font><font size = 1, color=blue> the </font><font size = 1, color=red> Night\" </font><font size = 1, color=red> for </font><font size = 1, color=blue> veteran </font><font size = 1, color=red> director </font><font size = 1, color=blue> Gordon </font><font size = 1, color=red> Douglas' </font><font size = 1, color=red> tired, </font><font size = 4, color=red> uninspired </font><font size = 1, color=red> sequel </font><font size = 1, color=red> \"They </font><font size = 1, color=red> Call </font><font size = 1, color=blue> Me </font><font size = 4, color=red> MISTER </font><font size = 1, color=gray> Tibbs,\" </font><font size = 1, color=blue> with </font><font size = 1, color=red> nobody </font><font size = 1, color=blue> the </font><font size = 1, color=red> equivalent </font><font size = 1, color=blue> of </font><font size = 1, color=red> Rod </font><font size = 2, color=blue> Steiger </font><font size = 1, color=blue> with </font><font size = 1, color=blue> which </font><font size = 1, color=red> to </font><font size = 2, color=red> swap </font><font size = 1, color=red> dialogue. </font><font size = 1, color=red> Clearly, </font><font size = 1, color=blue> both </font><font size = 1, color=gray> \"Bullitt\" </font><font size = 2, color=red> scenarist </font><font size = 1, color=red> Alan </font><font size = 1, color=gray> R. </font><font size = 1, color=gray> Trustman </font><font size = 1, color=blue> and </font><font size = 1, color=blue> Robert </font><font size = 1, color=gray> D. </font><font size = 1, color=red> Webb </font><font size = 1, color=blue> of </font><font size = 3, color=red> \"Cape </font><font size = 1, color=blue> Fear\" </font><font size = 1, color=red> were </font><font size = 1, color=red> off </font><font size = 1, color=blue> their </font><font size = 1, color=red> game </font><font size = 1, color=blue> when </font><font size = 1, color=red> they </font><font size = 2, color=red> penned </font><font size = 1, color=red> this </font><font size = 2, color=red> predictable </font><font size = 1, color=red> police </font><font size = 1, color=red> procedural </font><font size = 3, color=red> potboiler. </font><font size = 1, color=blue> The </font><font size = 1, color=red> dialogue </font><font size = 1, color=blue> is </font><font size = 3, color=red> drab </font><font size = 1, color=blue> and </font><font size = 1, color=red> none </font><font size = 1, color=blue> of </font><font size = 1, color=blue> the </font><font size = 1, color=blue> characters </font><font size = 1, color=blue> are </font><font size = 1, color=red> interesting, </font><font size = 1, color=red> not </font><font size = 1, color=red> even </font><font size = 1, color=blue> the </font><font size = 1, color=red> chief </font><font size = 1, color=red> suspect. </font><font size = 1, color=red> Absolutely </font><font size = 1, color=red> nothing </font><font size = 4, color=red> remotely </font><font size = 1, color=blue> exciting, </font><font size = 1, color=blue> suspenseful, </font><font size = 1, color=red> or </font><font size = 2, color=blue> surprising </font><font size = 1, color=red> occurs </font><font size = 1, color=blue> in </font><font size = 1, color=red> this </font><font size = 1, color=red> tame </font><font size = 1, color=blue> whodunit. </font><font size = 1, color=red> Meanwhile, </font><font size = 1, color=blue> things </font><font size = 1, color=red> have </font><font size = 1, color=blue> changed </font><font size = 2, color=red> considerably </font><font size = 1, color=blue> since </font><font size = 3, color=red> Virgil </font><font size = 1, color=red> was </font><font size = 1, color=blue> last </font><font size = 1, color=blue> seen </font><font size = 1, color=blue> in </font><font size = 1, color=blue> \"In </font><font size = 1, color=blue> the </font><font size = 1, color=blue> Heat </font><font size = 1, color=blue> of </font><font size = 1, color=blue> the </font><font size = 1, color=red> Night.\" </font><font size = 1, color=red> He </font><font size = 1, color=blue> worked </font><font size = 1, color=blue> as </font><font size = 1, color=gray> a </font><font size = 1, color=blue> homicide </font><font size = 1, color=red> detective </font><font size = 1, color=red> for </font><font size = 1, color=blue> the </font><font size = 1, color=red> Philadelphia, </font><font size = 3, color=blue> Pennsylvania, </font><font size = 1, color=red> Police </font><font size = 1, color=red> Department. </font><font size = 1, color=blue> In </font><font size = 1, color=red> \"They </font><font size = 1, color=red> Call </font><font size = 1, color=blue> Me </font><font size = 4, color=red> MISTER </font><font size = 1, color=gray> Tibbs,\" </font><font size = 1, color=blue> our </font><font size = 1, color=red> hero </font><font size = 1, color=blue> works </font><font size = 1, color=red> for </font><font size = 1, color=blue> the </font><font size = 1, color=blue> San </font><font size = 1, color=red> Francisco </font><font size = 1, color=red> Police </font><font size = 1, color=red> Department. </font><font size = 1, color=red> Moreover, </font><font size = 1, color=red> he </font><font size = 1, color=blue> has </font><font size = 1, color=gray> a </font><font size = 1, color=red> wife, </font><font size = 2, color=blue> Valerie </font><font size = 2, color=blue> (Barbara </font><font size = 1, color=gray> McNair </font><font size = 1, color=blue> of </font><font size = 1, color=blue> \"Change </font><font size = 1, color=blue> of </font><font size = 2, color=blue> Habit\"), </font><font size = 1, color=blue> and </font><font size = 1, color=gray> a </font><font size = 1, color=blue> family, </font><font size = 1, color=gray> a </font><font size = 1, color=blue> young </font><font size = 1, color=red> rebellious </font><font size = 1, color=blue> son, </font><font size = 2, color=blue> Andy </font><font size = 1, color=red> (George </font><font size = 1, color=blue> Spell </font><font size = 1, color=blue> of </font><font size = 1, color=blue> \"The </font><font size = 1, color=red> Naked </font><font size = 1, color=blue> Kiss\"), </font><font size = 1, color=blue> and </font><font size = 1, color=gray> a </font><font size = 1, color=red> younger </font><font size = 3, color=red> doting </font><font size = 1, color=red> daughter, </font><font size = 1, color=blue> Ginger </font><font size = 2, color=red> (Wanda </font><font size = 1, color=blue> Spell </font><font size = 1, color=blue> of </font><font size = 3, color=blue> \"Hickey </font><font size = 1, color=blue> and </font><font size = 1, color=gray> Boggs\"). </font><font size = 1, color=gray> Tibbs </font><font size = 1, color=red> drives </font><font size = 1, color=gray> a </font><font size = 1, color=red> medium </font><font size = 1, color=red> blue </font><font size = 1, color=blue> Mustang </font><font size = 1, color=blue> and </font><font size = 1, color=blue> his </font><font size = 1, color=red> wife </font><font size = 1, color=blue> holds </font><font size = 1, color=red> down </font><font size = 1, color=blue> the </font><font size = 1, color=blue> house </font><font size = 1, color=blue> and </font><font size = 1, color=gray> hovers </font><font size = 1, color=red> over </font><font size = 1, color=blue> their </font><font size = 1, color=blue> two </font><font size = 1, color=red> children </font><font size = 1, color=blue> since </font><font size = 1, color=red> he </font><font size = 1, color=red> doesn't </font><font size = 1, color=red> have </font><font size = 1, color=blue> as </font><font size = 1, color=red> much </font><font size = 1, color=blue> time </font><font size = 1, color=red> to </font><font size = 1, color=red> spend </font><font size = 1, color=blue> with </font><font size = 1, color=red> them. </font><font size = 1, color=red> Literally, </font><font size = 1, color=red> there </font><font size = 1, color=blue> are </font><font size = 1, color=red> no </font><font size = 1, color=blue> surprises </font><font size = 1, color=blue> in </font><font size = 1, color=red> this </font><font size = 2, color=red> pedestrian </font><font size = 1, color=blue> murder </font><font size = 1, color=blue> mystery. </font><font size = 1, color=blue> Indeed, </font><font size = 1, color=blue> the </font><font size = 1, color=blue> best </font><font size = 1, color=red> thing </font><font size = 1, color=blue> about </font><font size = 1, color=red> \"They </font><font size = 1, color=red> Call </font><font size = 1, color=blue> Me </font><font size = 4, color=red> MISTER </font><font size = 1, color=gray> Tibbs\" </font><font size = 1, color=blue> is </font><font size = 1, color=red> Quincy </font><font size = 1, color=red> Jones' </font><font size = 2, color=blue> terrific </font><font size = 1, color=red> orchestral </font><font size = 1, color=blue> soundtrack </font><font size = 1, color=blue> with </font><font size = 1, color=gray> a </font><font size = 1, color=blue> memorable </font><font size = 1, color=red> opening </font><font size = 1, color=blue> theme, </font><font size = 1, color=blue> more </font><font size = 1, color=blue> memorable </font><font size = 1, color=red> than </font><font size = 1, color=red> this </font><font size = 3, color=red> forgettable </font><font size = 1, color=blue> crime </font><font size = 1, color=blue> thriller </font><font size = 1, color=blue> deserved.<br </font><font size = 1, color=red> /><br </font><font size = 1, color=red> />Everything </font><font size = 1, color=blue> begins </font><font size = 1, color=blue> sensationally </font><font size = 1, color=red> enough </font><font size = 1, color=blue> with </font><font size = 1, color=gray> a </font><font size = 1, color=red> struggling </font><font size = 2, color=blue> prostitute, </font><font size = 2, color=blue> Joy </font><font size = 2, color=blue> Sturges </font><font size = 2, color=red> (Linda </font><font size = 1, color=blue> Towne </font><font size = 1, color=blue> of </font><font size = 1, color=blue> \"The </font><font size = 1, color=blue> Adventurers\"), </font><font size = 1, color=red> being </font><font size = 1, color=gray> bludgeoned </font><font size = 1, color=red> to </font><font size = 1, color=red> death </font><font size = 1, color=blue> in </font><font size = 1, color=blue> the </font><font size = 1, color=blue> bedroom </font><font size = 1, color=blue> of </font><font size = 1, color=blue> her </font><font size = 1, color=blue> downtown </font><font size = 1, color=red> apartment </font><font size = 1, color=red> by </font><font size = 1, color=red> an </font><font size = 1, color=red> unseen </font><font size = 3, color=blue> assailant. </font><font size = 1, color=red> Apartment </font><font size = 2, color=blue> handyman </font><font size = 1, color=gray> Mealie </font><font size = 2, color=red> Williamson </font><font size = 1, color=gray> (Juano </font><font size = 2, color=blue> Hernandez </font><font size = 1, color=blue> of </font><font size = 1, color=blue> \"Intruder </font><font size = 1, color=blue> in </font><font size = 1, color=blue> the </font><font size = 1, color=red> Dust\") </font><font size = 1, color=blue> enters </font><font size = 2, color=blue> Joy's </font><font size = 1, color=red> apartment </font><font size = 1, color=blue> and </font><font size = 1, color=blue> finds </font><font size = 1, color=blue> her </font><font size = 2, color=blue> strewn </font><font size = 1, color=red> on </font><font size = 1, color=blue> the </font><font size = 1, color=red> carpet </font><font size = 1, color=red> dead </font><font size = 1, color=blue> with </font><font size = 1, color=gray> a </font><font size = 1, color=red> bloody </font><font size = 3, color=red> forehead. </font><font size = 1, color=red> He </font><font size = 1, color=red> picks </font><font size = 1, color=red> up </font><font size = 1, color=blue> the </font><font size = 1, color=red> statue </font><font size = 1, color=blue> briefly </font><font size = 1, color=blue> and </font><font size = 1, color=red> then </font><font size = 1, color=blue> puts </font><font size = 1, color=blue> it </font><font size = 1, color=red> back </font><font size = 1, color=red> on </font><font size = 1, color=blue> the </font><font size = 1, color=blue> floor </font><font size = 1, color=blue> and </font><font size = 1, color=blue> reports </font><font size = 2, color=blue> Joy's </font><font size = 1, color=red> death </font><font size = 1, color=red> to </font><font size = 1, color=blue> the </font><font size = 1, color=blue> superintendent </font><font size = 1, color=blue> of </font><font size = 1, color=blue> the </font><font size = 1, color=red> apartment, </font><font size = 3, color=red> Rice </font><font size = 1, color=gray> Weedon </font><font size = 1, color=red> (Anthony </font><font size = 1, color=gray> Zerbe </font><font size = 1, color=blue> of </font><font size = 1, color=blue> \"License </font><font size = 1, color=red> to </font><font size = 1, color=red> Kill\"), </font><font size = 1, color=blue> and </font><font size = 1, color=gray> Weedon </font><font size = 1, color=blue> gives </font><font size = 1, color=gray> Mealie </font><font size = 1, color=blue> and </font><font size = 1, color=red> fistful </font><font size = 1, color=blue> of </font><font size = 1, color=blue> dollars </font><font size = 1, color=blue> and </font><font size = 1, color=blue> sends </font><font size = 1, color=blue> him </font><font size = 2, color=red> packing. </font><font size = 1, color=blue> Afterward, </font><font size = 1, color=gray> Weedon </font><font size = 2, color=red> anonymously </font><font size = 1, color=gray> notifies </font><font size = 1, color=blue> the </font><font size = 1, color=gray> SFPD </font><font size = 1, color=red> that </font><font size = 1, color=blue> popular </font><font size = 1, color=blue> minister </font><font size = 1, color=red> Logan </font><font size = 1, color=red> Sharpe </font><font size = 1, color=red> (Martin </font><font size = 5, color=red> Landau </font><font size = 1, color=blue> of </font><font size = 1, color=blue> \"Nevada </font><font size = 1, color=blue> Smith\") </font><font size = 1, color=red> beaten </font><font size = 2, color=blue> Joy </font><font size = 1, color=red> to </font><font size = 1, color=red> death </font><font size = 1, color=blue> and </font><font size = 1, color=red> was </font><font size = 1, color=red> seem </font><font size = 1, color=red> leaving </font><font size = 2, color=blue> Joy's </font><font size = 1, color=red> apartment. </font><font size = 1, color=red> Captain </font><font size = 1, color=gray> Marden </font><font size = 1, color=blue> (Jeff </font><font size = 2, color=red> Corey </font><font size = 1, color=blue> of </font><font size = 1, color=blue> \"True </font><font size = 1, color=blue> Grit\") </font><font size = 1, color=gray> assigns </font><font size = 1, color=gray> Tibbs </font><font size = 1, color=red> to </font><font size = 2, color=blue> handle </font><font size = 1, color=blue> the </font><font size = 1, color=red> case; </font><font size = 1, color=blue> it </font><font size = 1, color=red> seems </font><font size = 1, color=red> that </font><font size = 1, color=blue> both </font><font size = 1, color=gray> Tibbs </font><font size = 1, color=blue> and </font><font size = 1, color=red> Sharpe </font><font size = 1, color=red> have </font><font size = 1, color=blue> known </font><font size = 1, color=blue> each </font><font size = 1, color=blue> other </font><font size = 1, color=red> for </font><font size = 1, color=red> 18 </font><font size = 1, color=blue> years. </font><font size = 1, color=red> Naturally, </font><font size = 1, color=gray> Tibbs' </font><font size = 1, color=red> wife </font><font size = 2, color=blue> Valerie </font><font size = 1, color=red> cannot </font><font size = 1, color=red> believe </font><font size = 1, color=red> that </font><font size = 1, color=blue> the </font><font size = 1, color=blue> well-known, </font><font size = 1, color=red> politically </font><font size = 1, color=blue> active </font><font size = 3, color=red> evangelist </font><font size = 1, color=red> could </font><font size = 1, color=red> have </font><font size = 1, color=red> committed </font><font size = 1, color=blue> such </font><font size = 1, color=gray> a </font><font size = 1, color=blue> crime. </font><font size = 1, color=red> Just </font><font size = 1, color=red> to </font><font size = 1, color=blue> give </font><font size = 1, color=blue> the </font><font size = 1, color=red> movie </font><font size = 1, color=red> context, </font><font size = 1, color=blue> it </font><font size = 1, color=red> should </font><font size = 1, color=red> be </font><font size = 1, color=blue> noted </font><font size = 1, color=red> that </font><font size = 1, color=blue> when </font><font size = 1, color=gray> Tibbs </font><font size = 1, color=blue> and </font><font size = 1, color=blue> the </font><font size = 1, color=red> police </font><font size = 1, color=red> study </font><font size = 1, color=blue> the </font><font size = 1, color=blue> crime </font><font size = 1, color=red> scene, </font><font size = 1, color=red> they </font><font size = 1, color=red> mention </font><font size = 1, color=blue> the </font><font size = 1, color=red> word </font><font size = 1, color=blue> 'semen,' </font><font size = 1, color=red> no </font><font size = 1, color=red> doubt </font><font size = 1, color=gray> a </font><font size = 1, color=blue> controversial </font><font size = 1, color=red> term </font><font size = 1, color=red> to </font><font size = 1, color=red> mention </font><font size = 1, color=blue> in </font><font size = 1, color=red> an </font><font size = 1, color=blue> early </font><font size = 1, color=blue> 1970s </font><font size = 1, color=red> movie.<br </font><font size = 1, color=red> /><br </font><font size = 1, color=gray> />Tibbs </font><font size = 1, color=red> questions </font><font size = 1, color=gray> Weedon </font><font size = 1, color=red> whom </font><font size = 1, color=red> he </font><font size = 1, color=red> suspects </font><font size = 1, color=blue> is </font><font size = 1, color=red> either </font><font size = 1, color=gray> a </font><font size = 1, color=red> drug </font><font size = 1, color=gray> pusher </font><font size = 1, color=red> or </font><font size = 1, color=gray> a </font><font size = 1, color=red> pimp. </font><font size = 1, color=gray> Weedon </font><font size = 1, color=red> explains </font><font size = 1, color=red> that </font><font size = 1, color=red> he </font><font size = 1, color=blue> has </font><font size = 1, color=red> no </font><font size = 1, color=red> records </font><font size = 1, color=red> on </font><font size = 2, color=blue> Joy </font><font size = 2, color=blue> Sturges </font><font size = 1, color=red> because </font><font size = 1, color=blue> she </font><font size = 1, color=red> was </font><font size = 1, color=gray> subletting </font><font size = 1, color=blue> the </font><font size = 1, color=red> apartment </font><font size = 1, color=red> from </font><font size = 1, color=red> another </font><font size = 1, color=gray> realty </font><font size = 1, color=red> company. </font><font size = 1, color=gray> Tibbs </font><font size = 1, color=red> visits </font><font size = 1, color=blue> the </font><font size = 1, color=gray> realty </font><font size = 1, color=red> company </font><font size = 1, color=blue> and </font><font size = 3, color=blue> realtor </font><font size = 1, color=blue> Woody </font><font size = 2, color=red> Garfield </font><font size = 1, color=blue> (Ed </font><font size = 1, color=gray> Anser </font><font size = 1, color=blue> of </font><font size = 1, color=blue> \"JFK\") </font><font size = 3, color=red> flees </font><font size = 1, color=blue> and </font><font size = 1, color=red> drives </font><font size = 1, color=red> off, </font><font size = 1, color=red> essentially </font><font size = 1, color=red> doing </font><font size = 1, color=red> an </font><font size = 1, color=gray> O.J. </font><font size = 2, color=red> Simpson </font><font size = 1, color=blue> until </font><font size = 1, color=red> he </font><font size = 2, color=red> crashes </font><font size = 1, color=blue> his </font><font size = 1, color=red> car </font><font size = 1, color=red> after </font><font size = 1, color=gray> a </font><font size = 1, color=blue> lengthy </font><font size = 1, color=red> but </font><font size = 1, color=red> tame </font><font size = 1, color=red> pursuit. </font><font size = 1, color=blue> When </font><font size = 1, color=gray> Tibbs </font><font size = 1, color=blue> proves </font><font size = 1, color=red> that </font><font size = 1, color=blue> Woody </font><font size = 1, color=red> didn't </font><font size = 1, color=red> kill </font><font size = 2, color=blue> Joy, </font><font size = 1, color=red> he </font><font size = 1, color=red> allows </font><font size = 1, color=blue> him </font><font size = 1, color=red> to </font><font size = 1, color=red> leave, </font><font size = 1, color=blue> with </font><font size = 1, color=blue> his </font><font size = 1, color=red> disgruntled </font><font size = 1, color=red> wife, </font><font size = 2, color=blue> Marge </font><font size = 1, color=blue> (Norma </font><font size = 2, color=red> Crane </font><font size = 1, color=blue> of </font><font size = 1, color=blue> \"Penelope\"), </font><font size = 1, color=blue> prepared </font><font size = 1, color=red> to </font><font size = 1, color=red> file </font><font size = 1, color=red> for </font><font size = 1, color=red> divorce </font><font size = 1, color=red> after </font><font size = 1, color=blue> the </font><font size = 1, color=blue> revelation </font><font size = 1, color=red> that </font><font size = 1, color=red> he </font><font size = 2, color=red> paid </font><font size = 1, color=gray> a </font><font size = 2, color=red> hooker </font><font size = 1, color=red> to </font><font size = 1, color=red> stay </font><font size = 1, color=blue> in </font><font size = 1, color=red> an </font><font size = 1, color=red> apartment.<br </font><font size = 1, color=red> /><br </font><font size = 1, color=gray> />Tibbs </font><font size = 1, color=red> tracks </font><font size = 1, color=red> down </font><font size = 2, color=blue> handyman </font><font size = 1, color=gray> Mealie </font><font size = 1, color=blue> and </font><font size = 2, color=blue> clears </font><font size = 1, color=blue> him </font><font size = 1, color=blue> of </font><font size = 1, color=blue> the </font><font size = 1, color=blue> crime, </font><font size = 1, color=blue> and </font><font size = 1, color=red> then </font><font size = 1, color=red> he </font><font size = 1, color=blue> goes </font><font size = 1, color=red> after </font><font size = 1, color=gray> Weedon. </font><font size = 1, color=blue> Luckily, </font><font size = 1, color=red> for </font><font size = 1, color=gray> Tibbs, </font><font size = 1, color=blue> our </font><font size = 1, color=red> hero </font><font size = 1, color=blue> catches </font><font size = 1, color=blue> the </font><font size = 1, color=red> evil </font><font size = 1, color=gray> Weedon </font><font size = 1, color=blue> in </font><font size = 1, color=blue> the </font><font size = 1, color=red> middle </font><font size = 1, color=blue> of </font><font size = 1, color=gray> a </font><font size = 1, color=blue> narcotics </font><font size = 1, color=gray> transaction. </font><font size = 1, color=blue> One </font><font size = 1, color=blue> of </font><font size = 1, color=gray> Weedon's </font><font size = 1, color=red> henchmen </font><font size = 2, color=red> assaults </font><font size = 1, color=gray> Tibbs, </font><font size = 1, color=red> but </font><font size = 1, color=gray> Tibbs </font><font size = 1, color=blue> dispenses </font><font size = 1, color=blue> with </font><font size = 1, color=blue> him </font><font size = 1, color=blue> briefly </font><font size = 1, color=blue> before </font><font size = 1, color=red> he </font><font size = 1, color=blue> embarks </font><font size = 1, color=red> on </font><font size = 1, color=gray> a </font><font size = 1, color=red> long </font><font size = 1, color=red> foot </font><font size = 1, color=red> chase </font><font size = 1, color=red> after </font><font size = 1, color=gray> Weedon. </font><font size = 1, color=red> Eventually, </font><font size = 1, color=red> he </font><font size = 1, color=red> corners </font><font size = 1, color=gray> Weedon </font><font size = 1, color=blue> in </font><font size = 1, color=red> an </font><font size = 1, color=blue> underground </font><font size = 1, color=blue> parking </font><font size = 1, color=red> garage </font><font size = 1, color=blue> and </font><font size = 1, color=red> they </font><font size = 1, color=red> shoot </font><font size = 1, color=blue> it </font><font size = 1, color=red> out. </font><font size = 1, color=red> Guess </font><font size = 1, color=red> who </font><font size = 1, color=red> wins.<br </font><font size = 1, color=red> /><br </font><font size = 1, color=blue> />The </font><font size = 1, color=blue> scenes </font><font size = 1, color=blue> in </font><font size = 1, color=blue> the </font><font size = 1, color=gray> Tibbs' </font><font size = 2, color=blue> household </font><font size = 1, color=blue> are </font><font size = 1, color=blue> more </font><font size = 1, color=red> interesting </font><font size = 1, color=red> than </font><font size = 1, color=blue> his </font><font size = 1, color=blue> investigation. </font><font size = 2, color=blue> Andy </font><font size = 1, color=red> runs </font><font size = 3, color=red> rampant, </font><font size = 1, color=blue> striking </font><font size = 1, color=blue> his </font><font size = 1, color=blue> sister, </font><font size = 1, color=blue> and </font><font size = 1, color=red> smoking </font><font size = 1, color=blue> in </font><font size = 1, color=blue> the </font><font size = 1, color=red> garden. </font><font size = 1, color=blue> Our </font><font size = 1, color=red> hero </font><font size = 1, color=blue> wants </font><font size = 1, color=blue> him </font><font size = 1, color=red> to </font><font size = 1, color=blue> clean </font><font size = 1, color=red> up </font><font size = 1, color=blue> his </font><font size = 1, color=red> room. </font><font size = 1, color=blue> When </font><font size = 2, color=blue> Andy </font><font size = 1, color=red> refuses, </font><font size = 1, color=gray> Tibbs </font><font size = 1, color=red> pops </font><font size = 1, color=blue> him </font><font size = 1, color=red> three </font><font size = 1, color=blue> times </font><font size = 1, color=red> on </font><font size = 1, color=blue> the </font><font size = 1, color=blue> jaw. </font><font size = 1, color=blue> These </font><font size = 1, color=red> child </font><font size = 1, color=gray> rearing </font><font size = 1, color=blue> scenes </font><font size = 1, color=red> could </font><font size = 1, color=red> probably </font><font size = 1, color=red> never </font><font size = 1, color=red> be </font><font size = 1, color=red> handled </font><font size = 2, color=blue> today </font><font size = 1, color=blue> as </font><font size = 1, color=red> they </font><font size = 1, color=red> were </font><font size = 1, color=red> back </font><font size = 1, color=blue> in </font><font size = 2, color=red> 1970. </font><font size = 1, color=red> At </font><font size = 1, color=blue> the </font><font size = 1, color=red> end </font><font size = 1, color=blue> of </font><font size = 1, color=blue> the </font><font size = 1, color=red> movie, </font><font size = 1, color=blue> as </font><font size = 1, color=red> if </font><font size = 1, color=red> to </font><font size = 1, color=gray> solidify </font><font size = 1, color=blue> the </font><font size = 1, color=blue> family </font><font size = 1, color=red> sequence, </font><font size = 1, color=gray> Tibbs </font><font size = 1, color=blue> is </font><font size = 1, color=blue> seen </font><font size = 1, color=red> walking </font><font size = 1, color=red> off </font><font size = 1, color=blue> with </font><font size = 1, color=blue> his </font><font size = 1, color=red> wife </font><font size = 1, color=blue> and </font><font size = 1, color=red> kids. </font><font size = 1, color=red> There </font><font size = 1, color=blue> is </font><font size = 1, color=red> on </font><font size = 1, color=red> confrontation </font><font size = 1, color=blue> between </font><font size = 2, color=blue> Valerie </font><font size = 1, color=blue> and </font><font size = 3, color=red> Virgil </font><font size = 1, color=blue> about </font><font size = 1, color=blue> the </font><font size = 1, color=blue> welfare </font><font size = 1, color=blue> of </font><font size = 1, color=blue> their </font><font size = 1, color=red> children </font><font size = 1, color=blue> and </font><font size = 1, color=red> how </font><font size = 1, color=blue> his </font><font size = 1, color=red> long </font><font size = 1, color=red> hours </font><font size = 1, color=red> at </font><font size = 1, color=blue> work </font><font size = 1, color=blue> has </font><font size = 1, color=blue> affected </font><font size = 1, color=red> them.<br </font><font size = 1, color=red> /><br </font><font size = 1, color=red> />Director </font><font size = 1, color=blue> Gordon </font><font size = 1, color=red> Douglas </font><font size = 1, color=red> directs </font><font size = 1, color=blue> in </font><font size = 1, color=blue> competent </font><font size = 1, color=blue> fashion. </font><font size = 1, color=blue> Surprisingly, </font><font size = 1, color=red> for </font><font size = 1, color=gray> a </font><font size = 1, color=blue> film </font><font size = 1, color=blue> released </font><font size = 1, color=blue> in </font><font size = 2, color=red> 1970, </font><font size = 1, color=blue> the </font><font size = 1, color=red> filmmakers </font><font size = 1, color=red> never </font><font size = 1, color=red> play </font><font size = 1, color=blue> the </font><font size = 1, color=red> race </font><font size = 1, color=blue> card. </font><font size = 1, color=blue> In </font><font size = 1, color=blue> one </font><font size = 1, color=red> scene, </font><font size = 1, color=blue> when </font><font size = 1, color=gray> Tibbs </font><font size = 2, color=red> searches </font><font size = 1, color=gray> a </font><font size = 1, color=gray> billiards </font><font size = 3, color=red> parlor </font><font size = 1, color=red> owned </font><font size = 1, color=red> by </font><font size = 1, color=red> an </font><font size = 1, color=blue> African-American, </font><font size = 1, color=blue> we </font><font size = 1, color=blue> see </font><font size = 1, color=gray> a </font><font size = 1, color=blue> mixed </font><font size = 2, color=red> breed </font><font size = 1, color=blue> of </font><font size = 1, color=blue> races </font><font size = 2, color=blue> scowling </font><font size = 1, color=red> at </font><font size = 1, color=blue> the </font><font size = 1, color=red> hero </font><font size = 1, color=blue> when </font><font size = 1, color=red> he </font><font size = 1, color=blue> finds </font><font size = 1, color=gray> Mealie </font><font size = 1, color=blue> and </font><font size = 1, color=blue> leaves </font><font size = 1, color=blue> with </font><font size = 1, color=blue> him </font><font size = 1, color=blue> in </font><font size = 1, color=blue> tow.<br </font><font size = 1, color=red> /><br </font><font size = 1, color=red> />Altogether, </font><font size = 1, color=red> \"They </font><font size = 1, color=red> Call </font><font size = 1, color=blue> Me </font><font size = 4, color=red> MISTER </font><font size = 1, color=gray> Tibbs\" </font><font size = 1, color=blue> is </font><font size = 1, color=gray> a </font><font size = 2, color=red> poor </font><font size = 1, color=blue> follow-up </font><font size = 1, color=red> to </font><font size = 1, color=blue> \"In </font><font size = 1, color=blue> the </font><font size = 1, color=blue> Heat </font><font size = 1, color=blue> of </font><font size = 1, color=blue> the </font><font size = 1, color=red> Night.\" </font><font size = 1, color=blue> Mind </font><font size = 1, color=blue> you, </font><font size = 1, color=blue> Poitier </font><font size = 2, color=blue> delivers </font><font size = 1, color=red> another </font><font size = 1, color=blue> fine </font><font size = 1, color=blue> performance </font><font size = 1, color=blue> with </font><font size = 2, color=red> nuance, </font><font size = 1, color=red> but </font><font size = 1, color=red> everything </font><font size = 1, color=red> looks </font><font size = 1, color=gray> prefabricated. </font><font size = 1, color=blue> All </font><font size = 1, color=blue> of </font><font size = 1, color=blue> the </font><font size = 1, color=red> sets </font><font size = 1, color=red> look </font><font size = 2, color=red> fake </font><font size = 1, color=blue> and </font><font size = 1, color=red> there </font><font size = 1, color=red> isn't </font><font size = 1, color=red> much </font><font size = 1, color=red> physical </font><font size = 1, color=red> violence: </font><font size = 1, color=blue> one </font><font size = 1, color=blue> underground </font><font size = 1, color=blue> parking </font><font size = 1, color=blue> lot </font><font size = 1, color=red> shoot-out </font><font size = 1, color=red> that </font><font size = 1, color=red> doesn't </font><font size = 1, color=blue> last </font><font size = 1, color=red> long </font><font size = 1, color=blue> and </font><font size = 1, color=gray> a </font><font size = 1, color=red> fight. </font><font size = 1, color=red> Beyond </font><font size = 1, color=red> Jones' </font><font size = 1, color=blue> seminal </font><font size = 1, color=blue> jazz </font><font size = 1, color=blue> score, </font><font size = 1, color=blue> the </font><font size = 1, color=red> only </font><font size = 1, color=blue> surpriseand </font><font size = 1, color=blue> it </font><font size = 1, color=blue> really </font><font size = 1, color=red> doesn't </font><font size = 3, color=red> qualify </font><font size = 1, color=blue> as </font><font size = 1, color=gray> a </font><font size = 1, color=red> major </font><font size = 1, color=blue> surprise </font><font size = 1, color=blue> more </font><font size = 1, color=red> like </font><font size = 1, color=gray> a </font><font size = 2, color=red> convenient </font><font size = 1, color=red> contrivanceis </font><font size = 1, color=blue> the </font><font size = 1, color=blue> ending. </font><font size = 1, color=blue> Donald </font><font size = 1, color=gray> Medford's </font><font size = 1, color=blue> \"The </font><font size = 1, color=blue> Organization\" </font><font size = 1, color=red> followed </font><font size = 1, color=red> \"They </font><font size = 1, color=red> Call </font><font size = 1, color=blue> Me </font><font size = 4, color=red> MISTER </font><font size = 1, color=gray> Tibbs\" </font><font size = 1, color=blue> as </font><font size = 1, color=blue> the </font><font size = 1, color=red> second, </font><font size = 1, color=blue> more </font><font size = 1, color=blue> action-packed </font><font size = 1, color=red> sequel. </font>"
      ],
      "text/plain": [
       "<utils.ColoredWeightedDoc at 0x7fd789835cc0>"
      ]
     },
     "metadata": {},
     "output_type": "display_data"
    }
   ],
   "source": [
    "x = ctrl_clf.predict_proba(X_test) - best_clf.predict_proba(X_test)\n",
    "x = np.absolute(x[:,0])\n",
    "inds = np.argsort(x)\n",
    "i = inds[-1]\n",
    "\n",
    "display_html(\"<b>\"+'Probability Matrix'+\"<b>\", raw=True)\n",
    "print(ctrl_clf.predict_proba(X_test)[i]) \n",
    "print(best_clf.predict_proba(X_test)[i])\n",
    "display_html(\"<b>\"+'Control Classifier'+\"<b>\", raw=True)\n",
    "display(ColoredWeightedDoc(test_corpus[i], feature_names, ctrl_clf.get_weights()))\n",
    "display_html(\"<b>\"+'Best Classifier'+\"<b>\", raw=True)\n",
    "display(ColoredWeightedDoc(test_corpus[i], feature_names, best_clf.get_weights()))"
   ]
  }
 ],
 "metadata": {
  "kernelspec": {
   "display_name": "Python 3",
   "language": "python",
   "name": "python3"
  },
  "language_info": {
   "codemirror_mode": {
    "name": "ipython",
    "version": 3
   },
   "file_extension": ".py",
   "mimetype": "text/x-python",
   "name": "python",
   "nbconvert_exporter": "python",
   "pygments_lexer": "ipython3",
   "version": "3.5.2"
  }
 },
 "nbformat": 4,
 "nbformat_minor": 0
}
