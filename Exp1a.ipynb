{
 "cells": [
  {
   "cell_type": "code",
   "execution_count": 1,
   "metadata": {
    "collapsed": false
   },
   "outputs": [],
   "source": [
    "from classifiers import TransparentMultinomialNB\n",
    "from utils import ce_squared, load_imdb, ColoredWeightedDoc, TopInstances\n",
    "from sklearn.feature_extraction.text import CountVectorizer\n",
    "from sklearn.metrics import classification_report, confusion_matrix\n",
    "from IPython.display import display, display_html\n",
    "from time import time\n",
    "from pickle import load\n",
    "import numpy as np\n"
   ]
  },
  {
   "cell_type": "code",
   "execution_count": 71,
   "metadata": {
    "collapsed": false
   },
   "outputs": [
    {
     "name": "stdout",
     "output_type": "stream",
     "text": [
      "Loading the imdb reviews data\n",
      "Data loaded.\n",
      "Extracting features from the training dataset using a sparse vectorizer\n",
      "Feature extraction technique is CountVectorizer(analyzer='word', binary=False, decode_error='strict',\n",
      "        dtype=<class 'numpy.int64'>, encoding='utf-8', input='content',\n",
      "        lowercase=True, max_df=1.0, max_features=None, min_df=5,\n",
      "        ngram_range=(1, 1), preprocessor=None, stop_words=None,\n",
      "        strip_accents=None, token_pattern='(?u)\\\\b\\\\w\\\\w+\\\\b',\n",
      "        tokenizer=None, vocabulary=None).\n",
      "done in 8.166166305541992s\n",
      "(25000, 27272)\n",
      "n_samples: 25000, n_features: 27272\n",
      "\n",
      "Extracting features from the test dataset using the same vectorizer\n",
      "done in 6.553291082382202s\n",
      "n_samples: 25000, n_features: 27272\n",
      "\n",
      "Loading took 24.11s.\n",
      "\n"
     ]
    }
   ],
   "source": [
    "t0 = time()\n",
    "\n",
    "vect = CountVectorizer(min_df=5, max_df=1.0, binary=False, ngram_range=(1, 1))\n",
    "\n",
    "X_train, y_train, X_test, y_test, train_corpus, test_corpus = load_imdb(\"./aclImdb\", shuffle=True, vectorizer=vect)\n",
    "\n",
    "feature_names = vect.get_feature_names()\n",
    "y_test_na = y_test[:, np.newaxis]\n",
    "y_test_na = np.append(y_test_na, 1-y_test_na, axis=1)\n",
    "y_modified = np.copy(y_train)\n",
    "\n",
    "\n",
    "duration = time() - t0\n",
    "\n",
    "print(\"Loading took {:0.2f}s.\\n\".format(duration))"
   ]
  },
  {
   "cell_type": "markdown",
   "metadata": {
    "collapsed": true
   },
   "source": [
    "# Experiment"
   ]
  },
  {
   "cell_type": "code",
   "execution_count": 3,
   "metadata": {
    "collapsed": false,
    "scrolled": true
   },
   "outputs": [
    {
     "name": "stdout",
     "output_type": "stream",
     "text": [
      "i = 10\tnew error = 0.49657\n",
      "i = 11\tnew error = 0.48198\n",
      "i = 12\tnew error = 0.46519\n",
      "i = 13\tnew error = 0.40152\n",
      "i = 14\tnew error = 0.36584\n",
      "i = 15\tnew error = 0.33211\n",
      "i = 135\tnew error = 0.33108\n",
      "i = 149\tnew error = 0.32845\n",
      "i = 245\tnew error = 0.32772\n",
      "i = 264\tnew error = 0.32399\n",
      "i = 279\tnew error = 0.32353\n",
      "i = 280\tnew error = 0.32138\n",
      "i = 294\tnew error = 0.31517\n",
      "i = 299\tnew error = 0.30909\n",
      "i = 310\tnew error = 0.30657\n",
      "i = 312\tnew error = 0.30560\n",
      "i = 316\tnew error = 0.29619\n",
      "i = 329\tnew error = 0.29400\n",
      "i = 331\tnew error = 0.29295\n",
      "i = 378\tnew error = 0.29249\n",
      "i = 408\tnew error = 0.29098\n",
      "i = 467\tnew error = 0.28877\n",
      "i = 525\tnew error = 0.28873\n",
      "i = 824\tnew error = 0.28630\n",
      "i = 882\tnew error = 0.28527\n"
     ]
    }
   ],
   "source": [
    "clf = TransparentMultinomialNB()\n",
    "train_indices = list(range(10))\n",
    "\n",
    "clf.fit(X_train[train_indices], y_train[train_indices])\n",
    "\n",
    "best_clf = clf\n",
    "current_error = ce_squared(y_test_na, clf.predict_proba(X_test))\n",
    "\n",
    "for i in range(10,1000):\n",
    "    train_indices.append(i)\n",
    "    \n",
    "    clf = TransparentMultinomialNB()\n",
    "    clf.fit(X_train[train_indices], y_modified[train_indices])        \n",
    "    y_error = ce_squared(y_test_na, clf.predict_proba(X_test))\n",
    "    \n",
    "    y_modified[i] = 1 - y_modified[i]\n",
    "    clf = TransparentMultinomialNB()\n",
    "    clf.fit(X_train[train_indices], y_modified[train_indices])  \n",
    "    y0_error = ce_squared(y_test_na, clf.predict_proba(X_test))\n",
    "\n",
    "    if y_error < current_error and y_error < y0_error:            \n",
    "        current_error = y_error\n",
    "        y_modified[i] = 1 - y_modified[i]\n",
    "        clf = TransparentMultinomialNB()\n",
    "        clf.fit(X_train[train_indices], y_modified[train_indices]) \n",
    "        best_clf = clf\n",
    "        print(\"i = {}\\tnew error = {:0.5f}\".format(i, y_error))\n",
    "    \n",
    "    elif y0_error < current_error and y0_error < y_error: # switch back the label\n",
    "        current_error = y0_error\n",
    "        best_clf = clf\n",
    "        print(\"i = {}\\tnew error = {:0.5f}\".format(i, y0_error))\n",
    "    \n",
    "    else:\n",
    "        train_indices.pop()"
   ]
  },
  {
   "cell_type": "code",
   "execution_count": 4,
   "metadata": {
    "collapsed": false
   },
   "outputs": [
    {
     "data": {
      "text/plain": [
       "TransparentMultinomialNB(alpha=1.0, class_prior=None, fit_prior=True)"
      ]
     },
     "execution_count": 4,
     "metadata": {},
     "output_type": "execute_result"
    }
   ],
   "source": [
    "ctrl_clf = TransparentMultinomialNB()\n",
    "ctrl_clf.fit(X_train[:1000],y_train[:1000])"
   ]
  },
  {
   "cell_type": "code",
   "execution_count": null,
   "metadata": {
    "collapsed": true
   },
   "outputs": [],
   "source": []
  },
  {
   "cell_type": "code",
   "execution_count": 80,
   "metadata": {
    "collapsed": false
   },
   "outputs": [
    {
     "data": {
      "text/plain": [
       "sklearn.feature_extraction.text.CountVectorizer"
      ]
     },
     "execution_count": 80,
     "metadata": {},
     "output_type": "execute_result"
    }
   ],
   "source": []
  },
  {
   "cell_type": "code",
   "execution_count": 16,
   "metadata": {
    "collapsed": false
   },
   "outputs": [],
   "source": [
    "with open('clf.arch', 'rb') as f:\n",
    "    clf_arch = load(f)\n",
    "    \n",
    "with open('clf.arch', 'rb') as f:\n",
    "    a = load(f)\n",
    "\n",
    "ctrl_clf = clf_arch.ctrl_clf\n",
    "best_clf = clf_arch.classifiers[-1]\n",
    "y_modified = clf_arch.modified_labels[-1]\n",
    "train_indices = clf_arch.train_indices[-1]\n"
   ]
  },
  {
   "cell_type": "code",
   "execution_count": 70,
   "metadata": {
    "collapsed": false
   },
   "outputs": [
    {
     "name": "stdout",
     "output_type": "stream",
     "text": [
      "Number of samples used : 381\n",
      "Number of labels modified: 60\n"
     ]
    }
   ],
   "source": [
    "print('Number of samples used :', len(train_indices))\n",
    "changed_labels = np.array(list(filter(lambda x: x[0]!=x[1], zip(y_modified[train_indices], y_train[train_indices]))))\n",
    "print('Number of labels modified:', len(changed_labels))"
   ]
  },
  {
   "cell_type": "code",
   "execution_count": 69,
   "metadata": {
    "collapsed": false
   },
   "outputs": [
    {
     "name": "stdout",
     "output_type": "stream",
     "text": [
      "1 to 0 : 37\n",
      "0 to 1 : 23\n"
     ]
    }
   ],
   "source": [
    "changes = changed_labels[:,0] - changed_labels[:,1]\n",
    "print('1 to 0 :', len(list(filter(lambda x: x<0, changes))))\n",
    "print('0 to 1 :', len(list(filter(lambda x: x>0, changes))))"
   ]
  },
  {
   "cell_type": "markdown",
   "metadata": {},
   "source": [
    "# Visualization"
   ]
  },
  {
   "cell_type": "code",
   "execution_count": 6,
   "metadata": {
    "collapsed": false,
    "scrolled": false
   },
   "outputs": [
    {
     "data": {
      "text/html": [
       "<b>Probability Matrix<b>"
      ]
     },
     "metadata": {},
     "output_type": "display_data"
    },
    {
     "name": "stdout",
     "output_type": "stream",
     "text": [
      "[  2.32123686e-32   1.00000000e+00]\n",
      "[  1.00000000e+00   7.51055188e-18]\n"
     ]
    },
    {
     "data": {
      "text/html": [
       "<b>Control Classifier<b>"
      ]
     },
     "metadata": {},
     "output_type": "display_data"
    },
    {
     "data": {
      "text/html": [
       "<font size = 2, color=blue> \"Empire </font><font size = 2, color=blue> Strikes </font><font size = 1, color=blue> Back\" </font><font size = 1, color=red> director </font><font size = 1, color=gray> Irvin </font><font size = 1, color=gray> Kershner's </font><font size = 1, color=red> \"Never </font><font size = 1, color=red> Say </font><font size = 1, color=red> Never </font><font size = 1, color=blue> Again,\" </font><font size = 1, color=gray> a </font><font size = 1, color=red> remake </font><font size = 1, color=blue> of </font><font size = 1, color=blue> the </font><font size = 1, color=blue> 1965 </font><font size = 1, color=blue> James </font><font size = 2, color=blue> Bond </font><font size = 1, color=red> movie </font><font size = 3, color=blue> \"Thunderball,\" </font><font size = 1, color=red> doesn't </font><font size = 3, color=blue> surpasses </font><font size = 1, color=blue> the </font><font size = 2, color=red> Terence </font><font size = 1, color=blue> Young </font><font size = 1, color=red> original, </font><font size = 1, color=red> but </font><font size = 1, color=red> this </font><font size = 1, color=red> non-Harry </font><font size = 1, color=gray> Saltzman </font><font size = 1, color=gray> & </font><font size = 2, color=blue> Albert </font><font size = 1, color=gray> R. </font><font size = 1, color=gray> Broccoli </font><font size = 1, color=blue> film </font><font size = 1, color=blue> is </font><font size = 1, color=blue> well </font><font size = 1, color=blue> worth </font><font size = 1, color=red> watching </font><font size = 1, color=red> if </font><font size = 1, color=red> you </font><font size = 1, color=red> call </font><font size = 1, color=red> yourself </font><font size = 1, color=gray> a </font><font size = 2, color=blue> 007 </font><font size = 1, color=blue> aficionado. </font><font size = 2, color=blue> Nevertheless, </font><font size = 1, color=blue> despite </font><font size = 1, color=blue> its </font><font size = 1, color=blue> shortage </font><font size = 1, color=blue> of </font><font size = 1, color=blue> clever </font><font size = 2, color=red> gadgets </font><font size = 1, color=blue> and </font><font size = 1, color=blue> the </font><font size = 2, color=red> lack </font><font size = 1, color=blue> of </font><font size = 1, color=gray> a </font><font size = 2, color=blue> vibrant </font><font size = 1, color=blue> musical </font><font size = 1, color=blue> score, </font><font size = 1, color=red> \"Never </font><font size = 1, color=red> Say </font><font size = 1, color=red> Never </font><font size = 1, color=blue> Again\" </font><font size = 1, color=blue> rates </font><font size = 1, color=blue> as </font><font size = 1, color=blue> an </font><font size = 1, color=blue> above-average, </font><font size = 1, color=blue> suspenseful </font><font size = 1, color=red> doomsday </font><font size = 1, color=blue> thriller </font><font size = 1, color=blue> with </font><font size = 1, color=blue> top-flight </font><font size = 2, color=blue> performances </font><font size = 1, color=blue> by </font><font size = 1, color=gray> a </font><font size = 1, color=blue> seasoned </font><font size = 1, color=blue> cast </font><font size = 1, color=blue> including </font><font size = 1, color=red> Sean </font><font size = 1, color=blue> Connery, </font><font size = 1, color=blue> Kim </font><font size = 2, color=red> Basinger, </font><font size = 2, color=red> Klaus </font><font size = 2, color=blue> Maria </font><font size = 1, color=gray> Brandauer, </font><font size = 1, color=blue> Max </font><font size = 2, color=blue> Von </font><font size = 2, color=blue> Sydow, </font><font size = 2, color=blue> Barbara </font><font size = 2, color=blue> Carrera, </font><font size = 1, color=blue> Edward </font><font size = 1, color=blue> Fox, </font><font size = 2, color=red> Bernie </font><font size = 2, color=red> Casey, </font><font size = 1, color=blue> Alec </font><font size = 1, color=gray> McCowen, </font><font size = 1, color=blue> and </font><font size = 1, color=red> Rowan </font><font size = 1, color=blue> Atkinson. </font><font size = 1, color=blue> The </font><font size = 1, color=blue> film </font><font size = 3, color=blue> bristles </font><font size = 1, color=blue> with </font><font size = 1, color=blue> surprises </font><font size = 1, color=red> galore </font><font size = 1, color=blue> from </font><font size = 1, color=blue> the </font><font size = 2, color=blue> invigorating </font><font size = 1, color=red> title </font><font size = 1, color=red> credits </font><font size = 1, color=blue> sequence </font><font size = 1, color=blue> throughout </font><font size = 1, color=blue> its </font><font size = 1, color=red> generally </font><font size = 1, color=blue> exciting </font><font size = 1, color=red> but </font><font size = 1, color=blue> lengthy </font><font size = 1, color=gray> 134 </font><font size = 2, color=red> minutes. </font><font size = 1, color=blue> Unlike </font><font size = 1, color=blue> the </font><font size = 1, color=red> franchise </font><font size = 1, color=blue> James </font><font size = 2, color=blue> Bond </font><font size = 1, color=blue> sagas </font><font size = 1, color=blue> with </font><font size = 1, color=blue> their </font><font size = 1, color=blue> breath-taking </font><font size = 1, color=blue> moments </font><font size = 1, color=blue> of </font><font size = 1, color=blue> spectacle, </font><font size = 1, color=red> \"Never </font><font size = 1, color=red> Say </font><font size = 1, color=red> Never </font><font size = 1, color=blue> Again\" </font><font size = 2, color=blue> provides </font><font size = 1, color=red> few </font><font size = 1, color=blue> of </font><font size = 1, color=red> these </font><font size = 1, color=red> scenes </font><font size = 1, color=red> because </font><font size = 1, color=blue> of </font><font size = 1, color=blue> its </font><font size = 1, color=gray> prohibitive </font><font size = 1, color=red> budget. </font><font size = 1, color=blue> Indeed, </font><font size = 1, color=blue> the </font><font size = 1, color=blue> film </font><font size = 1, color=blue> features </font><font size = 1, color=red> only </font><font size = 1, color=blue> three </font><font size = 2, color=red> gadgets: </font><font size = 1, color=blue> an </font><font size = 1, color=blue> explosive </font><font size = 1, color=blue> ball-point </font><font size = 1, color=blue> pen, </font><font size = 1, color=gray> a </font><font size = 1, color=gray> wristwatch </font><font size = 1, color=blue> with </font><font size = 1, color=gray> a </font><font size = 1, color=red> laser, </font><font size = 1, color=blue> and </font><font size = 1, color=gray> a </font><font size = 1, color=red> souped-up </font><font size = 1, color=blue> motorcycle. </font><font size = 1, color=red> Aside </font><font size = 1, color=blue> from </font><font size = 1, color=blue> the </font><font size = 1, color=gray> flavorful </font><font size = 1, color=gray> Lani </font><font size = 1, color=blue> Hall </font><font size = 1, color=red> opening </font><font size = 1, color=blue> theme </font><font size = 1, color=blue> song, </font><font size = 1, color=blue> \"Ice </font><font size = 1, color=blue> Station </font><font size = 1, color=gray> Zebra\" </font><font size = 1, color=blue> composer </font><font size = 1, color=blue> Michel </font><font size = 1, color=gray> Legrand's </font><font size = 2, color=blue> orchestral </font><font size = 1, color=blue> music </font><font size = 1, color=blue> score </font><font size = 1, color=blue> leaves </font><font size = 1, color=red> much </font><font size = 1, color=red> to </font><font size = 1, color=red> be </font><font size = 1, color=blue> desired. </font><font size = 1, color=gray> Legrand </font><font size = 1, color=gray> replicates </font><font size = 2, color=red> none </font><font size = 1, color=blue> of </font><font size = 1, color=blue> those </font><font size = 1, color=blue> snappy, </font><font size = 1, color=blue> jazz </font><font size = 1, color=red> cues </font><font size = 1, color=red> that </font><font size = 1, color=red> made </font><font size = 1, color=blue> John </font><font size = 1, color=blue> Barry's </font><font size = 1, color=blue> music </font><font size = 1, color=red> for </font><font size = 1, color=blue> the </font><font size = 1, color=blue> regular </font><font size = 2, color=blue> Bond </font><font size = 1, color=red> franchise </font><font size = 1, color=red> so </font><font size = 2, color=blue> memorable. </font><font size = 1, color=red> All </font><font size = 1, color=blue> in </font><font size = 1, color=red> all, </font><font size = 1, color=red> \"Never </font><font size = 1, color=red> Say </font><font size = 1, color=red> Never </font><font size = 1, color=blue> Again\" </font><font size = 1, color=red> seems </font><font size = 1, color=red> to </font><font size = 1, color=blue> fit </font><font size = 1, color=blue> more </font><font size = 1, color=red> into </font><font size = 1, color=blue> the </font><font size = 1, color=blue> first </font><font size = 1, color=blue> two </font><font size = 2, color=blue> Bond </font><font size = 1, color=red> movies\"Dr. </font><font size = 1, color=red> No\" </font><font size = 1, color=blue> and </font><font size = 1, color=blue> \"From </font><font size = 1, color=red> Russia </font><font size = 1, color=blue> With </font><font size = 1, color=blue> Love\"and </font><font size = 1, color=red> \"On </font><font size = 1, color=blue> Her </font><font size = 2, color=blue> Majesty's </font><font size = 1, color=blue> Secret </font><font size = 1, color=blue> Service\" </font><font size = 1, color=blue> in </font><font size = 1, color=blue> terms </font><font size = 1, color=blue> of </font><font size = 1, color=blue> its </font><font size = 1, color=blue> more </font><font size = 1, color=red> down </font><font size = 1, color=red> to </font><font size = 1, color=red> earth </font><font size = 1, color=blue> approach </font><font size = 1, color=red> to </font><font size = 1, color=blue> the </font><font size = 1, color=blue> subject </font><font size = 1, color=blue> matter.<br </font><font size = 1, color=red> /><br </font><font size = 1, color=red> />\"Never </font><font size = 1, color=red> Say </font><font size = 1, color=red> Never </font><font size = 1, color=blue> Again\" </font><font size = 1, color=blue> presents </font><font size = 1, color=red> Sean </font><font size = 1, color=blue> Connery's </font><font size = 1, color=blue> James </font><font size = 2, color=blue> Bond </font><font size = 1, color=blue> as </font><font size = 1, color=blue> an </font><font size = 1, color=blue> older </font><font size = 2, color=blue> 007 </font><font size = 1, color=blue> who </font><font size = 1, color=blue> has </font><font size = 1, color=blue> seen </font><font size = 1, color=blue> his </font><font size = 1, color=blue> day </font><font size = 1, color=blue> and </font><font size = 1, color=blue> has </font><font size = 1, color=red> been </font><font size = 1, color=red> taken </font><font size = 1, color=red> off </font><font size = 1, color=blue> active </font><font size = 1, color=blue> service </font><font size = 1, color=red> to </font><font size = 1, color=red> teach. </font><font size = 1, color=blue> Ironically, </font><font size = 1, color=blue> Roger </font><font size = 1, color=blue> Moore </font><font size = 1, color=red> was </font><font size = 1, color=gray> a </font><font size = 1, color=blue> year </font><font size = 1, color=blue> older </font><font size = 1, color=red> than </font><font size = 1, color=blue> Connery </font><font size = 1, color=blue> and </font><font size = 1, color=blue> Moore's </font><font size = 2, color=blue> Bond </font><font size = 1, color=red> movies </font><font size = 1, color=red> treated </font><font size = 2, color=blue> 007 </font><font size = 1, color=blue> as </font><font size = 1, color=blue> an </font><font size = 1, color=blue> active, </font><font size = 1, color=blue> young </font><font size = 1, color=red> guy. </font><font size = 1, color=red> Sean </font><font size = 1, color=blue> Connery </font><font size = 1, color=red> seems </font><font size = 1, color=red> to </font><font size = 1, color=red> be </font><font size = 1, color=red> responsible </font><font size = 1, color=red> for </font><font size = 1, color=red> making </font><font size = 2, color=blue> 007 </font><font size = 1, color=gray> a </font><font size = 1, color=blue> more </font><font size = 2, color=blue> mature </font><font size = 1, color=blue> secret </font><font size = 1, color=blue> agent </font><font size = 1, color=blue> and </font><font size = 1, color=gray> a </font><font size = 1, color=blue> number </font><font size = 1, color=blue> of </font><font size = 1, color=blue> changes </font><font size = 1, color=red> take </font><font size = 1, color=blue> place </font><font size = 1, color=blue> in </font><font size = 1, color=blue> the </font><font size = 2, color=red> Lorenzo </font><font size = 1, color=gray> Semple </font><font size = 1, color=red> screenplay </font><font size = 1, color=red> that </font><font size = 1, color=red> emphasize </font><font size = 2, color=blue> Bond's </font><font size = 1, color=blue> age. </font><font size = 1, color=blue> Initially, </font><font size = 1, color=blue> Connery </font><font size = 1, color=red> had </font><font size = 1, color=gray> lobbied </font><font size = 1, color=red> to </font><font size = 1, color=blue> play </font><font size = 2, color=blue> Bond </font><font size = 1, color=blue> without </font><font size = 1, color=gray> a </font><font size = 1, color=gray> hairpiece, </font><font size = 1, color=red> but </font><font size = 4, color=red> mercifully </font><font size = 2, color=blue> wiser </font><font size = 1, color=red> minds </font><font size = 2, color=red> prevailed </font><font size = 1, color=blue> and </font><font size = 1, color=blue> Connery </font><font size = 1, color=blue> sports </font><font size = 1, color=gray> a </font><font size = 1, color=gray> hairpiece. </font><font size = 1, color=blue> He </font><font size = 1, color=red> looks </font><font size = 1, color=gray> tanned </font><font size = 1, color=blue> and </font><font size = 1, color=blue> fit </font><font size = 1, color=blue> and </font><font size = 1, color=red> appears </font><font size = 1, color=blue> in </font><font size = 1, color=red> better </font><font size = 1, color=blue> condition </font><font size = 1, color=red> than </font><font size = 1, color=blue> he </font><font size = 1, color=red> did </font><font size = 1, color=blue> twelve </font><font size = 1, color=blue> years </font><font size = 1, color=blue> earlier </font><font size = 1, color=blue> when </font><font size = 1, color=blue> he </font><font size = 1, color=red> was </font><font size = 1, color=red> rushed </font><font size = 1, color=red> into </font><font size = 1, color=red> \"Diamonds </font><font size = 1, color=red> Are </font><font size = 1, color=blue> Forever\" </font><font size = 1, color=red> at </font><font size = 1, color=blue> the </font><font size = 1, color=blue> last </font><font size = 1, color=blue> moment </font><font size = 1, color=red> to </font><font size = 1, color=red> replace </font><font size = 1, color=blue> John </font><font size = 1, color=red> Gavin. </font><font size = 1, color=blue> Connery </font><font size = 1, color=red> had </font><font size = 1, color=red> been </font><font size = 1, color=blue> working </font><font size = 1, color=red> on </font><font size = 1, color=red> another </font><font size = 1, color=red> movie </font><font size = 1, color=blue> and </font><font size = 1, color=red> had </font><font size = 1, color=red> gained </font><font size = 1, color=red> weight </font><font size = 1, color=red> for </font><font size = 1, color=blue> the </font><font size = 1, color=blue> role </font><font size = 1, color=red> that </font><font size = 1, color=blue> he </font><font size = 1, color=red> was </font><font size = 1, color=red> unable </font><font size = 1, color=red> to </font><font size = 2, color=red> remove </font><font size = 1, color=blue> in </font><font size = 1, color=blue> time </font><font size = 1, color=red> for </font><font size = 1, color=red> \"Diamonds </font><font size = 1, color=red> Are </font><font size = 1, color=blue> Forever.\" </font><font size = 1, color=red> At </font><font size = 3, color=blue> 52, </font><font size = 1, color=blue> Connery </font><font size = 1, color=blue> still </font><font size = 1, color=blue> has </font><font size = 1, color=gray> a </font><font size = 2, color=blue> youthful </font><font size = 1, color=gray> vigor </font><font size = 1, color=red> here </font><font size = 1, color=blue> despite </font><font size = 1, color=blue> the </font><font size = 2, color=red> contrived </font><font size = 1, color=blue> demands </font><font size = 1, color=blue> of </font><font size = 1, color=blue> the </font><font size = 2, color=red> script.<br </font><font size = 1, color=red> /><br </font><font size = 1, color=blue> />The </font><font size = 1, color=blue> action </font><font size = 2, color=blue> unfolds </font><font size = 1, color=blue> with </font><font size = 2, color=blue> 007 </font><font size = 1, color=red> single-handedly </font><font size = 1, color=red> trying </font><font size = 1, color=red> to </font><font size = 1, color=red> rescue </font><font size = 1, color=gray> a </font><font size = 1, color=red> kidnapped </font><font size = 1, color=blue> woman </font><font size = 1, color=red> on </font><font size = 1, color=gray> a </font><font size = 1, color=red> remote </font><font size = 1, color=red> desert </font><font size = 1, color=red> island. </font><font size = 1, color=blue> He </font><font size = 1, color=blue> dispatches </font><font size = 1, color=blue> several </font><font size = 1, color=red> guards </font><font size = 1, color=red> armed </font><font size = 1, color=blue> with </font><font size = 1, color=red> machine </font><font size = 1, color=red> guns </font><font size = 1, color=blue> and </font><font size = 2, color=blue> frees </font><font size = 1, color=blue> the </font><font size = 1, color=blue> woman, </font><font size = 1, color=red> only </font><font size = 1, color=red> to </font><font size = 1, color=red> have </font><font size = 1, color=blue> her </font><font size = 2, color=red> stab </font><font size = 1, color=blue> him </font><font size = 1, color=blue> with </font><font size = 1, color=gray> a </font><font size = 2, color=red> knife </font><font size = 1, color=blue> in </font><font size = 1, color=blue> the </font><font size = 1, color=blue> side </font><font size = 1, color=blue> when </font><font size = 1, color=blue> he </font><font size = 1, color=red> isn't </font><font size = 1, color=red> looking. </font><font size = 1, color=red> It </font><font size = 1, color=red> seems </font><font size = 1, color=red> that </font><font size = 1, color=red> this </font><font size = 1, color=red> entire </font><font size = 1, color=blue> sequence </font><font size = 1, color=red> was </font><font size = 1, color=blue> an </font><font size = 2, color=red> exercise </font><font size = 1, color=red> designed </font><font size = 1, color=blue> by </font><font size = 1, color=gray> M </font><font size = 1, color=blue> (Edward </font><font size = 1, color=blue> Fox </font><font size = 1, color=blue> of </font><font size = 1, color=blue> \"Day </font><font size = 1, color=blue> of </font><font size = 1, color=blue> the </font><font size = 1, color=gray> Jackal\") </font><font size = 1, color=red> to </font><font size = 1, color=red> test </font><font size = 2, color=blue> Bond's </font><font size = 1, color=red> ability. </font><font size = 1, color=blue> The </font><font size = 1, color=blue> new </font><font size = 1, color=gray> M </font><font size = 1, color=red> doesn't </font><font size = 1, color=blue> share </font><font size = 1, color=blue> his </font><font size = 1, color=blue> predecessor's </font><font size = 1, color=red> use </font><font size = 1, color=blue> of </font><font size = 1, color=blue> field </font><font size = 1, color=red> agents. </font><font size = 1, color=gray> M </font><font size = 1, color=blue> decides </font><font size = 1, color=red> that </font><font size = 2, color=blue> Bond </font><font size = 1, color=blue> needs </font><font size = 1, color=red> to </font><font size = 1, color=blue> clean </font><font size = 1, color=red> out </font><font size = 1, color=blue> his </font><font size = 1, color=blue> system </font><font size = 1, color=blue> of </font><font size = 1, color=red> all </font><font size = 1, color=red> 'free </font><font size = 3, color=red> radicals' </font><font size = 1, color=blue> and </font><font size = 1, color=blue> has </font><font size = 2, color=blue> 007 </font><font size = 2, color=blue> packed </font><font size = 1, color=red> off </font><font size = 1, color=red> to </font><font size = 1, color=gray> Shrublands. </font><font size = 1, color=blue> While </font><font size = 1, color=red> at </font><font size = 1, color=blue> the </font><font size = 1, color=blue> country </font><font size = 3, color=red> clinic, </font><font size = 2, color=blue> Bond </font><font size = 2, color=blue> notices </font><font size = 1, color=red> suspicious </font><font size = 1, color=red> activity </font><font size = 1, color=blue> between </font><font size = 1, color=gray> a </font><font size = 1, color=red> nurse </font><font size = 1, color=blue> and </font><font size = 1, color=gray> a </font><font size = 2, color=blue> patient </font><font size = 1, color=blue> and </font><font size = 1, color=red> gets </font><font size = 1, color=blue> noticed </font><font size = 1, color=red> watching </font><font size = 1, color=red> them. </font><font size = 1, color=blue> The </font><font size = 1, color=red> nurse </font><font size = 1, color=blue> is </font><font size = 2, color=red> none </font><font size = 1, color=blue> other </font><font size = 1, color=red> than </font><font size = 1, color=blue> SPECTRE </font><font size = 1, color=red> assassin </font><font size = 1, color=gray> Fatima </font><font size = 2, color=red> Blush </font><font size = 2, color=blue> (Barbara </font><font size = 2, color=blue> Carrera </font><font size = 1, color=blue> of </font><font size = 1, color=blue> \"The </font><font size = 1, color=red> Island </font><font size = 1, color=blue> of </font><font size = 1, color=red> Dr. </font><font size = 1, color=blue> Moreau\") </font><font size = 1, color=blue> and </font><font size = 1, color=blue> she </font><font size = 1, color=blue> is </font><font size = 1, color=blue> in </font><font size = 1, color=red> charge </font><font size = 1, color=blue> of </font><font size = 1, color=red> making </font><font size = 1, color=red> sure </font><font size = 1, color=red> that </font><font size = 1, color=red> nobody </font><font size = 1, color=blue> sees </font><font size = 1, color=gray> USAF </font><font size = 1, color=blue> officer </font><font size = 1, color=blue> Jack </font><font size = 1, color=gray> Petachi </font><font size = 1, color=gray> (Gavan </font><font size = 2, color=blue> O'Herlihy </font><font size = 1, color=blue> of </font><font size = 1, color=red> \"Superman </font><font size = 1, color=gray> 3\"). </font><font size = 1, color=gray> Petachi </font><font size = 1, color=blue> is </font><font size = 1, color=blue> part </font><font size = 1, color=blue> of </font><font size = 1, color=gray> a </font><font size = 1, color=blue> SPECTRE </font><font size = 1, color=red> plan </font><font size = 1, color=blue> by </font><font size = 1, color=blue> millionaire </font><font size = 2, color=blue> businessman </font><font size = 3, color=red> Maximilian </font><font size = 1, color=red> Largo </font><font size = 2, color=red> (Klaus </font><font size = 2, color=blue> Maria </font><font size = 1, color=gray> Brandauer </font><font size = 1, color=blue> of </font><font size = 1, color=red> \"Out </font><font size = 1, color=blue> of </font><font size = 1, color=blue> Africa\") </font><font size = 1, color=red> to </font><font size = 1, color=red> black </font><font size = 1, color=blue> the </font><font size = 1, color=blue> world </font><font size = 1, color=blue> powers </font><font size = 1, color=blue> by </font><font size = 1, color=blue> stealing </font><font size = 1, color=blue> two </font><font size = 1, color=red> nuclear </font><font size = 1, color=gray> warheads. </font><font size = 1, color=blue> The </font><font size = 1, color=blue> villains </font><font size = 1, color=blue> implant </font><font size = 1, color=gray> a </font><font size = 1, color=red> duplicate </font><font size = 2, color=red> eyeball </font><font size = 1, color=red> into </font><font size = 1, color=blue> Captain </font><font size = 1, color=gray> Petachi </font><font size = 1, color=blue> who </font><font size = 1, color=blue> has </font><font size = 1, color=red> access </font><font size = 1, color=red> to </font><font size = 1, color=blue> the </font><font size = 2, color=blue> highly </font><font size = 2, color=blue> sophisticated </font><font size = 1, color=red> computers </font><font size = 1, color=blue> and </font><font size = 1, color=red> can </font><font size = 1, color=blue> order </font><font size = 1, color=blue> the </font><font size = 1, color=gray> arming </font><font size = 1, color=blue> of </font><font size = 1, color=red> weapons. </font><font size = 1, color=red> After </font><font size = 1, color=blue> he </font><font size = 2, color=blue> steals </font><font size = 1, color=blue> the </font><font size = 1, color=red> weapons </font><font size = 1, color=red> for </font><font size = 1, color=blue> SPECTRE, </font><font size = 1, color=gray> Fatima </font><font size = 2, color=red> Blush </font><font size = 1, color=blue> runs </font><font size = 1, color=blue> him </font><font size = 1, color=red> off </font><font size = 1, color=blue> the </font><font size = 1, color=blue> road </font><font size = 1, color=blue> by </font><font size = 1, color=red> tossing </font><font size = 1, color=blue> her </font><font size = 1, color=blue> pet </font><font size = 2, color=red> snake </font><font size = 1, color=blue> in </font><font size = 1, color=blue> his </font><font size = 2, color=red> lap </font><font size = 1, color=blue> and </font><font size = 1, color=red> then </font><font size = 4, color=blue> attaches </font><font size = 1, color=blue> an </font><font size = 1, color=blue> explosive </font><font size = 1, color=red> to </font><font size = 1, color=blue> his </font><font size = 1, color=red> wrecked </font><font size = 1, color=red> car </font><font size = 1, color=blue> and </font><font size = 1, color=red> blows </font><font size = 1, color=blue> him </font><font size = 1, color=red> up. </font><font size = 1, color=blue> Indeed, </font><font size = 1, color=blue> the </font><font size = 1, color=blue> first </font><font size = 1, color=blue> part </font><font size = 1, color=blue> of </font><font size = 1, color=red> \"Never </font><font size = 1, color=red> Say </font><font size = 1, color=red> Never </font><font size = 1, color=blue> Again,\" </font><font size = 1, color=red> apart </font><font size = 1, color=blue> from </font><font size = 1, color=blue> the </font><font size = 1, color=blue> SPECTRE </font><font size = 1, color=red> planning </font><font size = 1, color=blue> conference, </font><font size = 1, color=red> belong </font><font size = 1, color=red> to </font><font size = 1, color=gray> Fatima </font><font size = 1, color=blue> as </font><font size = 1, color=blue> she </font><font size = 1, color=gray> supervises </font><font size = 1, color=gray> Petachi's </font><font size = 1, color=red> stay </font><font size = 1, color=red> at </font><font size = 1, color=blue> the </font><font size = 3, color=red> clinic </font><font size = 1, color=blue> and </font><font size = 1, color=red> then </font><font size = 1, color=red> repeatedly </font><font size = 1, color=red> tries </font><font size = 1, color=red> to </font><font size = 1, color=red> kill </font><font size = 2, color=blue> Bond, </font><font size = 1, color=blue> one </font><font size = 1, color=red> at </font><font size = 1, color=red> sea </font><font size = 1, color=blue> with </font><font size = 2, color=red> sharks </font><font size = 1, color=blue> and </font><font size = 1, color=blue> later </font><font size = 1, color=blue> in </font><font size = 1, color=gray> a </font><font size = 2, color=red> motel </font><font size = 1, color=blue> suite </font><font size = 1, color=blue> with </font><font size = 1, color=blue> an </font><font size = 2, color=red> explosives </font><font size = 1, color=red> device.<br </font><font size = 1, color=red> /><br </font><font size = 1, color=blue> />Eventually, </font><font size = 2, color=blue> Bond </font><font size = 2, color=blue> meets </font><font size = 1, color=blue> the </font><font size = 2, color=blue> beautiful </font><font size = 2, color=red> blond </font><font size = 1, color=blue> Domino </font><font size = 1, color=blue> (Kim </font><font size = 2, color=red> Basinger </font><font size = 1, color=blue> of </font><font size = 1, color=blue> \"Mother </font><font size = 1, color=gray> Lode\") </font><font size = 1, color=blue> and </font><font size = 1, color=red> sneaks </font><font size = 1, color=red> into </font><font size = 1, color=red> Largo's </font><font size = 1, color=blue> charity </font><font size = 2, color=blue> banquet </font><font size = 1, color=red> at </font><font size = 1, color=gray> a </font><font size = 1, color=red> Monte </font><font size = 1, color=blue> Carlo </font><font size = 1, color=blue> casino </font><font size = 1, color=red> where </font><font size = 1, color=blue> the </font><font size = 1, color=blue> two </font><font size = 1, color=red> face </font><font size = 1, color=red> off </font><font size = 1, color=blue> in </font><font size = 1, color=blue> an </font><font size = 1, color=red> elaborate </font><font size = 1, color=red> video </font><font size = 1, color=blue> game </font><font size = 1, color=red> called </font><font size = 1, color=blue> 'Domination' </font><font size = 1, color=red> to </font><font size = 1, color=blue> see </font><font size = 1, color=blue> who </font><font size = 1, color=blue> will </font><font size = 1, color=blue> rule </font><font size = 1, color=blue> the </font><font size = 1, color=blue> world. </font><font size = 2, color=blue> Bond </font><font size = 1, color=gray> bests </font><font size = 1, color=blue> him </font><font size = 1, color=blue> and </font><font size = 1, color=red> Largo </font><font size = 1, color=blue> hates </font><font size = 1, color=blue> him </font><font size = 1, color=blue> doubly </font><font size = 1, color=blue> now </font><font size = 1, color=red> because </font><font size = 2, color=blue> 007 </font><font size = 1, color=blue> is </font><font size = 1, color=blue> his </font><font size = 1, color=red> only </font><font size = 2, color=blue> rival </font><font size = 1, color=red> to </font><font size = 1, color=blue> Domino </font><font size = 1, color=blue> and </font><font size = 1, color=gray> a </font><font size = 1, color=blue> thorn </font><font size = 1, color=blue> in </font><font size = 1, color=blue> his </font><font size = 1, color=blue> side </font><font size = 1, color=red> that </font><font size = 1, color=red> not </font><font size = 1, color=red> even </font><font size = 1, color=gray> Fatima </font><font size = 1, color=red> seems </font><font size = 1, color=red> to </font><font size = 1, color=red> be </font><font size = 1, color=blue> able </font><font size = 1, color=red> to </font><font size = 2, color=red> remove. </font><font size = 2, color=blue> Bond </font><font size = 1, color=blue> and </font><font size = 1, color=gray> Fatima </font><font size = 1, color=red> have </font><font size = 1, color=red> it </font><font size = 1, color=red> out </font><font size = 1, color=red> after </font><font size = 1, color=gray> a </font><font size = 1, color=blue> motorcycle </font><font size = 1, color=red> chase </font><font size = 1, color=blue> when </font><font size = 1, color=blue> he </font><font size = 1, color=blue> returns </font><font size = 1, color=blue> the </font><font size = 1, color=red> favor </font><font size = 1, color=blue> and </font><font size = 1, color=red> blows </font><font size = 1, color=blue> her </font><font size = 1, color=red> up. </font><font size = 1, color=blue> Their </font><font size = 1, color=blue> earlier </font><font size = 1, color=blue> encounter </font><font size = 1, color=blue> in </font><font size = 1, color=blue> the </font><font size = 1, color=gray> Bahamas </font><font size = 1, color=blue> when </font><font size = 1, color=blue> she </font><font size = 1, color=red> attached </font><font size = 1, color=gray> a </font><font size = 1, color=red> device </font><font size = 1, color=red> to </font><font size = 1, color=red> lure </font><font size = 1, color=gray> a </font><font size = 3, color=red> shark </font><font size = 1, color=red> after </font><font size = 1, color=blue> him </font><font size = 1, color=blue> is </font><font size = 1, color=red> pretty </font><font size = 3, color=red> lame. </font><font size = 1, color=red> Like </font><font size = 1, color=blue> in </font><font size = 1, color=blue> the </font><font size = 1, color=red> original </font><font size = 3, color=blue> \"Thunderball,\" </font><font size = 1, color=blue> the </font><font size = 1, color=blue> villains </font><font size = 1, color=red> recover </font><font size = 1, color=blue> the </font><font size = 1, color=red> hijacked </font><font size = 1, color=red> nuclear </font><font size = 1, color=gray> warheads </font><font size = 1, color=red> at </font><font size = 1, color=red> sea, </font><font size = 1, color=red> but </font><font size = 1, color=red> just </font><font size = 1, color=blue> the </font><font size = 1, color=gray> warheads </font><font size = 1, color=blue> themselves.<br </font><font size = 1, color=red> /><br </font><font size = 2, color=blue> />Bond </font><font size = 2, color=red> flies </font><font size = 1, color=red> to </font><font size = 1, color=blue> the </font><font size = 1, color=gray> Bahamas </font><font size = 1, color=red> where </font><font size = 1, color=blue> he </font><font size = 2, color=blue> meets </font><font size = 1, color=blue> his </font><font size = 2, color=blue> diplomatic </font><font size = 2, color=blue> liaison, </font><font size = 1, color=blue> Nigel </font><font size = 1, color=blue> Small-Fawcett </font><font size = 1, color=red> (no </font><font size = 1, color=blue> lesser </font><font size = 1, color=red> than </font><font size = 1, color=red> Rowan </font><font size = 1, color=blue> Atkinson </font><font size = 1, color=blue> of </font><font size = 1, color=blue> \"Mr. </font><font size = 1, color=blue> Bean\" </font><font size = 1, color=blue> fame, </font><font size = 1, color=blue> who </font><font size = 1, color=blue> is </font><font size = 1, color=blue> worried </font><font size = 1, color=red> that </font><font size = 2, color=blue> Bond </font><font size = 1, color=blue> may </font><font size = 1, color=red> kill </font><font size = 2, color=red> somebody </font><font size = 1, color=blue> and </font><font size = 1, color=red> ruin </font><font size = 1, color=blue> the </font><font size = 1, color=red> island </font><font size = 1, color=blue> paradise. </font><font size = 1, color=blue> Of </font><font size = 1, color=blue> course, </font><font size = 1, color=blue> Nigel </font><font size = 1, color=blue> Small-Fawcett </font><font size = 1, color=red> serves </font><font size = 1, color=blue> as </font><font size = 1, color=blue> the </font><font size = 1, color=blue> film's </font><font size = 1, color=blue> source </font><font size = 1, color=blue> of </font><font size = 1, color=blue> comic </font><font size = 1, color=red> relief. </font><font size = 1, color=blue> The </font><font size = 1, color=gray> C.I.A. </font><font size = 1, color=blue> sends </font><font size = 5, color=blue> Felix </font><font size = 1, color=gray> Leiter </font><font size = 2, color=red> (Bernie </font><font size = 2, color=red> Casey </font><font size = 1, color=blue> of </font><font size = 1, color=red> \"Guns </font><font size = 1, color=blue> of </font><font size = 1, color=blue> the </font><font size = 3, color=blue> Magnificent </font><font size = 1, color=blue> Seven\") </font><font size = 1, color=red> to </font><font size = 1, color=blue> back </font><font size = 1, color=red> up </font><font size = 2, color=blue> Bond. </font><font size = 1, color=red> This </font><font size = 1, color=blue> is </font><font size = 1, color=blue> the </font><font size = 1, color=blue> first </font><font size = 1, color=blue> time </font><font size = 1, color=red> that </font><font size = 1, color=blue> an </font><font size = 1, color=blue> African-American </font><font size = 1, color=blue> portrayed </font><font size = 1, color=gray> Leiter. </font><font size = 2, color=blue> Bond </font><font size = 1, color=blue> encounters </font><font size = 1, color=blue> his </font><font size = 1, color=blue> share </font><font size = 1, color=blue> of </font><font size = 1, color=blue> problems, </font><font size = 1, color=red> involving </font><font size = 1, color=red> saving </font><font size = 1, color=blue> Domino </font><font size = 1, color=blue> from </font><font size = 2, color=red> Arab </font><font size = 1, color=gray> slavers, </font><font size = 1, color=blue> while </font><font size = 1, color=gray> Leiter </font><font size = 1, color=blue> and </font><font size = 1, color=blue> he </font><font size = 2, color=red> save </font><font size = 1, color=blue> the </font><font size = 1, color=blue> world. </font><font size = 1, color=red> \"Never </font><font size = 1, color=red> Say </font><font size = 1, color=red> Never </font><font size = 1, color=blue> Again\" </font><font size = 1, color=blue> is </font><font size = 1, color=gray> a </font><font size = 2, color=blue> richly </font><font size = 1, color=blue> respectable </font><font size = 1, color=blue> James </font><font size = 2, color=blue> Bond </font><font size = 1, color=blue> thriller </font><font size = 1, color=blue> with </font><font size = 1, color=blue> many </font><font size = 1, color=blue> neat </font><font size = 2, color=blue> touches, </font><font size = 1, color=red> but </font><font size = 1, color=red> it </font><font size = 1, color=red> never </font><font size = 1, color=blue> generates </font><font size = 1, color=blue> the </font><font size = 1, color=red> air </font><font size = 1, color=blue> of </font><font size = 1, color=red> danger </font><font size = 1, color=red> that </font><font size = 1, color=blue> the </font><font size = 1, color=red> franchise </font><font size = 2, color=blue> Bond </font><font size = 1, color=blue> films </font><font size = 1, color=red> have. </font><font size = 1, color=blue> Indeed, </font><font size = 1, color=red> \"Never </font><font size = 1, color=red> Say </font><font size = 1, color=red> Never </font><font size = 1, color=blue> Again\" </font><font size = 1, color=red> looks </font><font size = 1, color=red> like </font><font size = 1, color=gray> a </font><font size = 3, color=blue> dignified </font><font size = 2, color=blue> Masterpiece </font><font size = 1, color=red> Theatre </font><font size = 1, color=red> take </font><font size = 1, color=red> on </font><font size = 2, color=blue> 007. </font>"
      ],
      "text/plain": [
       "<utils.ColoredWeightedDoc at 0x7fdc4cbf60f0>"
      ]
     },
     "metadata": {},
     "output_type": "display_data"
    },
    {
     "data": {
      "text/html": [
       "<b>Best Classifier<b>"
      ]
     },
     "metadata": {},
     "output_type": "display_data"
    },
    {
     "data": {
      "text/html": [
       "<font size = 1, color=blue> \"Empire </font><font size = 1, color=blue> Strikes </font><font size = 1, color=red> Back\" </font><font size = 1, color=red> director </font><font size = 1, color=gray> Irvin </font><font size = 1, color=gray> Kershner's </font><font size = 1, color=red> \"Never </font><font size = 1, color=red> Say </font><font size = 1, color=red> Never </font><font size = 1, color=blue> Again,\" </font><font size = 1, color=gray> a </font><font size = 2, color=red> remake </font><font size = 1, color=blue> of </font><font size = 1, color=blue> the </font><font size = 1, color=blue> 1965 </font><font size = 1, color=blue> James </font><font size = 2, color=red> Bond </font><font size = 1, color=blue> movie </font><font size = 1, color=blue> \"Thunderball,\" </font><font size = 2, color=red> doesn't </font><font size = 2, color=blue> surpasses </font><font size = 1, color=blue> the </font><font size = 1, color=blue> Terence </font><font size = 1, color=blue> Young </font><font size = 2, color=red> original, </font><font size = 1, color=red> but </font><font size = 1, color=red> this </font><font size = 1, color=blue> non-Harry </font><font size = 1, color=gray> Saltzman </font><font size = 1, color=gray> & </font><font size = 3, color=blue> Albert </font><font size = 1, color=gray> R. </font><font size = 1, color=gray> Broccoli </font><font size = 1, color=blue> film </font><font size = 1, color=blue> is </font><font size = 3, color=blue> well </font><font size = 1, color=blue> worth </font><font size = 2, color=red> watching </font><font size = 1, color=red> if </font><font size = 1, color=blue> you </font><font size = 2, color=blue> call </font><font size = 3, color=red> yourself </font><font size = 1, color=gray> a </font><font size = 1, color=blue> 007 </font><font size = 1, color=blue> aficionado. </font><font size = 2, color=blue> Nevertheless, </font><font size = 3, color=red> despite </font><font size = 1, color=blue> its </font><font size = 1, color=blue> shortage </font><font size = 1, color=blue> of </font><font size = 1, color=red> clever </font><font size = 1, color=blue> gadgets </font><font size = 1, color=blue> and </font><font size = 1, color=blue> the </font><font size = 5, color=red> lack </font><font size = 1, color=blue> of </font><font size = 1, color=gray> a </font><font size = 1, color=blue> vibrant </font><font size = 3, color=blue> musical </font><font size = 3, color=blue> score, </font><font size = 1, color=red> \"Never </font><font size = 1, color=red> Say </font><font size = 1, color=red> Never </font><font size = 1, color=blue> Again\" </font><font size = 2, color=red> rates </font><font size = 1, color=blue> as </font><font size = 1, color=blue> an </font><font size = 2, color=blue> above-average, </font><font size = 3, color=blue> suspenseful </font><font size = 1, color=blue> doomsday </font><font size = 1, color=red> thriller </font><font size = 1, color=red> with </font><font size = 2, color=blue> top-flight </font><font size = 2, color=blue> performances </font><font size = 1, color=red> by </font><font size = 1, color=gray> a </font><font size = 2, color=blue> seasoned </font><font size = 1, color=blue> cast </font><font size = 4, color=blue> including </font><font size = 1, color=blue> Sean </font><font size = 1, color=blue> Connery, </font><font size = 1, color=blue> Kim </font><font size = 1, color=blue> Basinger, </font><font size = 2, color=red> Klaus </font><font size = 2, color=red> Maria </font><font size = 1, color=gray> Brandauer, </font><font size = 1, color=blue> Max </font><font size = 1, color=blue> Von </font><font size = 1, color=blue> Sydow, </font><font size = 1, color=blue> Barbara </font><font size = 1, color=blue> Carrera, </font><font size = 1, color=blue> Edward </font><font size = 1, color=blue> Fox, </font><font size = 1, color=blue> Bernie </font><font size = 1, color=blue> Casey, </font><font size = 1, color=blue> Alec </font><font size = 1, color=gray> McCowen, </font><font size = 1, color=blue> and </font><font size = 1, color=blue> Rowan </font><font size = 1, color=blue> Atkinson. </font><font size = 1, color=blue> The </font><font size = 1, color=blue> film </font><font size = 1, color=blue> bristles </font><font size = 1, color=red> with </font><font size = 2, color=blue> surprises </font><font size = 2, color=red> galore </font><font size = 1, color=blue> from </font><font size = 1, color=blue> the </font><font size = 1, color=blue> invigorating </font><font size = 1, color=blue> title </font><font size = 3, color=red> credits </font><font size = 2, color=red> sequence </font><font size = 1, color=blue> throughout </font><font size = 1, color=blue> its </font><font size = 1, color=blue> generally </font><font size = 2, color=blue> exciting </font><font size = 1, color=red> but </font><font size = 1, color=blue> lengthy </font><font size = 1, color=gray> 134 </font><font size = 5, color=red> minutes. </font><font size = 1, color=blue> Unlike </font><font size = 1, color=blue> the </font><font size = 1, color=blue> franchise </font><font size = 1, color=blue> James </font><font size = 2, color=red> Bond </font><font size = 1, color=blue> sagas </font><font size = 1, color=red> with </font><font size = 1, color=blue> their </font><font size = 2, color=blue> breath-taking </font><font size = 1, color=blue> moments </font><font size = 1, color=blue> of </font><font size = 1, color=blue> spectacle, </font><font size = 1, color=red> \"Never </font><font size = 1, color=red> Say </font><font size = 1, color=red> Never </font><font size = 1, color=blue> Again\" </font><font size = 1, color=blue> provides </font><font size = 1, color=red> few </font><font size = 1, color=blue> of </font><font size = 2, color=red> these </font><font size = 1, color=blue> scenes </font><font size = 1, color=red> because </font><font size = 1, color=blue> of </font><font size = 1, color=blue> its </font><font size = 1, color=gray> prohibitive </font><font size = 2, color=red> budget. </font><font size = 3, color=red> Indeed, </font><font size = 1, color=blue> the </font><font size = 1, color=blue> film </font><font size = 1, color=red> features </font><font size = 2, color=red> only </font><font size = 1, color=blue> three </font><font size = 1, color=blue> gadgets: </font><font size = 1, color=blue> an </font><font size = 2, color=red> explosive </font><font size = 2, color=red> ball-point </font><font size = 1, color=blue> pen, </font><font size = 1, color=gray> a </font><font size = 1, color=gray> wristwatch </font><font size = 1, color=red> with </font><font size = 1, color=gray> a </font><font size = 1, color=blue> laser, </font><font size = 1, color=blue> and </font><font size = 1, color=gray> a </font><font size = 1, color=blue> souped-up </font><font size = 1, color=blue> motorcycle. </font><font size = 2, color=red> Aside </font><font size = 1, color=blue> from </font><font size = 1, color=blue> the </font><font size = 1, color=gray> flavorful </font><font size = 1, color=gray> Lani </font><font size = 1, color=blue> Hall </font><font size = 3, color=blue> opening </font><font size = 1, color=blue> theme </font><font size = 1, color=red> song, </font><font size = 2, color=blue> \"Ice </font><font size = 2, color=red> Station </font><font size = 1, color=gray> Zebra\" </font><font size = 2, color=blue> composer </font><font size = 3, color=blue> Michel </font><font size = 1, color=gray> Legrand's </font><font size = 1, color=blue> orchestral </font><font size = 2, color=blue> music </font><font size = 3, color=blue> score </font><font size = 1, color=blue> leaves </font><font size = 1, color=red> much </font><font size = 1, color=red> to </font><font size = 1, color=red> be </font><font size = 1, color=blue> desired. </font><font size = 1, color=gray> Legrand </font><font size = 1, color=gray> replicates </font><font size = 3, color=red> none </font><font size = 1, color=blue> of </font><font size = 2, color=blue> those </font><font size = 1, color=blue> snappy, </font><font size = 1, color=blue> jazz </font><font size = 1, color=blue> cues </font><font size = 1, color=red> that </font><font size = 1, color=red> made </font><font size = 1, color=red> John </font><font size = 2, color=red> Barry's </font><font size = 2, color=blue> music </font><font size = 1, color=blue> for </font><font size = 1, color=blue> the </font><font size = 1, color=blue> regular </font><font size = 2, color=red> Bond </font><font size = 1, color=blue> franchise </font><font size = 1, color=red> so </font><font size = 1, color=blue> memorable. </font><font size = 1, color=red> All </font><font size = 1, color=blue> in </font><font size = 1, color=red> all, </font><font size = 1, color=red> \"Never </font><font size = 1, color=red> Say </font><font size = 1, color=red> Never </font><font size = 1, color=blue> Again\" </font><font size = 1, color=red> seems </font><font size = 1, color=red> to </font><font size = 2, color=red> fit </font><font size = 1, color=blue> more </font><font size = 2, color=red> into </font><font size = 1, color=blue> the </font><font size = 1, color=blue> first </font><font size = 1, color=red> two </font><font size = 2, color=red> Bond </font><font size = 1, color=red> movies\"Dr. </font><font size = 3, color=red> No\" </font><font size = 1, color=blue> and </font><font size = 1, color=blue> \"From </font><font size = 1, color=blue> Russia </font><font size = 1, color=red> With </font><font size = 4, color=blue> Love\"and </font><font size = 1, color=blue> \"On </font><font size = 1, color=red> Her </font><font size = 2, color=red> Majesty's </font><font size = 1, color=blue> Secret </font><font size = 2, color=red> Service\" </font><font size = 1, color=blue> in </font><font size = 2, color=red> terms </font><font size = 1, color=blue> of </font><font size = 1, color=blue> its </font><font size = 1, color=blue> more </font><font size = 1, color=red> down </font><font size = 1, color=red> to </font><font size = 1, color=red> earth </font><font size = 2, color=red> approach </font><font size = 1, color=red> to </font><font size = 1, color=blue> the </font><font size = 1, color=blue> subject </font><font size = 3, color=red> matter.<br </font><font size = 1, color=red> /><br </font><font size = 1, color=red> />\"Never </font><font size = 1, color=red> Say </font><font size = 1, color=red> Never </font><font size = 1, color=blue> Again\" </font><font size = 1, color=blue> presents </font><font size = 1, color=blue> Sean </font><font size = 1, color=blue> Connery's </font><font size = 1, color=blue> James </font><font size = 2, color=red> Bond </font><font size = 1, color=blue> as </font><font size = 1, color=blue> an </font><font size = 2, color=red> older </font><font size = 1, color=blue> 007 </font><font size = 1, color=red> who </font><font size = 2, color=blue> has </font><font size = 1, color=red> seen </font><font size = 1, color=blue> his </font><font size = 2, color=red> day </font><font size = 1, color=blue> and </font><font size = 2, color=blue> has </font><font size = 1, color=red> been </font><font size = 1, color=red> taken </font><font size = 3, color=red> off </font><font size = 1, color=blue> active </font><font size = 2, color=red> service </font><font size = 1, color=red> to </font><font size = 1, color=blue> teach. </font><font size = 1, color=blue> Ironically, </font><font size = 2, color=blue> Roger </font><font size = 1, color=blue> Moore </font><font size = 1, color=red> was </font><font size = 1, color=gray> a </font><font size = 1, color=blue> year </font><font size = 2, color=red> older </font><font size = 1, color=blue> than </font><font size = 1, color=blue> Connery </font><font size = 1, color=blue> and </font><font size = 1, color=blue> Moore's </font><font size = 2, color=red> Bond </font><font size = 1, color=red> movies </font><font size = 2, color=red> treated </font><font size = 1, color=blue> 007 </font><font size = 1, color=blue> as </font><font size = 1, color=blue> an </font><font size = 1, color=blue> active, </font><font size = 1, color=blue> young </font><font size = 1, color=blue> guy. </font><font size = 1, color=blue> Sean </font><font size = 1, color=blue> Connery </font><font size = 1, color=red> seems </font><font size = 1, color=red> to </font><font size = 1, color=red> be </font><font size = 1, color=blue> responsible </font><font size = 1, color=blue> for </font><font size = 4, color=red> making </font><font size = 1, color=blue> 007 </font><font size = 1, color=gray> a </font><font size = 1, color=blue> more </font><font size = 3, color=blue> mature </font><font size = 1, color=blue> secret </font><font size = 2, color=red> agent </font><font size = 1, color=blue> and </font><font size = 1, color=gray> a </font><font size = 2, color=blue> number </font><font size = 1, color=blue> of </font><font size = 2, color=red> changes </font><font size = 2, color=blue> take </font><font size = 2, color=blue> place </font><font size = 1, color=blue> in </font><font size = 1, color=blue> the </font><font size = 2, color=red> Lorenzo </font><font size = 1, color=gray> Semple </font><font size = 1, color=blue> screenplay </font><font size = 1, color=red> that </font><font size = 1, color=blue> emphasize </font><font size = 2, color=red> Bond's </font><font size = 2, color=blue> age. </font><font size = 1, color=blue> Initially, </font><font size = 1, color=blue> Connery </font><font size = 1, color=blue> had </font><font size = 1, color=gray> lobbied </font><font size = 1, color=red> to </font><font size = 1, color=blue> play </font><font size = 2, color=red> Bond </font><font size = 2, color=red> without </font><font size = 1, color=gray> a </font><font size = 1, color=gray> hairpiece, </font><font size = 1, color=red> but </font><font size = 1, color=blue> mercifully </font><font size = 1, color=blue> wiser </font><font size = 1, color=blue> minds </font><font size = 1, color=blue> prevailed </font><font size = 1, color=blue> and </font><font size = 1, color=blue> Connery </font><font size = 1, color=blue> sports </font><font size = 1, color=gray> a </font><font size = 1, color=gray> hairpiece. </font><font size = 1, color=blue> He </font><font size = 2, color=red> looks </font><font size = 1, color=gray> tanned </font><font size = 1, color=blue> and </font><font size = 2, color=red> fit </font><font size = 1, color=blue> and </font><font size = 4, color=blue> appears </font><font size = 1, color=blue> in </font><font size = 3, color=red> better </font><font size = 1, color=blue> condition </font><font size = 1, color=blue> than </font><font size = 1, color=blue> he </font><font size = 2, color=red> did </font><font size = 1, color=blue> twelve </font><font size = 2, color=blue> years </font><font size = 1, color=red> earlier </font><font size = 1, color=blue> when </font><font size = 1, color=blue> he </font><font size = 1, color=red> was </font><font size = 3, color=red> rushed </font><font size = 2, color=red> into </font><font size = 1, color=blue> \"Diamonds </font><font size = 1, color=red> Are </font><font size = 1, color=blue> Forever\" </font><font size = 1, color=red> at </font><font size = 1, color=blue> the </font><font size = 1, color=blue> last </font><font size = 2, color=blue> moment </font><font size = 1, color=red> to </font><font size = 1, color=blue> replace </font><font size = 1, color=red> John </font><font size = 1, color=blue> Gavin. </font><font size = 1, color=blue> Connery </font><font size = 1, color=blue> had </font><font size = 1, color=red> been </font><font size = 1, color=blue> working </font><font size = 1, color=blue> on </font><font size = 1, color=blue> another </font><font size = 1, color=blue> movie </font><font size = 1, color=blue> and </font><font size = 1, color=blue> had </font><font size = 1, color=blue> gained </font><font size = 2, color=red> weight </font><font size = 1, color=blue> for </font><font size = 1, color=blue> the </font><font size = 1, color=blue> role </font><font size = 1, color=red> that </font><font size = 1, color=blue> he </font><font size = 1, color=red> was </font><font size = 1, color=blue> unable </font><font size = 1, color=red> to </font><font size = 1, color=blue> remove </font><font size = 1, color=blue> in </font><font size = 1, color=red> time </font><font size = 1, color=blue> for </font><font size = 1, color=blue> \"Diamonds </font><font size = 1, color=red> Are </font><font size = 1, color=blue> Forever.\" </font><font size = 1, color=red> At </font><font size = 1, color=blue> 52, </font><font size = 1, color=blue> Connery </font><font size = 3, color=blue> still </font><font size = 2, color=blue> has </font><font size = 1, color=gray> a </font><font size = 1, color=blue> youthful </font><font size = 1, color=gray> vigor </font><font size = 2, color=red> here </font><font size = 3, color=red> despite </font><font size = 1, color=blue> the </font><font size = 1, color=red> contrived </font><font size = 1, color=blue> demands </font><font size = 1, color=blue> of </font><font size = 1, color=blue> the </font><font size = 3, color=red> script.<br </font><font size = 1, color=red> /><br </font><font size = 1, color=blue> />The </font><font size = 1, color=blue> action </font><font size = 1, color=blue> unfolds </font><font size = 1, color=red> with </font><font size = 1, color=blue> 007 </font><font size = 1, color=red> single-handedly </font><font size = 2, color=red> trying </font><font size = 1, color=red> to </font><font size = 2, color=blue> rescue </font><font size = 1, color=gray> a </font><font size = 2, color=red> kidnapped </font><font size = 2, color=red> woman </font><font size = 1, color=blue> on </font><font size = 1, color=gray> a </font><font size = 2, color=red> remote </font><font size = 1, color=blue> desert </font><font size = 1, color=blue> island. </font><font size = 1, color=blue> He </font><font size = 2, color=blue> dispatches </font><font size = 1, color=blue> several </font><font size = 1, color=blue> guards </font><font size = 1, color=blue> armed </font><font size = 1, color=red> with </font><font size = 1, color=blue> machine </font><font size = 3, color=red> guns </font><font size = 1, color=blue> and </font><font size = 1, color=blue> frees </font><font size = 1, color=blue> the </font><font size = 2, color=red> woman, </font><font size = 2, color=red> only </font><font size = 1, color=red> to </font><font size = 1, color=red> have </font><font size = 1, color=red> her </font><font size = 1, color=blue> stab </font><font size = 1, color=red> him </font><font size = 1, color=red> with </font><font size = 1, color=gray> a </font><font size = 1, color=blue> knife </font><font size = 1, color=blue> in </font><font size = 1, color=blue> the </font><font size = 1, color=blue> side </font><font size = 1, color=blue> when </font><font size = 1, color=blue> he </font><font size = 1, color=blue> isn't </font><font size = 1, color=red> looking. </font><font size = 1, color=blue> It </font><font size = 1, color=red> seems </font><font size = 1, color=red> that </font><font size = 1, color=red> this </font><font size = 2, color=red> entire </font><font size = 2, color=red> sequence </font><font size = 1, color=red> was </font><font size = 1, color=blue> an </font><font size = 1, color=blue> exercise </font><font size = 1, color=red> designed </font><font size = 1, color=red> by </font><font size = 1, color=gray> M </font><font size = 1, color=blue> (Edward </font><font size = 1, color=blue> Fox </font><font size = 1, color=blue> of </font><font size = 2, color=red> \"Day </font><font size = 1, color=blue> of </font><font size = 1, color=blue> the </font><font size = 1, color=gray> Jackal\") </font><font size = 1, color=red> to </font><font size = 3, color=blue> test </font><font size = 2, color=red> Bond's </font><font size = 1, color=blue> ability. </font><font size = 1, color=blue> The </font><font size = 1, color=blue> new </font><font size = 1, color=gray> M </font><font size = 2, color=red> doesn't </font><font size = 2, color=blue> share </font><font size = 1, color=blue> his </font><font size = 2, color=red> predecessor's </font><font size = 3, color=red> use </font><font size = 1, color=blue> of </font><font size = 2, color=blue> field </font><font size = 1, color=blue> agents. </font><font size = 1, color=gray> M </font><font size = 3, color=blue> decides </font><font size = 1, color=red> that </font><font size = 2, color=red> Bond </font><font size = 1, color=blue> needs </font><font size = 1, color=red> to </font><font size = 1, color=blue> clean </font><font size = 1, color=red> out </font><font size = 1, color=blue> his </font><font size = 1, color=blue> system </font><font size = 1, color=blue> of </font><font size = 1, color=red> all </font><font size = 2, color=red> 'free </font><font size = 1, color=blue> radicals' </font><font size = 1, color=blue> and </font><font size = 2, color=blue> has </font><font size = 1, color=blue> 007 </font><font size = 2, color=blue> packed </font><font size = 3, color=red> off </font><font size = 1, color=red> to </font><font size = 1, color=gray> Shrublands. </font><font size = 2, color=red> While </font><font size = 1, color=red> at </font><font size = 1, color=blue> the </font><font size = 1, color=blue> country </font><font size = 1, color=blue> clinic, </font><font size = 2, color=red> Bond </font><font size = 1, color=blue> notices </font><font size = 1, color=blue> suspicious </font><font size = 1, color=blue> activity </font><font size = 1, color=red> between </font><font size = 1, color=gray> a </font><font size = 2, color=red> nurse </font><font size = 1, color=blue> and </font><font size = 1, color=gray> a </font><font size = 1, color=blue> patient </font><font size = 1, color=blue> and </font><font size = 3, color=red> gets </font><font size = 2, color=red> noticed </font><font size = 2, color=red> watching </font><font size = 1, color=blue> them. </font><font size = 1, color=blue> The </font><font size = 2, color=red> nurse </font><font size = 1, color=blue> is </font><font size = 3, color=red> none </font><font size = 1, color=blue> other </font><font size = 1, color=blue> than </font><font size = 1, color=blue> SPECTRE </font><font size = 1, color=blue> assassin </font><font size = 1, color=gray> Fatima </font><font size = 1, color=blue> Blush </font><font size = 1, color=blue> (Barbara </font><font size = 1, color=blue> Carrera </font><font size = 1, color=blue> of </font><font size = 1, color=blue> \"The </font><font size = 1, color=blue> Island </font><font size = 1, color=blue> of </font><font size = 1, color=blue> Dr. </font><font size = 1, color=blue> Moreau\") </font><font size = 1, color=blue> and </font><font size = 1, color=blue> she </font><font size = 1, color=blue> is </font><font size = 1, color=blue> in </font><font size = 2, color=blue> charge </font><font size = 1, color=blue> of </font><font size = 4, color=red> making </font><font size = 1, color=red> sure </font><font size = 1, color=red> that </font><font size = 3, color=blue> nobody </font><font size = 3, color=blue> sees </font><font size = 1, color=gray> USAF </font><font size = 1, color=blue> officer </font><font size = 1, color=blue> Jack </font><font size = 1, color=gray> Petachi </font><font size = 1, color=gray> (Gavan </font><font size = 1, color=blue> O'Herlihy </font><font size = 1, color=blue> of </font><font size = 2, color=red> \"Superman </font><font size = 1, color=gray> 3\"). </font><font size = 1, color=gray> Petachi </font><font size = 1, color=blue> is </font><font size = 1, color=red> part </font><font size = 1, color=blue> of </font><font size = 1, color=gray> a </font><font size = 1, color=blue> SPECTRE </font><font size = 3, color=red> plan </font><font size = 1, color=red> by </font><font size = 1, color=blue> millionaire </font><font size = 1, color=blue> businessman </font><font size = 2, color=red> Maximilian </font><font size = 1, color=blue> Largo </font><font size = 2, color=red> (Klaus </font><font size = 2, color=red> Maria </font><font size = 1, color=gray> Brandauer </font><font size = 1, color=blue> of </font><font size = 1, color=red> \"Out </font><font size = 1, color=blue> of </font><font size = 2, color=blue> Africa\") </font><font size = 1, color=red> to </font><font size = 2, color=red> black </font><font size = 1, color=blue> the </font><font size = 2, color=blue> world </font><font size = 1, color=blue> powers </font><font size = 1, color=red> by </font><font size = 1, color=blue> stealing </font><font size = 1, color=red> two </font><font size = 1, color=blue> nuclear </font><font size = 1, color=gray> warheads. </font><font size = 1, color=blue> The </font><font size = 1, color=blue> villains </font><font size = 1, color=blue> implant </font><font size = 1, color=gray> a </font><font size = 1, color=blue> duplicate </font><font size = 1, color=blue> eyeball </font><font size = 2, color=red> into </font><font size = 3, color=blue> Captain </font><font size = 1, color=gray> Petachi </font><font size = 1, color=red> who </font><font size = 2, color=blue> has </font><font size = 1, color=blue> access </font><font size = 1, color=red> to </font><font size = 1, color=blue> the </font><font size = 3, color=blue> highly </font><font size = 2, color=red> sophisticated </font><font size = 2, color=red> computers </font><font size = 1, color=blue> and </font><font size = 1, color=red> can </font><font size = 3, color=red> order </font><font size = 1, color=blue> the </font><font size = 1, color=gray> arming </font><font size = 1, color=blue> of </font><font size = 1, color=blue> weapons. </font><font size = 2, color=red> After </font><font size = 1, color=blue> he </font><font size = 1, color=blue> steals </font><font size = 1, color=blue> the </font><font size = 1, color=blue> weapons </font><font size = 1, color=blue> for </font><font size = 1, color=blue> SPECTRE, </font><font size = 1, color=gray> Fatima </font><font size = 1, color=blue> Blush </font><font size = 3, color=red> runs </font><font size = 1, color=red> him </font><font size = 3, color=red> off </font><font size = 1, color=blue> the </font><font size = 1, color=red> road </font><font size = 1, color=red> by </font><font size = 1, color=blue> tossing </font><font size = 1, color=red> her </font><font size = 2, color=blue> pet </font><font size = 2, color=red> snake </font><font size = 1, color=blue> in </font><font size = 1, color=blue> his </font><font size = 1, color=blue> lap </font><font size = 1, color=blue> and </font><font size = 1, color=blue> then </font><font size = 1, color=blue> attaches </font><font size = 1, color=blue> an </font><font size = 2, color=red> explosive </font><font size = 1, color=red> to </font><font size = 1, color=blue> his </font><font size = 1, color=blue> wrecked </font><font size = 1, color=red> car </font><font size = 1, color=blue> and </font><font size = 2, color=red> blows </font><font size = 1, color=red> him </font><font size = 1, color=blue> up. </font><font size = 3, color=red> Indeed, </font><font size = 1, color=blue> the </font><font size = 1, color=blue> first </font><font size = 1, color=red> part </font><font size = 1, color=blue> of </font><font size = 1, color=red> \"Never </font><font size = 1, color=red> Say </font><font size = 1, color=red> Never </font><font size = 1, color=blue> Again,\" </font><font size = 2, color=red> apart </font><font size = 1, color=blue> from </font><font size = 1, color=blue> the </font><font size = 1, color=blue> SPECTRE </font><font size = 2, color=blue> planning </font><font size = 1, color=blue> conference, </font><font size = 2, color=red> belong </font><font size = 1, color=red> to </font><font size = 1, color=gray> Fatima </font><font size = 1, color=blue> as </font><font size = 1, color=blue> she </font><font size = 1, color=gray> supervises </font><font size = 1, color=gray> Petachi's </font><font size = 1, color=blue> stay </font><font size = 1, color=red> at </font><font size = 1, color=blue> the </font><font size = 1, color=blue> clinic </font><font size = 1, color=blue> and </font><font size = 1, color=blue> then </font><font size = 2, color=red> repeatedly </font><font size = 1, color=blue> tries </font><font size = 1, color=red> to </font><font size = 3, color=red> kill </font><font size = 2, color=red> Bond, </font><font size = 1, color=blue> one </font><font size = 1, color=red> at </font><font size = 2, color=red> sea </font><font size = 1, color=red> with </font><font size = 1, color=blue> sharks </font><font size = 1, color=blue> and </font><font size = 2, color=blue> later </font><font size = 1, color=blue> in </font><font size = 1, color=gray> a </font><font size = 1, color=blue> motel </font><font size = 1, color=blue> suite </font><font size = 1, color=red> with </font><font size = 1, color=blue> an </font><font size = 1, color=blue> explosives </font><font size = 1, color=blue> device.<br </font><font size = 1, color=red> /><br </font><font size = 2, color=red> />Eventually, </font><font size = 2, color=red> Bond </font><font size = 1, color=blue> meets </font><font size = 1, color=blue> the </font><font size = 4, color=blue> beautiful </font><font size = 1, color=blue> blond </font><font size = 1, color=blue> Domino </font><font size = 1, color=blue> (Kim </font><font size = 1, color=blue> Basinger </font><font size = 1, color=blue> of </font><font size = 3, color=blue> \"Mother </font><font size = 1, color=gray> Lode\") </font><font size = 1, color=blue> and </font><font size = 1, color=blue> sneaks </font><font size = 2, color=red> into </font><font size = 1, color=blue> Largo's </font><font size = 1, color=blue> charity </font><font size = 1, color=blue> banquet </font><font size = 1, color=red> at </font><font size = 1, color=gray> a </font><font size = 1, color=blue> Monte </font><font size = 1, color=blue> Carlo </font><font size = 1, color=blue> casino </font><font size = 1, color=red> where </font><font size = 1, color=blue> the </font><font size = 1, color=red> two </font><font size = 3, color=red> face </font><font size = 3, color=red> off </font><font size = 1, color=blue> in </font><font size = 1, color=blue> an </font><font size = 2, color=blue> elaborate </font><font size = 1, color=red> video </font><font size = 1, color=blue> game </font><font size = 1, color=blue> called </font><font size = 1, color=blue> 'Domination' </font><font size = 1, color=red> to </font><font size = 1, color=blue> see </font><font size = 1, color=red> who </font><font size = 2, color=blue> will </font><font size = 2, color=blue> rule </font><font size = 1, color=blue> the </font><font size = 2, color=blue> world. </font><font size = 2, color=red> Bond </font><font size = 1, color=gray> bests </font><font size = 1, color=red> him </font><font size = 1, color=blue> and </font><font size = 1, color=blue> Largo </font><font size = 2, color=blue> hates </font><font size = 1, color=red> him </font><font size = 1, color=blue> doubly </font><font size = 2, color=blue> now </font><font size = 1, color=red> because </font><font size = 1, color=blue> 007 </font><font size = 1, color=blue> is </font><font size = 1, color=blue> his </font><font size = 2, color=red> only </font><font size = 2, color=blue> rival </font><font size = 1, color=red> to </font><font size = 1, color=blue> Domino </font><font size = 1, color=blue> and </font><font size = 1, color=gray> a </font><font size = 1, color=blue> thorn </font><font size = 1, color=blue> in </font><font size = 1, color=blue> his </font><font size = 1, color=blue> side </font><font size = 1, color=red> that </font><font size = 1, color=red> not </font><font size = 2, color=red> even </font><font size = 1, color=gray> Fatima </font><font size = 1, color=red> seems </font><font size = 1, color=red> to </font><font size = 1, color=red> be </font><font size = 2, color=red> able </font><font size = 1, color=red> to </font><font size = 1, color=blue> remove. </font><font size = 2, color=red> Bond </font><font size = 1, color=blue> and </font><font size = 1, color=gray> Fatima </font><font size = 1, color=red> have </font><font size = 1, color=blue> it </font><font size = 1, color=red> out </font><font size = 2, color=red> after </font><font size = 1, color=gray> a </font><font size = 1, color=blue> motorcycle </font><font size = 2, color=red> chase </font><font size = 1, color=blue> when </font><font size = 1, color=blue> he </font><font size = 1, color=blue> returns </font><font size = 1, color=blue> the </font><font size = 2, color=red> favor </font><font size = 1, color=blue> and </font><font size = 2, color=red> blows </font><font size = 1, color=red> her </font><font size = 1, color=blue> up. </font><font size = 1, color=blue> Their </font><font size = 1, color=red> earlier </font><font size = 1, color=blue> encounter </font><font size = 1, color=blue> in </font><font size = 1, color=blue> the </font><font size = 1, color=gray> Bahamas </font><font size = 1, color=blue> when </font><font size = 1, color=blue> she </font><font size = 1, color=blue> attached </font><font size = 1, color=gray> a </font><font size = 1, color=blue> device </font><font size = 1, color=red> to </font><font size = 1, color=blue> lure </font><font size = 1, color=gray> a </font><font size = 1, color=blue> shark </font><font size = 2, color=red> after </font><font size = 1, color=red> him </font><font size = 1, color=blue> is </font><font size = 1, color=blue> pretty </font><font size = 4, color=red> lame. </font><font size = 1, color=red> Like </font><font size = 1, color=blue> in </font><font size = 1, color=blue> the </font><font size = 2, color=red> original </font><font size = 1, color=blue> \"Thunderball,\" </font><font size = 1, color=blue> the </font><font size = 1, color=blue> villains </font><font size = 2, color=red> recover </font><font size = 1, color=blue> the </font><font size = 1, color=blue> hijacked </font><font size = 1, color=blue> nuclear </font><font size = 1, color=gray> warheads </font><font size = 1, color=red> at </font><font size = 2, color=red> sea, </font><font size = 1, color=red> but </font><font size = 1, color=red> just </font><font size = 1, color=blue> the </font><font size = 1, color=gray> warheads </font><font size = 1, color=blue> themselves.<br </font><font size = 1, color=red> /><br </font><font size = 2, color=red> />Bond </font><font size = 1, color=blue> flies </font><font size = 1, color=red> to </font><font size = 1, color=blue> the </font><font size = 1, color=gray> Bahamas </font><font size = 1, color=red> where </font><font size = 1, color=blue> he </font><font size = 1, color=blue> meets </font><font size = 1, color=blue> his </font><font size = 1, color=blue> diplomatic </font><font size = 1, color=blue> liaison, </font><font size = 1, color=blue> Nigel </font><font size = 3, color=blue> Small-Fawcett </font><font size = 3, color=red> (no </font><font size = 1, color=blue> lesser </font><font size = 1, color=blue> than </font><font size = 1, color=blue> Rowan </font><font size = 1, color=blue> Atkinson </font><font size = 1, color=blue> of </font><font size = 1, color=blue> \"Mr. </font><font size = 1, color=blue> Bean\" </font><font size = 1, color=blue> fame, </font><font size = 1, color=red> who </font><font size = 1, color=blue> is </font><font size = 1, color=blue> worried </font><font size = 1, color=red> that </font><font size = 2, color=red> Bond </font><font size = 1, color=red> may </font><font size = 3, color=red> kill </font><font size = 3, color=red> somebody </font><font size = 1, color=blue> and </font><font size = 1, color=blue> ruin </font><font size = 1, color=blue> the </font><font size = 1, color=blue> island </font><font size = 1, color=blue> paradise. </font><font size = 1, color=blue> Of </font><font size = 1, color=red> course, </font><font size = 1, color=blue> Nigel </font><font size = 3, color=blue> Small-Fawcett </font><font size = 2, color=red> serves </font><font size = 1, color=blue> as </font><font size = 1, color=blue> the </font><font size = 1, color=blue> film's </font><font size = 1, color=blue> source </font><font size = 1, color=blue> of </font><font size = 3, color=blue> comic </font><font size = 2, color=blue> relief. </font><font size = 1, color=blue> The </font><font size = 1, color=gray> C.I.A. </font><font size = 1, color=blue> sends </font><font size = 2, color=blue> Felix </font><font size = 1, color=gray> Leiter </font><font size = 1, color=blue> (Bernie </font><font size = 1, color=blue> Casey </font><font size = 1, color=blue> of </font><font size = 3, color=red> \"Guns </font><font size = 1, color=blue> of </font><font size = 1, color=blue> the </font><font size = 1, color=blue> Magnificent </font><font size = 1, color=blue> Seven\") </font><font size = 1, color=red> to </font><font size = 1, color=red> back </font><font size = 1, color=blue> up </font><font size = 2, color=red> Bond. </font><font size = 1, color=red> This </font><font size = 1, color=blue> is </font><font size = 1, color=blue> the </font><font size = 1, color=blue> first </font><font size = 1, color=red> time </font><font size = 1, color=red> that </font><font size = 1, color=blue> an </font><font size = 3, color=red> African-American </font><font size = 1, color=blue> portrayed </font><font size = 1, color=gray> Leiter. </font><font size = 2, color=red> Bond </font><font size = 2, color=red> encounters </font><font size = 1, color=blue> his </font><font size = 2, color=blue> share </font><font size = 1, color=blue> of </font><font size = 3, color=red> problems, </font><font size = 3, color=blue> involving </font><font size = 1, color=blue> saving </font><font size = 1, color=blue> Domino </font><font size = 1, color=blue> from </font><font size = 1, color=blue> Arab </font><font size = 1, color=gray> slavers, </font><font size = 2, color=red> while </font><font size = 1, color=gray> Leiter </font><font size = 1, color=blue> and </font><font size = 1, color=blue> he </font><font size = 5, color=red> save </font><font size = 1, color=blue> the </font><font size = 2, color=blue> world. </font><font size = 1, color=red> \"Never </font><font size = 1, color=red> Say </font><font size = 1, color=red> Never </font><font size = 1, color=blue> Again\" </font><font size = 1, color=blue> is </font><font size = 1, color=gray> a </font><font size = 1, color=blue> richly </font><font size = 2, color=red> respectable </font><font size = 1, color=blue> James </font><font size = 2, color=red> Bond </font><font size = 1, color=red> thriller </font><font size = 1, color=red> with </font><font size = 2, color=blue> many </font><font size = 1, color=blue> neat </font><font size = 3, color=blue> touches, </font><font size = 1, color=red> but </font><font size = 1, color=blue> it </font><font size = 1, color=red> never </font><font size = 1, color=blue> generates </font><font size = 1, color=blue> the </font><font size = 3, color=blue> air </font><font size = 1, color=blue> of </font><font size = 1, color=blue> danger </font><font size = 1, color=red> that </font><font size = 1, color=blue> the </font><font size = 1, color=blue> franchise </font><font size = 2, color=red> Bond </font><font size = 1, color=blue> films </font><font size = 1, color=red> have. </font><font size = 3, color=red> Indeed, </font><font size = 1, color=red> \"Never </font><font size = 1, color=red> Say </font><font size = 1, color=red> Never </font><font size = 1, color=blue> Again\" </font><font size = 2, color=red> looks </font><font size = 1, color=red> like </font><font size = 1, color=gray> a </font><font size = 1, color=blue> dignified </font><font size = 3, color=blue> Masterpiece </font><font size = 2, color=blue> Theatre </font><font size = 2, color=blue> take </font><font size = 1, color=blue> on </font><font size = 1, color=blue> 007. </font>"
      ],
      "text/plain": [
       "<utils.ColoredWeightedDoc at 0x7fdc4cbf60f0>"
      ]
     },
     "metadata": {},
     "output_type": "display_data"
    }
   ],
   "source": [
    "x = ctrl_clf.predict_proba(X_test) - best_clf.predict_proba(X_test)\n",
    "x = np.absolute(x[:,0])\n",
    "inds = np.argsort(x)\n",
    "i = inds[24998]\n",
    "\n",
    "display_html(\"<b>\"+'Probability Matrix'+\"<b>\", raw=True)\n",
    "print(ctrl_clf.predict_proba(X_test)[i]) \n",
    "print(best_clf.predict_proba(X_test)[i])\n",
    "display_html(\"<b>\"+'Control Classifier'+\"<b>\", raw=True)\n",
    "display(ColoredWeightedDoc(test_corpus[i], feature_names, ctrl_clf.get_weights()))\n",
    "display_html(\"<b>\"+'Best Classifier'+\"<b>\", raw=True)\n",
    "display(ColoredWeightedDoc(test_corpus[i], feature_names, best_clf.get_weights()))"
   ]
  },
  {
   "cell_type": "code",
   "execution_count": 7,
   "metadata": {
    "collapsed": false
   },
   "outputs": [
    {
     "data": {
      "text/html": [
       "<b>Control Classifier<b>"
      ]
     },
     "metadata": {},
     "output_type": "display_data"
    },
    {
     "name": "stdout",
     "output_type": "stream",
     "text": [
      "             precision    recall  f1-score   support\n",
      "\n",
      "          0       0.78      0.88      0.83     12500\n",
      "          1       0.86      0.75      0.80     12500\n",
      "\n",
      "avg / total       0.82      0.82      0.82     25000\n",
      "\n"
     ]
    },
    {
     "data": {
      "text/html": [
       "<b>Best Classifier<b>"
      ]
     },
     "metadata": {},
     "output_type": "display_data"
    },
    {
     "name": "stdout",
     "output_type": "stream",
     "text": [
      "             precision    recall  f1-score   support\n",
      "\n",
      "          0       0.84      0.83      0.84     12500\n",
      "          1       0.83      0.85      0.84     12500\n",
      "\n",
      "avg / total       0.84      0.84      0.84     25000\n",
      "\n"
     ]
    }
   ],
   "source": [
    "best_pred = best_clf.predict(X_test)\n",
    "ctrl_pred = ctrl_clf.predict(X_test)\n",
    "display_html(\"<b>\"+'Control Classifier'+\"<b>\", raw=True)\n",
    "print(classification_report(y_test, ctrl_pred))\n",
    "display_html(\"<b>\"+'Best Classifier'+\"<b>\", raw=True)\n",
    "print(classification_report(y_test, best_pred))"
   ]
  },
  {
   "cell_type": "code",
   "execution_count": 13,
   "metadata": {
    "collapsed": false
   },
   "outputs": [
    {
     "name": "stdout",
     "output_type": "stream",
     "text": [
      "3.0920182951 -3.33122866843\n"
     ]
    },
    {
     "data": {
      "text/html": [
       "<b>Best Classifier<b>"
      ]
     },
     "metadata": {},
     "output_type": "display_data"
    },
    {
     "name": "stdout",
     "output_type": "stream",
     "text": [
      "Top Positive\n",
      "excellent ([  0.  21.]) wonderful ([  0.  20.]) zorro ([  0.  10.]) definitely ([ 0.  9.]) superb ([ 0.  7.]) incredible ([ 0.  7.]) enjoyed ([ 0.  6.]) emotions ([ 0.  6.]) enjoy ([  1.  13.]) genius ([ 0.  6.])\n",
      "\n",
      "Top Negative\n",
      "worst ([ 27.   0.]) boring ([ 17.   0.]) bad ([ 83.   4.]) nothing ([ 15.   0.]) terrible ([ 14.   0.]) dibiase ([ 14.   0.]) awful ([ 13.   0.]) pin ([ 12.   0.]) hogan ([ 11.   0.]) predictable ([ 11.   0.])\n"
     ]
    },
    {
     "data": {
      "text/html": [
       "<b>Control Classifier<b>"
      ]
     },
     "metadata": {},
     "output_type": "display_data"
    },
    {
     "name": "stdout",
     "output_type": "stream",
     "text": [
      "Top Positive\n",
      "edie ([   0.  109.]) antwone ([  0.  88.]) din ([  0.  82.]) gunga ([  0.  66.]) goldsworthy ([  0.  65.]) gypo ([  0.  60.]) yokai ([  0.  60.]) paulie ([   1.  118.]) flavia ([  0.  51.]) visconti ([  0.  51.])\n",
      "\n",
      "Top Negative\n",
      "boll ([ 143.    1.]) uwe ([ 101.    1.]) slater ([ 49.   0.]) tashan ([ 45.   0.]) hobgoblins ([ 45.   0.]) kareena ([ 41.   0.]) kornbluth ([ 39.   0.]) sarne ([ 37.   0.]) gram ([ 37.   0.]) delia ([ 36.   0.])\n"
     ]
    }
   ],
   "source": [
    "best_weights = best_clf.get_weights()\n",
    "ctrl_weights = ctrl_clf.get_weights()\n",
    "\n",
    "best_ws = np.argsort(best_weights)\n",
    "ctrl_ws  = np.argsort(ctrl_weights)\n",
    "\n",
    "display_html(\"<b>\"+'Best Classifier'+\"<b>\", raw=True)\n",
    "\n",
    "print(\"Top Positive\")\n",
    "print(\" \".join([\"{} ({})\".format(feature_names[i], best_clf.feature_count_[:,i])\n",
    "                for i in best_ws[-10:][::-1]]))\n",
    "\n",
    "print(\"\\nTop Negative\")\n",
    "print(\" \".join([\"{} ({})\".format(feature_names[i], best_clf.feature_count_[:,i])\n",
    "                for i in best_ws[:10]]))\n",
    "\n",
    "display_html(\"<b>\"+'Control Classifier'+\"<b>\", raw=True)\n",
    "\n",
    "print(\"Top Positive\")\n",
    "print(\" \".join([\"{} ({})\".format(feature_names[i], ctrl_clf.feature_count_[:,i])\n",
    "                for i in ctrl_ws[-10:][::-1]]))\n",
    "\n",
    "print(\"\\nTop Negative\")\n",
    "print(\" \".join([\"{} ({})\".format(feature_names[i], ctrl_clf.feature_count_[:,i])\n",
    "                for i in ctrl_ws[:10]]))"
   ]
  }
 ],
 "metadata": {
  "kernelspec": {
   "display_name": "Python 3",
   "language": "python",
   "name": "python3"
  },
  "language_info": {
   "codemirror_mode": {
    "name": "ipython",
    "version": 3
   },
   "file_extension": ".py",
   "mimetype": "text/x-python",
   "name": "python",
   "nbconvert_exporter": "python",
   "pygments_lexer": "ipython3",
   "version": "3.5.1"
  }
 },
 "nbformat": 4,
 "nbformat_minor": 0
}
