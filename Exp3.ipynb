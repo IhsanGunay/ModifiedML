{
 "cells": [
  {
   "cell_type": "markdown",
   "metadata": {},
   "source": [
    "# Experiment 3 Results"
   ]
  },
  {
   "cell_type": "code",
   "execution_count": 2,
   "metadata": {
    "collapsed": true
   },
   "outputs": [],
   "source": [
    "from pickle import load\n",
    "from utils import ce_squared, load_imdb, ColoredWeightedDoc\n",
    "from IPython.display import display, display_html\n",
    "from sklearn.feature_extraction.text import TfidfVectorizer\n",
    "from sklearn.metrics import classification_report, confusion_matrix\n",
    "from time import time\n",
    "import numpy as np"
   ]
  },
  {
   "cell_type": "markdown",
   "metadata": {},
   "source": [
    "## Load Data"
   ]
  },
  {
   "cell_type": "code",
   "execution_count": 9,
   "metadata": {
    "collapsed": false
   },
   "outputs": [
    {
     "name": "stdout",
     "output_type": "stream",
     "text": [
      "Loading the imdb reviews data\n",
      "Data loaded.\n",
      "Extracting features from the training dataset using a sparse vectorizer\n",
      "Feature extraction technique is TfidfVectorizer(analyzer='word', binary=False, decode_error='strict',\n",
      "        dtype=<class 'numpy.int64'>, encoding='utf-8', input='content',\n",
      "        lowercase=True, max_df=1.0, max_features=None, min_df=5,\n",
      "        ngram_range=(1, 1), norm='l2', preprocessor=None, smooth_idf=True,\n",
      "        stop_words=None, strip_accents=None, sublinear_tf=False,\n",
      "        token_pattern='(?u)\\\\b\\\\w\\\\w+\\\\b', tokenizer=None, use_idf=True,\n",
      "        vocabulary=None).\n",
      "done in 5.480348110198975s\n",
      "(25000, 27272)\n",
      "n_samples: 25000, n_features: 27272 \n",
      "\n",
      "Extracting features from the test dataset using the same vectorizer\n",
      "done in 5.070776462554932s\n",
      "n_samples: 25000, n_features: 27272 \n",
      "\n",
      "Loading took 12.24s.\n",
      "\n"
     ]
    }
   ],
   "source": [
    "t0 = time()\n",
    "\n",
    "vect = TfidfVectorizer(min_df=5, max_df=1.0, binary=False, ngram_range=(1, 1))\n",
    "\n",
    "X_train, y_train, X_test, y_test, train_corpus, test_corpus = load_imdb(\"./aclImdb\", shuffle=True, vectorizer=vect)\n",
    "\n",
    "feature_names = vect.get_feature_names()\n",
    "y_test_na = y_test[:, np.newaxis]\n",
    "y_test_na = np.append(y_test_na, 1-y_test_na, axis=1)\n",
    "y_modified = np.copy(y_train)\n",
    "\n",
    "\n",
    "duration = time() - t0\n",
    "\n",
    "print(\"Loading took {:0.2f}s.\\n\".format(duration))"
   ]
  },
  {
   "cell_type": "code",
   "execution_count": 18,
   "metadata": {
    "collapsed": false
   },
   "outputs": [
    {
     "data": {
      "text/plain": [
       "(12500,)"
      ]
     },
     "execution_count": 18,
     "metadata": {},
     "output_type": "execute_result"
    }
   ],
   "source": [
    "y_train.shape\n",
    "X_train.shape\n",
    "y_test[12500:].shape"
   ]
  },
  {
   "cell_type": "code",
   "execution_count": 3,
   "metadata": {
    "collapsed": true
   },
   "outputs": [],
   "source": [
    "with open('clf3.arch', 'rb') as f:\n",
    "    clf_arch = load(f)"
   ]
  },
  {
   "cell_type": "code",
   "execution_count": 4,
   "metadata": {
    "collapsed": false
   },
   "outputs": [
    {
     "name": "stdout",
     "output_type": "stream",
     "text": [
      "<class 'classifiers.TransparentMultinomialNB'> \n",
      "\n",
      "[1, 2, 3, 4, 5, 6, 7, 8, 9, 10] \n",
      "\n",
      "TfidfVectorizer(analyzer='word', binary=False, decode_error='strict',\n",
      "        dtype=<class 'numpy.int64'>, encoding='utf-8', input='content',\n",
      "        lowercase=True, max_df=1.0, max_features=None, min_df=5,\n",
      "        ngram_range=(1, 1), norm='l2', preprocessor=None, smooth_idf=True,\n",
      "        stop_words=None, strip_accents=None, sublinear_tf=False,\n",
      "        token_pattern='(?u)\\\\b\\\\w\\\\w+\\\\b', tokenizer=None, use_idf=True,\n",
      "        vocabulary=None)\n"
     ]
    }
   ],
   "source": [
    "clf_arch.stats()"
   ]
  },
  {
   "cell_type": "code",
   "execution_count": 5,
   "metadata": {
    "collapsed": false
   },
   "outputs": [],
   "source": [
    "# Loading the last classifier in the archive\n",
    "ctrl_clf = clf_arch.ctrl_clf\n",
    "best_clf = clf_arch.classifiers[-1]\n",
    "train_indices_set = set(clf_arch.train_indices[-1])\n",
    "train_indices = clf_arch.train_indices[-1]\n",
    "y_modified = np.copy(clf_arch.modified_labels[-1])\n",
    "round_tag = clf_arch.round_tags[-1] + 1 "
   ]
  },
  {
   "cell_type": "markdown",
   "metadata": {},
   "source": [
    "## Visualizations"
   ]
  },
  {
   "cell_type": "code",
   "execution_count": 6,
   "metadata": {
    "collapsed": false,
    "scrolled": true
   },
   "outputs": [
    {
     "name": "stdout",
     "output_type": "stream",
     "text": [
      "Number of samples used : 9255\n",
      "Number of labels modified: 532\n"
     ]
    }
   ],
   "source": [
    "print('Number of samples used :', len(train_indices))\n",
    "changed_labels = np.array(list(filter(lambda x: x[0]!=x[1], zip(y_modified[train_indices], y_train[train_indices]))))\n",
    "print('Number of labels modified:', len(changed_labels))"
   ]
  },
  {
   "cell_type": "code",
   "execution_count": 7,
   "metadata": {
    "collapsed": false,
    "scrolled": true
   },
   "outputs": [
    {
     "name": "stdout",
     "output_type": "stream",
     "text": [
      "1 to 0 : 295\n",
      "0 to 1 : 237\n"
     ]
    }
   ],
   "source": [
    "changes = changed_labels[:,0] - changed_labels[:,1]\n",
    "print('1 to 0 :', len(list(filter(lambda x: x<0, changes))))\n",
    "print('0 to 1 :', len(list(filter(lambda x: x>0, changes))))"
   ]
  },
  {
   "cell_type": "code",
   "execution_count": 8,
   "metadata": {
    "collapsed": false
   },
   "outputs": [
    {
     "data": {
      "text/html": [
       "<b>Control Classifier<b>"
      ]
     },
     "metadata": {},
     "output_type": "display_data"
    },
    {
     "name": "stdout",
     "output_type": "stream",
     "text": [
      "             precision    recall  f1-score   support\n",
      "\n",
      "          0       0.80      0.89      0.84     12500\n",
      "          1       0.87      0.78      0.82     12500\n",
      "\n",
      "avg / total       0.84      0.83      0.83     25000\n",
      "\n"
     ]
    },
    {
     "data": {
      "text/html": [
       "<b>Best Classifier<b>"
      ]
     },
     "metadata": {},
     "output_type": "display_data"
    },
    {
     "name": "stdout",
     "output_type": "stream",
     "text": [
      "             precision    recall  f1-score   support\n",
      "\n",
      "          0       0.92      0.90      0.91     12500\n",
      "          1       0.90      0.92      0.91     12500\n",
      "\n",
      "avg / total       0.91      0.91      0.91     25000\n",
      "\n"
     ]
    }
   ],
   "source": [
    "best_pred = best_clf.predict(X_test)\n",
    "ctrl_pred = ctrl_clf.predict(X_test)\n",
    "display_html(\"<b>\"+'Control Classifier'+\"<b>\", raw=True)\n",
    "print(classification_report(y_test, ctrl_pred))\n",
    "display_html(\"<b>\"+'Best Classifier'+\"<b>\", raw=True)\n",
    "print(classification_report(y_test, best_pred))"
   ]
  },
  {
   "cell_type": "code",
   "execution_count": 9,
   "metadata": {
    "collapsed": false
   },
   "outputs": [
    {
     "data": {
      "text/html": [
       "<b>Control Classifier<b>"
      ]
     },
     "metadata": {},
     "output_type": "display_data"
    },
    {
     "name": "stdout",
     "output_type": "stream",
     "text": [
      "Top Positive\n",
      "paulie ([  0.0572581   11.62001835]) edie ([ 0.          9.50310828]) antwone ([ 0.          7.72889767]) matthau ([  0.78248313  13.0938614 ]) goldsworthy ([ 0.          6.79732636]) din ([ 0.          6.77401576]) victoria ([  1.0431436   13.36768916]) wonderfully ([  2.47759161  22.57390329]) felix ([ 0.48385479  9.01038775]) gundam ([ 0.19220119  7.0279382 ])\n",
      "\n",
      "Top Negative\n",
      "waste ([ 101.13224211    5.46404149]) worst ([ 145.77726278   10.81685456]) pointless ([ 34.66318443   2.24914225]) seagal ([ 13.48847522   0.32485711]) boll ([ 10.67268495   0.0988785 ]) unfunny ([ 21.58484167   1.14247772]) awful ([ 97.85823623   8.45586203]) mst3k ([ 15.01247428   0.64075814]) unwatchable ([ 10.95370109   0.24189979]) stinker ([ 10.64923928   0.23665215])\n"
     ]
    },
    {
     "data": {
      "text/html": [
       "<b>Best Classifier<b>"
      ]
     },
     "metadata": {},
     "output_type": "display_data"
    },
    {
     "name": "stdout",
     "output_type": "stream",
     "text": [
      "Top Positive\n",
      "excellent ([  0.07525664  44.08587616]) loved ([  0.1894908   34.81873429]) brilliant ([  0.5481619   25.89177485]) favorite ([  0.89055179  29.45083015]) hilarious ([  0.32490682  19.22362427]) amazing ([  1.21260596  32.68346123]) perfect ([  1.16516805  29.72362818]) superb ([  0.60911931  21.78269361]) fantastic ([  0.58114279  21.13017254]) enjoyed ([  1.35524852  30.07831145])\n",
      "\n",
      "Top Negative\n",
      "worst ([  6.04277448e+01   3.90292117e-02]) waste ([  4.94090446e+01   1.94051665e-02]) awful ([  4.26834020e+01   1.68592678e-02]) terrible ([  4.05262630e+01   2.46419575e-02]) boring ([ 39.51643935   0.16032589]) poor ([ 34.05288377   0.20743404]) stupid ([ 31.30264768   0.26987006]) worse ([ 33.61739681   0.37061076]) horrible ([ 32.60666396   0.72145048]) wasted ([ 18.49121213   0.        ])\n"
     ]
    }
   ],
   "source": [
    "best_weights = best_clf.get_weights()\n",
    "ctrl_weights = ctrl_clf.get_weights()\n",
    "\n",
    "best_ws = np.argsort(best_weights)\n",
    "ctrl_ws  = np.argsort(ctrl_weights)\n",
    "\n",
    "display_html(\"<b>\"+'Control Classifier'+\"<b>\", raw=True)\n",
    "\n",
    "print(\"Top Positive\")\n",
    "print(\" \".join([\"{} ({})\".format(feature_names[i], ctrl_clf.feature_count_[:,i])\n",
    "                for i in ctrl_ws[-10:][::-1]]))\n",
    "\n",
    "print(\"\\nTop Negative\")\n",
    "print(\" \".join([\"{} ({})\".format(feature_names[i], ctrl_clf.feature_count_[:,i])\n",
    "                for i in ctrl_ws[:10]]))\n",
    "\n",
    "display_html(\"<b>\"+'Best Classifier'+\"<b>\", raw=True)\n",
    "\n",
    "print(\"Top Positive\")\n",
    "print(\" \".join([\"{} ({})\".format(feature_names[i], best_clf.feature_count_[:,i])\n",
    "                for i in best_ws[-10:][::-1]]))\n",
    "\n",
    "print(\"\\nTop Negative\")\n",
    "print(\" \".join([\"{} ({})\".format(feature_names[i], best_clf.feature_count_[:,i])\n",
    "                for i in best_ws[:10]]))"
   ]
  },
  {
   "cell_type": "code",
   "execution_count": 10,
   "metadata": {
    "collapsed": false,
    "scrolled": false
   },
   "outputs": [
    {
     "data": {
      "text/html": [
       "<b>Probability Matrix<b>"
      ]
     },
     "metadata": {},
     "output_type": "display_data"
    },
    {
     "name": "stdout",
     "output_type": "stream",
     "text": [
      "[ 0.69030654  0.30969346]\n",
      "[ 0.17771334  0.82228666]\n"
     ]
    },
    {
     "data": {
      "text/html": [
       "<b>Control Classifier<b>"
      ]
     },
     "metadata": {},
     "output_type": "display_data"
    },
    {
     "data": {
      "text/html": [
       "<font size = 1, color=blue> First </font><font size = 1, color=blue> of </font><font size = 1, color=red> all </font><font size = 1, color=gray> I </font><font size = 1, color=red> have </font><font size = 1, color=red> to </font><font size = 1, color=red> say </font><font size = 1, color=red> that </font><font size = 1, color=gray> I'm </font><font size = 1, color=gray> a </font><font size = 1, color=red> huge </font><font size = 2, color=red> Lucio </font><font size = 3, color=red> Fulci </font><font size = 1, color=blue> and </font><font size = 1, color=blue> Dario </font><font size = 1, color=red> Argento </font><font size = 1, color=blue> fan. </font><font size = 1, color=blue> Although </font><font size = 1, color=gray> I </font><font size = 1, color=red> have </font><font size = 1, color=red> not </font><font size = 1, color=blue> seen </font><font size = 1, color=red> absolutely </font><font size = 1, color=red> all </font><font size = 1, color=blue> of </font><font size = 1, color=blue> their </font><font size = 1, color=red> movies, </font><font size = 1, color=gray> I </font><font size = 1, color=red> really </font><font size = 3, color=blue> enjoyed </font><font size = 1, color=red> almost </font><font size = 1, color=blue> every </font><font size = 1, color=red> one </font><font size = 1, color=gray> I </font><font size = 1, color=red> did </font><font size = 1, color=blue> see. </font><font size = 1, color=gray> I </font><font size = 1, color=red> really </font><font size = 1, color=red> like </font><font size = 1, color=gray> giallos </font><font size = 1, color=blue> and </font><font size = 1, color=gray> I </font><font size = 1, color=red> thought </font><font size = 1, color=red> Argento </font><font size = 1, color=red> was </font><font size = 1, color=blue> the </font><font size = 2, color=blue> master </font><font size = 1, color=blue> of </font><font size = 1, color=red> this </font><font size = 1, color=blue> genre, </font><font size = 1, color=red> after </font><font size = 1, color=blue> seeing </font><font size = 1, color=blue> films </font><font size = 1, color=red> like </font><font size = 1, color=gray> \"Tenebre\" </font><font size = 1, color=blue> and </font><font size = 1, color=red> \"Phenomena\". </font><font size = 1, color=red> But </font><font size = 1, color=red> after </font><font size = 1, color=gray> I </font><font size = 1, color=blue> saw </font><font size = 1, color=blue> \"New </font><font size = 2, color=blue> York </font><font size = 1, color=blue> Ripper\" </font><font size = 1, color=blue> by </font><font size = 3, color=red> Fulci, </font><font size = 1, color=gray> I </font><font size = 1, color=red> found </font><font size = 1, color=red> out </font><font size = 1, color=red> that </font><font size = 1, color=blue> he </font><font size = 2, color=red> could </font><font size = 1, color=red> do </font><font size = 1, color=red> pretty </font><font size = 1, color=blue> good </font><font size = 1, color=gray> giallos </font><font size = 1, color=red> besides </font><font size = 1, color=blue> his </font><font size = 1, color=blue> graphic </font><font size = 2, color=red> zombie </font><font size = 1, color=red> movies </font><font size = 1, color=blue> and </font><font size = 2, color=red> even </font><font size = 1, color=blue> outdo </font><font size = 1, color=red> Argento, </font><font size = 1, color=red> on </font><font size = 1, color=gray> a </font><font size = 1, color=blue> certain </font><font size = 1, color=red> level.<br </font><font size = 1, color=red> /><br </font><font size = 1, color=gray> />I </font><font size = 2, color=blue> love </font><font size = 3, color=red> Fulci's </font><font size = 1, color=blue> style, </font><font size = 1, color=blue> and </font><font size = 1, color=red> yes </font><font size = 1, color=gray> I </font><font size = 2, color=blue> love </font><font size = 3, color=red> gore, </font><font size = 1, color=red> but </font><font size = 1, color=red> this </font><font size = 1, color=blue> film </font><font size = 1, color=gray> I </font><font size = 1, color=blue> think, </font><font size = 1, color=blue> although </font><font size = 1, color=red> it </font><font size = 1, color=blue> has </font><font size = 1, color=gray> a </font><font size = 1, color=blue> more </font><font size = 1, color=blue> developed </font><font size = 2, color=red> plot </font><font size = 1, color=blue> and </font><font size = 1, color=red> characters </font><font size = 1, color=red> than </font><font size = 1, color=blue> his </font><font size = 1, color=blue> other </font><font size = 1, color=blue> films, </font><font size = 1, color=blue> is </font><font size = 1, color=red> not </font><font size = 1, color=blue> his </font><font size = 2, color=blue> best </font><font size = 1, color=red> one. </font><font size = 1, color=red> What </font><font size = 1, color=gray> I </font><font size = 2, color=red> don't </font><font size = 1, color=red> like </font><font size = 1, color=blue> is </font><font size = 1, color=red> that </font><font size = 1, color=red> it </font><font size = 1, color=red> can </font><font size = 1, color=red> be </font><font size = 2, color=red> confusing </font><font size = 1, color=red> at </font><font size = 1, color=blue> times, </font><font size = 2, color=blue> especially </font><font size = 1, color=red> at </font><font size = 1, color=blue> the </font><font size = 1, color=red> end. </font><font size = 1, color=blue> And </font><font size = 1, color=blue> the </font><font size = 1, color=red> fact </font><font size = 1, color=red> that </font><font size = 1, color=blue> we </font><font size = 1, color=red> go </font><font size = 1, color=blue> from </font><font size = 1, color=red> one </font><font size = 1, color=red> suspect, </font><font size = 1, color=red> to </font><font size = 1, color=red> another, </font><font size = 1, color=blue> and </font><font size = 1, color=red> then </font><font size = 1, color=red> another </font><font size = 1, color=blue> until </font><font size = 1, color=blue> we </font><font size = 2, color=red> even </font><font size = 1, color=red> suspect </font><font size = 1, color=blue> the </font><font size = 3, color=red> retarded </font><font size = 1, color=blue> little </font><font size = 1, color=red> girl </font><font size = 1, color=red> for </font><font size = 1, color=gray> a </font><font size = 1, color=blue> moment, </font><font size = 1, color=gray> I </font><font size = 1, color=blue> think </font><font size = 1, color=red> it </font><font size = 1, color=red> goes </font><font size = 1, color=red> too </font><font size = 1, color=red> far. </font><font size = 1, color=gray> I </font><font size = 1, color=red> know </font><font size = 1, color=gray> giallos </font><font size = 1, color=red> are </font><font size = 4, color=red> supposed </font><font size = 1, color=red> to </font><font size = 1, color=blue> keep </font><font size = 1, color=red> you </font><font size = 1, color=blue> guessing </font><font size = 1, color=blue> until </font><font size = 1, color=blue> the </font><font size = 1, color=red> end, </font><font size = 1, color=blue> and </font><font size = 1, color=blue> the </font><font size = 2, color=red> killer </font><font size = 1, color=red> should </font><font size = 1, color=red> be </font><font size = 1, color=blue> very </font><font size = 1, color=red> hard </font><font size = 1, color=red> to </font><font size = 1, color=blue> find, </font><font size = 1, color=red> but </font><font size = 1, color=red> this </font><font size = 1, color=blue> film </font><font size = 2, color=blue> plays </font><font size = 1, color=gray> a </font><font size = 1, color=blue> little </font><font size = 1, color=red> too </font><font size = 1, color=red> much </font><font size = 1, color=blue> with </font><font size = 1, color=blue> our </font><font size = 1, color=red> minds. </font><font size = 1, color=red> However </font><font size = 1, color=gray> I </font><font size = 1, color=red> did </font><font size = 1, color=red> like </font><font size = 1, color=blue> the </font><font size = 1, color=red> scene </font><font size = 1, color=blue> when </font><font size = 1, color=blue> the </font><font size = 1, color=blue> witch </font><font size = 1, color=blue> is </font><font size = 2, color=red> killed, </font><font size = 1, color=gray> I </font><font size = 1, color=blue> think </font><font size = 1, color=red> it </font><font size = 1, color=blue> is </font><font size = 1, color=blue> very </font><font size = 2, color=blue> well </font><font size = 1, color=blue> done </font><font size = 1, color=blue> and </font><font size = 1, color=red> gave </font><font size = 1, color=red> me </font><font size = 1, color=blue> the </font><font size = 2, color=blue> chills. </font><font size = 1, color=blue> The </font><font size = 2, color=red> acting </font><font size = 1, color=blue> is </font><font size = 2, color=blue> also </font><font size = 1, color=red> pretty </font><font size = 1, color=blue> good </font><font size = 1, color=blue> and </font><font size = 1, color=blue> the </font><font size = 1, color=blue> photography </font><font size = 1, color=blue> is </font><font size = 3, color=blue> great.<br </font><font size = 1, color=red> /><br </font><font size = 1, color=blue> />Although </font><font size = 1, color=red> this </font><font size = 1, color=blue> is </font><font size = 1, color=red> not </font><font size = 1, color=gray> a </font><font size = 4, color=red> bad </font><font size = 1, color=blue> film, </font><font size = 1, color=gray> I </font><font size = 1, color=blue> think </font><font size = 2, color=red> Lucio </font><font size = 3, color=red> Fulci </font><font size = 1, color=blue> has </font><font size = 1, color=red> made </font><font size = 2, color=red> better </font><font size = 1, color=blue> films </font><font size = 1, color=red> than </font><font size = 1, color=red> this, </font><font size = 1, color=blue> and </font><font size = 1, color=gray> I </font><font size = 1, color=blue> think </font><font size = 1, color=blue> his </font><font size = 2, color=blue> best </font><font size = 1, color=red> one </font><font size = 1, color=blue> is </font><font size = 1, color=blue> \"The </font><font size = 1, color=red> Beyond\", </font><font size = 1, color=gray> a </font><font size = 1, color=blue> very </font><font size = 2, color=blue> different </font><font size = 1, color=red> movie </font><font size = 1, color=red> but </font><font size = 1, color=gray> a </font><font size = 1, color=blue> more </font><font size = 2, color=blue> atmospheric </font><font size = 1, color=blue> and </font><font size = 1, color=blue> visual </font><font size = 2, color=blue> experience.<br </font><font size = 1, color=red> /><br </font><font size = 1, color=gray> />I </font><font size = 1, color=red> give </font><font size = 2, color=red> \"Don't </font><font size = 3, color=red> torture </font><font size = 1, color=gray> a </font><font size = 1, color=blue> duckling\" </font><font size = 1, color=gray> a </font><font size = 1, color=gray> 7 </font><font size = 1, color=red> out </font><font size = 1, color=blue> of </font><font size = 1, color=blue> 10.<br </font><font size = 1, color=red> /><br </font><font size = 1, color=gray> /> </font>"
      ],
      "text/plain": [
       "<utils.ColoredWeightedDoc at 0x7fc8bf872c88>"
      ]
     },
     "metadata": {},
     "output_type": "display_data"
    },
    {
     "data": {
      "text/html": [
       "<b>Best Classifier<b>"
      ]
     },
     "metadata": {},
     "output_type": "display_data"
    },
    {
     "data": {
      "text/html": [
       "<font size = 1, color=blue> First </font><font size = 1, color=blue> of </font><font size = 1, color=blue> all </font><font size = 1, color=gray> I </font><font size = 1, color=red> have </font><font size = 1, color=red> to </font><font size = 1, color=red> say </font><font size = 1, color=red> that </font><font size = 1, color=gray> I'm </font><font size = 1, color=gray> a </font><font size = 1, color=red> huge </font><font size = 2, color=blue> Lucio </font><font size = 2, color=blue> Fulci </font><font size = 1, color=blue> and </font><font size = 1, color=blue> Dario </font><font size = 2, color=blue> Argento </font><font size = 1, color=blue> fan. </font><font size = 1, color=blue> Although </font><font size = 1, color=gray> I </font><font size = 1, color=red> have </font><font size = 1, color=red> not </font><font size = 1, color=blue> seen </font><font size = 1, color=red> absolutely </font><font size = 1, color=blue> all </font><font size = 1, color=blue> of </font><font size = 1, color=blue> their </font><font size = 1, color=blue> movies, </font><font size = 1, color=gray> I </font><font size = 1, color=blue> really </font><font size = 5, color=blue> enjoyed </font><font size = 1, color=red> almost </font><font size = 1, color=blue> every </font><font size = 1, color=blue> one </font><font size = 1, color=gray> I </font><font size = 1, color=red> did </font><font size = 1, color=blue> see. </font><font size = 1, color=gray> I </font><font size = 1, color=blue> really </font><font size = 1, color=red> like </font><font size = 1, color=gray> giallos </font><font size = 1, color=blue> and </font><font size = 1, color=gray> I </font><font size = 1, color=blue> thought </font><font size = 2, color=blue> Argento </font><font size = 1, color=red> was </font><font size = 1, color=blue> the </font><font size = 2, color=blue> master </font><font size = 1, color=blue> of </font><font size = 1, color=red> this </font><font size = 1, color=blue> genre, </font><font size = 1, color=red> after </font><font size = 1, color=blue> seeing </font><font size = 1, color=blue> films </font><font size = 1, color=red> like </font><font size = 1, color=gray> \"Tenebre\" </font><font size = 1, color=blue> and </font><font size = 1, color=blue> \"Phenomena\". </font><font size = 1, color=red> But </font><font size = 1, color=red> after </font><font size = 1, color=gray> I </font><font size = 1, color=blue> saw </font><font size = 1, color=blue> \"New </font><font size = 1, color=blue> York </font><font size = 1, color=red> Ripper\" </font><font size = 1, color=blue> by </font><font size = 2, color=blue> Fulci, </font><font size = 1, color=gray> I </font><font size = 1, color=blue> found </font><font size = 1, color=red> out </font><font size = 1, color=red> that </font><font size = 1, color=blue> he </font><font size = 2, color=red> could </font><font size = 1, color=red> do </font><font size = 1, color=red> pretty </font><font size = 1, color=blue> good </font><font size = 1, color=gray> giallos </font><font size = 1, color=blue> besides </font><font size = 1, color=blue> his </font><font size = 2, color=blue> graphic </font><font size = 2, color=red> zombie </font><font size = 1, color=blue> movies </font><font size = 1, color=blue> and </font><font size = 2, color=red> even </font><font size = 1, color=blue> outdo </font><font size = 2, color=blue> Argento, </font><font size = 1, color=red> on </font><font size = 1, color=gray> a </font><font size = 1, color=blue> certain </font><font size = 1, color=red> level.<br </font><font size = 1, color=red> /><br </font><font size = 1, color=gray> />I </font><font size = 2, color=blue> love </font><font size = 2, color=blue> Fulci's </font><font size = 1, color=blue> style, </font><font size = 1, color=blue> and </font><font size = 1, color=blue> yes </font><font size = 1, color=gray> I </font><font size = 2, color=blue> love </font><font size = 1, color=red> gore, </font><font size = 1, color=red> but </font><font size = 1, color=red> this </font><font size = 1, color=blue> film </font><font size = 1, color=gray> I </font><font size = 1, color=blue> think, </font><font size = 1, color=blue> although </font><font size = 1, color=blue> it </font><font size = 1, color=blue> has </font><font size = 1, color=gray> a </font><font size = 1, color=blue> more </font><font size = 1, color=red> developed </font><font size = 2, color=red> plot </font><font size = 1, color=blue> and </font><font size = 1, color=red> characters </font><font size = 1, color=red> than </font><font size = 1, color=blue> his </font><font size = 1, color=blue> other </font><font size = 1, color=blue> films, </font><font size = 1, color=blue> is </font><font size = 1, color=red> not </font><font size = 1, color=blue> his </font><font size = 2, color=blue> best </font><font size = 1, color=blue> one. </font><font size = 1, color=red> What </font><font size = 1, color=gray> I </font><font size = 1, color=red> don't </font><font size = 1, color=red> like </font><font size = 1, color=blue> is </font><font size = 1, color=red> that </font><font size = 1, color=blue> it </font><font size = 1, color=red> can </font><font size = 1, color=red> be </font><font size = 2, color=red> confusing </font><font size = 1, color=red> at </font><font size = 1, color=blue> times, </font><font size = 2, color=blue> especially </font><font size = 1, color=red> at </font><font size = 1, color=blue> the </font><font size = 1, color=red> end. </font><font size = 1, color=blue> And </font><font size = 1, color=blue> the </font><font size = 1, color=red> fact </font><font size = 1, color=red> that </font><font size = 1, color=blue> we </font><font size = 1, color=blue> go </font><font size = 1, color=blue> from </font><font size = 1, color=blue> one </font><font size = 1, color=red> suspect, </font><font size = 1, color=red> to </font><font size = 1, color=red> another, </font><font size = 1, color=blue> and </font><font size = 1, color=red> then </font><font size = 1, color=red> another </font><font size = 1, color=blue> until </font><font size = 1, color=blue> we </font><font size = 2, color=red> even </font><font size = 1, color=red> suspect </font><font size = 1, color=blue> the </font><font size = 2, color=red> retarded </font><font size = 1, color=blue> little </font><font size = 1, color=red> girl </font><font size = 1, color=blue> for </font><font size = 1, color=gray> a </font><font size = 1, color=blue> moment, </font><font size = 1, color=gray> I </font><font size = 1, color=blue> think </font><font size = 1, color=blue> it </font><font size = 1, color=red> goes </font><font size = 1, color=red> too </font><font size = 1, color=red> far. </font><font size = 1, color=gray> I </font><font size = 1, color=blue> know </font><font size = 1, color=gray> giallos </font><font size = 1, color=blue> are </font><font size = 5, color=red> supposed </font><font size = 1, color=red> to </font><font size = 1, color=blue> keep </font><font size = 1, color=blue> you </font><font size = 2, color=blue> guessing </font><font size = 1, color=blue> until </font><font size = 1, color=blue> the </font><font size = 1, color=red> end, </font><font size = 1, color=blue> and </font><font size = 1, color=blue> the </font><font size = 2, color=red> killer </font><font size = 1, color=red> should </font><font size = 1, color=red> be </font><font size = 1, color=blue> very </font><font size = 1, color=red> hard </font><font size = 1, color=red> to </font><font size = 1, color=blue> find, </font><font size = 1, color=red> but </font><font size = 1, color=red> this </font><font size = 1, color=blue> film </font><font size = 1, color=blue> plays </font><font size = 1, color=gray> a </font><font size = 1, color=blue> little </font><font size = 1, color=red> too </font><font size = 1, color=red> much </font><font size = 1, color=blue> with </font><font size = 2, color=blue> our </font><font size = 1, color=blue> minds. </font><font size = 1, color=red> However </font><font size = 1, color=gray> I </font><font size = 1, color=red> did </font><font size = 1, color=red> like </font><font size = 1, color=blue> the </font><font size = 1, color=red> scene </font><font size = 1, color=blue> when </font><font size = 1, color=blue> the </font><font size = 1, color=red> witch </font><font size = 1, color=blue> is </font><font size = 1, color=red> killed, </font><font size = 1, color=gray> I </font><font size = 1, color=blue> think </font><font size = 1, color=blue> it </font><font size = 1, color=blue> is </font><font size = 1, color=blue> very </font><font size = 2, color=blue> well </font><font size = 1, color=blue> done </font><font size = 1, color=blue> and </font><font size = 1, color=red> gave </font><font size = 1, color=blue> me </font><font size = 1, color=blue> the </font><font size = 2, color=blue> chills. </font><font size = 1, color=blue> The </font><font size = 2, color=red> acting </font><font size = 1, color=blue> is </font><font size = 1, color=blue> also </font><font size = 1, color=red> pretty </font><font size = 1, color=blue> good </font><font size = 1, color=blue> and </font><font size = 1, color=blue> the </font><font size = 1, color=blue> photography </font><font size = 1, color=blue> is </font><font size = 3, color=blue> great.<br </font><font size = 1, color=red> /><br </font><font size = 1, color=blue> />Although </font><font size = 1, color=red> this </font><font size = 1, color=blue> is </font><font size = 1, color=red> not </font><font size = 1, color=gray> a </font><font size = 4, color=red> bad </font><font size = 1, color=blue> film, </font><font size = 1, color=gray> I </font><font size = 1, color=blue> think </font><font size = 2, color=blue> Lucio </font><font size = 2, color=blue> Fulci </font><font size = 1, color=blue> has </font><font size = 1, color=red> made </font><font size = 1, color=red> better </font><font size = 1, color=blue> films </font><font size = 1, color=red> than </font><font size = 1, color=red> this, </font><font size = 1, color=blue> and </font><font size = 1, color=gray> I </font><font size = 1, color=blue> think </font><font size = 1, color=blue> his </font><font size = 2, color=blue> best </font><font size = 1, color=blue> one </font><font size = 1, color=blue> is </font><font size = 1, color=blue> \"The </font><font size = 1, color=red> Beyond\", </font><font size = 1, color=gray> a </font><font size = 1, color=blue> very </font><font size = 2, color=blue> different </font><font size = 1, color=red> movie </font><font size = 1, color=red> but </font><font size = 1, color=gray> a </font><font size = 1, color=blue> more </font><font size = 2, color=blue> atmospheric </font><font size = 1, color=blue> and </font><font size = 1, color=blue> visual </font><font size = 2, color=blue> experience.<br </font><font size = 1, color=red> /><br </font><font size = 1, color=gray> />I </font><font size = 1, color=red> give </font><font size = 1, color=red> \"Don't </font><font size = 1, color=red> torture </font><font size = 1, color=gray> a </font><font size = 1, color=blue> duckling\" </font><font size = 1, color=gray> a </font><font size = 1, color=gray> 7 </font><font size = 1, color=red> out </font><font size = 1, color=blue> of </font><font size = 1, color=blue> 10.<br </font><font size = 1, color=red> /><br </font><font size = 1, color=gray> /> </font>"
      ],
      "text/plain": [
       "<utils.ColoredWeightedDoc at 0x7fc8bf872be0>"
      ]
     },
     "metadata": {},
     "output_type": "display_data"
    }
   ],
   "source": [
    "x = ctrl_clf.predict_proba(X_test) - best_clf.predict_proba(X_test)\n",
    "x = np.absolute(x[:,0])\n",
    "inds = np.argsort(x)\n",
    "i = inds[-1]\n",
    "\n",
    "display_html(\"<b>\"+'Probability Matrix'+\"<b>\", raw=True)\n",
    "print(ctrl_clf.predict_proba(X_test)[i]) \n",
    "print(best_clf.predict_proba(X_test)[i])\n",
    "display_html(\"<b>\"+'Control Classifier'+\"<b>\", raw=True)\n",
    "display(ColoredWeightedDoc(test_corpus[i], feature_names, ctrl_clf.get_weights()))\n",
    "display_html(\"<b>\"+'Best Classifier'+\"<b>\", raw=True)\n",
    "display(ColoredWeightedDoc(test_corpus[i], feature_names, best_clf.get_weights()))"
   ]
  }
 ],
 "metadata": {
  "kernelspec": {
   "display_name": "Python 3",
   "language": "python",
   "name": "python3"
  },
  "language_info": {
   "codemirror_mode": {
    "name": "ipython",
    "version": 3
   },
   "file_extension": ".py",
   "mimetype": "text/x-python",
   "name": "python",
   "nbconvert_exporter": "python",
   "pygments_lexer": "ipython3",
   "version": "3.5.1"
  }
 },
 "nbformat": 4,
 "nbformat_minor": 0
}
