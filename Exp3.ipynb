{
 "cells": [
  {
   "cell_type": "markdown",
   "metadata": {},
   "source": [
    "# Experiment 2 Results"
   ]
  },
  {
   "cell_type": "code",
   "execution_count": 1,
   "metadata": {
    "collapsed": true
   },
   "outputs": [],
   "source": [
    "from pickle import load\n",
    "from utils import ce_squared, load_imdb, ColoredWeightedDoc\n",
    "from IPython.display import display, display_html\n",
    "from sklearn.feature_extraction.text import CountVectorizer\n",
    "from sklearn.metrics import classification_report, confusion_matrix\n",
    "from time import time\n",
    "import numpy as np"
   ]
  },
  {
   "cell_type": "markdown",
   "metadata": {},
   "source": [
    "## Load Data"
   ]
  },
  {
   "cell_type": "code",
   "execution_count": 2,
   "metadata": {
    "collapsed": false
   },
   "outputs": [
    {
     "name": "stdout",
     "output_type": "stream",
     "text": [
      "Loading the imdb reviews data\n",
      "Data loaded.\n",
      "Extracting features from the training dataset using a sparse vectorizer\n",
      "Feature extraction technique is CountVectorizer(analyzer='word', binary=False, decode_error='strict',\n",
      "        dtype=<class 'numpy.int64'>, encoding='utf-8', input='content',\n",
      "        lowercase=True, max_df=1.0, max_features=None, min_df=5,\n",
      "        ngram_range=(1, 1), preprocessor=None, stop_words=None,\n",
      "        strip_accents=None, token_pattern='(?u)\\\\b\\\\w\\\\w+\\\\b',\n",
      "        tokenizer=None, vocabulary=None).\n",
      "done in 5.228532552719116s\n",
      "(25000, 27272)\n",
      "n_samples: 25000, n_features: 27272 \n",
      "\n",
      "Extracting features from the test dataset using the same vectorizer\n",
      "done in 5.012840747833252s\n",
      "n_samples: 25000, n_features: 27272 \n",
      "\n",
      "Loading took 20.85s.\n",
      "\n"
     ]
    }
   ],
   "source": [
    "t0 = time()\n",
    "\n",
    "vect = CountVectorizer(min_df=5, max_df=1.0, binary=False, ngram_range=(1, 1))\n",
    "\n",
    "X_train, y_train, X_test, y_test, train_corpus, test_corpus = load_imdb(\"./aclImdb\", shuffle=True, vectorizer=vect)\n",
    "\n",
    "feature_names = vect.get_feature_names()\n",
    "y_test_na = y_test[:, np.newaxis]\n",
    "y_test_na = np.append(y_test_na, 1-y_test_na, axis=1)\n",
    "y_modified = np.copy(y_train)\n",
    "\n",
    "\n",
    "duration = time() - t0\n",
    "\n",
    "print(\"Loading took {:0.2f}s.\\n\".format(duration))"
   ]
  },
  {
   "cell_type": "code",
   "execution_count": 3,
   "metadata": {
    "collapsed": true
   },
   "outputs": [],
   "source": [
    "with open('clf2.arch', 'rb') as f:\n",
    "    clf_arch = load(f)"
   ]
  },
  {
   "cell_type": "code",
   "execution_count": 4,
   "metadata": {
    "collapsed": false
   },
   "outputs": [
    {
     "name": "stdout",
     "output_type": "stream",
     "text": [
      "<class 'classifiers.TransparentMultinomialNB'> \n",
      "\n",
      "[1, 2, 3, 4, 5, 6, 7, 8, 9, 10, 11] \n",
      "\n",
      "CountVectorizer(analyzer='word', binary=False, decode_error='strict',\n",
      "        dtype=<class 'numpy.int64'>, encoding='utf-8', input='content',\n",
      "        lowercase=True, max_df=1.0, max_features=None, min_df=5,\n",
      "        ngram_range=(1, 1), preprocessor=None, stop_words=None,\n",
      "        strip_accents=None, token_pattern='(?u)\\\\b\\\\w\\\\w+\\\\b',\n",
      "        tokenizer=None, vocabulary=None)\n"
     ]
    }
   ],
   "source": [
    "clf_arch.stats()"
   ]
  },
  {
   "cell_type": "code",
   "execution_count": 5,
   "metadata": {
    "collapsed": false
   },
   "outputs": [],
   "source": [
    "# Loading the last classifier in the archive\n",
    "ctrl_clf = clf_arch.ctrl_clf\n",
    "best_clf = clf_arch.classifiers[-1]\n",
    "train_indices_set = set(clf_arch.train_indices[-1])\n",
    "train_indices = clf_arch.train_indices[-1]\n",
    "y_modified = np.copy(clf_arch.modified_labels[-1])\n",
    "round_tag = clf_arch.round_tags[-1] + 1 "
   ]
  },
  {
   "cell_type": "markdown",
   "metadata": {},
   "source": [
    "## Visualizations"
   ]
  },
  {
   "cell_type": "code",
   "execution_count": 6,
   "metadata": {
    "collapsed": false,
    "scrolled": true
   },
   "outputs": [
    {
     "name": "stdout",
     "output_type": "stream",
     "text": [
      "Number of samples used : 17280\n",
      "Number of labels modified: 5764\n"
     ]
    }
   ],
   "source": [
    "print('Number of samples used :', len(train_indices))\n",
    "changed_labels = np.array(list(filter(lambda x: x[0]!=x[1], zip(y_modified[train_indices], y_train[train_indices]))))\n",
    "print('Number of labels modified:', len(changed_labels))"
   ]
  },
  {
   "cell_type": "code",
   "execution_count": 7,
   "metadata": {
    "collapsed": false,
    "scrolled": true
   },
   "outputs": [
    {
     "name": "stdout",
     "output_type": "stream",
     "text": [
      "1 to 0 : 2959\n",
      "0 to 1 : 2805\n"
     ]
    }
   ],
   "source": [
    "changes = changed_labels[:,0] - changed_labels[:,1]\n",
    "print('1 to 0 :', len(list(filter(lambda x: x<0, changes))))\n",
    "print('0 to 1 :', len(list(filter(lambda x: x>0, changes))))"
   ]
  },
  {
   "cell_type": "code",
   "execution_count": 8,
   "metadata": {
    "collapsed": false
   },
   "outputs": [
    {
     "data": {
      "text/html": [
       "<b>Control Classifier<b>"
      ]
     },
     "metadata": {},
     "output_type": "display_data"
    },
    {
     "name": "stdout",
     "output_type": "stream",
     "text": [
      "             precision    recall  f1-score   support\n",
      "\n",
      "          0       0.78      0.88      0.83     12500\n",
      "          1       0.86      0.75      0.80     12500\n",
      "\n",
      "avg / total       0.82      0.82      0.82     25000\n",
      "\n"
     ]
    },
    {
     "data": {
      "text/html": [
       "<b>Best Classifier<b>"
      ]
     },
     "metadata": {},
     "output_type": "display_data"
    },
    {
     "name": "stdout",
     "output_type": "stream",
     "text": [
      "             precision    recall  f1-score   support\n",
      "\n",
      "          0       0.99      0.99      0.99     12500\n",
      "          1       0.99      0.99      0.99     12500\n",
      "\n",
      "avg / total       0.99      0.99      0.99     25000\n",
      "\n"
     ]
    }
   ],
   "source": [
    "best_pred = best_clf.predict(X_test)\n",
    "ctrl_pred = ctrl_clf.predict(X_test)\n",
    "display_html(\"<b>\"+'Control Classifier'+\"<b>\", raw=True)\n",
    "print(classification_report(y_test, ctrl_pred))\n",
    "display_html(\"<b>\"+'Best Classifier'+\"<b>\", raw=True)\n",
    "print(classification_report(y_test, best_pred))"
   ]
  },
  {
   "cell_type": "code",
   "execution_count": 9,
   "metadata": {
    "collapsed": false
   },
   "outputs": [
    {
     "data": {
      "text/html": [
       "<b>Control Classifier<b>"
      ]
     },
     "metadata": {},
     "output_type": "display_data"
    },
    {
     "name": "stdout",
     "output_type": "stream",
     "text": [
      "Top Positive\n",
      "edie ([   0.  109.]) antwone ([  0.  88.]) din ([  0.  82.]) gunga ([  0.  66.]) goldsworthy ([  0.  65.]) gypo ([  0.  60.]) yokai ([  0.  60.]) paulie ([   1.  118.]) flavia ([  0.  51.]) visconti ([  0.  51.])\n",
      "\n",
      "Top Negative\n",
      "boll ([ 143.    1.]) uwe ([ 101.    1.]) slater ([ 49.   0.]) tashan ([ 45.   0.]) hobgoblins ([ 45.   0.]) kareena ([ 41.   0.]) kornbluth ([ 39.   0.]) sarne ([ 37.   0.]) gram ([ 37.   0.]) delia ([ 36.   0.])\n"
     ]
    },
    {
     "data": {
      "text/html": [
       "<b>Best Classifier<b>"
      ]
     },
     "metadata": {},
     "output_type": "display_data"
    },
    {
     "name": "stdout",
     "output_type": "stream",
     "text": [
      "Top Positive\n",
      "tintin ([  0.  23.]) veronika ([  0.  22.]) ae ([  0.  21.]) eustache ([  0.  20.]) khouri ([  1.  32.]) santos ([  0.  15.]) sg ([  0.  13.]) melts ([  0.  13.]) reiser ([  1.  26.]) fessenden ([  0.  11.])\n",
      "\n",
      "Top Negative\n",
      "grendel ([ 19.   0.]) shearer ([ 18.   0.]) plods ([ 17.   0.]) lewton ([ 15.   0.]) chomsky ([ 15.   0.]) grams ([ 15.   0.]) nixon ([ 14.   0.]) saddled ([ 14.   0.]) grieco ([ 13.   0.]) ayers ([ 13.   0.])\n"
     ]
    }
   ],
   "source": [
    "best_weights = best_clf.get_weights()\n",
    "ctrl_weights = ctrl_clf.get_weights()\n",
    "\n",
    "best_ws = np.argsort(best_weights)\n",
    "ctrl_ws  = np.argsort(ctrl_weights)\n",
    "\n",
    "display_html(\"<b>\"+'Control Classifier'+\"<b>\", raw=True)\n",
    "\n",
    "print(\"Top Positive\")\n",
    "print(\" \".join([\"{} ({})\".format(feature_names[i], ctrl_clf.feature_count_[:,i])\n",
    "                for i in ctrl_ws[-10:][::-1]]))\n",
    "\n",
    "print(\"\\nTop Negative\")\n",
    "print(\" \".join([\"{} ({})\".format(feature_names[i], ctrl_clf.feature_count_[:,i])\n",
    "                for i in ctrl_ws[:10]]))\n",
    "\n",
    "display_html(\"<b>\"+'Best Classifier'+\"<b>\", raw=True)\n",
    "\n",
    "print(\"Top Positive\")\n",
    "print(\" \".join([\"{} ({})\".format(feature_names[i], best_clf.feature_count_[:,i])\n",
    "                for i in best_ws[-10:][::-1]]))\n",
    "\n",
    "print(\"\\nTop Negative\")\n",
    "print(\" \".join([\"{} ({})\".format(feature_names[i], best_clf.feature_count_[:,i])\n",
    "                for i in best_ws[:10]]))"
   ]
  },
  {
   "cell_type": "code",
   "execution_count": 10,
   "metadata": {
    "collapsed": false,
    "scrolled": false
   },
   "outputs": [
    {
     "data": {
      "text/html": [
       "<b>Probability Matrix<b>"
      ]
     },
     "metadata": {},
     "output_type": "display_data"
    },
    {
     "name": "stdout",
     "output_type": "stream",
     "text": [
      "[  2.57471196e-11   1.00000000e+00]\n",
      "[  1.00000000e+00   8.71361573e-11]\n"
     ]
    },
    {
     "data": {
      "text/html": [
       "<b>Control Classifier<b>"
      ]
     },
     "metadata": {},
     "output_type": "display_data"
    },
    {
     "data": {
      "text/html": [
       "<font size = 1, color=blue> Macbeth </font><font size = 1, color=blue> is </font><font size = 1, color=blue> one </font><font size = 1, color=blue> of </font><font size = 1, color=blue> the </font><font size = 1, color=blue> most </font><font size = 1, color=blue> frequently </font><font size = 1, color=blue> told </font><font size = 1, color=blue> stories </font><font size = 1, color=blue> in </font><font size = 1, color=blue> cinema </font><font size = 1, color=blue> and </font><font size = 1, color=blue> has </font><font size = 1, color=red> been </font><font size = 1, color=blue> translated </font><font size = 1, color=blue> many </font><font size = 1, color=blue> times </font><font size = 1, color=blue> in </font><font size = 1, color=blue> numerous </font><font size = 1, color=red> theater </font><font size = 1, color=blue> and </font><font size = 2, color=red> celluloid </font><font size = 1, color=blue> settings. </font><font size = 1, color=blue> Originally </font><font size = 1, color=red> written </font><font size = 1, color=blue> by </font><font size = 1, color=blue> William </font><font size = 1, color=blue> Shakespeare </font><font size = 1, color=blue> in </font><font size = 1, color=blue> the </font><font size = 1, color=blue> early </font><font size = 1, color=red> 1600's, </font><font size = 1, color=blue> Macbeth </font><font size = 1, color=blue> tells </font><font size = 1, color=blue> the </font><font size = 1, color=blue> story </font><font size = 1, color=blue> of </font><font size = 1, color=blue> betrayal </font><font size = 1, color=blue> among </font><font size = 2, color=blue> royalty </font><font size = 1, color=blue> and </font><font size = 1, color=blue> one </font><font size = 1, color=blue> man's </font><font size = 1, color=blue> quest </font><font size = 1, color=red> for </font><font size = 1, color=blue> power. </font><font size = 1, color=red> Director </font><font size = 2, color=blue> Geoffrey </font><font size = 1, color=blue> Wright </font><font size = 1, color=gray> (Romper </font><font size = 1, color=gray> Stomper) </font><font size = 1, color=red> tries </font><font size = 1, color=blue> his </font><font size = 1, color=red> hand </font><font size = 1, color=red> at </font><font size = 1, color=red> updating </font><font size = 1, color=blue> Macbeth </font><font size = 1, color=blue> by </font><font size = 1, color=blue> setting </font><font size = 1, color=red> it </font><font size = 1, color=blue> in </font><font size = 1, color=blue> the </font><font size = 1, color=blue> contemporary </font><font size = 3, color=blue> Melbourne </font><font size = 1, color=blue> underworld. </font><font size = 1, color=gray> A </font><font size = 1, color=blue> film </font><font size = 1, color=red> where </font><font size = 1, color=blue> the </font><font size = 1, color=red> characters </font><font size = 1, color=red> substitute </font><font size = 1, color=red> swords </font><font size = 1, color=red> for </font><font size = 1, color=red> guns </font><font size = 1, color=red> (ala </font><font size = 1, color=gray> Baz </font><font size = 1, color=gray> Luhrman's </font><font size = 1, color=blue> Romeo </font><font size = 1, color=blue> and </font><font size = 1, color=blue> Juliet) </font><font size = 1, color=blue> and </font><font size = 1, color=blue> royal </font><font size = 1, color=gray> vassals </font><font size = 1, color=red> for </font><font size = 1, color=blue> gangsters, </font><font size = 1, color=blue> Macbeth </font><font size = 1, color=blue> is </font><font size = 1, color=gray> a </font><font size = 2, color=blue> gritty, </font><font size = 1, color=blue> violent, </font><font size = 1, color=red> but </font><font size = 1, color=blue> critically </font><font size = 1, color=blue> flawed </font><font size = 1, color=blue> film.<br </font><font size = 1, color=red> /><br </font><font size = 1, color=blue> />Macbeth </font><font size = 1, color=red> (Sam </font><font size = 1, color=gray> Worthington)works </font><font size = 1, color=red> for </font><font size = 1, color=blue> King </font><font size = 3, color=red> Duncan </font><font size = 1, color=blue> (Gary </font><font size = 2, color=blue> Sweet). </font><font size = 1, color=red> After </font><font size = 1, color=red> being </font><font size = 1, color=blue> elevated </font><font size = 1, color=red> to </font><font size = 1, color=blue> the </font><font size = 1, color=gray> Thane </font><font size = 1, color=blue> of </font><font size = 1, color=gray> Glamis </font><font size = 1, color=blue> by </font><font size = 1, color=blue> The </font><font size = 1, color=blue> King </font><font size = 1, color=blue> (as </font><font size = 1, color=red> was </font><font size = 1, color=gray> prophesied </font><font size = 1, color=red> to </font><font size = 1, color=blue> Macbeth </font><font size = 1, color=blue> by </font><font size = 1, color=blue> three </font><font size = 1, color=red> witches), </font><font size = 1, color=blue> Macbeth </font><font size = 1, color=red> starts </font><font size = 1, color=blue> setting </font><font size = 1, color=blue> his </font><font size = 1, color=blue> eyes </font><font size = 1, color=red> on </font><font size = 1, color=blue> the </font><font size = 2, color=blue> throne. </font><font size = 1, color=blue> One </font><font size = 1, color=red> night </font><font size = 1, color=blue> the </font><font size = 1, color=blue> King </font><font size = 1, color=blue> comes </font><font size = 1, color=red> to </font><font size = 1, color=red> stay </font><font size = 1, color=red> at </font><font size = 1, color=blue> Macbeth's </font><font size = 1, color=red> house </font><font size = 1, color=blue> and </font><font size = 1, color=blue> Lady </font><font size = 1, color=blue> Macbeth </font><font size = 4, color=blue> (Victoria </font><font size = 1, color=red> Hill) </font><font size = 1, color=red> talks </font><font size = 1, color=blue> him </font><font size = 1, color=red> into </font><font size = 1, color=red> killing </font><font size = 1, color=blue> The </font><font size = 1, color=blue> King </font><font size = 1, color=red> to </font><font size = 2, color=red> assume </font><font size = 1, color=blue> power. </font><font size = 1, color=blue> Macbeth </font><font size = 1, color=red> kills </font><font size = 1, color=blue> his </font><font size = 1, color=blue> master </font><font size = 1, color=blue> and </font><font size = 1, color=red> then </font><font size = 1, color=blue> assumes </font><font size = 1, color=blue> his </font><font size = 1, color=blue> crown. </font><font size = 1, color=red> But </font><font size = 1, color=blue> success </font><font size = 1, color=blue> has </font><font size = 1, color=red> it's </font><font size = 2, color=blue> downside, </font><font size = 1, color=blue> as </font><font size = 1, color=blue> Macbeth </font><font size = 1, color=blue> soon </font><font size = 1, color=blue> finds </font><font size = 1, color=red> out, </font><font size = 1, color=blue> when </font><font size = 1, color=blue> he </font><font size = 1, color=blue> has </font><font size = 1, color=red> to </font><font size = 1, color=red> go </font><font size = 1, color=red> to </font><font size = 3, color=red> hideous </font><font size = 1, color=red> lengths </font><font size = 1, color=red> to </font><font size = 1, color=blue> protect </font><font size = 1, color=blue> his </font><font size = 1, color=blue> murderous </font><font size = 1, color=blue> secret. </font><font size = 1, color=red> <br </font><font size = 1, color=red> /><br </font><font size = 2, color=red> />OK, </font><font size = 1, color=blue> first </font><font size = 1, color=red> things </font><font size = 1, color=blue> first. </font><font size = 1, color=blue> The </font><font size = 1, color=blue> film's </font><font size = 1, color=red> major </font><font size = 1, color=red> fault </font><font size = 1, color=blue> is </font><font size = 1, color=red> Sam </font><font size = 1, color=gray> Worthington. </font><font size = 1, color=blue> His </font><font size = 2, color=blue> portrayal </font><font size = 1, color=blue> of </font><font size = 1, color=blue> Macbeth </font><font size = 1, color=blue> is </font><font size = 1, color=blue> in </font><font size = 1, color=gray> a </font><font size = 1, color=red> word... </font><font size = 3, color=red> boring. </font><font size = 1, color=gray> I </font><font size = 2, color=red> honestly </font><font size = 1, color=red> didn't </font><font size = 1, color=red> care </font><font size = 1, color=red> about </font><font size = 1, color=blue> Macbeth </font><font size = 1, color=blue> while </font><font size = 1, color=red> watching </font><font size = 1, color=blue> the </font><font size = 1, color=blue> film. </font><font size = 1, color=gray> I </font><font size = 1, color=red> had </font><font size = 1, color=blue> more </font><font size = 1, color=red> sympathy </font><font size = 1, color=red> for </font><font size = 4, color=blue> Victoria </font><font size = 1, color=red> Hill's </font><font size = 1, color=blue> Lady </font><font size = 1, color=blue> Macbeth </font><font size = 1, color=red> because </font><font size = 1, color=blue> she </font><font size = 2, color=red> bothered </font><font size = 1, color=red> to </font><font size = 1, color=red> act </font><font size = 1, color=red> at </font><font size = 1, color=red> least. </font><font size = 1, color=gray> Worthington </font><font size = 1, color=red> sits </font><font size = 1, color=red> sullen </font><font size = 1, color=blue> and </font><font size = 1, color=red> wood </font><font size = 1, color=blue> faced </font><font size = 1, color=blue> throughout </font><font size = 1, color=blue> the </font><font size = 1, color=red> entire </font><font size = 1, color=blue> film. </font><font size = 1, color=gray> I </font><font size = 1, color=red> felt </font><font size = 1, color=red> like </font><font size = 1, color=blue> he </font><font size = 1, color=red> was </font><font size = 1, color=red> doing </font><font size = 1, color=blue> his </font><font size = 2, color=blue> best </font><font size = 1, color=red> impression </font><font size = 1, color=blue> of </font><font size = 1, color=blue> Johnny </font><font size = 1, color=blue> Deep's </font><font size = 1, color=blue> George </font><font size = 1, color=red> Jung </font><font size = 1, color=red> character </font><font size = 1, color=blue> from </font><font size = 1, color=red> Blow... </font><font size = 1, color=red> but </font><font size = 1, color=blue> without </font><font size = 1, color=blue> the </font><font size = 1, color=red> charisma. </font><font size = 1, color=gray> I </font><font size = 1, color=red> have </font><font size = 1, color=red> never </font><font size = 1, color=blue> seen </font><font size = 1, color=gray> Worthington </font><font size = 1, color=blue> in </font><font size = 1, color=gray> a </font><font size = 1, color=blue> film </font><font size = 1, color=red> before </font><font size = 1, color=red> so </font><font size = 1, color=gray> I'm </font><font size = 1, color=red> not </font><font size = 1, color=red> sure </font><font size = 1, color=red> if </font><font size = 1, color=red> it </font><font size = 1, color=red> was </font><font size = 1, color=blue> his </font><font size = 1, color=red> or </font><font size = 1, color=blue> the </font><font size = 1, color=red> Director's </font><font size = 1, color=red> fault, </font><font size = 1, color=red> but </font><font size = 1, color=red> either </font><font size = 1, color=red> way </font><font size = 1, color=blue> the </font><font size = 1, color=red> glue </font><font size = 1, color=red> that </font><font size = 1, color=red> should </font><font size = 1, color=red> have </font><font size = 1, color=red> tied </font><font size = 1, color=red> everything </font><font size = 1, color=blue> together </font><font size = 1, color=red> into </font><font size = 1, color=blue> one </font><font size = 1, color=blue> cohesive </font><font size = 1, color=red> unit </font><font size = 1, color=blue> is </font><font size = 2, color=red> weak.<br </font><font size = 1, color=red> /><br </font><font size = 1, color=blue> />The </font><font size = 1, color=red> dialog </font><font size = 1, color=blue> is </font><font size = 1, color=blue> good, </font><font size = 1, color=red> but </font><font size = 1, color=blue> when </font><font size = 2, color=blue> matched </font><font size = 1, color=red> up </font><font size = 1, color=red> to </font><font size = 1, color=blue> the </font><font size = 2, color=blue> Geoffrey </font><font size = 1, color=blue> Wright's </font><font size = 1, color=blue> Australian </font><font size = 1, color=blue> Gangster </font><font size = 1, color=blue> Motif </font><font size = 1, color=red> seems </font><font size = 1, color=gray> a </font><font size = 1, color=blue> bit </font><font size = 1, color=red> out </font><font size = 1, color=blue> of </font><font size = 1, color=blue> place. </font><font size = 1, color=gray> Frentically </font><font size = 1, color=blue> paced </font><font size = 1, color=blue> action </font><font size = 1, color=blue> sequences </font><font size = 1, color=blue> mixed </font><font size = 1, color=blue> with </font><font size = 1, color=red> long </font><font size = 1, color=gray> Shaksperian </font><font size = 1, color=blue> musings </font><font size = 2, color=blue> creates </font><font size = 1, color=red> pacing </font><font size = 1, color=blue> conflict </font><font size = 1, color=blue> within </font><font size = 1, color=blue> the </font><font size = 1, color=blue> film. </font><font size = 1, color=gray> I </font><font size = 1, color=red> understand </font><font size = 1, color=red> that </font><font size = 1, color=red> this </font><font size = 1, color=blue> is </font><font size = 1, color=blue> Macbeth </font><font size = 1, color=blue> and </font><font size = 1, color=red> that </font><font size = 1, color=blue> the </font><font size = 1, color=red> director </font><font size = 1, color=red> wanted </font><font size = 1, color=red> to </font><font size = 1, color=red> use </font><font size = 1, color=blue> the </font><font size = 1, color=red> original </font><font size = 1, color=red> dialog </font><font size = 1, color=red> intact. </font><font size = 1, color=red> But </font><font size = 1, color=red> hard, </font><font size = 1, color=red> fast </font><font size = 1, color=blue> action </font><font size = 1, color=red> scenes </font><font size = 1, color=blue> following </font><font size = 1, color=gray> a </font><font size = 1, color=blue> three </font><font size = 1, color=red> minute </font><font size = 1, color=red> soliloquy </font><font size = 2, color=blue> tends </font><font size = 1, color=red> to </font><font size = 1, color=red> get </font><font size = 3, color=red> annoying </font><font size = 1, color=red> if </font><font size = 1, color=red> not </font><font size = 1, color=gray> a </font><font size = 1, color=blue> bit </font><font size = 2, color=red> pretentious. </font><font size = 1, color=red> <br </font><font size = 1, color=red> /><br </font><font size = 1, color=blue> />The </font><font size = 1, color=red> camera-work </font><font size = 1, color=blue> is </font><font size = 2, color=blue> highly </font><font size = 1, color=blue> stylized, </font><font size = 1, color=blue> and </font><font size = 1, color=red> for </font><font size = 1, color=blue> the </font><font size = 1, color=blue> most </font><font size = 1, color=blue> part, </font><font size = 1, color=red> it </font><font size = 1, color=blue> works </font><font size = 1, color=blue> well. </font><font size = 1, color=blue> One </font><font size = 1, color=red> thing </font><font size = 1, color=red> that </font><font size = 1, color=gray> I </font><font size = 1, color=blue> found </font><font size = 3, color=red> annoying </font><font size = 1, color=red> was </font><font size = 1, color=red> how </font><font size = 1, color=blue> the </font><font size = 1, color=red> camera </font><font size = 1, color=red> would </font><font size = 1, color=blue> slowly </font><font size = 1, color=gray> jostle </font><font size = 1, color=blue> back </font><font size = 1, color=blue> and </font><font size = 1, color=red> forth, </font><font size = 1, color=red> almost </font><font size = 1, color=blue> constantly. </font><font size = 1, color=gray> I </font><font size = 1, color=red> don't </font><font size = 1, color=red> mind </font><font size = 1, color=red> shots </font><font size = 1, color=red> like </font><font size = 1, color=red> that </font><font size = 1, color=red> it's </font><font size = 1, color=red> just </font><font size = 2, color=red> overdone. </font><font size = 1, color=red> It's </font><font size = 1, color=blue> passes </font><font size = 1, color=red> beyond </font><font size = 1, color=blue> the </font><font size = 1, color=blue> realm </font><font size = 1, color=blue> of </font><font size = 1, color=red> being </font><font size = 1, color=red> cool </font><font size = 1, color=blue> and </font><font size = 2, color=blue> stylish </font><font size = 1, color=blue> and </font><font size = 2, color=red> instead </font><font size = 1, color=blue> becomes </font><font size = 2, color=red> irritating. </font><font size = 1, color=blue> Other </font><font size = 1, color=red> than </font><font size = 1, color=red> that, </font><font size = 1, color=blue> the </font><font size = 1, color=blue> art </font><font size = 1, color=red> direction </font><font size = 1, color=blue> and </font><font size = 1, color=blue> cinematography </font><font size = 1, color=blue> is </font><font size = 1, color=red> fairly </font><font size = 1, color=blue> well-done. </font><font size = 1, color=red> <br </font><font size = 1, color=red> /><br </font><font size = 1, color=red> />For </font><font size = 1, color=red> all </font><font size = 1, color=blue> of </font><font size = 1, color=blue> the </font><font size = 1, color=blue> good </font><font size = 1, color=red> qualities </font><font size = 1, color=blue> Macbeth </font><font size = 1, color=blue> possesses; </font><font size = 2, color=blue> stylish </font><font size = 1, color=red> direction, </font><font size = 1, color=blue> Shakespearian </font><font size = 1, color=red> dialog, </font><font size = 1, color=gray> a </font><font size = 2, color=blue> strong </font><font size = 1, color=blue> soundtrack, </font><font size = 1, color=red> supernatural </font><font size = 1, color=red> nude </font><font size = 1, color=red> witches(the </font><font size = 1, color=red> weird </font><font size = 1, color=blue> sisters), </font><font size = 1, color=blue> and </font><font size = 1, color=blue> good </font><font size = 1, color=gray> helpings </font><font size = 1, color=blue> of </font><font size = 1, color=blue> brutal, </font><font size = 1, color=red> bloody </font><font size = 1, color=red> violence. </font><font size = 1, color=red> All </font><font size = 1, color=blue> of </font><font size = 1, color=red> these </font><font size = 2, color=blue> strengths </font><font size = 1, color=red> are </font><font size = 1, color=blue> forgotten </font><font size = 1, color=blue> when </font><font size = 1, color=blue> one </font><font size = 1, color=red> considers </font><font size = 1, color=red> Sam </font><font size = 1, color=gray> Worthington's </font><font size = 3, color=red> uninspired </font><font size = 2, color=blue> portrayal </font><font size = 1, color=blue> of </font><font size = 1, color=blue> Macbeth. </font><font size = 1, color=blue> The </font><font size = 1, color=blue> role </font><font size = 1, color=blue> of </font><font size = 1, color=blue> Macbeth </font><font size = 1, color=red> was </font><font size = 2, color=blue> essential </font><font size = 1, color=red> for </font><font size = 1, color=red> tying </font><font size = 1, color=red> everything </font><font size = 1, color=blue> together </font><font size = 1, color=blue> and </font><font size = 1, color=blue> in </font><font size = 1, color=red> this </font><font size = 1, color=blue> respect </font><font size = 2, color=blue> Geoffrey </font><font size = 1, color=blue> Wright </font><font size = 1, color=blue> and </font><font size = 1, color=red> Sam </font><font size = 1, color=gray> Worthington </font><font size = 2, color=red> failed </font><font size = 3, color=red> miserably, </font><font size = 1, color=red> making </font><font size = 1, color=blue> Macbeth </font><font size = 1, color=gray> a </font><font size = 3, color=red> forgettable </font><font size = 1, color=blue> foray </font><font size = 1, color=red> into </font><font size = 1, color=blue> Shakespeare. </font>"
      ],
      "text/plain": [
       "<utils.ColoredWeightedDoc at 0x7f9967ac6c50>"
      ]
     },
     "metadata": {},
     "output_type": "display_data"
    },
    {
     "data": {
      "text/html": [
       "<b>Best Classifier<b>"
      ]
     },
     "metadata": {},
     "output_type": "display_data"
    },
    {
     "data": {
      "text/html": [
       "<font size = 3, color=red> Macbeth </font><font size = 1, color=blue> is </font><font size = 1, color=blue> one </font><font size = 1, color=blue> of </font><font size = 1, color=red> the </font><font size = 1, color=blue> most </font><font size = 1, color=blue> frequently </font><font size = 1, color=red> told </font><font size = 1, color=red> stories </font><font size = 1, color=blue> in </font><font size = 1, color=red> cinema </font><font size = 1, color=blue> and </font><font size = 1, color=blue> has </font><font size = 1, color=red> been </font><font size = 1, color=blue> translated </font><font size = 1, color=blue> many </font><font size = 1, color=blue> times </font><font size = 1, color=blue> in </font><font size = 1, color=red> numerous </font><font size = 1, color=red> theater </font><font size = 1, color=blue> and </font><font size = 1, color=red> celluloid </font><font size = 1, color=blue> settings. </font><font size = 1, color=red> Originally </font><font size = 1, color=blue> written </font><font size = 1, color=red> by </font><font size = 1, color=blue> William </font><font size = 1, color=red> Shakespeare </font><font size = 1, color=blue> in </font><font size = 1, color=red> the </font><font size = 1, color=blue> early </font><font size = 1, color=red> 1600's, </font><font size = 3, color=red> Macbeth </font><font size = 1, color=blue> tells </font><font size = 1, color=red> the </font><font size = 1, color=blue> story </font><font size = 1, color=blue> of </font><font size = 1, color=blue> betrayal </font><font size = 1, color=blue> among </font><font size = 1, color=red> royalty </font><font size = 1, color=blue> and </font><font size = 1, color=blue> one </font><font size = 1, color=blue> man's </font><font size = 1, color=blue> quest </font><font size = 1, color=red> for </font><font size = 1, color=blue> power. </font><font size = 1, color=red> Director </font><font size = 1, color=blue> Geoffrey </font><font size = 1, color=blue> Wright </font><font size = 1, color=gray> (Romper </font><font size = 1, color=gray> Stomper) </font><font size = 1, color=red> tries </font><font size = 1, color=blue> his </font><font size = 1, color=red> hand </font><font size = 1, color=red> at </font><font size = 2, color=red> updating </font><font size = 3, color=red> Macbeth </font><font size = 1, color=red> by </font><font size = 1, color=red> setting </font><font size = 1, color=blue> it </font><font size = 1, color=blue> in </font><font size = 1, color=red> the </font><font size = 1, color=red> contemporary </font><font size = 1, color=red> Melbourne </font><font size = 1, color=red> underworld. </font><font size = 1, color=gray> A </font><font size = 1, color=red> film </font><font size = 1, color=blue> where </font><font size = 1, color=red> the </font><font size = 1, color=red> characters </font><font size = 1, color=red> substitute </font><font size = 1, color=red> swords </font><font size = 1, color=red> for </font><font size = 1, color=red> guns </font><font size = 2, color=red> (ala </font><font size = 1, color=gray> Baz </font><font size = 1, color=gray> Luhrman's </font><font size = 2, color=blue> Romeo </font><font size = 1, color=blue> and </font><font size = 2, color=blue> Juliet) </font><font size = 1, color=blue> and </font><font size = 1, color=red> royal </font><font size = 1, color=gray> vassals </font><font size = 1, color=red> for </font><font size = 1, color=red> gangsters, </font><font size = 3, color=red> Macbeth </font><font size = 1, color=blue> is </font><font size = 1, color=gray> a </font><font size = 2, color=blue> gritty, </font><font size = 1, color=blue> violent, </font><font size = 1, color=red> but </font><font size = 1, color=blue> critically </font><font size = 1, color=blue> flawed </font><font size = 1, color=red> film.<br </font><font size = 1, color=red> /><br </font><font size = 3, color=red> />Macbeth </font><font size = 1, color=blue> (Sam </font><font size = 1, color=gray> Worthington)works </font><font size = 1, color=red> for </font><font size = 1, color=blue> King </font><font size = 1, color=blue> Duncan </font><font size = 1, color=red> (Gary </font><font size = 2, color=blue> Sweet). </font><font size = 1, color=red> After </font><font size = 1, color=red> being </font><font size = 2, color=red> elevated </font><font size = 1, color=red> to </font><font size = 1, color=red> the </font><font size = 1, color=gray> Thane </font><font size = 1, color=blue> of </font><font size = 1, color=gray> Glamis </font><font size = 1, color=red> by </font><font size = 1, color=red> The </font><font size = 1, color=blue> King </font><font size = 1, color=blue> (as </font><font size = 1, color=red> was </font><font size = 1, color=gray> prophesied </font><font size = 1, color=red> to </font><font size = 3, color=red> Macbeth </font><font size = 1, color=red> by </font><font size = 1, color=red> three </font><font size = 1, color=red> witches), </font><font size = 3, color=red> Macbeth </font><font size = 1, color=red> starts </font><font size = 1, color=red> setting </font><font size = 1, color=blue> his </font><font size = 1, color=blue> eyes </font><font size = 1, color=red> on </font><font size = 1, color=red> the </font><font size = 1, color=red> throne. </font><font size = 1, color=blue> One </font><font size = 1, color=blue> night </font><font size = 1, color=red> the </font><font size = 1, color=blue> King </font><font size = 1, color=red> comes </font><font size = 1, color=red> to </font><font size = 1, color=red> stay </font><font size = 1, color=red> at </font><font size = 3, color=red> Macbeth's </font><font size = 1, color=blue> house </font><font size = 1, color=blue> and </font><font size = 1, color=red> Lady </font><font size = 3, color=red> Macbeth </font><font size = 1, color=blue> (Victoria </font><font size = 1, color=red> Hill) </font><font size = 1, color=red> talks </font><font size = 1, color=blue> him </font><font size = 1, color=red> into </font><font size = 1, color=red> killing </font><font size = 1, color=red> The </font><font size = 1, color=blue> King </font><font size = 1, color=red> to </font><font size = 1, color=red> assume </font><font size = 1, color=blue> power. </font><font size = 3, color=red> Macbeth </font><font size = 1, color=blue> kills </font><font size = 1, color=blue> his </font><font size = 1, color=blue> master </font><font size = 1, color=blue> and </font><font size = 1, color=red> then </font><font size = 1, color=blue> assumes </font><font size = 1, color=blue> his </font><font size = 1, color=red> crown. </font><font size = 1, color=red> But </font><font size = 1, color=blue> success </font><font size = 1, color=blue> has </font><font size = 1, color=blue> it's </font><font size = 2, color=blue> downside, </font><font size = 1, color=blue> as </font><font size = 3, color=red> Macbeth </font><font size = 1, color=blue> soon </font><font size = 1, color=blue> finds </font><font size = 1, color=red> out, </font><font size = 1, color=blue> when </font><font size = 1, color=blue> he </font><font size = 1, color=blue> has </font><font size = 1, color=red> to </font><font size = 1, color=blue> go </font><font size = 1, color=red> to </font><font size = 1, color=red> hideous </font><font size = 2, color=blue> lengths </font><font size = 1, color=red> to </font><font size = 1, color=blue> protect </font><font size = 1, color=blue> his </font><font size = 1, color=blue> murderous </font><font size = 1, color=blue> secret. </font><font size = 1, color=red> <br </font><font size = 1, color=red> /><br </font><font size = 1, color=red> />OK, </font><font size = 1, color=blue> first </font><font size = 1, color=blue> things </font><font size = 1, color=blue> first. </font><font size = 1, color=red> The </font><font size = 1, color=red> film's </font><font size = 1, color=red> major </font><font size = 1, color=red> fault </font><font size = 1, color=blue> is </font><font size = 1, color=blue> Sam </font><font size = 1, color=gray> Worthington. </font><font size = 1, color=blue> His </font><font size = 1, color=blue> portrayal </font><font size = 1, color=blue> of </font><font size = 3, color=red> Macbeth </font><font size = 1, color=blue> is </font><font size = 1, color=blue> in </font><font size = 1, color=gray> a </font><font size = 1, color=red> word... </font><font size = 2, color=red> boring. </font><font size = 1, color=gray> I </font><font size = 1, color=red> honestly </font><font size = 1, color=red> didn't </font><font size = 1, color=red> care </font><font size = 1, color=red> about </font><font size = 3, color=red> Macbeth </font><font size = 1, color=blue> while </font><font size = 1, color=red> watching </font><font size = 1, color=red> the </font><font size = 1, color=red> film. </font><font size = 1, color=gray> I </font><font size = 1, color=blue> had </font><font size = 1, color=blue> more </font><font size = 1, color=red> sympathy </font><font size = 1, color=red> for </font><font size = 1, color=blue> Victoria </font><font size = 1, color=red> Hill's </font><font size = 1, color=red> Lady </font><font size = 3, color=red> Macbeth </font><font size = 1, color=red> because </font><font size = 1, color=red> she </font><font size = 1, color=red> bothered </font><font size = 1, color=red> to </font><font size = 1, color=red> act </font><font size = 1, color=red> at </font><font size = 1, color=red> least. </font><font size = 1, color=gray> Worthington </font><font size = 1, color=red> sits </font><font size = 1, color=blue> sullen </font><font size = 1, color=blue> and </font><font size = 1, color=red> wood </font><font size = 1, color=blue> faced </font><font size = 1, color=blue> throughout </font><font size = 1, color=red> the </font><font size = 1, color=red> entire </font><font size = 1, color=red> film. </font><font size = 1, color=gray> I </font><font size = 1, color=red> felt </font><font size = 1, color=red> like </font><font size = 1, color=blue> he </font><font size = 1, color=red> was </font><font size = 1, color=red> doing </font><font size = 1, color=blue> his </font><font size = 1, color=blue> best </font><font size = 1, color=red> impression </font><font size = 1, color=blue> of </font><font size = 2, color=blue> Johnny </font><font size = 1, color=blue> Deep's </font><font size = 1, color=red> George </font><font size = 1, color=red> Jung </font><font size = 1, color=red> character </font><font size = 1, color=blue> from </font><font size = 1, color=red> Blow... </font><font size = 1, color=red> but </font><font size = 1, color=red> without </font><font size = 1, color=red> the </font><font size = 2, color=red> charisma. </font><font size = 1, color=gray> I </font><font size = 1, color=red> have </font><font size = 1, color=red> never </font><font size = 1, color=blue> seen </font><font size = 1, color=gray> Worthington </font><font size = 1, color=blue> in </font><font size = 1, color=gray> a </font><font size = 1, color=red> film </font><font size = 1, color=red> before </font><font size = 1, color=blue> so </font><font size = 1, color=gray> I'm </font><font size = 1, color=red> not </font><font size = 1, color=blue> sure </font><font size = 1, color=red> if </font><font size = 1, color=blue> it </font><font size = 1, color=red> was </font><font size = 1, color=blue> his </font><font size = 1, color=red> or </font><font size = 1, color=red> the </font><font size = 1, color=red> Director's </font><font size = 1, color=red> fault, </font><font size = 1, color=red> but </font><font size = 1, color=red> either </font><font size = 1, color=blue> way </font><font size = 1, color=red> the </font><font size = 4, color=blue> glue </font><font size = 1, color=blue> that </font><font size = 1, color=red> should </font><font size = 1, color=red> have </font><font size = 1, color=blue> tied </font><font size = 1, color=blue> everything </font><font size = 1, color=blue> together </font><font size = 1, color=red> into </font><font size = 1, color=blue> one </font><font size = 2, color=blue> cohesive </font><font size = 1, color=blue> unit </font><font size = 1, color=blue> is </font><font size = 2, color=red> weak.<br </font><font size = 1, color=red> /><br </font><font size = 1, color=red> />The </font><font size = 1, color=red> dialog </font><font size = 1, color=blue> is </font><font size = 1, color=blue> good, </font><font size = 1, color=red> but </font><font size = 1, color=blue> when </font><font size = 1, color=blue> matched </font><font size = 1, color=red> up </font><font size = 1, color=red> to </font><font size = 1, color=red> the </font><font size = 1, color=blue> Geoffrey </font><font size = 1, color=blue> Wright's </font><font size = 1, color=blue> Australian </font><font size = 1, color=red> Gangster </font><font size = 1, color=blue> Motif </font><font size = 1, color=red> seems </font><font size = 1, color=gray> a </font><font size = 1, color=blue> bit </font><font size = 1, color=red> out </font><font size = 1, color=blue> of </font><font size = 1, color=blue> place. </font><font size = 1, color=gray> Frentically </font><font size = 1, color=blue> paced </font><font size = 1, color=red> action </font><font size = 1, color=red> sequences </font><font size = 1, color=blue> mixed </font><font size = 1, color=blue> with </font><font size = 1, color=red> long </font><font size = 1, color=gray> Shaksperian </font><font size = 2, color=blue> musings </font><font size = 1, color=blue> creates </font><font size = 1, color=blue> pacing </font><font size = 1, color=blue> conflict </font><font size = 1, color=red> within </font><font size = 1, color=red> the </font><font size = 1, color=red> film. </font><font size = 1, color=gray> I </font><font size = 1, color=red> understand </font><font size = 1, color=blue> that </font><font size = 1, color=red> this </font><font size = 1, color=blue> is </font><font size = 3, color=red> Macbeth </font><font size = 1, color=blue> and </font><font size = 1, color=blue> that </font><font size = 1, color=red> the </font><font size = 1, color=red> director </font><font size = 1, color=red> wanted </font><font size = 1, color=red> to </font><font size = 1, color=red> use </font><font size = 1, color=red> the </font><font size = 1, color=red> original </font><font size = 1, color=red> dialog </font><font size = 1, color=red> intact. </font><font size = 1, color=red> But </font><font size = 1, color=red> hard, </font><font size = 1, color=red> fast </font><font size = 1, color=red> action </font><font size = 1, color=blue> scenes </font><font size = 1, color=blue> following </font><font size = 1, color=gray> a </font><font size = 1, color=red> three </font><font size = 1, color=red> minute </font><font size = 1, color=blue> soliloquy </font><font size = 2, color=blue> tends </font><font size = 1, color=red> to </font><font size = 1, color=red> get </font><font size = 2, color=red> annoying </font><font size = 1, color=red> if </font><font size = 1, color=red> not </font><font size = 1, color=gray> a </font><font size = 1, color=blue> bit </font><font size = 2, color=red> pretentious. </font><font size = 1, color=red> <br </font><font size = 1, color=red> /><br </font><font size = 1, color=red> />The </font><font size = 1, color=red> camera-work </font><font size = 1, color=blue> is </font><font size = 2, color=blue> highly </font><font size = 1, color=blue> stylized, </font><font size = 1, color=blue> and </font><font size = 1, color=red> for </font><font size = 1, color=red> the </font><font size = 1, color=blue> most </font><font size = 1, color=red> part, </font><font size = 1, color=blue> it </font><font size = 1, color=blue> works </font><font size = 1, color=blue> well. </font><font size = 1, color=blue> One </font><font size = 1, color=red> thing </font><font size = 1, color=blue> that </font><font size = 1, color=gray> I </font><font size = 1, color=blue> found </font><font size = 2, color=red> annoying </font><font size = 1, color=red> was </font><font size = 1, color=blue> how </font><font size = 1, color=red> the </font><font size = 1, color=red> camera </font><font size = 1, color=red> would </font><font size = 1, color=blue> slowly </font><font size = 1, color=gray> jostle </font><font size = 1, color=blue> back </font><font size = 1, color=blue> and </font><font size = 1, color=red> forth, </font><font size = 1, color=red> almost </font><font size = 1, color=blue> constantly. </font><font size = 1, color=gray> I </font><font size = 1, color=red> don't </font><font size = 1, color=blue> mind </font><font size = 1, color=red> shots </font><font size = 1, color=red> like </font><font size = 1, color=blue> that </font><font size = 1, color=blue> it's </font><font size = 1, color=red> just </font><font size = 1, color=blue> overdone. </font><font size = 1, color=blue> It's </font><font size = 1, color=red> passes </font><font size = 1, color=red> beyond </font><font size = 1, color=red> the </font><font size = 1, color=blue> realm </font><font size = 1, color=blue> of </font><font size = 1, color=red> being </font><font size = 1, color=blue> cool </font><font size = 1, color=blue> and </font><font size = 1, color=blue> stylish </font><font size = 1, color=blue> and </font><font size = 1, color=red> instead </font><font size = 1, color=red> becomes </font><font size = 2, color=red> irritating. </font><font size = 1, color=blue> Other </font><font size = 1, color=red> than </font><font size = 1, color=blue> that, </font><font size = 1, color=red> the </font><font size = 1, color=blue> art </font><font size = 1, color=red> direction </font><font size = 1, color=blue> and </font><font size = 1, color=blue> cinematography </font><font size = 1, color=blue> is </font><font size = 1, color=blue> fairly </font><font size = 1, color=blue> well-done. </font><font size = 1, color=red> <br </font><font size = 1, color=red> /><br </font><font size = 1, color=red> />For </font><font size = 1, color=blue> all </font><font size = 1, color=blue> of </font><font size = 1, color=red> the </font><font size = 1, color=blue> good </font><font size = 1, color=red> qualities </font><font size = 3, color=red> Macbeth </font><font size = 1, color=blue> possesses; </font><font size = 1, color=blue> stylish </font><font size = 1, color=red> direction, </font><font size = 1, color=red> Shakespearian </font><font size = 1, color=red> dialog, </font><font size = 1, color=gray> a </font><font size = 1, color=blue> strong </font><font size = 1, color=blue> soundtrack, </font><font size = 1, color=red> supernatural </font><font size = 1, color=red> nude </font><font size = 1, color=red> witches(the </font><font size = 1, color=red> weird </font><font size = 1, color=red> sisters), </font><font size = 1, color=blue> and </font><font size = 1, color=blue> good </font><font size = 1, color=gray> helpings </font><font size = 1, color=blue> of </font><font size = 1, color=blue> brutal, </font><font size = 1, color=red> bloody </font><font size = 1, color=blue> violence. </font><font size = 1, color=blue> All </font><font size = 1, color=blue> of </font><font size = 1, color=red> these </font><font size = 2, color=blue> strengths </font><font size = 1, color=blue> are </font><font size = 1, color=blue> forgotten </font><font size = 1, color=blue> when </font><font size = 1, color=blue> one </font><font size = 2, color=blue> considers </font><font size = 1, color=blue> Sam </font><font size = 1, color=gray> Worthington's </font><font size = 3, color=red> uninspired </font><font size = 1, color=blue> portrayal </font><font size = 1, color=blue> of </font><font size = 3, color=red> Macbeth. </font><font size = 1, color=red> The </font><font size = 1, color=blue> role </font><font size = 1, color=blue> of </font><font size = 3, color=red> Macbeth </font><font size = 1, color=red> was </font><font size = 1, color=blue> essential </font><font size = 1, color=red> for </font><font size = 1, color=red> tying </font><font size = 1, color=blue> everything </font><font size = 1, color=blue> together </font><font size = 1, color=blue> and </font><font size = 1, color=blue> in </font><font size = 1, color=red> this </font><font size = 1, color=blue> respect </font><font size = 1, color=blue> Geoffrey </font><font size = 1, color=blue> Wright </font><font size = 1, color=blue> and </font><font size = 1, color=blue> Sam </font><font size = 1, color=gray> Worthington </font><font size = 2, color=red> failed </font><font size = 2, color=red> miserably, </font><font size = 1, color=red> making </font><font size = 3, color=red> Macbeth </font><font size = 1, color=gray> a </font><font size = 3, color=red> forgettable </font><font size = 1, color=red> foray </font><font size = 1, color=red> into </font><font size = 1, color=red> Shakespeare. </font>"
      ],
      "text/plain": [
       "<utils.ColoredWeightedDoc at 0x7f9967ac6c50>"
      ]
     },
     "metadata": {},
     "output_type": "display_data"
    }
   ],
   "source": [
    "x = ctrl_clf.predict_proba(X_test) - best_clf.predict_proba(X_test)\n",
    "x = np.absolute(x[:,0])\n",
    "inds = np.argsort(x)\n",
    "i = inds[-1]\n",
    "\n",
    "display_html(\"<b>\"+'Probability Matrix'+\"<b>\", raw=True)\n",
    "print(ctrl_clf.predict_proba(X_test)[i]) \n",
    "print(best_clf.predict_proba(X_test)[i])\n",
    "display_html(\"<b>\"+'Control Classifier'+\"<b>\", raw=True)\n",
    "display(ColoredWeightedDoc(test_corpus[i], feature_names, ctrl_clf.get_weights()))\n",
    "display_html(\"<b>\"+'Best Classifier'+\"<b>\", raw=True)\n",
    "display(ColoredWeightedDoc(test_corpus[i], feature_names, best_clf.get_weights()))"
   ]
  }
 ],
 "metadata": {
  "kernelspec": {
   "display_name": "Python 3",
   "language": "python",
   "name": "python3"
  },
  "language_info": {
   "codemirror_mode": {
    "name": "ipython",
    "version": 3
   },
   "file_extension": ".py",
   "mimetype": "text/x-python",
   "name": "python",
   "nbconvert_exporter": "python",
   "pygments_lexer": "ipython3",
   "version": "3.5.1"
  }
 },
 "nbformat": 4,
 "nbformat_minor": 0
}
