{
 "cells": [
  {
   "cell_type": "code",
   "execution_count": 1,
   "metadata": {
    "collapsed": false
   },
   "outputs": [],
   "source": [
    "from classifiers import TransparentMultinomialNB\n",
    "from utils import ce_squared, load_imdb, ColoredWeightedDoc, TopInstances\n",
    "from sklearn.feature_extraction.text import CountVectorizer\n",
    "from IPython.display import display, display_html\n",
    "from time import time\n",
    "import numpy as np"
   ]
  },
  {
   "cell_type": "code",
   "execution_count": 2,
   "metadata": {
    "collapsed": false
   },
   "outputs": [
    {
     "name": "stdout",
     "output_type": "stream",
     "text": [
      "Loading the imdb reviews data\n",
      "Data loaded.\n",
      "Extracting features from the training dataset using a sparse vectorizer\n",
      "Feature extraction technique is CountVectorizer(analyzer='word', binary=False, decode_error='strict',\n",
      "        dtype=<class 'numpy.int64'>, encoding='utf-8', input='content',\n",
      "        lowercase=True, max_df=1.0, max_features=None, min_df=5,\n",
      "        ngram_range=(1, 1), preprocessor=None, stop_words=None,\n",
      "        strip_accents=None, token_pattern='(?u)\\\\b\\\\w\\\\w+\\\\b',\n",
      "        tokenizer=<function word_tokenize at 0x7f2083734510>,\n",
      "        vocabulary=None).\n",
      "done in 55.95361614227295s\n",
      "(25000, 29712)\n",
      "n_samples: 25000, n_features: 29712\n",
      "\n",
      "Extracting features from the test dataset using the same vectorizer\n",
      "done in 68.23144555091858s\n",
      "n_samples: 25000, n_features: 29712\n",
      "\n",
      "Loading took 125.88s.\n",
      "\n"
     ]
    }
   ],
   "source": [
    "t0 = time()\n",
    "\n",
    "vect = CountVectorizer(min_df=5, max_df=1.0, binary=False, ngram_range=(1, 1))\n",
    "\n",
    "X_train, y_train, X_test, y_test, train_corpus, test_corpus = load_imdb(\"./aclImdb\", shuffle=True, vectorizer=vect)\n",
    "\n",
    "feature_names = vect.get_feature_names()\n",
    "y_test_na = y_test[:, np.newaxis]\n",
    "y_test_na = np.append(y_test_na, 1-y_test_na, axis=1)\n",
    "y_modified = np.copy(y_train)\n",
    "\n",
    "\n",
    "duration = time() - t0\n",
    "\n",
    "print(\"Loading took {:0.2f}s.\\n\".format(duration))"
   ]
  },
  {
   "cell_type": "markdown",
   "metadata": {
    "collapsed": true
   },
   "source": [
    "# Experiment"
   ]
  },
  {
   "cell_type": "code",
   "execution_count": 3,
   "metadata": {
    "collapsed": false
   },
   "outputs": [
    {
     "name": "stdout",
     "output_type": "stream",
     "text": [
      "i = 10\tnew error = 0.49657\n",
      "i = 11\tnew error = 0.48198\n",
      "i = 12\tnew error = 0.46519\n",
      "i = 13\tnew error = 0.40152\n",
      "i = 14\tnew error = 0.36584\n",
      "i = 15\tnew error = 0.33211\n",
      "i = 135\tnew error = 0.33108\n",
      "i = 149\tnew error = 0.32845\n",
      "i = 245\tnew error = 0.32772\n",
      "i = 264\tnew error = 0.32399\n",
      "i = 279\tnew error = 0.32353\n",
      "i = 280\tnew error = 0.32138\n",
      "i = 294\tnew error = 0.31517\n",
      "i = 299\tnew error = 0.30909\n",
      "i = 310\tnew error = 0.30657\n",
      "i = 312\tnew error = 0.30560\n",
      "i = 316\tnew error = 0.29619\n",
      "i = 329\tnew error = 0.29400\n",
      "i = 331\tnew error = 0.29295\n",
      "i = 378\tnew error = 0.29249\n",
      "i = 408\tnew error = 0.29098\n",
      "i = 467\tnew error = 0.28877\n",
      "i = 525\tnew error = 0.28873\n",
      "i = 824\tnew error = 0.28630\n",
      "i = 882\tnew error = 0.28527\n"
     ]
    }
   ],
   "source": [
    "clf = TransparentMultinomialNB()\n",
    "train_indices = list(range(10))\n",
    "\n",
    "clf.fit(X_train[train_indices], y_train[train_indices])\n",
    "\n",
    "best_clf = clf\n",
    "current_error = ce_squared(y_test_na, clf.predict_proba(X_test))\n",
    "\n",
    "for i in range(10,1000):\n",
    "    train_indices.append(i)\n",
    "    \n",
    "    clf = TransparentMultinomialNB()\n",
    "    clf.fit(X_train[train_indices], y_modified[train_indices])        \n",
    "    y_error = ce_squared(y_test_na, clf.predict_proba(X_test))\n",
    "    \n",
    "    y_modified[i] = 1 - y_modified[i]\n",
    "    clf = TransparentMultinomialNB()\n",
    "    clf.fit(X_train[train_indices], y_modified[train_indices])  \n",
    "    y0_error = ce_squared(y_test_na, clf.predict_proba(X_test))\n",
    "\n",
    "    if y_error < current_error and y_error < y0_error:            \n",
    "        current_error = y_error\n",
    "        y_modified[i] = 1 - y_modified[i]\n",
    "        clf = TransparentMultinomialNB()\n",
    "        clf.fit(X_train[train_indices], y_modified[train_indices]) \n",
    "        best_clf = clf\n",
    "        print(\"i = {}\\tnew error = {:0.5f}\".format(i, y_error))\n",
    "    \n",
    "    elif y0_error < current_error and y0_error < y_error: # switch back the label\n",
    "        current_error = y0_error\n",
    "        best_clf = clf\n",
    "        print(\"i = {}\\tnew error = {:0.5f}\".format(i, y0_error))\n",
    "    \n",
    "    else:\n",
    "        train_indices.pop()"
   ]
  },
  {
   "cell_type": "code",
   "execution_count": 4,
   "metadata": {
    "collapsed": false
   },
   "outputs": [
    {
     "data": {
      "text/plain": [
       "TransparentMultinomialNB(alpha=1.0, class_prior=None, fit_prior=True)"
      ]
     },
     "execution_count": 4,
     "metadata": {},
     "output_type": "execute_result"
    }
   ],
   "source": [
    "ctrl_clf = TransparentMultinomialNB()\n",
    "ctrl_clf.fit(X_train[:1000],y_train[:1000])"
   ]
  },
  {
   "cell_type": "code",
   "execution_count": 5,
   "metadata": {
    "collapsed": false
   },
   "outputs": [],
   "source": [
    "x = ctrl_clf.predict_proba(X_test) - best_clf.predict_proba(X_test)\n",
    "x = np.absolute(x[:,0])\n",
    "i = np.argsort(x)[0]"
   ]
  },
  {
   "cell_type": "code",
   "execution_count": 6,
   "metadata": {
    "collapsed": false,
    "scrolled": false
   },
   "outputs": [
    {
     "data": {
      "text/html": [
       "<b>Best Classifier<b>"
      ]
     },
     "metadata": {},
     "output_type": "display_data"
    },
    {
     "data": {
      "text/html": [
       "<font size = 1, color=blue> Hellraiser: </font><font size = 1, color=gray> Bloodline </font><font size = 2, color=blue> is </font><font size = 1, color=blue> only </font><font size = 1, color=gray> a </font><font size = 2, color=red> so-so </font><font size = 1, color=blue> film. </font><font size = 1, color=gray> I </font><font size = 2, color=blue> believe </font><font size = 2, color=blue> it's </font><font size = 1, color=blue> the </font><font size = 1, color=blue> fourth </font><font size = 1, color=blue> installment </font><font size = 1, color=red> in </font><font size = 1, color=blue> the </font><font size = 1, color=blue> Hellraiser </font><font size = 2, color=blue> series.<br </font><font size = 4, color=red> /><br </font><font size = 1, color=gray> />I </font><font size = 1, color=blue> missed </font><font size = 1, color=blue> the </font><font size = 2, color=red> beginning, </font><font size = 2, color=blue> and </font><font size = 1, color=blue> all </font><font size = 1, color=gray> I </font><font size = 2, color=blue> remember </font><font size = 3, color=red> from </font><font size = 1, color=blue> there </font><font size = 3, color=red> was </font><font size = 2, color=red> some </font><font size = 1, color=blue> topless </font><font size = 1, color=blue> women </font><font size = 2, color=blue> and </font><font size = 1, color=gray> a </font><font size = 1, color=blue> box-shape </font><font size = 1, color=blue> thing </font><font size = 1, color=red> on </font><font size = 1, color=gray> a </font><font size = 2, color=red> computer </font><font size = 2, color=blue> screen. </font><font size = 2, color=blue> But, </font><font size = 3, color=red> using </font><font size = 5, color=blue> my </font><font size = 1, color=blue> wit </font><font size = 2, color=blue> and </font><font size = 1, color=blue> intelligence, </font><font size = 2, color=blue> (and </font><font size = 1, color=blue> the </font><font size = 1, color=blue> Info </font><font size = 1, color=blue> Button) </font><font size = 1, color=gray> I </font><font size = 1, color=blue> soon </font><font size = 2, color=blue> found </font><font size = 1, color=blue> out </font><font size = 1, color=red> that </font><font size = 1, color=blue> the </font><font size = 2, color=red> villain </font><font size = 1, color=gray> (Pinhead) </font><font size = 3, color=red> was </font><font size = 2, color=red> released </font><font size = 3, color=red> from </font><font size = 1, color=blue> Pandora's </font><font size = 1, color=blue> Box, </font><font size = 1, color=red> which, </font><font size = 1, color=gray> I </font><font size = 2, color=blue> believe </font><font size = 2, color=blue> is </font><font size = 1, color=gray> a </font><font size = 1, color=blue> gateway </font><font size = 2, color=red> straight </font><font size = 1, color=red> to </font><font size = 1, color=blue> Hell.<br </font><font size = 4, color=red> /><br </font><font size = 2, color=red> />So, </font><font size = 1, color=blue> anyways, </font><font size = 1, color=gray> Pinhead </font><font size = 1, color=blue> somehow </font><font size = 5, color=blue> comes </font><font size = 1, color=blue> out </font><font size = 1, color=blue> of </font><font size = 1, color=blue> the </font><font size = 1, color=blue> box </font><font size = 2, color=blue> and </font><font size = 1, color=gray> terrorizes </font><font size = 1, color=blue> the </font><font size = 1, color=gray> \"Toymaker's\" </font><font size = 4, color=blue> family. </font><font size = 2, color=blue> And, </font><font size = 1, color=red> that's </font><font size = 1, color=blue> about </font><font size = 2, color=blue> it. </font><font size = 2, color=red> Oh, </font><font size = 2, color=blue> and </font><font size = 1, color=blue> not </font><font size = 1, color=red> to </font><font size = 1, color=blue> mention </font><font size = 1, color=blue> the </font><font size = 2, color=red> random </font><font size = 1, color=blue> tortures </font><font size = 1, color=blue> of </font><font size = 1, color=blue> various </font><font size = 2, color=red> people </font><font size = 1, color=red> that </font><font size = 1, color=blue> cross </font><font size = 1, color=blue> his </font><font size = 1, color=blue> path. </font><font size = 1, color=blue> Yawn.<br </font><font size = 4, color=red> /><br </font><font size = 1, color=blue> />What </font><font size = 1, color=blue> mainly </font><font size = 1, color=blue> happens </font><font size = 1, color=red> in </font><font size = 2, color=red> this </font><font size = 1, color=blue> film </font><font size = 2, color=blue> is </font><font size = 1, color=red> that </font><font size = 1, color=gray> Pinhead </font><font size = 1, color=blue> captures </font><font size = 1, color=blue> the </font><font size = 1, color=blue> kid, </font><font size = 2, color=blue> and </font><font size = 3, color=blue> then </font><font size = 2, color=blue> unleashes </font><font size = 1, color=blue> the </font><font size = 1, color=blue> dog </font><font size = 1, color=red> on </font><font size = 1, color=blue> his </font><font size = 1, color=blue> wife, </font><font size = 2, color=blue> and </font><font size = 3, color=blue> then </font><font size = 2, color=blue> kills </font><font size = 1, color=gray> a </font><font size = 2, color=red> random </font><font size = 2, color=blue> person. </font><font size = 3, color=blue> Then </font><font size = 2, color=red> he </font><font size = 2, color=blue> husband </font><font size = 5, color=blue> comes </font><font size = 2, color=red> along, </font><font size = 1, color=blue> blah, </font><font size = 1, color=blue> blah, </font><font size = 1, color=blue> blah. </font><font size = 1, color=blue> Who </font><font size = 1, color=blue> cares? </font><font size = 3, color=red> Why </font><font size = 2, color=blue> it </font><font size = 1, color=blue> fails </font><font size = 2, color=blue> is </font><font size = 4, color=blue> because </font><font size = 1, color=blue> Hellraiser: </font><font size = 1, color=gray> Bloodline </font><font size = 2, color=blue> is </font><font size = 2, color=blue> too </font><font size = 2, color=red> corny </font><font size = 1, color=red> to </font><font size = 2, color=red> be </font><font size = 1, color=blue> scary. </font><font size = 1, color=blue> Look </font><font size = 1, color=red> at </font><font size = 1, color=gray> Pinhead's </font><font size = 1, color=blue> minion </font><font size = 1, color=blue> of </font><font size = 1, color=blue> creatures: </font><font size = 1, color=gray> a </font><font size = 1, color=blue> cheesy </font><font size = 1, color=blue> dog </font><font size = 1, color=red> that </font><font size = 2, color=blue> looks </font><font size = 1, color=red> like </font><font size = 2, color=blue> it's </font><font size = 3, color=red> been </font><font size = 2, color=blue> turned </font><font size = 2, color=red> inside </font><font size = 1, color=blue> out, </font><font size = 4, color=blue> two </font><font size = 5, color=blue> men </font><font size = 2, color=blue> whose </font><font size = 4, color=blue> heads </font><font size = 2, color=blue> and </font><font size = 2, color=red> bodies </font><font size = 2, color=red> are </font><font size = 1, color=blue> connected </font><font size = 2, color=blue> together, </font><font size = 1, color=blue> (Siamese </font><font size = 1, color=blue> twins </font><font size = 1, color=red> in </font><font size = 1, color=gray> a </font><font size = 2, color=red> horror </font><font size = 1, color=blue> film?) </font><font size = 2, color=blue> and </font><font size = 2, color=red> some </font><font size = 2, color=blue> person </font><font size = 1, color=blue> who </font><font size = 2, color=blue> is </font><font size = 3, color=red> supposed </font><font size = 1, color=red> to </font><font size = 2, color=red> be </font><font size = 1, color=gray> a </font><font size = 1, color=blue> princess </font><font size = 1, color=blue> of </font><font size = 2, color=red> some </font><font size = 2, color=blue> sort. </font><font size = 1, color=gray> (I </font><font size = 1, color=blue> haven't </font><font size = 1, color=red> seen </font><font size = 1, color=blue> the </font><font size = 4, color=blue> previous </font><font size = 1, color=blue> films.) </font><font size = 4, color=blue> Now </font><font size = 1, color=blue> look </font><font size = 1, color=red> at </font><font size = 1, color=blue> the </font><font size = 1, color=blue> main </font><font size = 2, color=red> villain. </font><font size = 1, color=blue> His </font><font size = 2, color=red> name </font><font size = 2, color=blue> is </font><font size = 1, color=gray> Pinhead. </font><font size = 1, color=blue> Isn't </font><font size = 1, color=red> that </font><font size = 1, color=blue> the </font><font size = 2, color=red> name </font><font size = 1, color=red> you </font><font size = 2, color=red> call </font><font size = 1, color=blue> somebody </font><font size = 1, color=red> when </font><font size = 2, color=red> they're </font><font size = 1, color=blue> stupid? </font><font size = 2, color=red> He </font><font size = 1, color=blue> has </font><font size = 1, color=blue> pins </font><font size = 1, color=red> in </font><font size = 1, color=blue> his </font><font size = 2, color=red> head </font><font size = 2, color=blue> and </font><font size = 1, color=blue> hooks </font><font size = 1, color=blue> coming </font><font size = 1, color=blue> out </font><font size = 1, color=blue> of </font><font size = 1, color=blue> his </font><font size = 1, color=blue> fingers, </font><font size = 2, color=blue> and </font><font size = 2, color=red> he </font><font size = 1, color=blue> has </font><font size = 1, color=blue> blue </font><font size = 2, color=red> skin. </font><font size = 1, color=gray> I </font><font size = 1, color=blue> suppose </font><font size = 2, color=red> he </font><font size = 4, color=red> would </font><font size = 2, color=red> make </font><font size = 1, color=gray> a </font><font size = 1, color=blue> decent </font><font size = 2, color=red> villain </font><font size = 3, color=red> if </font><font size = 2, color=red> he </font><font size = 2, color=red> didn't </font><font size = 1, color=red> have </font><font size = 2, color=red> such </font><font size = 1, color=gray> a </font><font size = 2, color=red> corny </font><font size = 2, color=red> name, </font><font size = 2, color=blue> and </font><font size = 1, color=gray> a </font><font size = 2, color=red> corny </font><font size = 2, color=red> speech. </font><font size = 1, color=blue> Somewhere </font><font size = 1, color=red> in </font><font size = 1, color=blue> the </font><font size = 1, color=blue> film, </font><font size = 4, color=blue> two </font><font size = 1, color=blue> cops </font><font size = 2, color=blue> approach </font><font size = 2, color=red> him </font><font size = 2, color=blue> and </font><font size = 4, color=red> say </font><font size = 1, color=red> \"Don't </font><font size = 2, color=red> make </font><font size = 4, color=blue> us </font><font size = 2, color=red> put </font><font size = 2, color=red> some </font><font size = 4, color=blue> pain </font><font size = 1, color=red> on </font><font size = 1, color=red> you!\" </font><font size = 1, color=gray> Pinhead </font><font size = 1, color=blue> replies </font><font size = 4, color=blue> \"Pain? </font><font size = 2, color=red> How </font><font size = 1, color=blue> dare </font><font size = 1, color=red> you </font><font size = 2, color=blue> use </font><font size = 1, color=red> that </font><font size = 1, color=blue> word! </font><font size = 1, color=gray> I </font><font size = 1, color=blue> AM </font><font size = 4, color=blue> pain",
       "\" </font><font size = 1, color=blue> blah, </font><font size = 1, color=blue> blah, </font><font size = 1, color=blue> blah, </font><font size = 1, color=blue> blah </font><font size = 1, color=blue> blah. </font><font size = 2, color=blue> It </font><font size = 2, color=red> sounds </font><font size = 1, color=gray> a </font><font size = 2, color=red> bit </font><font size = 2, color=red> cliché </font><font size = 3, color=red> if </font><font size = 1, color=red> you </font><font size = 1, color=blue> ask </font><font size = 1, color=blue> me.<br </font><font size = 4, color=red> /><br </font><font size = 1, color=red> />Don't </font><font size = 2, color=red> forget </font><font size = 1, color=blue> the </font><font size = 1, color=blue> final </font><font size = 1, color=blue> half </font><font size = 1, color=blue> of </font><font size = 1, color=blue> the </font><font size = 3, color=red> movie. </font><font size = 1, color=blue> The </font><font size = 1, color=blue> characters </font><font size = 2, color=blue> (and </font><font size = 2, color=blue> audience) </font><font size = 1, color=blue> get </font><font size = 1, color=red> to </font><font size = 2, color=blue> experience </font><font size = 5, color=blue> more </font><font size = 1, color=blue> torture </font><font size = 1, color=red> when </font><font size = 1, color=gray> Pinhead </font><font size = 1, color=blue> attacks </font><font size = 2, color=red> some </font><font size = 2, color=blue> futuristic </font><font size = 1, color=blue> asylum. </font><font size = 2, color=red> Some </font><font size = 2, color=blue> person </font><font size = 1, color=blue> who </font><font size = 3, color=blue> we </font><font size = 1, color=red> don't </font><font size = 1, color=blue> recognize </font><font size = 1, color=blue> (Maybe </font><font size = 2, color=red> he </font><font size = 3, color=red> was </font><font size = 1, color=red> in </font><font size = 1, color=blue> the </font><font size = 4, color=blue> previous </font><font size = 1, color=blue> films. </font><font size = 1, color=gray> I </font><font size = 1, color=red> don't </font><font size = 2, color=blue> remember </font><font size = 2, color=red> him </font><font size = 1, color=red> in </font><font size = 1, color=blue> the </font><font size = 2, color=red> beginning </font><font size = 1, color=blue> of </font><font size = 1, color=blue> the </font><font size = 3, color=red> movie.) </font><font size = 2, color=red> This </font><font size = 2, color=red> scene </font><font size = 2, color=blue> is </font><font size = 1, color=blue> basically </font><font size = 1, color=blue> one </font><font size = 1, color=blue> thing </font><font size = 2, color=blue> played </font><font size = 5, color=red> over </font><font size = 2, color=blue> and </font><font size = 5, color=red> over </font><font size = 1, color=blue> again: </font><font size = 4, color=red> <br </font><font size = 4, color=red> /><br </font><font size = 1, color=gray> />A </font><font size = 1, color=blue> guard </font><font size = 2, color=blue> goes </font><font size = 1, color=red> to </font><font size = 1, color=blue> inspect </font><font size = 1, color=gray> a </font><font size = 2, color=red> mysterious </font><font size = 1, color=blue> noise.<br </font><font size = 4, color=red> /><br </font><font size = 2, color=red> />Some </font><font size = 2, color=red> other </font><font size = 1, color=blue> guard: </font><font size = 2, color=red> \"Oh </font><font size = 2, color=red> no! </font><font size = 2, color=red> He's </font><font size = 2, color=red> down. </font><font size = 1, color=gray> I </font><font size = 1, color=red> will </font><font size = 4, color=red> go </font><font size = 4, color=blue> check </font><font size = 1, color=red> on </font><font size = 2, color=red> him",
       "by </font><font size = 1, color=blue> myself!\"<br </font><font size = 4, color=red> /><br </font><font size = 2, color=red> />After </font><font size = 2, color=red> he </font><font size = 2, color=blue> dies </font><font size = 1, color=blue> the </font><font size = 2, color=blue> same </font><font size = 1, color=blue> thing </font><font size = 1, color=blue> happens </font><font size = 1, color=blue> again.<br </font><font size = 4, color=red> /><br </font><font size = 1, color=blue> />(SPOILERS) </font><font size = 4, color=red> Here's </font><font size = 1, color=blue> the </font><font size = 1, color=blue> thing </font><font size = 1, color=gray> I </font><font size = 2, color=red> didn't </font><font size = 1, color=blue> get. </font><font size = 1, color=red> In </font><font size = 1, color=blue> the </font><font size = 1, color=blue> film </font><font size = 1, color=gray> Pinhead </font><font size = 2, color=blue> is </font><font size = 2, color=red> supposedly </font><font size = 1, color=blue> sent </font><font size = 1, color=red> to </font><font size = 1, color=blue> Oblivion </font><font size = 1, color=red> at </font><font size = 1, color=blue> the </font><font size = 1, color=blue> end. </font><font size = 2, color=red> So, </font><font size = 2, color=red> how </font><font size = 2, color=blue> does </font><font size = 2, color=red> he </font><font size = 2, color=blue> come </font><font size = 1, color=blue> back </font><font size = 2, color=blue> for </font><font size = 2, color=blue> another </font><font size = 1, color=blue> four </font><font size = 1, color=blue> films? </font><font size = 2, color=red> Are </font><font size = 2, color=red> they </font><font size = 1, color=blue> prequels? </font><font size = 3, color=red> Why </font><font size = 1, color=blue> hasn't </font><font size = 2, color=red> he </font><font size = 1, color=blue> died </font><font size = 1, color=red> in </font><font size = 1, color=blue> the </font><font size = 4, color=blue> previous </font><font size = 1, color=blue> ones? </font><font size = 1, color=blue> Geez. </font><font size = 1, color=blue> The </font><font size = 1, color=blue> makers </font><font size = 1, color=blue> need </font><font size = 1, color=red> to </font><font size = 2, color=blue> come </font><font size = 1, color=blue> up </font><font size = 1, color=blue> with </font><font size = 1, color=blue> an </font><font size = 4, color=red> idea </font><font size = 2, color=blue> for </font><font size = 1, color=gray> a </font><font size = 1, color=blue> different </font><font size = 2, color=blue> series. </font><font size = 1, color=blue> (END </font><font size = 1, color=blue> OF </font><font size = 1, color=blue> SPOILERS) </font><font size = 1, color=blue> Hellraiser: </font><font size = 1, color=gray> Bloodline </font><font size = 2, color=blue> is </font><font size = 1, color=blue> gory </font><font size = 2, color=blue> and </font><font size = 1, color=blue> full </font><font size = 1, color=blue> of </font><font size = 1, color=blue> torture </font><font size = 1, color=blue> scenes, </font><font size = 2, color=blue> but </font><font size = 1, color=blue> has </font><font size = 1, color=blue> little </font><font size = 1, color=blue> thrill </font><font size = 2, color=red> or </font><font size = 2, color=blue> scare </font><font size = 2, color=red> value. </font><font size = 2, color=red> Just </font><font size = 2, color=red> forget </font><font size = 2, color=blue> it. </font><font size = 6, color=red> Bad </font><font size = 1, color=blue> special </font><font size = 3, color=red> effects </font><font size = 1, color=blue> with </font><font size = 6, color=red> bad",
       "everything </font><font size = 2, color=blue> else </font><font size = 2, color=red> make </font><font size = 2, color=red> this </font><font size = 5, color=blue> more </font><font size = 1, color=blue> of </font><font size = 1, color=gray> a </font><font size = 1, color=blue> snooze-fest </font><font size = 2, color=blue> than </font><font size = 1, color=gray> a </font><font size = 2, color=blue> good </font><font size = 2, color=red> horror.<br </font><font size = 4, color=red> /><br </font><font size = 2, color=blue> />Good: </font><font size = 2, color=blue> Well",
       "some </font><font size = 2, color=red> people </font><font size = 2, color=red> may </font><font size = 2, color=blue> enjoy </font><font size = 1, color=blue> the </font><font size = 1, color=blue> topless </font><font size = 1, color=blue> women </font><font size = 1, color=red> in </font><font size = 1, color=blue> the </font><font size = 2, color=red> beginning. </font><font size = 2, color=blue> Plus, </font><font size = 1, color=gray> Pinhead's </font><font size = 1, color=blue> voice </font><font size = 2, color=blue> is </font><font size = 4, color=blue> pretty </font><font size = 1, color=blue> cool. </font><font size = 1, color=gray> I </font><font size = 1, color=blue> suppose </font><font size = 3, color=red> if </font><font size = 1, color=red> you </font><font size = 1, color=red> like </font><font size = 1, color=blue> ultra-violence, </font><font size = 1, color=red> you </font><font size = 1, color=blue> might </font><font size = 1, color=red> like </font><font size = 2, color=red> this </font><font size = 2, color=blue> too.<br </font><font size = 4, color=red> /><br </font><font size = 6, color=red> />Bad: </font><font size = 2, color=red> None </font><font size = 1, color=blue> of </font><font size = 1, color=blue> the </font><font size = 1, color=blue> reasons </font><font size = 2, color=blue> above </font><font size = 2, color=red> make </font><font size = 2, color=red> this </font><font size = 1, color=gray> a </font><font size = 1, color=red> very </font><font size = 2, color=blue> good </font><font size = 1, color=blue> film. </font><font size = 1, color=blue> The </font><font size = 1, color=blue> corniness </font><font size = 2, color=blue> and </font><font size = 1, color=gray> repetitiveness </font><font size = 2, color=red> are </font><font size = 4, color=blue> pretty </font><font size = 6, color=red> bad. </font><font size = 2, color=blue> And, </font><font size = 1, color=blue> who </font><font size = 2, color=red> names </font><font size = 2, color=blue> their </font><font size = 2, color=red> villain </font><font size = 1, color=gray> Pinhead?<br </font><font size = 4, color=red> /><br </font><font size = 4, color=blue> />Feel </font><font size = 2, color=red> free </font><font size = 1, color=red> to </font><font size = 1, color=blue> send </font><font size = 1, color=blue> me </font><font size = 1, color=gray> a </font><font size = 1, color=blue> Private </font><font size = 1, color=blue> Message </font><font size = 1, color=blue> regarding </font><font size = 2, color=red> this </font><font size = 2, color=red> comment. </font>"
      ],
      "text/plain": [
       "<utils.ColoredWeightedDoc at 0x7f28f0789dd8>"
      ]
     },
     "metadata": {},
     "output_type": "display_data"
    },
    {
     "data": {
      "text/html": [
       "<b>Control Classifier<b>"
      ]
     },
     "metadata": {},
     "output_type": "display_data"
    },
    {
     "data": {
      "text/html": [
       "<font size = 2, color=red> Hellraiser: </font><font size = 1, color=gray> Bloodline </font><font size = 1, color=blue> is </font><font size = 1, color=red> only </font><font size = 1, color=gray> a </font><font size = 1, color=red> so-so </font><font size = 1, color=blue> film. </font><font size = 1, color=gray> I </font><font size = 1, color=blue> believe </font><font size = 1, color=blue> it's </font><font size = 1, color=blue> the </font><font size = 2, color=blue> fourth </font><font size = 1, color=blue> installment </font><font size = 1, color=blue> in </font><font size = 1, color=blue> the </font><font size = 2, color=red> Hellraiser </font><font size = 2, color=blue> series.<br </font><font size = 1, color=red> /><br </font><font size = 1, color=gray> />I </font><font size = 1, color=red> missed </font><font size = 1, color=blue> the </font><font size = 1, color=red> beginning, </font><font size = 1, color=blue> and </font><font size = 1, color=blue> all </font><font size = 1, color=gray> I </font><font size = 2, color=blue> remember </font><font size = 1, color=blue> from </font><font size = 1, color=red> there </font><font size = 1, color=red> was </font><font size = 1, color=blue> some </font><font size = 2, color=red> topless </font><font size = 1, color=blue> women </font><font size = 1, color=blue> and </font><font size = 1, color=gray> a </font><font size = 1, color=red> box-shape </font><font size = 1, color=red> thing </font><font size = 1, color=red> on </font><font size = 1, color=gray> a </font><font size = 2, color=red> computer </font><font size = 1, color=blue> screen. </font><font size = 1, color=red> But, </font><font size = 1, color=blue> using </font><font size = 1, color=blue> my </font><font size = 2, color=red> wit </font><font size = 1, color=blue> and </font><font size = 2, color=red> intelligence, </font><font size = 1, color=blue> (and </font><font size = 1, color=blue> the </font><font size = 2, color=blue> Info </font><font size = 3, color=red> Button) </font><font size = 1, color=gray> I </font><font size = 1, color=blue> soon </font><font size = 1, color=red> found </font><font size = 1, color=red> out </font><font size = 1, color=red> that </font><font size = 1, color=blue> the </font><font size = 1, color=red> villain </font><font size = 1, color=gray> (Pinhead) </font><font size = 1, color=red> was </font><font size = 2, color=blue> released </font><font size = 1, color=blue> from </font><font size = 2, color=blue> Pandora's </font><font size = 1, color=red> Box, </font><font size = 1, color=blue> which, </font><font size = 1, color=gray> I </font><font size = 1, color=blue> believe </font><font size = 1, color=blue> is </font><font size = 1, color=gray> a </font><font size = 2, color=blue> gateway </font><font size = 2, color=red> straight </font><font size = 1, color=red> to </font><font size = 2, color=red> Hell.<br </font><font size = 1, color=red> /><br </font><font size = 1, color=red> />So, </font><font size = 2, color=blue> anyways, </font><font size = 1, color=gray> Pinhead </font><font size = 1, color=red> somehow </font><font size = 1, color=blue> comes </font><font size = 1, color=red> out </font><font size = 1, color=blue> of </font><font size = 1, color=blue> the </font><font size = 1, color=red> box </font><font size = 1, color=blue> and </font><font size = 1, color=gray> terrorizes </font><font size = 1, color=blue> the </font><font size = 1, color=gray> \"Toymaker's\" </font><font size = 3, color=blue> family. </font><font size = 1, color=blue> And, </font><font size = 1, color=red> that's </font><font size = 1, color=red> about </font><font size = 1, color=blue> it. </font><font size = 2, color=red> Oh, </font><font size = 1, color=blue> and </font><font size = 1, color=red> not </font><font size = 1, color=red> to </font><font size = 2, color=red> mention </font><font size = 1, color=blue> the </font><font size = 3, color=red> random </font><font size = 2, color=red> tortures </font><font size = 1, color=blue> of </font><font size = 1, color=blue> various </font><font size = 1, color=red> people </font><font size = 1, color=red> that </font><font size = 2, color=blue> cross </font><font size = 1, color=blue> his </font><font size = 2, color=blue> path. </font><font size = 3, color=red> Yawn.<br </font><font size = 1, color=red> /><br </font><font size = 1, color=red> />What </font><font size = 2, color=blue> mainly </font><font size = 2, color=red> happens </font><font size = 1, color=blue> in </font><font size = 1, color=red> this </font><font size = 1, color=blue> film </font><font size = 1, color=blue> is </font><font size = 1, color=red> that </font><font size = 1, color=gray> Pinhead </font><font size = 3, color=blue> captures </font><font size = 1, color=blue> the </font><font size = 1, color=red> kid, </font><font size = 1, color=blue> and </font><font size = 1, color=red> then </font><font size = 2, color=blue> unleashes </font><font size = 1, color=blue> the </font><font size = 1, color=red> dog </font><font size = 1, color=red> on </font><font size = 1, color=blue> his </font><font size = 1, color=blue> wife, </font><font size = 1, color=blue> and </font><font size = 1, color=red> then </font><font size = 2, color=red> kills </font><font size = 1, color=gray> a </font><font size = 3, color=red> random </font><font size = 1, color=red> person. </font><font size = 1, color=red> Then </font><font size = 1, color=red> he </font><font size = 1, color=red> husband </font><font size = 1, color=blue> comes </font><font size = 1, color=blue> along, </font><font size = 4, color=red> blah, </font><font size = 4, color=red> blah, </font><font size = 4, color=red> blah. </font><font size = 1, color=blue> Who </font><font size = 2, color=red> cares? </font><font size = 2, color=red> Why </font><font size = 1, color=blue> it </font><font size = 2, color=red> fails </font><font size = 1, color=blue> is </font><font size = 1, color=red> because </font><font size = 2, color=red> Hellraiser: </font><font size = 1, color=gray> Bloodline </font><font size = 1, color=blue> is </font><font size = 1, color=red> too </font><font size = 3, color=blue> corny </font><font size = 1, color=red> to </font><font size = 1, color=red> be </font><font size = 3, color=red> scary. </font><font size = 1, color=red> Look </font><font size = 1, color=red> at </font><font size = 1, color=gray> Pinhead's </font><font size = 1, color=blue> minion </font><font size = 1, color=blue> of </font><font size = 2, color=red> creatures: </font><font size = 1, color=gray> a </font><font size = 3, color=red> cheesy </font><font size = 1, color=red> dog </font><font size = 1, color=red> that </font><font size = 2, color=red> looks </font><font size = 1, color=red> like </font><font size = 1, color=blue> it's </font><font size = 1, color=red> been </font><font size = 1, color=blue> turned </font><font size = 1, color=blue> inside </font><font size = 1, color=red> out, </font><font size = 1, color=blue> two </font><font size = 1, color=blue> men </font><font size = 2, color=blue> whose </font><font size = 3, color=blue> heads </font><font size = 1, color=blue> and </font><font size = 2, color=red> bodies </font><font size = 1, color=blue> are </font><font size = 1, color=red> connected </font><font size = 1, color=blue> together, </font><font size = 1, color=blue> (Siamese </font><font size = 1, color=blue> twins </font><font size = 1, color=blue> in </font><font size = 1, color=gray> a </font><font size = 2, color=red> horror </font><font size = 1, color=blue> film?) </font><font size = 1, color=blue> and </font><font size = 1, color=blue> some </font><font size = 1, color=red> person </font><font size = 1, color=blue> who </font><font size = 1, color=blue> is </font><font size = 2, color=red> supposed </font><font size = 1, color=red> to </font><font size = 1, color=red> be </font><font size = 1, color=gray> a </font><font size = 2, color=blue> princess </font><font size = 1, color=blue> of </font><font size = 1, color=blue> some </font><font size = 1, color=red> sort. </font><font size = 1, color=gray> (I </font><font size = 1, color=blue> haven't </font><font size = 1, color=blue> seen </font><font size = 1, color=blue> the </font><font size = 1, color=blue> previous </font><font size = 1, color=blue> films.) </font><font size = 1, color=blue> Now </font><font size = 1, color=red> look </font><font size = 1, color=red> at </font><font size = 1, color=blue> the </font><font size = 1, color=red> main </font><font size = 1, color=red> villain. </font><font size = 1, color=blue> His </font><font size = 1, color=red> name </font><font size = 1, color=blue> is </font><font size = 1, color=gray> Pinhead. </font><font size = 1, color=red> Isn't </font><font size = 1, color=red> that </font><font size = 1, color=blue> the </font><font size = 1, color=red> name </font><font size = 1, color=blue> you </font><font size = 1, color=red> call </font><font size = 3, color=red> somebody </font><font size = 1, color=red> when </font><font size = 1, color=red> they're </font><font size = 3, color=red> stupid? </font><font size = 1, color=red> He </font><font size = 1, color=blue> has </font><font size = 2, color=blue> pins </font><font size = 1, color=blue> in </font><font size = 1, color=blue> his </font><font size = 2, color=red> head </font><font size = 1, color=blue> and </font><font size = 2, color=blue> hooks </font><font size = 1, color=blue> coming </font><font size = 1, color=red> out </font><font size = 1, color=blue> of </font><font size = 1, color=blue> his </font><font size = 3, color=red> fingers, </font><font size = 1, color=blue> and </font><font size = 1, color=red> he </font><font size = 1, color=blue> has </font><font size = 2, color=red> blue </font><font size = 1, color=blue> skin. </font><font size = 1, color=gray> I </font><font size = 1, color=blue> suppose </font><font size = 1, color=red> he </font><font size = 1, color=red> would </font><font size = 1, color=red> make </font><font size = 1, color=gray> a </font><font size = 2, color=red> decent </font><font size = 1, color=red> villain </font><font size = 1, color=red> if </font><font size = 1, color=red> he </font><font size = 2, color=red> didn't </font><font size = 1, color=red> have </font><font size = 1, color=blue> such </font><font size = 1, color=gray> a </font><font size = 3, color=blue> corny </font><font size = 1, color=red> name, </font><font size = 1, color=blue> and </font><font size = 1, color=gray> a </font><font size = 3, color=blue> corny </font><font size = 2, color=red> speech. </font><font size = 1, color=red> Somewhere </font><font size = 1, color=blue> in </font><font size = 1, color=blue> the </font><font size = 1, color=blue> film, </font><font size = 1, color=blue> two </font><font size = 1, color=blue> cops </font><font size = 4, color=blue> approach </font><font size = 1, color=blue> him </font><font size = 1, color=blue> and </font><font size = 1, color=red> say </font><font size = 1, color=red> \"Don't </font><font size = 1, color=red> make </font><font size = 1, color=red> us </font><font size = 1, color=red> put </font><font size = 1, color=blue> some </font><font size = 1, color=red> pain </font><font size = 1, color=red> on </font><font size = 1, color=blue> you!\" </font><font size = 1, color=gray> Pinhead </font><font size = 2, color=blue> replies </font><font size = 1, color=red> \"Pain? </font><font size = 1, color=red> How </font><font size = 3, color=blue> dare </font><font size = 1, color=blue> you </font><font size = 2, color=red> use </font><font size = 1, color=red> that </font><font size = 1, color=red> word! </font><font size = 1, color=gray> I </font><font size = 1, color=red> AM </font><font size = 1, color=red> pain",
       "\" </font><font size = 4, color=red> blah, </font><font size = 4, color=red> blah, </font><font size = 4, color=red> blah, </font><font size = 4, color=red> blah </font><font size = 4, color=red> blah. </font><font size = 1, color=blue> It </font><font size = 1, color=red> sounds </font><font size = 1, color=gray> a </font><font size = 1, color=red> bit </font><font size = 3, color=red> cliché </font><font size = 1, color=red> if </font><font size = 1, color=blue> you </font><font size = 2, color=red> ask </font><font size = 1, color=red> me.<br </font><font size = 1, color=red> /><br </font><font size = 1, color=red> />Don't </font><font size = 1, color=red> forget </font><font size = 1, color=blue> the </font><font size = 1, color=blue> final </font><font size = 1, color=red> half </font><font size = 1, color=blue> of </font><font size = 1, color=blue> the </font><font size = 1, color=red> movie. </font><font size = 1, color=blue> The </font><font size = 1, color=blue> characters </font><font size = 1, color=blue> (and </font><font size = 1, color=red> audience) </font><font size = 1, color=red> get </font><font size = 1, color=red> to </font><font size = 2, color=blue> experience </font><font size = 1, color=blue> more </font><font size = 2, color=red> torture </font><font size = 1, color=red> when </font><font size = 1, color=gray> Pinhead </font><font size = 1, color=blue> attacks </font><font size = 1, color=blue> some </font><font size = 2, color=blue> futuristic </font><font size = 4, color=red> asylum. </font><font size = 1, color=blue> Some </font><font size = 1, color=red> person </font><font size = 1, color=blue> who </font><font size = 1, color=red> we </font><font size = 1, color=red> don't </font><font size = 2, color=red> recognize </font><font size = 1, color=red> (Maybe </font><font size = 1, color=red> he </font><font size = 1, color=red> was </font><font size = 1, color=blue> in </font><font size = 1, color=blue> the </font><font size = 1, color=blue> previous </font><font size = 1, color=blue> films. </font><font size = 1, color=gray> I </font><font size = 1, color=red> don't </font><font size = 2, color=blue> remember </font><font size = 1, color=blue> him </font><font size = 1, color=blue> in </font><font size = 1, color=blue> the </font><font size = 1, color=red> beginning </font><font size = 1, color=blue> of </font><font size = 1, color=blue> the </font><font size = 1, color=red> movie.) </font><font size = 1, color=red> This </font><font size = 1, color=red> scene </font><font size = 1, color=blue> is </font><font size = 2, color=red> basically </font><font size = 1, color=blue> one </font><font size = 1, color=red> thing </font><font size = 2, color=blue> played </font><font size = 1, color=blue> over </font><font size = 1, color=blue> and </font><font size = 1, color=blue> over </font><font size = 1, color=blue> again: </font><font size = 1, color=red> <br </font><font size = 1, color=red> /><br </font><font size = 1, color=gray> />A </font><font size = 2, color=blue> guard </font><font size = 1, color=red> goes </font><font size = 1, color=red> to </font><font size = 2, color=blue> inspect </font><font size = 1, color=gray> a </font><font size = 1, color=red> mysterious </font><font size = 2, color=red> noise.<br </font><font size = 1, color=red> /><br </font><font size = 1, color=blue> />Some </font><font size = 1, color=blue> other </font><font size = 2, color=blue> guard: </font><font size = 2, color=red> \"Oh </font><font size = 2, color=red> no! </font><font size = 1, color=red> He's </font><font size = 1, color=blue> down. </font><font size = 1, color=gray> I </font><font size = 1, color=blue> will </font><font size = 1, color=red> go </font><font size = 1, color=blue> check </font><font size = 1, color=red> on </font><font size = 1, color=blue> him",
       "by </font><font size = 1, color=red> myself!\"<br </font><font size = 1, color=red> /><br </font><font size = 1, color=blue> />After </font><font size = 1, color=red> he </font><font size = 2, color=red> dies </font><font size = 1, color=blue> the </font><font size = 1, color=blue> same </font><font size = 1, color=red> thing </font><font size = 2, color=red> happens </font><font size = 1, color=blue> again.<br </font><font size = 1, color=red> /><br </font><font size = 1, color=red> />(SPOILERS) </font><font size = 1, color=red> Here's </font><font size = 1, color=blue> the </font><font size = 1, color=red> thing </font><font size = 1, color=gray> I </font><font size = 2, color=red> didn't </font><font size = 1, color=red> get. </font><font size = 1, color=blue> In </font><font size = 1, color=blue> the </font><font size = 1, color=blue> film </font><font size = 1, color=gray> Pinhead </font><font size = 1, color=blue> is </font><font size = 2, color=red> supposedly </font><font size = 3, color=blue> sent </font><font size = 1, color=red> to </font><font size = 1, color=blue> Oblivion </font><font size = 1, color=red> at </font><font size = 1, color=blue> the </font><font size = 1, color=red> end. </font><font size = 1, color=red> So, </font><font size = 1, color=red> how </font><font size = 1, color=red> does </font><font size = 1, color=red> he </font><font size = 1, color=red> come </font><font size = 1, color=red> back </font><font size = 1, color=red> for </font><font size = 1, color=red> another </font><font size = 2, color=red> four </font><font size = 1, color=blue> films? </font><font size = 1, color=blue> Are </font><font size = 1, color=red> they </font><font size = 1, color=blue> prequels? </font><font size = 2, color=red> Why </font><font size = 2, color=blue> hasn't </font><font size = 1, color=red> he </font><font size = 1, color=red> died </font><font size = 1, color=blue> in </font><font size = 1, color=blue> the </font><font size = 1, color=blue> previous </font><font size = 1, color=blue> ones? </font><font size = 1, color=blue> Geez. </font><font size = 1, color=blue> The </font><font size = 1, color=red> makers </font><font size = 1, color=red> need </font><font size = 1, color=red> to </font><font size = 1, color=red> come </font><font size = 1, color=red> up </font><font size = 1, color=blue> with </font><font size = 1, color=blue> an </font><font size = 1, color=red> idea </font><font size = 1, color=red> for </font><font size = 1, color=gray> a </font><font size = 2, color=blue> different </font><font size = 2, color=blue> series. </font><font size = 1, color=red> (END </font><font size = 1, color=blue> OF </font><font size = 1, color=red> SPOILERS) </font><font size = 2, color=red> Hellraiser: </font><font size = 1, color=gray> Bloodline </font><font size = 1, color=blue> is </font><font size = 2, color=red> gory </font><font size = 1, color=blue> and </font><font size = 1, color=blue> full </font><font size = 1, color=blue> of </font><font size = 2, color=red> torture </font><font size = 1, color=blue> scenes, </font><font size = 1, color=red> but </font><font size = 1, color=blue> has </font><font size = 1, color=blue> little </font><font size = 1, color=blue> thrill </font><font size = 1, color=red> or </font><font size = 3, color=red> scare </font><font size = 1, color=red> value. </font><font size = 1, color=red> Just </font><font size = 1, color=red> forget </font><font size = 1, color=blue> it. </font><font size = 3, color=red> Bad </font><font size = 1, color=red> special </font><font size = 2, color=red> effects </font><font size = 1, color=blue> with </font><font size = 3, color=red> bad",
       "everything </font><font size = 2, color=red> else </font><font size = 1, color=red> make </font><font size = 1, color=red> this </font><font size = 1, color=blue> more </font><font size = 1, color=blue> of </font><font size = 1, color=gray> a </font><font size = 1, color=blue> snooze-fest </font><font size = 1, color=red> than </font><font size = 1, color=gray> a </font><font size = 1, color=blue> good </font><font size = 2, color=red> horror.<br </font><font size = 1, color=red> /><br </font><font size = 1, color=blue> />Good: </font><font size = 1, color=blue> Well",
       "some </font><font size = 1, color=red> people </font><font size = 1, color=blue> may </font><font size = 1, color=blue> enjoy </font><font size = 1, color=blue> the </font><font size = 2, color=red> topless </font><font size = 1, color=blue> women </font><font size = 1, color=blue> in </font><font size = 1, color=blue> the </font><font size = 1, color=red> beginning. </font><font size = 2, color=red> Plus, </font><font size = 1, color=gray> Pinhead's </font><font size = 1, color=blue> voice </font><font size = 1, color=blue> is </font><font size = 1, color=red> pretty </font><font size = 1, color=blue> cool. </font><font size = 1, color=gray> I </font><font size = 1, color=blue> suppose </font><font size = 1, color=red> if </font><font size = 1, color=blue> you </font><font size = 1, color=red> like </font><font size = 1, color=blue> ultra-violence, </font><font size = 1, color=blue> you </font><font size = 1, color=red> might </font><font size = 1, color=red> like </font><font size = 1, color=red> this </font><font size = 1, color=red> too.<br </font><font size = 1, color=red> /><br </font><font size = 3, color=red> />Bad: </font><font size = 1, color=red> None </font><font size = 1, color=blue> of </font><font size = 1, color=blue> the </font><font size = 1, color=red> reasons </font><font size = 1, color=blue> above </font><font size = 1, color=red> make </font><font size = 1, color=red> this </font><font size = 1, color=gray> a </font><font size = 1, color=blue> very </font><font size = 1, color=blue> good </font><font size = 1, color=blue> film. </font><font size = 1, color=blue> The </font><font size = 1, color=blue> corniness </font><font size = 1, color=blue> and </font><font size = 1, color=gray> repetitiveness </font><font size = 1, color=blue> are </font><font size = 1, color=red> pretty </font><font size = 3, color=red> bad. </font><font size = 1, color=blue> And, </font><font size = 1, color=blue> who </font><font size = 2, color=red> names </font><font size = 1, color=blue> their </font><font size = 1, color=red> villain </font><font size = 1, color=gray> Pinhead?<br </font><font size = 1, color=red> /><br </font><font size = 1, color=blue> />Feel </font><font size = 2, color=red> free </font><font size = 1, color=red> to </font><font size = 2, color=blue> send </font><font size = 1, color=red> me </font><font size = 1, color=gray> a </font><font size = 1, color=blue> Private </font><font size = 1, color=blue> Message </font><font size = 3, color=red> regarding </font><font size = 1, color=red> this </font><font size = 1, color=blue> comment. </font>"
      ],
      "text/plain": [
       "<utils.ColoredWeightedDoc at 0x7f28f0789208>"
      ]
     },
     "metadata": {},
     "output_type": "display_data"
    }
   ],
   "source": [
    "#neg_evi, pos_evi = best_clf.predict_evidences(X_test)\n",
    "#i = TopInstances(neg_evi, pos_evi, best_clf.get_bias()).most_negatives()[0]\n",
    "display_html(\"<b>\"+'Best Classifier'+\"<b>\", raw=True)\n",
    "display(ColoredWeightedDoc(test_corpus[i], feature_names, best_clf.get_weights()))\n",
    "display_html(\"<b>\"+'Control Classifier'+\"<b>\", raw=True)\n",
    "display(ColoredWeightedDoc(test_corpus[i], feature_names, ctrl_clf.get_weights()))"
   ]
  }
 ],
 "metadata": {
  "kernelspec": {
   "display_name": "Python 3",
   "language": "python",
   "name": "python3"
  },
  "language_info": {
   "codemirror_mode": {
    "name": "ipython",
    "version": 3
   },
   "file_extension": ".py",
   "mimetype": "text/x-python",
   "name": "python",
   "nbconvert_exporter": "python",
   "pygments_lexer": "ipython3",
   "version": "3.5.1"
  }
 },
 "nbformat": 4,
 "nbformat_minor": 0
}
